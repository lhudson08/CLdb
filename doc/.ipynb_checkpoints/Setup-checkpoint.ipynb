{
 "cells": [
  {
   "cell_type": "markdown",
   "metadata": {},
   "source": [
    "# Install\n",
    "\n",
    "See the [README](../README.md)"
   ]
  },
  {
   "cell_type": "markdown",
   "metadata": {},
   "source": [
    "# Getting help\n",
    "\n",
    "## Github\n",
    "\n",
    "[reporting issues](https://github.com/nyoungb2/CLdb/issues)\n",
    "\n",
    "## Script docs\n",
    "\n",
    "* Help for CLdb command:\n",
    "  * `CLdb -h`\n",
    "* Help for CLdb subcommands:\n",
    "  * `CLdb -- subcommand -h` **OR** `CLdb --perldoc -- subcommand`\n",
    "  * Example: \n",
    "    * `CLdb --perldoc -- array2fasta`\n",
    "* Help for CLdb sub-subcommands:\n",
    "  * `CLdb -- subcommand -- subsubcommand -h` \n",
    "  * **OR** `CLdb -- subcommand --perldoc -- subsubcommand`\n",
    "    * NOTE: `--perldoc` flag used after the `subcommand`\n",
    "  * Example: \n",
    "    * `CLdb -- arrayBlast --perldoc -- run`"
   ]
  },
  {
   "cell_type": "markdown",
   "metadata": {},
   "source": [
    "# Examples\n",
    "\n",
    "* [Some E. coli genomes](./examples/Ecoli/Setup.ipynb)"
   ]
  },
  {
   "cell_type": "markdown",
   "metadata": {},
   "source": [
    "# Running CLdb in Jupyter notebooks\n",
    "\n",
    "* The example notebooks use a combination of python and bash.\n",
    "* bash commands start with \"!\".\n",
    "  * CLdb commands are run through bash. \n",
    "    * Example: `!CLdb -h`\n",
    "* The working directory is always set to the notebook directory for each cell in the notebook.\n",
    "  * Therefore, I have to change to the directory of interest before running the CLdb command.\n",
    "* Example CLdb command:\n",
    "~~~\n",
    "  workDir = '/home/nick/path/to/CLdb/'\n",
    "  !cd $workDir; CLdb -- makeDB\n",
    "~~~  \n",
    "\n",
    "  * This code sets the working directory and runs the CLdb command in that directory\n",
    "* Another example:\n",
    "~~~\n",
    "  myDir = '/home/sue/path/to/blast/dir/'\n",
    "  !cd $myDir; CLdb -- array2fasta -- -da CLdb.sqlite -clust -cut 1 > spacers_cut1.fna\n",
    "~~~\n"
   ]
  },
  {
   "cell_type": "code",
   "execution_count": null,
   "metadata": {
    "collapsed": true
   },
   "outputs": [],
   "source": []
  }
 ],
 "metadata": {
  "hide_input": true,
  "kernelspec": {
   "display_name": "Python 2",
   "language": "python",
   "name": "python2"
  },
  "language_info": {
   "codemirror_mode": {
    "name": "ipython",
    "version": 2
   },
   "file_extension": ".py",
   "mimetype": "text/x-python",
   "name": "python",
   "nbconvert_exporter": "python",
   "pygments_lexer": "ipython2",
   "version": "2.7.6"
  }
 },
 "nbformat": 4,
 "nbformat_minor": 0
}
