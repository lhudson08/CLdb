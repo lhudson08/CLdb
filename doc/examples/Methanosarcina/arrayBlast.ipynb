{
 "cells": [
  {
   "cell_type": "markdown",
   "metadata": {},
   "source": [
    "# Description:\n",
    "\n",
    "* This notebook goes through the analysis of blasting spacers vs a database containing potential protospacers.\n",
    "* Any blast datbase can be used.\n",
    "* A script is provided to easily blast all of the genomes in CLdb."
   ]
  },
  {
   "cell_type": "markdown",
   "metadata": {},
   "source": [
    "### Before running this notebook:\n",
    "\n",
    "* __run the [Setup](./Setup.pynb) notebook__"
   ]
  },
  {
   "cell_type": "markdown",
   "metadata": {},
   "source": [
    "# User-defined variables"
   ]
  },
  {
   "cell_type": "code",
   "execution_count": 40,
   "metadata": {
    "collapsed": true
   },
   "outputs": [],
   "source": [
    "# directory where you want the spacer blasting to be done\n",
    "## CHANGE THIS!\n",
    "workDir = \"/home/nyoungb2/t/CLdb_Methanosarcina/\""
   ]
  },
  {
   "cell_type": "markdown",
   "metadata": {},
   "source": [
    "# Init"
   ]
  },
  {
   "cell_type": "code",
   "execution_count": 41,
   "metadata": {
    "collapsed": false
   },
   "outputs": [
    {
     "name": "stdout",
     "output_type": "stream",
     "text": [
      "The rpy2.ipython extension is already loaded. To reload it, use:\n",
      "  %reload_ext rpy2.ipython\n"
     ]
    }
   ],
   "source": [
    "import os\n",
    "from IPython.display import FileLinks\n",
    "%load_ext rpy2.ipython"
   ]
  },
  {
   "cell_type": "code",
   "execution_count": 42,
   "metadata": {
    "collapsed": true
   },
   "outputs": [],
   "source": [
    "blastDir = os.path.join(workDir, 'arrayBlast')\n",
    "if not os.path.isdir(blastDir):\n",
    "    os.makedirs(blastDir)"
   ]
  },
  {
   "cell_type": "markdown",
   "metadata": {},
   "source": [
    "# Blast vs all E. coli genomes in the CLdb"
   ]
  },
  {
   "cell_type": "markdown",
   "metadata": {},
   "source": [
    "## Spacer blast"
   ]
  },
  {
   "cell_type": "markdown",
   "metadata": {},
   "source": [
    "### Selecting spacer sequences"
   ]
  },
  {
   "cell_type": "code",
   "execution_count": 43,
   "metadata": {
    "collapsed": false
   },
   "outputs": [
    {
     "name": "stdout",
     "output_type": "stream",
     "text": [
      "Number of unique spacers:\t1104\n",
      "\n",
      ">NA|spacer|NA|628|1\n",
      "TTTTACCGGGGATGTGACAGTCAGGGAATACGGCAT\n",
      ">NA|spacer|NA|804|1\n",
      "TACCCAACTGTTCAAATTTCAAAGCCACTACGTGA\n",
      ">NA|spacer|NA|923|1\n",
      "TACTGTTCGGCGGTTCTTCGCATTGTTGCGTCAAT\n"
     ]
    }
   ],
   "source": [
    "!cd $blastDir; \\\n",
    "    CLdb -- array2fasta -cluster -cut 1 > spacers_cut1.fna\n",
    "\n",
    "## getting number of spacer sequences\n",
    "!printf 'Number of unique spacers:\\t'\n",
    "!cd $blastDir; \\\n",
    "    grep -c \">\" spacers_cut1.fna; \\\n",
    "    echo; \\\n",
    "    head -n 6 spacers_cut1.fna"
   ]
  },
  {
   "cell_type": "markdown",
   "metadata": {},
   "source": [
    "### Blast\n",
    "\n",
    "* The array blast commands are sub-sub commands.\n",
    "* __SO__, that's why when you type: '`CLdb -- arrayBlast -h`', you get then following:"
   ]
  },
  {
   "cell_type": "code",
   "execution_count": 44,
   "metadata": {
    "collapsed": false
   },
   "outputs": [
    {
     "name": "stdout",
     "output_type": "stream",
     "text": [
      "Usage:\r\n",
      "    arrayBlast [options] subcommand -- [subcommand_options]\r\n",
      "\r\n",
      "  Options:\r\n",
      "    --list\r\n",
      "        List all subcommands.\r\n",
      "\r\n",
      "    --perldoc\r\n",
      "        Get perldoc of subcommand.\r\n",
      "\r\n",
      "    -v Verbose output\r\n",
      "    -h This help message\r\n",
      "\r\n",
      "  For more information:\r\n",
      "    CLdb --perldoc -- arrayBlast\r\n",
      "\r\n"
     ]
    }
   ],
   "source": [
    "!CLdb -- arrayBlast -h"
   ]
  },
  {
   "cell_type": "code",
   "execution_count": 45,
   "metadata": {
    "collapsed": false
   },
   "outputs": [
    {
     "name": "stdout",
     "output_type": "stream",
     "text": [
      "add_crRNA\r\n",
      "add_proto\r\n",
      "align_proto\r\n",
      "filter_arrayHits\r\n",
      "get_PAM\r\n",
      "get_SEEDstats\r\n",
      "get_align\r\n",
      "get_proto\r\n",
      "run\r\n",
      "srl2csv\r\n",
      "srl2json\r\n",
      "xml2json\r\n",
      "xml2srl\r\n"
     ]
    }
   ],
   "source": [
    "# listing all arrayBlast subcommands\n",
    "!CLdb -- arrayBlast --list"
   ]
  },
  {
   "cell_type": "markdown",
   "metadata": {},
   "source": [
    "#### Sub-sub-command help:\n",
    "\n",
    "`CLdb arrayBlast -- run -- -h`"
   ]
  },
  {
   "cell_type": "code",
   "execution_count": 54,
   "metadata": {
    "collapsed": false
   },
   "outputs": [
    {
     "name": "stdout",
     "output_type": "stream",
     "text": [
      "Making BLAST databases...\n",
      "...making blast databases in /home/nyoungb2/t/CLdb_Methanosarcina//arrayBlast/blast_db/\n",
      "makeblastdb -dbtype nucl -parse_seqids -in /home/nyoungb2/t/CLdb_Methanosarcina//arrayBlast/blast_db//Methanosarcina_acetivorans_C2A.fasta\n",
      "makeblastdb -dbtype nucl -parse_seqids -in /home/nyoungb2/t/CLdb_Methanosarcina//arrayBlast/blast_db//Methanosarcina_barkeri_str_fusaro.fasta\n",
      "makeblastdb -dbtype nucl -parse_seqids -in /home/nyoungb2/t/CLdb_Methanosarcina//arrayBlast/blast_db//Methanosarcina_horonobensis_HB_1.fasta\n",
      "makeblastdb -dbtype nucl -parse_seqids -in /home/nyoungb2/t/CLdb_Methanosarcina//arrayBlast/blast_db//Methanosarcina_mazei_C16.fasta\n",
      "makeblastdb -dbtype nucl -parse_seqids -in /home/nyoungb2/t/CLdb_Methanosarcina//arrayBlast/blast_db//Methanosarcina_mazei_Go1.fasta\n",
      "makeblastdb -dbtype nucl -parse_seqids -in /home/nyoungb2/t/CLdb_Methanosarcina//arrayBlast/blast_db//Methanosarcina_mazei_LYC.fasta\n",
      "makeblastdb -dbtype nucl -parse_seqids -in /home/nyoungb2/t/CLdb_Methanosarcina//arrayBlast/blast_db//Methanosarcina_mazei_S_6.fasta\n",
      "makeblastdb -dbtype nucl -parse_seqids -in /home/nyoungb2/t/CLdb_Methanosarcina//arrayBlast/blast_db//Methanosarcina_mazei_SarPi.fasta\n",
      "makeblastdb -dbtype nucl -parse_seqids -in /home/nyoungb2/t/CLdb_Methanosarcina//arrayBlast/blast_db//Methanosarcina_mazei_WWM610.fasta\n",
      "\n",
      "Blasting sequences...\n",
      "Number of blast hits to Methanosarcina_mazei_Go1.fasta:\t28622\n",
      "Number of blast hits to Methanosarcina_mazei_S_6.fasta:\t27769\n",
      "Number of blast hits to Methanosarcina_mazei_SarPi.fasta:\t33535\n",
      "Number of blast hits to Methanosarcina_mazei_C16.fasta:\t29628\n",
      "Number of blast hits to Methanosarcina_mazei_LYC.fasta:\t31244\n",
      "Number of blast hits to Methanosarcina_mazei_WWM610.fasta:\t28519\n",
      "Number of blast hits to Methanosarcina_barkeri_str_fusaro.fasta:\t25491\n",
      "Number of blast hits to Methanosarcina_horonobensis_HB_1.fasta:\t28834\n",
      "Number of blast hits to Methanosarcina_acetivorans_C2A.fasta:\t24641\n"
     ]
    }
   ],
   "source": [
    "# spacer blast\n",
    "## Really just a thin wrapper around blastn that will blast the spacers against all genomes in CLdb\n",
    "### If you want to blast some else, just run the blast yourself (use 'perldoc CLdb_arrayBlast.pl' for more info)\n",
    "\n",
    "!cd $blastDir; \\\n",
    "    CLdb -- arrayBlast -- run \\\n",
    "    -query spacers_cut1.fna \\\n",
    "    -fork 10 \\\n",
    "    > spacers_cut1_blastn.xml\n",
    "    \n",
    "# NOTE: using 10 CPUs    "
   ]
  },
  {
   "cell_type": "markdown",
   "metadata": {},
   "source": [
    "**Note:**\n",
    "\n",
    "* Using spacer clustering cutoff of 1, so just 'unique' spacer sequences"
   ]
  },
  {
   "cell_type": "code",
   "execution_count": 55,
   "metadata": {
    "collapsed": false
   },
   "outputs": [
    {
     "name": "stdout",
     "output_type": "stream",
     "text": [
      "-rw-rw-r-- 1 nyoungb2 nyoungb2 2.5M Jan  3 20:21 spacers_cut1_blastn.srl\r\n",
      "-rw-rw-r-- 1 nyoungb2 nyoungb2 9.6M Jan  3 20:20 spacers_cut1_blastn.xml\r\n"
     ]
    }
   ],
   "source": [
    "# converting .xml to .srl\n",
    "## This retains all of the info in the xml, but produces a smaller file that is faster to load and write.\n",
    "## For large blast runs (xml files > 100 Mb), this will take a little while\n",
    "\n",
    "!cd $blastDir; \\\n",
    "    CLdb -- arrayBlast -- xml2srl \\\n",
    "    spacers_cut1_blastn.xml \\\n",
    "    > spacers_cut1_blastn.srl\n",
    "\n",
    "# checking output file\n",
    "!cd $blastDir; \\\n",
    "    ls -thlc spacers_cut1_blastn.*"
   ]
  },
  {
   "cell_type": "markdown",
   "metadata": {},
   "source": [
    "**Note:**\n",
    "\n",
    "* You could pipe the output from `CLdb -- arrayBlast -- run` directly into `CLdb -- arrayBlast -- xml2srl`\n",
    "  * Example: `CLdb -- arrayBlast -- run -query spacers_cut1.fna | CLdb -- arrayBlast -- xml2srl`"
   ]
  },
  {
   "cell_type": "markdown",
   "metadata": {},
   "source": [
    "## DR Blast\n",
    "\n",
    "* BLASTing DR sequences against the same subjects.\n",
    "* This is needed to filter out spacer blast hits to CRISPR arrays."
   ]
  },
  {
   "cell_type": "code",
   "execution_count": 56,
   "metadata": {
    "collapsed": false
   },
   "outputs": [
    {
     "name": "stdout",
     "output_type": "stream",
     "text": [
      "Number of unique DRs:\t38\n",
      "\n",
      ">NA|DR|NA|5|1\n",
      "GTTTCAATCCTTGTTTTAGTGGATCTTGCTCTCGAAT\n",
      ">NA|DR|NA|20|1\n",
      "ATTCGTGAGCATGATCCATTAAGAGCCTATTCGAAAA\n",
      ">NA|DR|NA|27|1\n",
      "GCTTCAATTCTGCCACAACCTTTCGGTTATGGAAAC\n"
     ]
    }
   ],
   "source": [
    "# selecting DRs, so we can blast them.\n",
    "## This is needed blast filter out spacers that hit CRISPR arrays\n",
    "\n",
    "!cd $blastDir; \\\n",
    "    CLdb -- array2fasta \\\n",
    "    -cluster -cut 1 -r \\\n",
    "    > DRs_cut1.fna\n",
    "\n",
    "## getting number of spacer sequences\n",
    "!printf 'Number of unique DRs:\\t'\n",
    "!cd $blastDir; \\\n",
    "    grep -c \">\" DRs_cut1.fna; \\\n",
    "    echo; \\\n",
    "    head -n 6 DRs_cut1.fna"
   ]
  },
  {
   "cell_type": "code",
   "execution_count": 57,
   "metadata": {
    "collapsed": false
   },
   "outputs": [
    {
     "name": "stdout",
     "output_type": "stream",
     "text": [
      "Making BLAST databases...\n",
      "...making blast databases in /home/nyoungb2/t/CLdb_Methanosarcina//arrayBlast/blast_db/\n",
      "makeblastdb -dbtype nucl -parse_seqids -in /home/nyoungb2/t/CLdb_Methanosarcina//arrayBlast/blast_db//Methanosarcina_acetivorans_C2A.fasta\n",
      "makeblastdb -dbtype nucl -parse_seqids -in /home/nyoungb2/t/CLdb_Methanosarcina//arrayBlast/blast_db//Methanosarcina_barkeri_str_fusaro.fasta\n",
      "makeblastdb -dbtype nucl -parse_seqids -in /home/nyoungb2/t/CLdb_Methanosarcina//arrayBlast/blast_db//Methanosarcina_horonobensis_HB_1.fasta\n",
      "makeblastdb -dbtype nucl -parse_seqids -in /home/nyoungb2/t/CLdb_Methanosarcina//arrayBlast/blast_db//Methanosarcina_mazei_C16.fasta\n",
      "makeblastdb -dbtype nucl -parse_seqids -in /home/nyoungb2/t/CLdb_Methanosarcina//arrayBlast/blast_db//Methanosarcina_mazei_Go1.fasta\n",
      "makeblastdb -dbtype nucl -parse_seqids -in /home/nyoungb2/t/CLdb_Methanosarcina//arrayBlast/blast_db//Methanosarcina_mazei_LYC.fasta\n",
      "makeblastdb -dbtype nucl -parse_seqids -in /home/nyoungb2/t/CLdb_Methanosarcina//arrayBlast/blast_db//Methanosarcina_mazei_S_6.fasta\n",
      "makeblastdb -dbtype nucl -parse_seqids -in /home/nyoungb2/t/CLdb_Methanosarcina//arrayBlast/blast_db//Methanosarcina_mazei_SarPi.fasta\n",
      "makeblastdb -dbtype nucl -parse_seqids -in /home/nyoungb2/t/CLdb_Methanosarcina//arrayBlast/blast_db//Methanosarcina_mazei_WWM610.fasta\n",
      "\n",
      "Blasting sequences...\n",
      "Number of blast hits to Methanosarcina_barkeri_str_fusaro.fasta:\t17138\n",
      "Number of blast hits to Methanosarcina_acetivorans_C2A.fasta:\t21463\n",
      "Number of blast hits to Methanosarcina_mazei_S_6.fasta:\t32573\n",
      "Number of blast hits to Methanosarcina_horonobensis_HB_1.fasta:\t40840\n",
      "Number of blast hits to Methanosarcina_mazei_Go1.fasta:\t47480\n",
      "Number of blast hits to Methanosarcina_mazei_C16.fasta:\t64637\n",
      "Number of blast hits to Methanosarcina_mazei_WWM610.fasta:\t47727\n",
      "Number of blast hits to Methanosarcina_mazei_LYC.fasta:\t79088\n",
      "Number of blast hits to Methanosarcina_mazei_SarPi.fasta:\t86164\n"
     ]
    }
   ],
   "source": [
    "# DR blast, just like spacer blast\n",
    "\n",
    "!cd $blastDir; \\\n",
    "    CLdb -- arrayBlast -- run \\\n",
    "    -query DRs_cut1.fna \\\n",
    "    -fork 10 \\\n",
    "    > DRs_cut1_blastn.xml"
   ]
  },
  {
   "cell_type": "code",
   "execution_count": 58,
   "metadata": {
    "collapsed": false
   },
   "outputs": [
    {
     "name": "stdout",
     "output_type": "stream",
     "text": [
      "-rw-rw-r-- 1 nyoungb2 nyoungb2 5.4M Jan  3 20:23 DRs_cut1_blastn.srl\r\n",
      "-rw-rw-r-- 1 nyoungb2 nyoungb2  17M Jan  3 20:22 DRs_cut1_blastn.xml\r\n"
     ]
    }
   ],
   "source": [
    "# converting .xml to .srl\n",
    "## This retains all of the info in the xml, but produces a smaller file that is faster to load and write.\n",
    "## For large blast runs (xml files > 100 Mb), this will take a little while\n",
    "\n",
    "!cd $blastDir; \\\n",
    "    CLdb -- arrayBlast -- xml2srl \\\n",
    "    DRs_cut1_blastn.xml \\\n",
    "    > DRs_cut1_blastn.srl\n",
    "\n",
    "\n",
    "# checking output file\n",
    "!cd $blastDir; \\\n",
    "    ls -thlc DRs_cut1_blastn.*"
   ]
  },
  {
   "cell_type": "markdown",
   "metadata": {},
   "source": [
    "## Filtering out spacer hits to CRISPRs\n",
    "\n",
    "* Based on DR hits falling adjacent to spacer hits"
   ]
  },
  {
   "cell_type": "code",
   "execution_count": 59,
   "metadata": {
    "collapsed": false
   },
   "outputs": [
    {
     "name": "stdout",
     "output_type": "stream",
     "text": [
      "### Summary for filtering of 'bad' DR hits ###\n",
      "Total DR hits: 22538\n",
      "DR hits with E-values < 10: 0\n",
      "DR hits with hit lengths (fraction of total) < 0.66: 0\n",
      "DR hits used for filtering: 22538\n",
      "### DR filtering of spacer blast hits ###\n",
      "Total spacer blast hits: 2585\n",
      " NOTE: Deleting the blast hits to arrays\n",
      "Spacer blast hits hitting an array defined just by DR-blast hits: 2414\n",
      " NOTE: Deleting the blast hits to arrays\n",
      "Spacer blast hits hitting a mobile genetic element: 171\n",
      "\n",
      "-rw-rw-r-- 1 nyoungb2 nyoungb2 1.9M Jan  3 20:23 spacers_cut1_blastn_filt.srl\n"
     ]
    }
   ],
   "source": [
    "# filtering spacer hits to arrays\n",
    "## This is based on the premise that DR hits adjacent to spacer hits signify that the spacer is hitting a CRISPR array\n",
    "\n",
    "!cd $blastDir; \\\n",
    "    CLdb -- arrayBlast -- filter_arrayHits \\\n",
    "    spacers_cut1_blastn.srl \\\n",
    "    DRs_cut1_blastn.srl \\\n",
    "    > spacers_cut1_blastn_filt.srl\n",
    "    \n",
    "    \n",
    "# checking output file\n",
    "!cd $blastDir; \\\n",
    "    echo; \\\n",
    "    ls -thlc spacers_cut1_blastn_filt.srl"
   ]
  },
  {
   "cell_type": "markdown",
   "metadata": {
    "code_folding": [
     0
    ]
   },
   "source": [
    "## Converting blast .srl to .csv"
   ]
  },
  {
   "cell_type": "code",
   "execution_count": 63,
   "metadata": {
    "code_folding": [],
    "collapsed": false
   },
   "outputs": [
    {
     "name": "stdout",
     "output_type": "stream",
     "text": [
      "Decoding the srl file...\n",
      "qseqid\tsseqid\tpident\tlength\tmismatch\tgapopen\tqstart\tqend\tsstart\tsend\tevalue\tbitscore\t\n",
      "NA|spacer|NA|841|1\tNC_007355\t95.6521739130435\t23\tundef\t5\t10\t32\t3027136\t3027114\t0.000347095\t38.1576\n",
      "NA|spacer|NA|465|1\tNC_007355\t96.2962962962963\t27\tundef\t5\t5\t31\t857001\t856975\t1.48854e-06\t46.087\n",
      "NA|spacer|NA|465|1\tNC_007355\t100\t19\tundef\t5\t13\t31\t4703448\t4703466\t0.000362872\t38.1576\n",
      "NA|spacer|NA|465|1\tNC_007355\t100\t19\tundef\t5\t13\t31\t1036282\t1036264\t0.000362872\t38.1576\n",
      "NA|spacer|NA|280|1\tNC_007355\t95.8333333333333\t24\tundef\t5\t2\t25\t3935219\t3935242\t9.58273e-05\t40.14\n",
      "NA|spacer|NA|722|1\tNC_007355\t100\t19\tundef\t5\t3\t21\t3312027\t3312009\t0.000347095\t38.1576\n",
      "NA|spacer|NA|184|1\tNC_007355\t91.8918918918919\t37\tundef\t5\t1\t37\t2848699\t2848735\t9.9483e-08\t50.0517\n",
      "NA|spacer|NA|446|1\tNC_007355\t88.8888888888889\t36\tundef\t5\t1\t36\t3417664\t3417699\t9.18345e-05\t40.14\n",
      "NA|spacer|NA|446|1\tNC_007355\t88.8888888888889\t36\tundef\t5\t1\t36\t3928350\t3928315\t9.18345e-05\t40.14\n"
     ]
    }
   ],
   "source": [
    "!cd $blastDir; \\\n",
    "    CLdb -- arrayBlast -- srl2csv \\\n",
    "    spacers_cut1_blastn_filt.srl \\\n",
    "    > spacers_cut1_blastn_filt.txt\n",
    "    \n",
    "# assessing table of blast hits    \n",
    "!cd $blastDir; \\\n",
    "    head spacers_cut1_blastn_filt.txt"
   ]
  },
  {
   "cell_type": "code",
   "execution_count": 64,
   "metadata": {
    "collapsed": false
   },
   "outputs": [
    {
     "name": "stdout",
     "output_type": "stream",
     "text": [
      "Number of blast hits: 171\n"
     ]
    }
   ],
   "source": [
    "#!printf \"Number of blast hits: \"\n",
    "nhits = !cd $blastDir; wc -l spacers_cut1_blastn_filt.txt\n",
    "nhits = nhits[0].split(' ')[0]\n",
    "print \"Number of blast hits: {}\".format(int(nhits) - 1)"
   ]
  },
  {
   "cell_type": "markdown",
   "metadata": {},
   "source": [
    "## Conclusions\n",
    "\n",
    "* **We have some BLAST hits!**\n",
    "* Let's add some information to the blast results"
   ]
  },
  {
   "cell_type": "markdown",
   "metadata": {},
   "source": [
    "## adding crRNA info\n",
    "\n",
    "* Adding crRNA region to .srl (actually the DNA template, refering to it as 'crDNA')\n",
    "  * How much of the adjacent DR sequences are included in the crDNA is determined by the user (default: 10bp on either side)"
   ]
  },
  {
   "cell_type": "code",
   "execution_count": 65,
   "metadata": {
    "collapsed": false
   },
   "outputs": [
    {
     "name": "stdout",
     "output_type": "stream",
     "text": [
      "Decoding .srl file...\n",
      "Extracting all queries with blast hits from blast hit file...\n",
      "...Number of total unique query IDs:\t1103\n",
      "Getting info from CLdb on each blast query spacer...\n",
      "Getting spacer regions from each genome...\n",
      " Processing genome: Methanosarcina_mazei_Go1.fasta...\n",
      " Processing genome: Methanosarcina_mazei_SarPi.fasta...\n",
      " Processing genome: Methanosarcina_acetivorans_C2A.fasta...\n",
      " Processing genome: Methanosarcina_barkeri_str_fusaro.fasta...\n",
      " Processing genome: Methanosarcina_mazei_WWM610.fasta...\n",
      " Processing genome: Methanosarcina_horonobensis_HB_1.fasta...\n",
      " Processing genome: Methanosarcina_mazei_S_6.fasta...\n",
      " Processing genome: Methanosarcina_mazei_LYC.fasta...\n",
      " Processing genome: Methanosarcina_mazei_C16.fasta...\n",
      "\n",
      "-rw-rw-r-- 1 nyoungb2 nyoungb2 2.3M Jan  3 20:24 spacers_cut1_blastn_filt_crDNA.srl\n"
     ]
    }
   ],
   "source": [
    "!cd $blastDir; \\\n",
    "    CLdb -- arrayBlast -- add_crRNA \\\n",
    "    < spacers_cut1_blastn_filt.srl \\\n",
    "    > spacers_cut1_blastn_filt_crDNA.srl\n",
    "   \n",
    "## checking output\n",
    "!cd $blastDir; echo; \\\n",
    "    ls -thlc spacers_cut1_blastn_filt_crDNA.srl"
   ]
  },
  {
   "cell_type": "markdown",
   "metadata": {},
   "source": [
    "## Adding protospacer info\n",
    "\n",
    "* Similar to adding crRNA info, but getting information from the blast database(s)"
   ]
  },
  {
   "cell_type": "code",
   "execution_count": 67,
   "metadata": {
    "collapsed": false
   },
   "outputs": [
    {
     "name": "stdout",
     "output_type": "stream",
     "text": [
      "Retrieving proto info from blast db: 'Methanosarcina_mazei_LYC.fasta'\n",
      "Retrieving proto info from blast db: 'Methanosarcina_acetivorans_C2A.fasta'\n",
      "Retrieving proto info from blast db: 'Methanosarcina_mazei_Go1.fasta'\n",
      "Retrieving proto info from blast db: 'Methanosarcina_mazei_WWM610.fasta'\n",
      "Retrieving proto info from blast db: 'Methanosarcina_horonobensis_HB_1.fasta'\n",
      "Retrieving proto info from blast db: 'Methanosarcina_barkeri_str_fusaro.fasta'\n",
      "Retrieving proto info from blast db: 'Methanosarcina_mazei_C16.fasta'\n",
      "Retrieving proto info from blast db: 'Methanosarcina_mazei_SarPi.fasta'\n",
      "Retrieving proto info from blast db: 'Methanosarcina_mazei_S_6.fasta'\n",
      "Retrieving proto sequences from blast db: 'Methanosarcina_mazei_LYC.fasta'\n",
      "Retrieving proto sequences from blast db: 'Methanosarcina_mazei_S_6.fasta'\n",
      "Retrieving proto sequences from blast db: 'Methanosarcina_mazei_C16.fasta'\n",
      "Retrieving proto sequences from blast db: 'Methanosarcina_mazei_Go1.fasta'\n",
      "Retrieving proto sequences from blast db: 'Methanosarcina_horonobensis_HB_1.fasta'\n",
      "Retrieving proto sequences from blast db: 'Methanosarcina_acetivorans_C2A.fasta'\n",
      "Retrieving proto sequences from blast db: 'Methanosarcina_barkeri_str_fusaro.fasta'\n",
      "Retrieving proto sequences from blast db: 'Methanosarcina_mazei_WWM610.fasta'\n",
      "Retrieving proto sequences from blast db: 'Methanosarcina_mazei_SarPi.fasta'\n",
      "\n",
      "-rw-rw-r-- 1 nyoungb2 nyoungb2 2.3M Jan  3 20:24 spacers_cut1_blastn_filt_crDNA_proto.srl\n"
     ]
    }
   ],
   "source": [
    "!cd $blastDir; \\\n",
    "    CLdb -- arrayBlast -- add_proto -workers 24 \\\n",
    "    < spacers_cut1_blastn_filt_crDNA.srl \\\n",
    "    > spacers_cut1_blastn_filt_crDNA_proto.srl   \n",
    "    \n",
    "## checking output\n",
    "!cd $blastDir; echo; \\\n",
    "    ls -thlc spacers_cut1_blastn_filt_crDNA_proto.srl   "
   ]
  },
  {
   "cell_type": "markdown",
   "metadata": {},
   "source": [
    "## Aligning crRNA & protospacer\n",
    "\n",
    "* Alignment added to the .srl file.\n",
    "* These are individual alignments between the spacer and protospacer (using clustalw)."
   ]
  },
  {
   "cell_type": "code",
   "execution_count": 68,
   "metadata": {
    "collapsed": false
   },
   "outputs": [
    {
     "name": "stdout",
     "output_type": "stream",
     "text": [
      "Aligning protospacers from blast db: 'Methanosarcina_mazei_S_6.fasta'\n",
      "Aligning protospacers from blast db: 'Methanosarcina_acetivorans_C2A.fasta'\n",
      "Aligning protospacers from blast db: 'Methanosarcina_barkeri_str_fusaro.fasta'\n",
      "Aligning protospacers from blast db: 'Methanosarcina_mazei_LYC.fasta'\n",
      "Aligning protospacers from blast db: 'Methanosarcina_mazei_C16.fasta'\n",
      "Aligning protospacers from blast db: 'Methanosarcina_mazei_SarPi.fasta'\n",
      "Aligning protospacers from blast db: 'Methanosarcina_horonobensis_HB_1.fasta'\n",
      "Aligning protospacers from blast db: 'Methanosarcina_mazei_Go1.fasta'\n",
      "Aligning protospacers from blast db: 'Methanosarcina_mazei_WWM610.fasta'\n",
      "\n",
      "-rw-rw-r-- 1 nyoungb2 nyoungb2 2.3M Jan  3 20:25 spacers_cut1_blastn_filt_crDNA_proto_aln.srl\n"
     ]
    }
   ],
   "source": [
    "# aligning crRNA and protospacer\n",
    "\n",
    "!cd $blastDir; \\\n",
    "    CLdb -- arrayBlast -- align_proto \\\n",
    "    < spacers_cut1_blastn_filt_crDNA_proto.srl \\\n",
    "    > spacers_cut1_blastn_filt_crDNA_proto_aln.srl\n",
    "    \n",
    "## checking output\n",
    "!cd $blastDir; echo; \\\n",
    "    ls -thlc spacers_cut1_blastn_filt_crDNA_proto_aln.srl"
   ]
  },
  {
   "cell_type": "markdown",
   "metadata": {},
   "source": [
    "## Getting alignments (fasta)\n",
    "\n",
    "* You can parse out the alignments you want (parse by subtype, taxon_name, etc.)\n",
    "  * **OR** you can parse them after writing (add subtype, taxon_name, e-value, etc. to the sequence name)\n",
    "* The alignments will be oriented to the crDNA (5'-3' for the crRNA)\n",
    "* See `CLdb -- arrayBlast --perldoc -- get_align` for info on what `-outfmt` does"
   ]
  },
  {
   "cell_type": "code",
   "execution_count": 69,
   "metadata": {
    "collapsed": false
   },
   "outputs": [
    {
     "name": "stdout",
     "output_type": "stream",
     "text": [
      "Decoding .srl file...\n",
      "Getting alignments...\n",
      "\n",
      "-rw-rw-r-- 1 nyoungb2 nyoungb2 35K Jan  3 20:25 blastn_crDNA-proto_aln.fna\n"
     ]
    }
   ],
   "source": [
    "# getting alignment of protospacer and crDNA and writing as a fasta\n",
    "\n",
    "!cd $blastDir; \\\n",
    "    CLdb -- arrayBlast -- get_align \\\n",
    "    -outfmt taxon_name,subtype,evalue \\\n",
    "    < spacers_cut1_blastn_filt_crDNA_proto_aln.srl \\\n",
    "    > blastn_crDNA-proto_aln.fna\n",
    "    \n",
    "\n",
    "## checking output\n",
    "!cd $blastDir; echo; \\\n",
    "    ls -thlc blastn_crDNA-proto_aln.fna"
   ]
  },
  {
   "cell_type": "code",
   "execution_count": 70,
   "metadata": {
    "collapsed": false
   },
   "outputs": [
    {
     "name": "stdout",
     "output_type": "stream",
     "text": [
      ">crDNA|17|56|1ebv46LCvRJMH|0.000298084\r\n",
      "tgctcgcgaaTCCCTGGTTTATGTCCTGCT.CGTCAAAATCTATGTTgtttcaatcc\r\n",
      ">proto|17|56|1ebv46LCvRJMH|0.000298084\r\n",
      ".agttaattacACCTGGTTTATGTCCTGCTCCGATTACCGCAACAAtggttttgtt.\r\n",
      ">crDNA|17|89|1ebv46LCvRJMH|0.000298084\r\n",
      "tgctcgcgaaTCCCTGGTTTATGTCCTGCT.CGTCAAAATCTATGTTgtttcaatcc\r\n",
      ">proto|17|89|1ebv46LCvRJMH|0.000298084\r\n",
      ".agttaattacACCTGGTTTATGTCCTGCTCCGATTACCGCAACAAtggttttgtt.\r\n",
      ">crDNA|7|7|1eX1MJpd4Qk75|0.000325182\r\n",
      "aggattgaaaCTTCTTCGATTGTTTTTATGCCGTT.TTTATCAAAAATAgtcgagaagt\r\n"
     ]
    }
   ],
   "source": [
    "# let's take a look at the sequences \n",
    "!cd $blastDir; \\\n",
    "    head -n 10 blastn_crDNA-proto_aln.fna"
   ]
  },
  {
   "cell_type": "markdown",
   "metadata": {},
   "source": [
    "* __The alignment is really just for each crDNA-protospacer pair (every 4 lines)__\n",
    "* First, the crRNA (sequence name starts with \"crRNA\")\n",
    "* Second, the protospacer (sequence name start with \"proto\")\n",
    "* Example: \n",
    "  * ~~~\n",
    ">crDNA\n",
    "ATAGACA\n",
    ">proto\n",
    "ATAGACA\n",
    "~~~\n",
    "\n",
    "* **Note:** the lower case letters are sequence adjacent to the actual protospacer"
   ]
  },
  {
   "cell_type": "markdown",
   "metadata": {},
   "source": [
    "**If you wanted each crRNA-protospacer pair individually, you could use the `split` bash command like this:**\n",
    "\n",
    ">WARNING: this produces a lot of files, so we will make them in a new directory"
   ]
  },
  {
   "cell_type": "code",
   "execution_count": 71,
   "metadata": {
    "collapsed": false
   },
   "outputs": [
    {
     "name": "stdout",
     "output_type": "stream",
     "text": [
      "Number of files produced: 179\n"
     ]
    }
   ],
   "source": [
    "# file/directory\n",
    "inFile = os.path.join(blastDir, 'blastn_crDNA-proto_aln.fna')\n",
    "outDir = os.path.join(blastDir, 'blastn_crDNA-proto_aln_split')\n",
    "if not os.path.isdir(outDir):\n",
    "    os.makedirs(outDir)\n",
    "outPre = os.path.join(outDir, 'split')    \n",
    "\n",
    "# spliting alignment\n",
    "!split -l 4 -d -a 4 $inFile $outPre\n",
    "\n",
    "# checking out files\n",
    "!printf 'Number of files produced: '\n",
    "!find $outDir -name \"split*\" | wc -l"
   ]
  },
  {
   "cell_type": "markdown",
   "metadata": {},
   "source": [
    "## Getting PAMs\n",
    "\n",
    "* **Looking at the alignments can be very useful, but it can help to extract what we specifically want and summarize.**\n",
    "  * Let's pull out the potential PAM regions from the alignment \n",
    "  * We are going to assume that the PAM is:\n",
    "    * 4bp long \n",
    "    * 1bp away from the 5' end of the protospacer ('right' side of the alignment)"
   ]
  },
  {
   "cell_type": "code",
   "execution_count": 72,
   "metadata": {
    "collapsed": false
   },
   "outputs": [
    {
     "name": "stdout",
     "output_type": "stream",
     "text": [
      "\r\n",
      ">proto|18|37|uWdGwRtuvgdp|3.13923e-13\r\n",
      "taat\r\n",
      ">proto|18|74|1vQhyRa3ZkVOT|1.31536e-06\r\n",
      "taaa\r\n",
      ">proto|10|18|1VdAVgxl34ddZ|3.90827e-07\r\n",
      "taaa\r\n",
      ">proto|17|33|u4GEEvxNLPSL|0.000307282\r\n",
      "atat\r\n",
      ">proto|11|78|1beRkenSGXl|0.000347095\r\n",
      "tata\r\n"
     ]
    }
   ],
   "source": [
    "!cd $blastDir; \\\n",
    "    CLdb -- arrayBlast -- get_PAM -PAM 1 4 -f - \\\n",
    "    < blastn_crDNA-proto_aln.fna \\\n",
    "    > blastn_crDNA-proto_aln_PAM.fna\n",
    "\n",
    "\n",
    "## checking output\n",
    "!cd $blastDir; echo; \\\n",
    "    head blastn_crDNA-proto_aln_PAM.fna"
   ]
  },
  {
   "cell_type": "markdown",
   "metadata": {},
   "source": [
    "### Summary table of each unique PAM sequence"
   ]
  },
  {
   "cell_type": "code",
   "execution_count": 73,
   "metadata": {
    "collapsed": false
   },
   "outputs": [
    {
     "name": "stdout",
     "output_type": "stream",
     "text": [
      "     42 taaa\r\n",
      "     31 ttaa\r\n",
      "     12 tggt\r\n",
      "      7 taac\r\n",
      "      7 ctgc\r\n",
      "      7 cagg\r\n",
      "      6 tatt\r\n",
      "      6 ccgg\r\n",
      "      5 tccg\r\n",
      "      5 taat\r\n",
      "      5 gggc\r\n",
      "      5 atat\r\n",
      "      5 aaaa\r\n",
      "      4 tgaa\r\n",
      "      4 caat\r\n",
      "      3 aagg\r\n",
      "      2 tgac\r\n",
      "      2 gaca\r\n",
      "      2 ataa\r\n",
      "      1 ttgc\r\n",
      "      1 tctg\r\n",
      "      1 tcca\r\n",
      "      1 tcaa\r\n",
      "      1 tatg\r\n",
      "      1 tata\r\n",
      "      1 taag\r\n",
      "      1 gggg\r\n",
      "      1 gctg\r\n",
      "      1 cgca\r\n",
      "      1 ccgc\r\n",
      "      1 caag\r\n",
      "      1 attg\r\n",
      "      1 atga\r\n",
      "      1 agtc\r\n",
      "      1 aggg\r\n",
      "      1 agac\r\n",
      "      1 aatt\r\n",
      "      1 aaga\r\n"
     ]
    }
   ],
   "source": [
    "!cd $blastDir; \\\n",
    "    egrep -v \"^>\" blastn_crDNA-proto_aln_PAM.fna | \\\n",
    "    sort | uniq -c | sort -k 1 -n -r "
   ]
  },
  {
   "cell_type": "markdown",
   "metadata": {},
   "source": [
    "## Spacer (crDNA) - protospacer mismatch distribution\n",
    "\n",
    "* Let's look at potential spacer targeting by assessing mismatches of the crDNAs and protospacers.\n",
    "* This script will make 2 summary files of mismatches for each crDNA-protospacer alignment\n",
    "* Given that spacers can vary in length, the alignment is relative to a user-defined 'SEED' region.\n",
    "* I'm going to use the default SEED region: '-SEED -8 -1'\n",
    "  * This SEED region covers the last 8 bp of the alignment"
   ]
  },
  {
   "cell_type": "code",
   "execution_count": 74,
   "metadata": {
    "collapsed": false
   },
   "outputs": [
    {
     "name": "stdout",
     "output_type": "stream",
     "text": [
      "SEED summary file written: 'blastn_crDNA-proto_aln_SEEDstats-summary.txt'\n",
      "SEED by-position table written: 'blastn_crDNA-proto_aln_SEEDstats-byPos.txt'\n",
      "\n",
      "-rw-rw-r-- 1 nyoungb2 nyoungb2 3.3K Jan  3 20:28 blastn_crDNA-proto_aln_SEEDstats-byPos.txt\n",
      "-rw-rw-r-- 1 nyoungb2 nyoungb2  55K Jan  3 20:28 blastn_crDNA-proto_aln_SEEDstats-summary.txt\n"
     ]
    }
   ],
   "source": [
    "!cd $blastDir; \\\n",
    "    CLdb -- arrayBlast -- get_SEEDstats \\\n",
    "    --SEED -8 -1 \\\n",
    "    -prefix blastn_crDNA-proto_aln \\\n",
    "    < blastn_crDNA-proto_aln.fna \n",
    "    \n",
    "## checking output files\n",
    "!cd $blastDir; echo; \\\n",
    "    ls -thlc blastn_crDNA-proto_aln_SEEDstats*.txt"
   ]
  },
  {
   "cell_type": "code",
   "execution_count": 75,
   "metadata": {
    "collapsed": false
   },
   "outputs": [
    {
     "name": "stdout",
     "output_type": "stream",
     "text": [
      "region\tpos_rel_SEED\tpos_rel_align\tcount\tmismatches\tmismatch_norm\n",
      "SEED\t1\t10\t179\t94\t0.525139664804469\n",
      "SEED\t2\t11\t179\t48\t0.268156424581006\n",
      "SEED\t3\t12\t179\t38\t0.212290502793296\n",
      "SEED\t4\t13\t179\t65\t0.363128491620112\n",
      "SEED\t5\t14\t179\t63\t0.35195530726257\n",
      "--------------------------------------------------\n",
      "alignment\tcrDNA\tprotospacer\tregion\tcount\tmismatches\tmismatch_norm\n",
      "9\tcrDNA|11|78|1beRkenSGXl|0.000347095\tproto|11|78|1beRkenSGXl|0.000347095\tprotospacer\t40\t10\t0.25\n",
      "9\tcrDNA|11|78|1beRkenSGXl|0.000347095\tproto|11|78|1beRkenSGXl|0.000347095\tnonSEED\t32\t8\t0.25\n",
      "9\tcrDNA|11|78|1beRkenSGXl|0.000347095\tproto|11|78|1beRkenSGXl|0.000347095\tSEED\t10\t2\t0.2\n",
      "164\tcrDNA|11|49|2A8bCEvyJhoO3|6.57658e-12\tproto|11|49|2A8bCEvyJhoO3|6.57658e-12\tSEED\t10\t2\t0.2\n",
      "164\tcrDNA|11|49|2A8bCEvyJhoO3|6.57658e-12\tproto|11|49|2A8bCEvyJhoO3|6.57658e-12\tprotospacer\t39\t5\t0.128205128205128\n"
     ]
    }
   ],
   "source": [
    "# checking files\n",
    "!cd $blastDir; \\\n",
    "    head -n 6 blastn_crDNA-proto_aln_SEEDstats-byPos.txt\n",
    "    \n",
    "print '-' * 50\n",
    "\n",
    "\n",
    "!cd $blastDir; \\\n",
    "    head -n 6 blastn_crDNA-proto_aln_SEEDstats-summary.txt"
   ]
  },
  {
   "cell_type": "markdown",
   "metadata": {},
   "source": [
    "### Plotting mismatches"
   ]
  },
  {
   "cell_type": "code",
   "execution_count": 76,
   "metadata": {
    "collapsed": false
   },
   "outputs": [],
   "source": [
    "%%R\n",
    "library(ggplot2)\n",
    "library(gridExtra)"
   ]
  },
  {
   "cell_type": "code",
   "execution_count": 77,
   "metadata": {
    "collapsed": false
   },
   "outputs": [
    {
     "data": {
      "image/png": "[encoded data removed]"
     },
     "metadata": {},
     "output_type": "display_data"
    }
   ],
   "source": [
    "%%R -i blastDir -w 800\n",
    "\n",
    "# loading table\n",
    "infile = file.path(blastDir, 'blastn_crDNA-proto_aln_SEEDstats-byPos.txt')\n",
    "\n",
    "tbl = read.delim(infile)\n",
    "tbl = tbl[tbl$region != 'protospacer', ]\n",
    "\n",
    "# mismatches and counts, & normalized mismatches\n",
    "p.mis = ggplot(tbl, aes(pos_rel_SEED, mismatches, group=region, fill=region)) +\n",
    "    geom_bar(stat='identity', position='dodge') +\n",
    "    labs(y='Number\\nof mismatches', x='Alignment position relative to SEED start')\n",
    "p.count = ggplot(tbl, aes(pos_rel_SEED, count, group=region, fill=region)) +  \n",
    "    geom_bar(stat='identity', position='dodge') +\n",
    "    labs(y='Number of alignments\\nwith nucleotide\\nat position', x='Alignment position relative to SEED start')\n",
    "p.norm = ggplot(tbl, aes(pos_rel_SEED, mismatch_norm, group=region, fill=region)) +\n",
    "  geom_bar(stat='identity', position='dodge') +\n",
    "    labs(y='Mismatchs /\\nalignments', x='Alignment position relative to SEED start')\n",
    "\n",
    "grid.arrange(p.count, p.mis, p.norm, ncol=1)"
   ]
  },
  {
   "cell_type": "markdown",
   "metadata": {},
   "source": [
    "**Notes on plots:**\n",
    "\n",
    "* The top plot shows that some spacer-protospacer are not quiet as long as the rest, which is why the 'Number of alignment with nucleotide at position' drops at the higher positions (> ~30).\n",
    "* There are fewer mismatches in the middle of the spacer-protospacer alignments."
   ]
  },
  {
   "cell_type": "markdown",
   "metadata": {},
   "source": [
    "# Array Blast vs NCBI's nt database\n",
    "\n",
    "* See the [E. coli example](../Ecoli/arrayBlast.ipynb) for conducting a spacer blast vs the nt database."
   ]
  },
  {
   "cell_type": "code",
   "execution_count": null,
   "metadata": {
    "collapsed": false
   },
   "outputs": [],
   "source": []
  }
 ],
 "metadata": {
  "hide_input": true,
  "kernelspec": {
   "display_name": "Python 2",
   "language": "python",
   "name": "python2"
  },
  "language_info": {
   "codemirror_mode": {
    "name": "ipython",
    "version": 2
   },
   "file_extension": ".py",
   "mimetype": "text/x-python",
   "name": "python",
   "nbconvert_exporter": "python",
   "pygments_lexer": "ipython2",
   "version": "2.7.6"
  }
 },
 "nbformat": 4,
 "nbformat_minor": 0
}
