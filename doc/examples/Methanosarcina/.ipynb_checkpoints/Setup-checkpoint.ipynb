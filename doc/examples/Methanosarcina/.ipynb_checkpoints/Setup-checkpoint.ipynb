{
 "cells": [
  {
   "cell_type": "markdown",
   "metadata": {},
   "source": [
    "**This notebook describes the setup of CLdb with a set of Methanosarcina genomes.**\n",
    "\n",
    "* **Dataset Notes**\n",
    "  * The CRISPR systems were classified according to [Vestergaard G, Garrett RA, Shah SA. (2014). CRISPR adaptive immune systems of Archaea. RNA Biol 11: 156–167](http://www.ncbi.nlm.nih.gov/pmc/articles/PMC3973734/)\n",
    "\n",
    "* **General Notes**\n",
    "  * This notebook assumed that you have `CLdb` in your PATH"
   ]
  },
  {
   "cell_type": "code",
   "execution_count": 124,
   "metadata": {
    "collapsed": false
   },
   "outputs": [],
   "source": [
    "# path to raw files\n",
    "## CHANGE THIS!\n",
    "rawFileDir = \"~/perl/projects/CLdb/data/Methanosarcina/\"\n",
    "# directory where the CLdb database will be created\n",
    "## CHANGE THIS!\n",
    "workDir = \"~/t/CLdb_Methanosarcina/\""
   ]
  },
  {
   "cell_type": "code",
   "execution_count": 125,
   "metadata": {
    "collapsed": false
   },
   "outputs": [],
   "source": [
    "# viewing file links\n",
    "import os\n",
    "import zipfile\n",
    "import csv\n",
    "from IPython.display import FileLinks\n",
    "# pretty viewing of tables\n",
    "## get from: http://epmoyer.github.io/ipy_table/\n",
    "from ipy_table import *"
   ]
  },
  {
   "cell_type": "code",
   "execution_count": 126,
   "metadata": {
    "collapsed": true
   },
   "outputs": [],
   "source": [
    "rawFileDir = os.path.expanduser(rawFileDir)\n",
    "workDir = os.path.expanduser(workDir)"
   ]
  },
  {
   "cell_type": "markdown",
   "metadata": {},
   "source": [
    "__The required files are in '../ecoli_raw/':__\n",
    "\n",
    "* a loci table\n",
    "* array files\n",
    "* genome nucleotide sequences\n",
    " * genbank (preferred) or fasta format\n",
    "\n",
    "__Let's look at the provided files for this example:__"
   ]
  },
  {
   "cell_type": "code",
   "execution_count": 127,
   "metadata": {
    "collapsed": false
   },
   "outputs": [
    {
     "data": {
      "text/html": [
       "/home/nyoungb2/perl/projects/CLdb/data/Methanosarcina/<br>\n",
       "&nbsp;&nbsp;<a href='/home/nyoungb2/perl/projects/CLdb/data/Methanosarcina/loci.zip' target='_blank'>loci.zip</a><br>\n",
       "&nbsp;&nbsp;<a href='/home/nyoungb2/perl/projects/CLdb/data/Methanosarcina/accessions.txt.zip' target='_blank'>accessions.txt.zip</a><br>\n",
       "&nbsp;&nbsp;<a href='/home/nyoungb2/perl/projects/CLdb/data/Methanosarcina/array.zip' target='_blank'>array.zip</a><br>"
      ],
      "text/plain": [
       "/home/nyoungb2/perl/projects/CLdb/data/Methanosarcina/\n",
       "  loci.zip\n",
       "  accessions.txt.zip\n",
       "  array.zip"
      ]
     },
     "execution_count": 127,
     "metadata": {},
     "output_type": "execute_result"
    }
   ],
   "source": [
    "FileLinks(rawFileDir)"
   ]
  },
  {
   "cell_type": "markdown",
   "metadata": {},
   "source": [
    "# Checking that CLdb is installed in PATH"
   ]
  },
  {
   "cell_type": "code",
   "execution_count": 128,
   "metadata": {
    "collapsed": false
   },
   "outputs": [
    {
     "name": "stdout",
     "output_type": "stream",
     "text": [
      "Usage:\r\n",
      "    CLdb [options] -- subcommand [subcommand_options]\r\n",
      "\r\n",
      "  Options:\r\n",
      "    --list\r\n",
      "        List all subcommands.\r\n",
      "\r\n",
      "    --perldoc\r\n",
      "        Get perldoc of subcommand.\r\n",
      "\r\n",
      "    --sql\r\n",
      "        SQL passed to subcommand for limiting queries. (eg., --sql\r\n",
      "        'loci.subtype == \"I-B\" or loci.subtype == \"I-C\"'). NOTE: The sql\r\n",
      "        statement must go in SINGLE quotes!\r\n",
      "\r\n",
      "    --config\r\n",
      "        Config file (if not ~/.CLdb)\r\n",
      "\r\n",
      "    --config-params\r\n",
      "        List params set by config\r\n",
      "\r\n",
      "    -v Verbose output\r\n",
      "    -h This help message\r\n",
      "\r\n",
      "  For more information:\r\n",
      "    perldoc CLdb\r\n",
      "\r\n"
     ]
    }
   ],
   "source": [
    "!CLdb -h"
   ]
  },
  {
   "cell_type": "markdown",
   "metadata": {},
   "source": [
    "# Setting up the CLdb directory"
   ]
  },
  {
   "cell_type": "code",
   "execution_count": 129,
   "metadata": {
    "collapsed": true
   },
   "outputs": [],
   "source": [
    "# this makes the working directory\n",
    "if not os.path.isdir(workDir):\n",
    "    os.makedirs(workDir)"
   ]
  },
  {
   "cell_type": "code",
   "execution_count": 130,
   "metadata": {
    "collapsed": false
   },
   "outputs": [
    {
     "name": "stdout",
     "output_type": "stream",
     "text": [
      "unzipped raw files:\n"
     ]
    },
    {
     "data": {
      "text/html": [
       "/home/nyoungb2/t/CLdb_Methanosarcina/<br>\n",
       "&nbsp;&nbsp;<a href='/home/nyoungb2/t/CLdb_Methanosarcina/accessions.txt' target='_blank'>accessions.txt</a><br>\n",
       "&nbsp;&nbsp;<a href='/home/nyoungb2/t/CLdb_Methanosarcina/summary.txt' target='_blank'>summary.txt</a><br>\n",
       "/home/nyoungb2/t/CLdb_Methanosarcina/array/<br>\n",
       "&nbsp;&nbsp;<a href='/home/nyoungb2/t/CLdb_Methanosarcina/array/Methanosarcina_mazei_Go1-cli117.txt' target='_blank'>Methanosarcina_mazei_Go1-cli117.txt</a><br>\n",
       "&nbsp;&nbsp;<a href='/home/nyoungb2/t/CLdb_Methanosarcina/array/Methanosarcina_barkeri_str_fusaro_1.txt' target='_blank'>Methanosarcina_barkeri_str_fusaro_1.txt</a><br>\n",
       "&nbsp;&nbsp;<a href='/home/nyoungb2/t/CLdb_Methanosarcina/array/Methanosarcina_barkeri_str_fusaro_3.txt' target='_blank'>Methanosarcina_barkeri_str_fusaro_3.txt</a><br>\n",
       "&nbsp;&nbsp;<a href='/home/nyoungb2/t/CLdb_Methanosarcina/array/Methanosarcina_mazei_Go1-cli118.txt' target='_blank'>Methanosarcina_mazei_Go1-cli118.txt</a><br>\n",
       "&nbsp;&nbsp;<a href='/home/nyoungb2/t/CLdb_Methanosarcina/array/Methanosarcina_mazei_S_6_2.txt' target='_blank'>Methanosarcina_mazei_S_6_2.txt</a><br>\n",
       "&nbsp;&nbsp;<a href='/home/nyoungb2/t/CLdb_Methanosarcina/array/Methanosarcina_acetivorans_C2A_2.txt' target='_blank'>Methanosarcina_acetivorans_C2A_2.txt</a><br>\n",
       "&nbsp;&nbsp;<a href='/home/nyoungb2/t/CLdb_Methanosarcina/array/Methanosarcina_horonobensis_HB_1_2.txt' target='_blank'>Methanosarcina_horonobensis_HB_1_2.txt</a><br>\n",
       "&nbsp;&nbsp;<a href='/home/nyoungb2/t/CLdb_Methanosarcina/array/Methanosarcina_acetivorans_C2A_1.txt' target='_blank'>Methanosarcina_acetivorans_C2A_1.txt</a><br>\n",
       "&nbsp;&nbsp;<a href='/home/nyoungb2/t/CLdb_Methanosarcina/array/Methanosarcina_horonobensis_HB_1_1.txt' target='_blank'>Methanosarcina_horonobensis_HB_1_1.txt</a><br>\n",
       "&nbsp;&nbsp;<a href='/home/nyoungb2/t/CLdb_Methanosarcina/array/Methanosarcina_mazei_WWM610_2.txt' target='_blank'>Methanosarcina_mazei_WWM610_2.txt</a><br>\n",
       "&nbsp;&nbsp;<a href='/home/nyoungb2/t/CLdb_Methanosarcina/array/Methanosarcina_mazei_C16_2.txt' target='_blank'>Methanosarcina_mazei_C16_2.txt</a><br>\n",
       "&nbsp;&nbsp;<a href='/home/nyoungb2/t/CLdb_Methanosarcina/array/Methanosarcina_mazei_LYC_2.txt' target='_blank'>Methanosarcina_mazei_LYC_2.txt</a><br>\n",
       "&nbsp;&nbsp;<a href='/home/nyoungb2/t/CLdb_Methanosarcina/array/Methanosarcina_mazei_WWM610_1.txt' target='_blank'>Methanosarcina_mazei_WWM610_1.txt</a><br>\n",
       "&nbsp;&nbsp;<a href='/home/nyoungb2/t/CLdb_Methanosarcina/array/Methanosarcina_mazei_LYC_1.txt' target='_blank'>Methanosarcina_mazei_LYC_1.txt</a><br>\n",
       "&nbsp;&nbsp;<a href='/home/nyoungb2/t/CLdb_Methanosarcina/array/Methanosarcina_mazei_S_6_1.txt' target='_blank'>Methanosarcina_mazei_S_6_1.txt</a><br>\n",
       "&nbsp;&nbsp;<a href='/home/nyoungb2/t/CLdb_Methanosarcina/array/Methanosarcina_mazei_SarPi_1.txt' target='_blank'>Methanosarcina_mazei_SarPi_1.txt</a><br>\n",
       "&nbsp;&nbsp;<a href='/home/nyoungb2/t/CLdb_Methanosarcina/array/Methanosarcina_mazei_SarPi_2.txt' target='_blank'>Methanosarcina_mazei_SarPi_2.txt</a><br>\n",
       "&nbsp;&nbsp;<a href='/home/nyoungb2/t/CLdb_Methanosarcina/array/Methanosarcina_horonobensis_HB_1_3.txt' target='_blank'>Methanosarcina_horonobensis_HB_1_3.txt</a><br>\n",
       "&nbsp;&nbsp;<a href='/home/nyoungb2/t/CLdb_Methanosarcina/array/Methanosarcina_mazei_C16_1.txt' target='_blank'>Methanosarcina_mazei_C16_1.txt</a><br>\n",
       "&nbsp;&nbsp;<a href='/home/nyoungb2/t/CLdb_Methanosarcina/array/Methanosarcina_barkeri_str_fusaro_2.txt' target='_blank'>Methanosarcina_barkeri_str_fusaro_2.txt</a><br>\n",
       "/home/nyoungb2/t/CLdb_Methanosarcina/genbank/<br>\n",
       "&nbsp;&nbsp;<a href='/home/nyoungb2/t/CLdb_Methanosarcina/genbank/Methanosarcina_acetivorans_C2A.gbk' target='_blank'>Methanosarcina_acetivorans_C2A.gbk</a><br>\n",
       "&nbsp;&nbsp;<a href='/home/nyoungb2/t/CLdb_Methanosarcina/genbank/Methanosarcina_mazei_C16.gbk' target='_blank'>Methanosarcina_mazei_C16.gbk</a><br>\n",
       "&nbsp;&nbsp;<a href='/home/nyoungb2/t/CLdb_Methanosarcina/genbank/Methanosarcina_mazei_SarPi.gbk' target='_blank'>Methanosarcina_mazei_SarPi.gbk</a><br>\n",
       "&nbsp;&nbsp;<a href='/home/nyoungb2/t/CLdb_Methanosarcina/genbank/Methanosarcina_mazei_Go1.gbk' target='_blank'>Methanosarcina_mazei_Go1.gbk</a><br>\n",
       "&nbsp;&nbsp;<a href='/home/nyoungb2/t/CLdb_Methanosarcina/genbank/Methanosarcina_mazei_S_6.gbk' target='_blank'>Methanosarcina_mazei_S_6.gbk</a><br>\n",
       "&nbsp;&nbsp;<a href='/home/nyoungb2/t/CLdb_Methanosarcina/genbank/Methanosarcina_barkeri_str_fusaro.gbk' target='_blank'>Methanosarcina_barkeri_str_fusaro.gbk</a><br>\n",
       "&nbsp;&nbsp;<a href='/home/nyoungb2/t/CLdb_Methanosarcina/genbank/Methanosarcina_mazei_WWM610.gbk' target='_blank'>Methanosarcina_mazei_WWM610.gbk</a><br>\n",
       "&nbsp;&nbsp;<a href='/home/nyoungb2/t/CLdb_Methanosarcina/genbank/Methanosarcina_mazei_LYC.gbk' target='_blank'>Methanosarcina_mazei_LYC.gbk</a><br>\n",
       "&nbsp;&nbsp;<a href='/home/nyoungb2/t/CLdb_Methanosarcina/genbank/Methanosarcina_horonobensis_HB_1.gbk' target='_blank'>Methanosarcina_horonobensis_HB_1.gbk</a><br>\n",
       "/home/nyoungb2/t/CLdb_Methanosarcina/loci/<br>\n",
       "&nbsp;&nbsp;<a href='/home/nyoungb2/t/CLdb_Methanosarcina/loci/loci.txt' target='_blank'>loci.txt</a><br>"
      ],
      "text/plain": [
       "/home/nyoungb2/t/CLdb_Methanosarcina/\n",
       "  accessions.txt\n",
       "  summary.txt\n",
       "/home/nyoungb2/t/CLdb_Methanosarcina/array/\n",
       "  Methanosarcina_mazei_Go1-cli117.txt\n",
       "  Methanosarcina_barkeri_str_fusaro_1.txt\n",
       "  Methanosarcina_barkeri_str_fusaro_3.txt\n",
       "  Methanosarcina_mazei_Go1-cli118.txt\n",
       "  Methanosarcina_mazei_S_6_2.txt\n",
       "  Methanosarcina_acetivorans_C2A_2.txt\n",
       "  Methanosarcina_horonobensis_HB_1_2.txt\n",
       "  Methanosarcina_acetivorans_C2A_1.txt\n",
       "  Methanosarcina_horonobensis_HB_1_1.txt\n",
       "  Methanosarcina_mazei_WWM610_2.txt\n",
       "  Methanosarcina_mazei_C16_2.txt\n",
       "  Methanosarcina_mazei_LYC_2.txt\n",
       "  Methanosarcina_mazei_WWM610_1.txt\n",
       "  Methanosarcina_mazei_LYC_1.txt\n",
       "  Methanosarcina_mazei_S_6_1.txt\n",
       "  Methanosarcina_mazei_SarPi_1.txt\n",
       "  Methanosarcina_mazei_SarPi_2.txt\n",
       "  Methanosarcina_horonobensis_HB_1_3.txt\n",
       "  Methanosarcina_mazei_C16_1.txt\n",
       "  Methanosarcina_barkeri_str_fusaro_2.txt\n",
       "/home/nyoungb2/t/CLdb_Methanosarcina/genbank/\n",
       "  Methanosarcina_acetivorans_C2A.gbk\n",
       "  Methanosarcina_mazei_C16.gbk\n",
       "  Methanosarcina_mazei_SarPi.gbk\n",
       "  Methanosarcina_mazei_Go1.gbk\n",
       "  Methanosarcina_mazei_S_6.gbk\n",
       "  Methanosarcina_barkeri_str_fusaro.gbk\n",
       "  Methanosarcina_mazei_WWM610.gbk\n",
       "  Methanosarcina_mazei_LYC.gbk\n",
       "  Methanosarcina_horonobensis_HB_1.gbk\n",
       "/home/nyoungb2/t/CLdb_Methanosarcina/loci/\n",
       "  loci.txt"
      ]
     },
     "execution_count": 130,
     "metadata": {},
     "output_type": "execute_result"
    }
   ],
   "source": [
    "# unarchiving files in the raw folder over to the newly made working folder\n",
    "files = ['array.zip','loci.zip', 'accessions.txt.zip']\n",
    "files = [os.path.join(rawFileDir, x) for x in files]\n",
    "for f in files:\n",
    "    if not os.path.isfile(f):\n",
    "        raise IOError, 'Cannot find file: {}'.format(f)\n",
    "    else:\n",
    "        zip = zipfile.ZipFile(f)\n",
    "        zip.extractall(path=workDir)         \n",
    "\n",
    "print 'unzipped raw files:'        \n",
    "FileLinks(workDir)      "
   ]
  },
  {
   "cell_type": "markdown",
   "metadata": {},
   "source": [
    "## Downloading the genome genbank files. Using the 'GIs.txt' file\n",
    "\n",
    "* GIs.txt is just a list of GIs and taxon names."
   ]
  },
  {
   "cell_type": "code",
   "execution_count": 131,
   "metadata": {
    "collapsed": false
   },
   "outputs": [
    {
     "name": "stdout",
     "output_type": "stream",
     "text": [
      "Writing files to '/home/nyoungb2/t/CLdb_Methanosarcina/genbank'\n",
      "Attempting to stream: Methanosarcina_barkeri_str_fusaro (accession/GI = NC_007355.1)\n",
      "Attempting to stream: Methanosarcina_mazei_WWM610 (accession/GI = NZ_CP009509.1)\n",
      "Attempting to stream: Methanosarcina_horonobensis_HB_1 (accession/GI = NZ_CP009516)\n",
      "Attempting to stream: Methanosarcina_mazei_Go1 (accession/GI = NC_003901.1)\n",
      "Attempting to stream: Methanosarcina_mazei_S_6 (accession/GI = NZ_CP009512.1)\n",
      "Attempting to stream: Methanosarcina_mazei_C16 (accession/GI = NZ_CP009514.1)\n",
      "Attempting to stream: Methanosarcina_mazei_SarPi (accession/GI = NZ_CP009511.1)\n",
      "Attempting to stream: Methanosarcina_mazei_LYC (accession/GI = NZ_CP009513.1)\n",
      "Attempting to stream: Methanosarcina_acetivorans_C2A (accession/GI = NC_003552)\n",
      "-rw-rw-r-- 1 nyoungb2 nyoungb2  13M Jan  3 20:13 Methanosarcina_acetivorans_C2A.gbk\n",
      "-rw-rw-r-- 1 nyoungb2 nyoungb2  12M Jan  3 20:13 Methanosarcina_horonobensis_HB_1.gbk\n",
      "-rw-rw-r-- 1 nyoungb2 nyoungb2  11M Jan  3 20:13 Methanosarcina_barkeri_str_fusaro.gbk\n",
      "-rw-rw-r-- 1 nyoungb2 nyoungb2 9.4M Jan  3 20:13 Methanosarcina_mazei_LYC.gbk\n",
      "-rw-rw-r-- 1 nyoungb2 nyoungb2 9.4M Jan  3 20:13 Methanosarcina_mazei_S_6.gbk\n",
      "-rw-rw-r-- 1 nyoungb2 nyoungb2 9.3M Jan  3 20:13 Methanosarcina_mazei_Go1.gbk\n",
      "-rw-rw-r-- 1 nyoungb2 nyoungb2 9.4M Jan  3 20:13 Methanosarcina_mazei_C16.gbk\n",
      "-rw-rw-r-- 1 nyoungb2 nyoungb2 9.2M Jan  3 20:13 Methanosarcina_mazei_SarPi.gbk\n",
      "-rw-rw-r-- 1 nyoungb2 nyoungb2 9.3M Jan  3 20:13 Methanosarcina_mazei_WWM610.gbk\n"
     ]
    }
   ],
   "source": [
    "# making genbank directory\n",
    "genbankDir = os.path.join(workDir, 'genbank')\n",
    "if not os.path.isdir(genbankDir):\n",
    "    os.makedirs(genbankDir)    \n",
    "\n",
    "# downloading genomes\n",
    "!cd $genbankDir; \\\n",
    "    CLdb -- accession-GI2fastaGenome -format genbank -fork 9 < ../accessions.txt\n",
    "    \n",
    "# checking files\n",
    "!cd $genbankDir; \\\n",
    "    ls -thlc *.gbk"
   ]
  },
  {
   "cell_type": "markdown",
   "metadata": {},
   "source": [
    "# Creating/loading CLdb of E. coli CRISPR data"
   ]
  },
  {
   "cell_type": "code",
   "execution_count": 149,
   "metadata": {
    "collapsed": false
   },
   "outputs": [
    {
     "name": "stdout",
     "output_type": "stream",
     "text": [
      "Usage:\r\n",
      "    makeDB.pl [options] [DATABASE_name]\r\n",
      "\r\n",
      "  options:\r\n",
      "    -replace <bool>\r\n",
      "        Replace existing database.\r\n",
      "\r\n",
      "    -table <char>\r\n",
      "        Table(s) to keep as is (if they exist). [\"leaders\" \"genes\"]\r\n",
      "\r\n",
      "    -drop <bool>\r\n",
      "        Drop all tables. [FALSE]\r\n",
      "\r\n",
      "    -help <bool>\r\n",
      "        This help message\r\n",
      "\r\n",
      "  For more information:\r\n",
      "    CLdb --perldoc -- makeDB\r\n",
      "\r\n"
     ]
    }
   ],
   "source": [
    "!CLdb -- makeDB -h"
   ]
  },
  {
   "cell_type": "markdown",
   "metadata": {},
   "source": [
    "## Making CLdb sqlite file"
   ]
  },
  {
   "cell_type": "code",
   "execution_count": 150,
   "metadata": {
    "collapsed": false
   },
   "outputs": [
    {
     "name": "stdout",
     "output_type": "stream",
     "text": [
      "...sqlite3 database tables created\n",
      "CLdb file location: /home/nyoungb2/t/CLdb_Methanosarcina/CLdb.sqlite\n"
     ]
    }
   ],
   "source": [
    "!cd $workDir; \\\n",
    "    CLdb -- makeDB -r -drop\n",
    "    \n",
    "CLdbFile = os.path.join(workDir, 'CLdb.sqlite')\n",
    "print 'CLdb file location: {}'.format(CLdbFile)"
   ]
  },
  {
   "cell_type": "markdown",
   "metadata": {},
   "source": [
    "## Setting up CLdb config\n",
    "\n",
    "* This way, the CLdb script will know where the CLdb database is located.\n",
    "  * Otherwise, you would have to keep telling the CLdb script where the database is."
   ]
  },
  {
   "cell_type": "code",
   "execution_count": 151,
   "metadata": {
    "collapsed": false
   },
   "outputs": [
    {
     "name": "stdout",
     "output_type": "stream",
     "text": [
      "Config file written: /home/nyoungb2/.CLdb\n"
     ]
    }
   ],
   "source": [
    "s = 'DATABASE = ' + CLdbFile\n",
    "configFile = os.path.join(os.path.expanduser('~'), '.CLdb')\n",
    "\n",
    "with open(configFile, 'wb') as outFH:\n",
    "    outFH.write(s)\n",
    "    \n",
    "print 'Config file written: {}'.format(configFile)"
   ]
  },
  {
   "cell_type": "code",
   "execution_count": 152,
   "metadata": {
    "collapsed": false
   },
   "outputs": [
    {
     "name": "stdout",
     "output_type": "stream",
     "text": [
      "#-- Config params --#\r\n",
      "DATABASE = /home/nyoungb2/t/CLdb_Methanosarcina/CLdb.sqlite\r\n"
     ]
    }
   ],
   "source": [
    "# checking that the config is set\n",
    "!CLdb --config-params"
   ]
  },
  {
   "cell_type": "markdown",
   "metadata": {},
   "source": [
    "## Loading loci\n",
    "\n",
    "* The next step is loading the loci table.\n",
    " * This table contains the user-provided info on each CRISPR-CAS system in the genomes.\n",
    " * Let's look at the table before loading it in CLdb"
   ]
  },
  {
   "cell_type": "markdown",
   "metadata": {},
   "source": [
    "### Checking out the CRISPR loci table"
   ]
  },
  {
   "cell_type": "code",
   "execution_count": 153,
   "metadata": {
    "collapsed": false
   },
   "outputs": [
    {
     "data": {
      "text/html": [
       "<table border=\"1\" cellpadding=\"3\" cellspacing=\"0\"  style=\"border:1px solid black;border-collapse:collapse;\"><tr><td  style=\"background-color:LightGray;\"><b>Locus_ID</b></td><td  style=\"background-color:LightGray;\"><b>Taxon_ID</b></td><td  style=\"background-color:LightGray;\"><b>Taxon_Name</b></td><td  style=\"background-color:LightGray;\"><b>Subtype</b></td><td  style=\"background-color:LightGray;\"><b>Scaffold</b></td><td  style=\"background-color:LightGray;\"><b>Locus_Start</b></td><td  style=\"background-color:LightGray;\"><b>Locus_End</b></td><td  style=\"background-color:LightGray;\"><b>CAS_Start</b></td><td  style=\"background-color:LightGray;\"><b>CAS_End</b></td><td  style=\"background-color:LightGray;\"><b>Array_Start</b></td><td  style=\"background-color:LightGray;\"><b>Array_End</b></td><td  style=\"background-color:LightGray;\"><b>CAS_Status</b></td><td  style=\"background-color:LightGray;\"><b>Array_Status</b></td><td  style=\"background-color:LightGray;\"><b>Genbank_File</b></td><td  style=\"background-color:LightGray;\"><b>Fasta_File</b></td><td  style=\"background-color:LightGray;\"><b>Array_File</b></td><td  style=\"background-color:LightGray;\"><b>Scaffold_count</b></td><td  style=\"background-color:LightGray;\"><b>File_Creation_Date</b></td><td  style=\"background-color:LightGray;\"><b>Author</b></td></tr><tr><td  style=\"background-color:Ivory;\">1</td><td  style=\"background-color:Ivory;\">188937.1</td><td  style=\"background-color:Ivory;\">Methanosarcina_acetivorans_C2A</td><td  style=\"background-color:Ivory;\">I-G</td><td  style=\"background-color:Ivory;\">NC_003552</td><td  style=\"background-color:Ivory;\">4529918</td><td  style=\"background-color:Ivory;\">4518093</td><td  style=\"background-color:Ivory;\">4529918</td><td  style=\"background-color:Ivory;\">4518093</td><td  style=\"background-color:Ivory;\">4523522</td><td  style=\"background-color:Ivory;\">4525551</td><td  style=\"background-color:Ivory;\">broken</td><td  style=\"background-color:Ivory;\">intact</td><td  style=\"background-color:Ivory;\">Methanosarcina_acetivorans_C2A.gbk</td><td  style=\"background-color:Ivory;\"></td><td  style=\"background-color:Ivory;\">Methanosarcina_acetivorans_C2A_2.txt</td><td  style=\"background-color:Ivory;\"></td><td  style=\"background-color:Ivory;\">8-Feb-14</td><td  style=\"background-color:Ivory;\">Nick&nbspY</td></tr><tr><td  style=\"background-color:AliceBlue;\">2</td><td  style=\"background-color:AliceBlue;\">188937.1</td><td  style=\"background-color:AliceBlue;\">Methanosarcina_acetivorans_C2A</td><td  style=\"background-color:AliceBlue;\">III-A</td><td  style=\"background-color:AliceBlue;\">NC_003552</td><td  style=\"background-color:AliceBlue;\">2379328</td><td  style=\"background-color:AliceBlue;\">2392987</td><td  style=\"background-color:AliceBlue;\">2381368</td><td  style=\"background-color:AliceBlue;\">2392987</td><td  style=\"background-color:AliceBlue;\">2379328</td><td  style=\"background-color:AliceBlue;\">2381265</td><td  style=\"background-color:AliceBlue;\">broken</td><td  style=\"background-color:AliceBlue;\">intact</td><td  style=\"background-color:AliceBlue;\">Methanosarcina_acetivorans_C2A.gbk</td><td  style=\"background-color:AliceBlue;\"></td><td  style=\"background-color:AliceBlue;\">Methanosarcina_acetivorans_C2A_1.txt</td><td  style=\"background-color:AliceBlue;\"></td><td  style=\"background-color:AliceBlue;\">8-Feb-14</td><td  style=\"background-color:AliceBlue;\">Nick&nbspY</td></tr><tr><td  style=\"background-color:Ivory;\">3</td><td  style=\"background-color:Ivory;\">269797.3</td><td  style=\"background-color:Ivory;\">Methanosarcina_barkeri_str_fusaro</td><td  style=\"background-color:Ivory;\">III-C</td><td  style=\"background-color:Ivory;\">NC_007355</td><td  style=\"background-color:Ivory;\">1660131</td><td  style=\"background-color:Ivory;\">1674653</td><td  style=\"background-color:Ivory;\">1665910</td><td  style=\"background-color:Ivory;\">1674653</td><td  style=\"background-color:Ivory;\">1660242</td><td  style=\"background-color:Ivory;\">1661621</td><td  style=\"background-color:Ivory;\">intact</td><td  style=\"background-color:Ivory;\">intact</td><td  style=\"background-color:Ivory;\">Methanosarcina_barkeri_str_fusaro.gbk</td><td  style=\"background-color:Ivory;\"></td><td  style=\"background-color:Ivory;\">Methanosarcina_barkeri_str_fusaro_2.txt</td><td  style=\"background-color:Ivory;\"></td><td  style=\"background-color:Ivory;\">8-Feb-14</td><td  style=\"background-color:Ivory;\">Nick&nbspY</td></tr><tr><td  style=\"background-color:AliceBlue;\">4</td><td  style=\"background-color:AliceBlue;\">269797.3</td><td  style=\"background-color:AliceBlue;\">Methanosarcina_barkeri_str_fusaro</td><td  style=\"background-color:AliceBlue;\">VI-3</td><td  style=\"background-color:AliceBlue;\">NC_007355</td><td  style=\"background-color:AliceBlue;\">4018779</td><td  style=\"background-color:AliceBlue;\">4007239</td><td  style=\"background-color:AliceBlue;\">4018779</td><td  style=\"background-color:AliceBlue;\">4009182</td><td  style=\"background-color:AliceBlue;\">4007239</td><td  style=\"background-color:AliceBlue;\">4009012</td><td  style=\"background-color:AliceBlue;\">intact</td><td  style=\"background-color:AliceBlue;\">intact</td><td  style=\"background-color:AliceBlue;\">Methanosarcina_barkeri_str_fusaro.gbk</td><td  style=\"background-color:AliceBlue;\"></td><td  style=\"background-color:AliceBlue;\">Methanosarcina_barkeri_str_fusaro_3.txt</td><td  style=\"background-color:AliceBlue;\"></td><td  style=\"background-color:AliceBlue;\">8-Feb-14</td><td  style=\"background-color:AliceBlue;\">Nick&nbspY</td></tr><tr><td  style=\"background-color:Ivory;\">5</td><td  style=\"background-color:Ivory;\">269797.3</td><td  style=\"background-color:Ivory;\">Methanosarcina_barkeri_str_fusaro</td><td  style=\"background-color:Ivory;\">I-G</td><td  style=\"background-color:Ivory;\">NC_007355</td><td  style=\"background-color:Ivory;\">353461</td><td  style=\"background-color:Ivory;\">365194</td><td  style=\"background-color:Ivory;\">353461</td><td  style=\"background-color:Ivory;\">365194</td><td  style=\"background-color:Ivory;\">356467</td><td  style=\"background-color:Ivory;\">359809</td><td  style=\"background-color:Ivory;\">broken</td><td  style=\"background-color:Ivory;\">intact</td><td  style=\"background-color:Ivory;\">Methanosarcina_barkeri_str_fusaro.gbk</td><td  style=\"background-color:Ivory;\"></td><td  style=\"background-color:Ivory;\">Methanosarcina_barkeri_str_fusaro_1.txt</td><td  style=\"background-color:Ivory;\"></td><td  style=\"background-color:Ivory;\">8-Feb-14</td><td  style=\"background-color:Ivory;\">Nick&nbspY</td></tr><tr><td  style=\"background-color:AliceBlue;\">6</td><td  style=\"background-color:AliceBlue;\">1434110.3</td><td  style=\"background-color:AliceBlue;\">Methanosarcina_horonobensis_HB_1</td><td  style=\"background-color:AliceBlue;\">NA</td><td  style=\"background-color:AliceBlue;\">NZ_CP009516</td><td  style=\"background-color:AliceBlue;\">2394773</td><td  style=\"background-color:AliceBlue;\">2403809</td><td  style=\"background-color:AliceBlue;\">2394773</td><td  style=\"background-color:AliceBlue;\">2399711</td><td  style=\"background-color:AliceBlue;\">2400559</td><td  style=\"background-color:AliceBlue;\">2403809</td><td  style=\"background-color:AliceBlue;\">broken</td><td  style=\"background-color:AliceBlue;\">intact</td><td  style=\"background-color:AliceBlue;\">Methanosarcina_horonobensis_HB_1.gbk</td><td  style=\"background-color:AliceBlue;\"></td><td  style=\"background-color:AliceBlue;\">Methanosarcina_horonobensis_HB_1_3.txt</td><td  style=\"background-color:AliceBlue;\"></td><td  style=\"background-color:AliceBlue;\">8-Feb-14</td><td  style=\"background-color:AliceBlue;\">Nick&nbspY</td></tr><tr><td  style=\"background-color:Ivory;\">7</td><td  style=\"background-color:Ivory;\">1434110.3</td><td  style=\"background-color:Ivory;\">Methanosarcina_horonobensis_HB_1</td><td  style=\"background-color:Ivory;\">VIII-4</td><td  style=\"background-color:Ivory;\">NZ_CP009516</td><td  style=\"background-color:Ivory;\">2394171</td><td  style=\"background-color:Ivory;\">2380115</td><td  style=\"background-color:Ivory;\">2392416</td><td  style=\"background-color:Ivory;\">2380115</td><td  style=\"background-color:Ivory;\">2392664</td><td  style=\"background-color:Ivory;\">2394112</td><td  style=\"background-color:Ivory;\">intact</td><td  style=\"background-color:Ivory;\">intact</td><td  style=\"background-color:Ivory;\">Methanosarcina_horonobensis_HB_1.gbk</td><td  style=\"background-color:Ivory;\"></td><td  style=\"background-color:Ivory;\">Methanosarcina_horonobensis_HB_1_2.txt</td><td  style=\"background-color:Ivory;\"></td><td  style=\"background-color:Ivory;\">8-Feb-14</td><td  style=\"background-color:Ivory;\">Nick&nbspY</td></tr><tr><td  style=\"background-color:AliceBlue;\">8</td><td  style=\"background-color:AliceBlue;\">1434110.3</td><td  style=\"background-color:AliceBlue;\">Methanosarcina_horonobensis_HB_1</td><td  style=\"background-color:AliceBlue;\">I-B</td><td  style=\"background-color:AliceBlue;\">NZ_CP009516</td><td  style=\"background-color:AliceBlue;\">1002075</td><td  style=\"background-color:AliceBlue;\">1015295</td><td  style=\"background-color:AliceBlue;\">1002075</td><td  style=\"background-color:AliceBlue;\">1011589</td><td  style=\"background-color:AliceBlue;\">1011703</td><td  style=\"background-color:AliceBlue;\">1015295</td><td  style=\"background-color:AliceBlue;\">intact</td><td  style=\"background-color:AliceBlue;\">intact</td><td  style=\"background-color:AliceBlue;\">Methanosarcina_horonobensis_HB_1.gbk</td><td  style=\"background-color:AliceBlue;\"></td><td  style=\"background-color:AliceBlue;\">Methanosarcina_horonobensis_HB_1_1.txt</td><td  style=\"background-color:AliceBlue;\"></td><td  style=\"background-color:AliceBlue;\">8-Feb-14</td><td  style=\"background-color:AliceBlue;\">Nick&nbspY</td></tr><tr><td  style=\"background-color:Ivory;\">9</td><td  style=\"background-color:Ivory;\">1434113.3</td><td  style=\"background-color:Ivory;\">Methanosarcina_mazei_C16</td><td  style=\"background-color:Ivory;\">I-B</td><td  style=\"background-color:Ivory;\">NZ_CP009514</td><td  style=\"background-color:Ivory;\">880835</td><td  style=\"background-color:Ivory;\">895591</td><td  style=\"background-color:Ivory;\">880835</td><td  style=\"background-color:Ivory;\">889997</td><td  style=\"background-color:Ivory;\">890110</td><td  style=\"background-color:Ivory;\">895591</td><td  style=\"background-color:Ivory;\">intact</td><td  style=\"background-color:Ivory;\">intact</td><td  style=\"background-color:Ivory;\">Methanosarcina_mazei_C16.gbk</td><td  style=\"background-color:Ivory;\"></td><td  style=\"background-color:Ivory;\">Methanosarcina_mazei_C16_1.txt</td><td  style=\"background-color:Ivory;\"></td><td  style=\"background-color:Ivory;\">8-Feb-14</td><td  style=\"background-color:Ivory;\">Nick&nbspY</td></tr><tr><td  style=\"background-color:AliceBlue;\">10</td><td  style=\"background-color:AliceBlue;\">1434113.3</td><td  style=\"background-color:AliceBlue;\">Methanosarcina_mazei_C16</td><td  style=\"background-color:AliceBlue;\">III-B</td><td  style=\"background-color:AliceBlue;\">NZ_CP009514</td><td  style=\"background-color:AliceBlue;\">3296823</td><td  style=\"background-color:AliceBlue;\">3309235</td><td  style=\"background-color:AliceBlue;\">3300128</td><td  style=\"background-color:AliceBlue;\">3309235</td><td  style=\"background-color:AliceBlue;\">3296823</td><td  style=\"background-color:AliceBlue;\">3299881</td><td  style=\"background-color:AliceBlue;\">broken</td><td  style=\"background-color:AliceBlue;\">intact</td><td  style=\"background-color:AliceBlue;\">Methanosarcina_mazei_C16.gbk</td><td  style=\"background-color:AliceBlue;\"></td><td  style=\"background-color:AliceBlue;\">Methanosarcina_mazei_C16_2.txt</td><td  style=\"background-color:AliceBlue;\"></td><td  style=\"background-color:AliceBlue;\">8-Feb-14</td><td  style=\"background-color:AliceBlue;\">Nick&nbspY</td></tr><tr><td  style=\"background-color:Ivory;\">11</td><td  style=\"background-color:Ivory;\">192952.1</td><td  style=\"background-color:Ivory;\">Methanosarcina_mazei_Go1</td><td  style=\"background-color:Ivory;\">III-C</td><td  style=\"background-color:Ivory;\">NC_003901</td><td  style=\"background-color:Ivory;\">4095299</td><td  style=\"background-color:Ivory;\">4080452</td><td  style=\"background-color:Ivory;\">4089089</td><td  style=\"background-color:Ivory;\">4080452</td><td  style=\"background-color:Ivory;\">4095187</td><td  style=\"background-color:Ivory;\">4089310</td><td  style=\"background-color:Ivory;\">intact</td><td  style=\"background-color:Ivory;\">intact</td><td  style=\"background-color:Ivory;\">Methanosarcina_mazei_Go1.gbk</td><td  style=\"background-color:Ivory;\"></td><td  style=\"background-color:Ivory;\">Methanosarcina_mazei_Go1-cli118.txt</td><td  style=\"background-color:Ivory;\"></td><td  style=\"background-color:Ivory;\">28-Jun-13</td><td  style=\"background-color:Ivory;\">Nick&nbspY</td></tr><tr><td  style=\"background-color:AliceBlue;\">12</td><td  style=\"background-color:AliceBlue;\">192952.1</td><td  style=\"background-color:AliceBlue;\">Methanosarcina_mazei_Go1</td><td  style=\"background-color:AliceBlue;\">I-B</td><td  style=\"background-color:AliceBlue;\">NC_003901</td><td  style=\"background-color:AliceBlue;\">691804</td><td  style=\"background-color:AliceBlue;\">679124</td><td  style=\"background-color:AliceBlue;\">691804</td><td  style=\"background-color:AliceBlue;\">682642</td><td  style=\"background-color:AliceBlue;\">682529</td><td  style=\"background-color:AliceBlue;\">679124</td><td  style=\"background-color:AliceBlue;\">intact</td><td  style=\"background-color:AliceBlue;\">intact</td><td  style=\"background-color:AliceBlue;\">Methanosarcina_mazei_Go1.gbk</td><td  style=\"background-color:AliceBlue;\"></td><td  style=\"background-color:AliceBlue;\">Methanosarcina_mazei_Go1-cli117.txt</td><td  style=\"background-color:AliceBlue;\"></td><td  style=\"background-color:AliceBlue;\">28-Jun-13</td><td  style=\"background-color:AliceBlue;\">Nick&nbspY</td></tr><tr><td  style=\"background-color:Ivory;\">13</td><td  style=\"background-color:Ivory;\">1434114.3</td><td  style=\"background-color:Ivory;\">Methanosarcina_mazei_LYC</td><td  style=\"background-color:Ivory;\">VIII-4</td><td  style=\"background-color:Ivory;\">NZ_CP009513</td><td  style=\"background-color:Ivory;\">1604279</td><td  style=\"background-color:Ivory;\">1627422</td><td  style=\"background-color:Ivory;\">1615209</td><td  style=\"background-color:Ivory;\">1627422</td><td  style=\"background-color:Ivory;\">1604387</td><td  style=\"background-color:Ivory;\">1614962</td><td  style=\"background-color:Ivory;\">intact</td><td  style=\"background-color:Ivory;\">broken</td><td  style=\"background-color:Ivory;\">Methanosarcina_mazei_LYC.gbk</td><td  style=\"background-color:Ivory;\"></td><td  style=\"background-color:Ivory;\">Methanosarcina_mazei_LYC_2.txt</td><td  style=\"background-color:Ivory;\"></td><td  style=\"background-color:Ivory;\">8-Feb-14</td><td  style=\"background-color:Ivory;\">Nick&nbspY</td></tr><tr><td  style=\"background-color:AliceBlue;\">14</td><td  style=\"background-color:AliceBlue;\">1434114.3</td><td  style=\"background-color:AliceBlue;\">Methanosarcina_mazei_LYC</td><td  style=\"background-color:AliceBlue;\">NA</td><td  style=\"background-color:AliceBlue;\">NZ_CP009513</td><td  style=\"background-color:AliceBlue;\">818271</td><td  style=\"background-color:AliceBlue;\">799772</td><td  style=\"background-color:AliceBlue;\">818271</td><td  style=\"background-color:AliceBlue;\">802538</td><td  style=\"background-color:AliceBlue;\">799772</td><td  style=\"background-color:AliceBlue;\">802424</td><td  style=\"background-color:AliceBlue;\">broken</td><td  style=\"background-color:AliceBlue;\">intact</td><td  style=\"background-color:AliceBlue;\">Methanosarcina_mazei_LYC.gbk</td><td  style=\"background-color:AliceBlue;\"></td><td  style=\"background-color:AliceBlue;\">Methanosarcina_mazei_LYC_1.txt</td><td  style=\"background-color:AliceBlue;\"></td><td  style=\"background-color:AliceBlue;\">8-Feb-14</td><td  style=\"background-color:AliceBlue;\">Nick&nbspY</td></tr><tr><td  style=\"background-color:Ivory;\">15</td><td  style=\"background-color:Ivory;\">213585.9</td><td  style=\"background-color:Ivory;\">Methanosarcina_mazei_S_6</td><td  style=\"background-color:Ivory;\">I-D</td><td  style=\"background-color:Ivory;\">NZ_CP009512</td><td  style=\"background-color:Ivory;\">889926</td><td  style=\"background-color:Ivory;\">906212</td><td  style=\"background-color:Ivory;\">889926</td><td  style=\"background-color:Ivory;\">901670</td><td  style=\"background-color:Ivory;\">901787</td><td  style=\"background-color:Ivory;\">906212</td><td  style=\"background-color:Ivory;\">broken</td><td  style=\"background-color:Ivory;\">intact</td><td  style=\"background-color:Ivory;\">Methanosarcina_mazei_S_6.gbk</td><td  style=\"background-color:Ivory;\"></td><td  style=\"background-color:Ivory;\">Methanosarcina_mazei_S_6_1.txt</td><td  style=\"background-color:Ivory;\"></td><td  style=\"background-color:Ivory;\">8-Feb-14</td><td  style=\"background-color:Ivory;\">Nick&nbspY</td></tr><tr><td  style=\"background-color:AliceBlue;\">16</td><td  style=\"background-color:AliceBlue;\">213585.9</td><td  style=\"background-color:AliceBlue;\">Methanosarcina_mazei_S_6</td><td  style=\"background-color:AliceBlue;\">III-C</td><td  style=\"background-color:AliceBlue;\">NZ_CP009512</td><td  style=\"background-color:AliceBlue;\">1620118</td><td  style=\"background-color:AliceBlue;\">1634344</td><td  style=\"background-color:AliceBlue;\">1625707</td><td  style=\"background-color:AliceBlue;\">1634344</td><td  style=\"background-color:AliceBlue;\">1620229</td><td  style=\"background-color:AliceBlue;\">1625486</td><td  style=\"background-color:AliceBlue;\">intact</td><td  style=\"background-color:AliceBlue;\">intact</td><td  style=\"background-color:AliceBlue;\">Methanosarcina_mazei_S_6.gbk</td><td  style=\"background-color:AliceBlue;\"></td><td  style=\"background-color:AliceBlue;\">Methanosarcina_mazei_S_6_2.txt</td><td  style=\"background-color:AliceBlue;\"></td><td  style=\"background-color:AliceBlue;\">8-Feb-14</td><td  style=\"background-color:AliceBlue;\">Nick&nbspY</td></tr><tr><td  style=\"background-color:Ivory;\">17</td><td  style=\"background-color:Ivory;\">1434115.3</td><td  style=\"background-color:Ivory;\">Methanosarcina_mazei_SarPi</td><td  style=\"background-color:Ivory;\">I-B</td><td  style=\"background-color:Ivory;\">NZ_CP009511</td><td  style=\"background-color:Ivory;\">849895</td><td  style=\"background-color:Ivory;\">866550</td><td  style=\"background-color:Ivory;\">849895</td><td  style=\"background-color:Ivory;\">859057</td><td  style=\"background-color:Ivory;\">859170</td><td  style=\"background-color:Ivory;\">866550</td><td  style=\"background-color:Ivory;\">intact</td><td  style=\"background-color:Ivory;\">intact</td><td  style=\"background-color:Ivory;\">Methanosarcina_mazei_SarPi.gbk</td><td  style=\"background-color:Ivory;\"></td><td  style=\"background-color:Ivory;\">Methanosarcina_mazei_SarPi_1.txt</td><td  style=\"background-color:Ivory;\"></td><td  style=\"background-color:Ivory;\">8-Feb-14</td><td  style=\"background-color:Ivory;\">Nick&nbspY</td></tr><tr><td  style=\"background-color:AliceBlue;\">18</td><td  style=\"background-color:AliceBlue;\">1434115.3</td><td  style=\"background-color:AliceBlue;\">Methanosarcina_mazei_SarPi</td><td  style=\"background-color:AliceBlue;\">VIII-3</td><td  style=\"background-color:AliceBlue;\">NZ_CP009511</td><td  style=\"background-color:AliceBlue;\">1508570</td><td  style=\"background-color:AliceBlue;\">1530044</td><td  style=\"background-color:AliceBlue;\">1518968</td><td  style=\"background-color:AliceBlue;\">1530044</td><td  style=\"background-color:AliceBlue;\">1508588</td><td  style=\"background-color:AliceBlue;\">1518721</td><td  style=\"background-color:AliceBlue;\">intact</td><td  style=\"background-color:AliceBlue;\">intact</td><td  style=\"background-color:AliceBlue;\">Methanosarcina_mazei_SarPi.gbk</td><td  style=\"background-color:AliceBlue;\"></td><td  style=\"background-color:AliceBlue;\">Methanosarcina_mazei_SarPi_2.txt</td><td  style=\"background-color:AliceBlue;\"></td><td  style=\"background-color:AliceBlue;\">8-Feb-14</td><td  style=\"background-color:AliceBlue;\">Nick&nbspY</td></tr><tr><td  style=\"background-color:Ivory;\">19</td><td  style=\"background-color:Ivory;\">1434117.3</td><td  style=\"background-color:Ivory;\">Methanosarcina_mazei_WWM610</td><td  style=\"background-color:Ivory;\">III-B</td><td  style=\"background-color:Ivory;\">NZ_CP009509</td><td  style=\"background-color:Ivory;\">1610239</td><td  style=\"background-color:Ivory;\">1627817</td><td  style=\"background-color:Ivory;\">1616658</td><td  style=\"background-color:Ivory;\">1627817</td><td  style=\"background-color:Ivory;\">1610347</td><td  style=\"background-color:Ivory;\">1616437</td><td  style=\"background-color:Ivory;\">intact</td><td  style=\"background-color:Ivory;\">intact</td><td  style=\"background-color:Ivory;\">Methanosarcina_mazei_WWM610.gbk</td><td  style=\"background-color:Ivory;\"></td><td  style=\"background-color:Ivory;\">Methanosarcina_mazei_WWM610_2.txt</td><td  style=\"background-color:Ivory;\"></td><td  style=\"background-color:Ivory;\">8-Feb-14</td><td  style=\"background-color:Ivory;\">Nick&nbspY</td></tr><tr><td  style=\"background-color:AliceBlue;\">20</td><td  style=\"background-color:AliceBlue;\">1434117.3</td><td  style=\"background-color:AliceBlue;\">Methanosarcina_mazei_WWM610</td><td  style=\"background-color:AliceBlue;\">I-B</td><td  style=\"background-color:AliceBlue;\">NZ_CP009509</td><td  style=\"background-color:AliceBlue;\">890817</td><td  style=\"background-color:AliceBlue;\">903201</td><td  style=\"background-color:AliceBlue;\">890817</td><td  style=\"background-color:AliceBlue;\">900512</td><td  style=\"background-color:AliceBlue;\">900625</td><td  style=\"background-color:AliceBlue;\">903201</td><td  style=\"background-color:AliceBlue;\">intact</td><td  style=\"background-color:AliceBlue;\">intact</td><td  style=\"background-color:AliceBlue;\">Methanosarcina_mazei_WWM610.gbk</td><td  style=\"background-color:AliceBlue;\"></td><td  style=\"background-color:AliceBlue;\">Methanosarcina_mazei_WWM610_1.txt</td><td  style=\"background-color:AliceBlue;\"></td><td  style=\"background-color:AliceBlue;\">8-Feb-14</td><td  style=\"background-color:AliceBlue;\">Nick&nbspY</td></tr></table>"
      ],
      "text/plain": [
       "<ipy_table.IpyTable at 0x7f317c0d2890>"
      ]
     },
     "execution_count": 153,
     "metadata": {},
     "output_type": "execute_result"
    }
   ],
   "source": [
    "lociFile = os.path.join(workDir, 'loci', 'loci.txt')\n",
    "\n",
    "# reading in file\n",
    "tbl = []\n",
    "with open(lociFile, 'rb') as f:\n",
    "    reader = csv.reader(f, delimiter='\\t')\n",
    "    for row in reader:\n",
    "        tbl.append(row)\n",
    "\n",
    "# making table\n",
    "make_table(tbl)\n",
    "apply_theme('basic')"
   ]
  },
  {
   "cell_type": "markdown",
   "metadata": {},
   "source": [
    "__Notes on the loci table:__\n",
    "* As you can see, not all of the fields have values. Some are not required (e.g., 'fasta_file').\n",
    "* You will get an error if you try to load a table with missing values in required fields.\n",
    "* For a list of required columns, see the documentation for `CLdb -- loadLoci -h`."
   ]
  },
  {
   "cell_type": "markdown",
   "metadata": {},
   "source": [
    "### Loading loci info into database"
   ]
  },
  {
   "cell_type": "code",
   "execution_count": 154,
   "metadata": {
    "collapsed": false
   },
   "outputs": [
    {
     "name": "stdout",
     "output_type": "stream",
     "text": [
      "Usage:\r\n",
      "    loadLoci.pl [flags] < loci_table.txt\r\n",
      "\r\n",
      "  Required flags:\r\n",
      "    -database <char>\r\n",
      "        CLdb database.\r\n",
      "\r\n",
      "  Optional flags:\r\n",
      "    -forks <int>\r\n",
      "        Number of files to process in parallel. [1]\r\n",
      "\r\n",
      "    -verbose <bool>\r\n",
      "        Verbose output. [TRUE]\r\n",
      "\r\n",
      "    -help <bool>\r\n",
      "        This help message\r\n",
      "\r\n",
      "  For more information:\r\n",
      "    CLdb --perldoc -- loadLoci\r\n",
      "\r\n"
     ]
    }
   ],
   "source": [
    "!CLdb -- loadLoci -h"
   ]
  },
  {
   "cell_type": "code",
   "execution_count": 155,
   "metadata": {
    "collapsed": false,
    "scrolled": false
   },
   "outputs": [
    {
     "name": "stdout",
     "output_type": "stream",
     "text": [
      "### checking line breaks for all external files (converting to unix) ###\n",
      " processing: /home/nyoungb2/t/CLdb_Methanosarcina/array/Methanosarcina_mazei_S_6_1.txt\n",
      " processing: /home/nyoungb2/t/CLdb_Methanosarcina/genbank/Methanosarcina_mazei_S_6.gbk\n",
      " processing: /home/nyoungb2/t/CLdb_Methanosarcina/array/Methanosarcina_mazei_SarPi_2.txt\n",
      " processing: /home/nyoungb2/t/CLdb_Methanosarcina/genbank/Methanosarcina_mazei_SarPi.gbk\n",
      " processing: /home/nyoungb2/t/CLdb_Methanosarcina/array/Methanosarcina_horonobensis_HB_1_1.txt\n",
      " processing: /home/nyoungb2/t/CLdb_Methanosarcina/genbank/Methanosarcina_horonobensis_HB_1.gbk\n",
      " processing: /home/nyoungb2/t/CLdb_Methanosarcina/array/Methanosarcina_barkeri_str_fusaro_1.txt\n",
      " processing: /home/nyoungb2/t/CLdb_Methanosarcina/genbank/Methanosarcina_barkeri_str_fusaro.gbk\n",
      " processing: /home/nyoungb2/t/CLdb_Methanosarcina/array/Methanosarcina_acetivorans_C2A_1.txt\n",
      " processing: /home/nyoungb2/t/CLdb_Methanosarcina/genbank/Methanosarcina_acetivorans_C2A.gbk\n",
      " processing: /home/nyoungb2/t/CLdb_Methanosarcina/array/Methanosarcina_barkeri_str_fusaro_3.txt\n",
      " processing: /home/nyoungb2/t/CLdb_Methanosarcina/genbank/Methanosarcina_barkeri_str_fusaro.gbk\n",
      " processing: /home/nyoungb2/t/CLdb_Methanosarcina/array/Methanosarcina_barkeri_str_fusaro_2.txt\n",
      " processing: /home/nyoungb2/t/CLdb_Methanosarcina/genbank/Methanosarcina_barkeri_str_fusaro.gbk\n",
      " processing: /home/nyoungb2/t/CLdb_Methanosarcina/array/Methanosarcina_horonobensis_HB_1_3.txt\n",
      " processing: /home/nyoungb2/t/CLdb_Methanosarcina/genbank/Methanosarcina_horonobensis_HB_1.gbk\n",
      " processing: /home/nyoungb2/t/CLdb_Methanosarcina/array/Methanosarcina_mazei_C16_2.txt\n",
      " processing: /home/nyoungb2/t/CLdb_Methanosarcina/genbank/Methanosarcina_mazei_C16.gbk\n",
      " processing: /home/nyoungb2/t/CLdb_Methanosarcina/array/Methanosarcina_mazei_S_6_2.txt\n",
      " processing: /home/nyoungb2/t/CLdb_Methanosarcina/genbank/Methanosarcina_mazei_S_6.gbk\n",
      " processing: /home/nyoungb2/t/CLdb_Methanosarcina/array/Methanosarcina_mazei_WWM610_2.txt\n",
      " processing: /home/nyoungb2/t/CLdb_Methanosarcina/genbank/Methanosarcina_mazei_WWM610.gbk\n",
      " processing: /home/nyoungb2/t/CLdb_Methanosarcina/array/Methanosarcina_horonobensis_HB_1_2.txt\n",
      " processing: /home/nyoungb2/t/CLdb_Methanosarcina/genbank/Methanosarcina_horonobensis_HB_1.gbk\n",
      " processing: /home/nyoungb2/t/CLdb_Methanosarcina/array/Methanosarcina_mazei_WWM610_1.txt\n",
      " processing: /home/nyoungb2/t/CLdb_Methanosarcina/genbank/Methanosarcina_mazei_WWM610.gbk\n",
      " processing: /home/nyoungb2/t/CLdb_Methanosarcina/array/Methanosarcina_mazei_SarPi_1.txt\n",
      " processing: /home/nyoungb2/t/CLdb_Methanosarcina/genbank/Methanosarcina_mazei_SarPi.gbk\n",
      " processing: /home/nyoungb2/t/CLdb_Methanosarcina/array/Methanosarcina_mazei_LYC_1.txt\n",
      " processing: /home/nyoungb2/t/CLdb_Methanosarcina/genbank/Methanosarcina_mazei_LYC.gbk\n",
      " processing: /home/nyoungb2/t/CLdb_Methanosarcina/array/Methanosarcina_acetivorans_C2A_2.txt\n",
      " processing: /home/nyoungb2/t/CLdb_Methanosarcina/genbank/Methanosarcina_acetivorans_C2A.gbk\n",
      " processing: /home/nyoungb2/t/CLdb_Methanosarcina/array/Methanosarcina_mazei_LYC_2.txt\n",
      " processing: /home/nyoungb2/t/CLdb_Methanosarcina/genbank/Methanosarcina_mazei_LYC.gbk\n",
      " processing: /home/nyoungb2/t/CLdb_Methanosarcina/array/Methanosarcina_mazei_Go1-cli117.txt\n",
      " processing: /home/nyoungb2/t/CLdb_Methanosarcina/genbank/Methanosarcina_mazei_Go1.gbk\n",
      " processing: /home/nyoungb2/t/CLdb_Methanosarcina/array/Methanosarcina_mazei_Go1-cli118.txt\n",
      " processing: /home/nyoungb2/t/CLdb_Methanosarcina/genbank/Methanosarcina_mazei_Go1.gbk\n",
      " processing: /home/nyoungb2/t/CLdb_Methanosarcina/array/Methanosarcina_mazei_C16_1.txt\n",
      " processing: /home/nyoungb2/t/CLdb_Methanosarcina/genbank/Methanosarcina_mazei_C16.gbk\n",
      "### checking locus_ID values ###\n",
      "...locus_ID values are OK\n",
      "### Checking/copying external files specfied in loci table ###\n",
      "Processing locus '15'...\n",
      "  Checking: '/home/nyoungb2/t/CLdb_Methanosarcina/genbank/Methanosarcina_mazei_S_6.gbk'\n",
      "\tFile found: '/home/nyoungb2/t/CLdb_Methanosarcina/genbank/Methanosarcina_mazei_S_6.gbk'\n",
      "  Checking: '/home/nyoungb2/t/CLdb_Methanosarcina/array/Methanosarcina_mazei_S_6_1.txt'\n",
      "\tFile found: '/home/nyoungb2/t/CLdb_Methanosarcina/array/Methanosarcina_mazei_S_6_1.txt'\n",
      "Processing locus '18'...\n",
      "  Checking: '/home/nyoungb2/t/CLdb_Methanosarcina/genbank/Methanosarcina_mazei_SarPi.gbk'\n",
      "\tFile found: '/home/nyoungb2/t/CLdb_Methanosarcina/genbank/Methanosarcina_mazei_SarPi.gbk'\n",
      "  Checking: '/home/nyoungb2/t/CLdb_Methanosarcina/array/Methanosarcina_mazei_SarPi_2.txt'\n",
      "\tFile found: '/home/nyoungb2/t/CLdb_Methanosarcina/array/Methanosarcina_mazei_SarPi_2.txt'\n",
      "Processing locus '8'...\n",
      "  Checking: '/home/nyoungb2/t/CLdb_Methanosarcina/genbank/Methanosarcina_horonobensis_HB_1.gbk'\n",
      "\tFile found: '/home/nyoungb2/t/CLdb_Methanosarcina/genbank/Methanosarcina_horonobensis_HB_1.gbk'\n",
      "  Checking: '/home/nyoungb2/t/CLdb_Methanosarcina/array/Methanosarcina_horonobensis_HB_1_1.txt'\n",
      "\tFile found: '/home/nyoungb2/t/CLdb_Methanosarcina/array/Methanosarcina_horonobensis_HB_1_1.txt'\n",
      "Processing locus '5'...\n",
      "  Checking: '/home/nyoungb2/t/CLdb_Methanosarcina/genbank/Methanosarcina_barkeri_str_fusaro.gbk'\n",
      "\tFile found: '/home/nyoungb2/t/CLdb_Methanosarcina/genbank/Methanosarcina_barkeri_str_fusaro.gbk'\n",
      "  Checking: '/home/nyoungb2/t/CLdb_Methanosarcina/array/Methanosarcina_barkeri_str_fusaro_1.txt'\n",
      "\tFile found: '/home/nyoungb2/t/CLdb_Methanosarcina/array/Methanosarcina_barkeri_str_fusaro_1.txt'\n",
      "Processing locus '2'...\n",
      "  Checking: '/home/nyoungb2/t/CLdb_Methanosarcina/genbank/Methanosarcina_acetivorans_C2A.gbk'\n",
      "\tFile found: '/home/nyoungb2/t/CLdb_Methanosarcina/genbank/Methanosarcina_acetivorans_C2A.gbk'\n",
      "  Checking: '/home/nyoungb2/t/CLdb_Methanosarcina/array/Methanosarcina_acetivorans_C2A_1.txt'\n",
      "\tFile found: '/home/nyoungb2/t/CLdb_Methanosarcina/array/Methanosarcina_acetivorans_C2A_1.txt'\n",
      "Processing locus '4'...\n",
      "  Checking: '/home/nyoungb2/t/CLdb_Methanosarcina/genbank/Methanosarcina_barkeri_str_fusaro.gbk'\n",
      "\tFile found: '/home/nyoungb2/t/CLdb_Methanosarcina/genbank/Methanosarcina_barkeri_str_fusaro.gbk'\n",
      "  Checking: '/home/nyoungb2/t/CLdb_Methanosarcina/array/Methanosarcina_barkeri_str_fusaro_3.txt'\n",
      "\tFile found: '/home/nyoungb2/t/CLdb_Methanosarcina/array/Methanosarcina_barkeri_str_fusaro_3.txt'\n",
      "Processing locus '3'...\n",
      "  Checking: '/home/nyoungb2/t/CLdb_Methanosarcina/genbank/Methanosarcina_barkeri_str_fusaro.gbk'\n",
      "\tFile found: '/home/nyoungb2/t/CLdb_Methanosarcina/genbank/Methanosarcina_barkeri_str_fusaro.gbk'\n",
      "  Checking: '/home/nyoungb2/t/CLdb_Methanosarcina/array/Methanosarcina_barkeri_str_fusaro_2.txt'\n",
      "\tFile found: '/home/nyoungb2/t/CLdb_Methanosarcina/array/Methanosarcina_barkeri_str_fusaro_2.txt'\n",
      "Processing locus '6'...\n",
      "  Checking: '/home/nyoungb2/t/CLdb_Methanosarcina/genbank/Methanosarcina_horonobensis_HB_1.gbk'\n",
      "\tFile found: '/home/nyoungb2/t/CLdb_Methanosarcina/genbank/Methanosarcina_horonobensis_HB_1.gbk'\n",
      "  Checking: '/home/nyoungb2/t/CLdb_Methanosarcina/array/Methanosarcina_horonobensis_HB_1_3.txt'\n",
      "\tFile found: '/home/nyoungb2/t/CLdb_Methanosarcina/array/Methanosarcina_horonobensis_HB_1_3.txt'\n",
      "Processing locus '10'...\n",
      "  Checking: '/home/nyoungb2/t/CLdb_Methanosarcina/genbank/Methanosarcina_mazei_C16.gbk'\n",
      "\tFile found: '/home/nyoungb2/t/CLdb_Methanosarcina/genbank/Methanosarcina_mazei_C16.gbk'\n",
      "  Checking: '/home/nyoungb2/t/CLdb_Methanosarcina/array/Methanosarcina_mazei_C16_2.txt'\n",
      "\tFile found: '/home/nyoungb2/t/CLdb_Methanosarcina/array/Methanosarcina_mazei_C16_2.txt'\n",
      "Processing locus '16'...\n",
      "  Checking: '/home/nyoungb2/t/CLdb_Methanosarcina/genbank/Methanosarcina_mazei_S_6.gbk'\n",
      "\tFile found: '/home/nyoungb2/t/CLdb_Methanosarcina/genbank/Methanosarcina_mazei_S_6.gbk'\n",
      "  Checking: '/home/nyoungb2/t/CLdb_Methanosarcina/array/Methanosarcina_mazei_S_6_2.txt'\n",
      "\tFile found: '/home/nyoungb2/t/CLdb_Methanosarcina/array/Methanosarcina_mazei_S_6_2.txt'\n",
      "Processing locus '19'...\n",
      "  Checking: '/home/nyoungb2/t/CLdb_Methanosarcina/genbank/Methanosarcina_mazei_WWM610.gbk'\n",
      "\tFile found: '/home/nyoungb2/t/CLdb_Methanosarcina/genbank/Methanosarcina_mazei_WWM610.gbk'\n",
      "  Checking: '/home/nyoungb2/t/CLdb_Methanosarcina/array/Methanosarcina_mazei_WWM610_2.txt'\n",
      "\tFile found: '/home/nyoungb2/t/CLdb_Methanosarcina/array/Methanosarcina_mazei_WWM610_2.txt'\n",
      "Processing locus '7'...\n",
      "  Checking: '/home/nyoungb2/t/CLdb_Methanosarcina/genbank/Methanosarcina_horonobensis_HB_1.gbk'\n",
      "\tFile found: '/home/nyoungb2/t/CLdb_Methanosarcina/genbank/Methanosarcina_horonobensis_HB_1.gbk'\n",
      "  Checking: '/home/nyoungb2/t/CLdb_Methanosarcina/array/Methanosarcina_horonobensis_HB_1_2.txt'\n",
      "\tFile found: '/home/nyoungb2/t/CLdb_Methanosarcina/array/Methanosarcina_horonobensis_HB_1_2.txt'\n",
      "Processing locus '20'...\n",
      "  Checking: '/home/nyoungb2/t/CLdb_Methanosarcina/genbank/Methanosarcina_mazei_WWM610.gbk'\n",
      "\tFile found: '/home/nyoungb2/t/CLdb_Methanosarcina/genbank/Methanosarcina_mazei_WWM610.gbk'\n",
      "  Checking: '/home/nyoungb2/t/CLdb_Methanosarcina/array/Methanosarcina_mazei_WWM610_1.txt'\n",
      "\tFile found: '/home/nyoungb2/t/CLdb_Methanosarcina/array/Methanosarcina_mazei_WWM610_1.txt'\n",
      "Processing locus '17'...\n",
      "  Checking: '/home/nyoungb2/t/CLdb_Methanosarcina/genbank/Methanosarcina_mazei_SarPi.gbk'\n",
      "\tFile found: '/home/nyoungb2/t/CLdb_Methanosarcina/genbank/Methanosarcina_mazei_SarPi.gbk'\n",
      "  Checking: '/home/nyoungb2/t/CLdb_Methanosarcina/array/Methanosarcina_mazei_SarPi_1.txt'\n",
      "\tFile found: '/home/nyoungb2/t/CLdb_Methanosarcina/array/Methanosarcina_mazei_SarPi_1.txt'\n",
      "Processing locus '14'...\n",
      "  Checking: '/home/nyoungb2/t/CLdb_Methanosarcina/genbank/Methanosarcina_mazei_LYC.gbk'\n",
      "\tFile found: '/home/nyoungb2/t/CLdb_Methanosarcina/genbank/Methanosarcina_mazei_LYC.gbk'\n",
      "  Checking: '/home/nyoungb2/t/CLdb_Methanosarcina/array/Methanosarcina_mazei_LYC_1.txt'\n",
      "\tFile found: '/home/nyoungb2/t/CLdb_Methanosarcina/array/Methanosarcina_mazei_LYC_1.txt'\n",
      "Processing locus '1'...\n",
      "  Checking: '/home/nyoungb2/t/CLdb_Methanosarcina/genbank/Methanosarcina_acetivorans_C2A.gbk'\n",
      "\tFile found: '/home/nyoungb2/t/CLdb_Methanosarcina/genbank/Methanosarcina_acetivorans_C2A.gbk'\n",
      "  Checking: '/home/nyoungb2/t/CLdb_Methanosarcina/array/Methanosarcina_acetivorans_C2A_2.txt'\n",
      "\tFile found: '/home/nyoungb2/t/CLdb_Methanosarcina/array/Methanosarcina_acetivorans_C2A_2.txt'\n",
      "Processing locus '13'...\n",
      "  Checking: '/home/nyoungb2/t/CLdb_Methanosarcina/genbank/Methanosarcina_mazei_LYC.gbk'\n",
      "\tFile found: '/home/nyoungb2/t/CLdb_Methanosarcina/genbank/Methanosarcina_mazei_LYC.gbk'\n",
      "  Checking: '/home/nyoungb2/t/CLdb_Methanosarcina/array/Methanosarcina_mazei_LYC_2.txt'\n",
      "\tFile found: '/home/nyoungb2/t/CLdb_Methanosarcina/array/Methanosarcina_mazei_LYC_2.txt'\n",
      "Processing locus '12'...\n",
      "  Checking: '/home/nyoungb2/t/CLdb_Methanosarcina/genbank/Methanosarcina_mazei_Go1.gbk'\n",
      "\tFile found: '/home/nyoungb2/t/CLdb_Methanosarcina/genbank/Methanosarcina_mazei_Go1.gbk'\n",
      "  Checking: '/home/nyoungb2/t/CLdb_Methanosarcina/array/Methanosarcina_mazei_Go1-cli117.txt'\n",
      "\tFile found: '/home/nyoungb2/t/CLdb_Methanosarcina/array/Methanosarcina_mazei_Go1-cli117.txt'\n",
      "Processing locus '11'...\n",
      "  Checking: '/home/nyoungb2/t/CLdb_Methanosarcina/genbank/Methanosarcina_mazei_Go1.gbk'\n",
      "\tFile found: '/home/nyoungb2/t/CLdb_Methanosarcina/genbank/Methanosarcina_mazei_Go1.gbk'\n",
      "  Checking: '/home/nyoungb2/t/CLdb_Methanosarcina/array/Methanosarcina_mazei_Go1-cli118.txt'\n",
      "\tFile found: '/home/nyoungb2/t/CLdb_Methanosarcina/array/Methanosarcina_mazei_Go1-cli118.txt'\n",
      "Processing locus '9'...\n",
      "  Checking: '/home/nyoungb2/t/CLdb_Methanosarcina/genbank/Methanosarcina_mazei_C16.gbk'\n",
      "\tFile found: '/home/nyoungb2/t/CLdb_Methanosarcina/genbank/Methanosarcina_mazei_C16.gbk'\n",
      "  Checking: '/home/nyoungb2/t/CLdb_Methanosarcina/array/Methanosarcina_mazei_C16_1.txt'\n",
      "\tFile found: '/home/nyoungb2/t/CLdb_Methanosarcina/array/Methanosarcina_mazei_C16_1.txt'\n",
      "### Checking for existence of genome fasta ###\n",
      "### Processing locus: \"15\" ###\n",
      "  No genome fasta found. Trying to extract sequence from genbank...\n",
      "**OUTPUT MUTED**"
     ]
    }
   ],
   "source": [
    "!CLdb -- loadLoci < $lociFile"
   ]
  },
  {
   "cell_type": "markdown",
   "metadata": {},
   "source": [
    "**Notes on loading**\n",
    "\n",
    "* A lot is going on here:\n",
    "  1. Various checks on the input files\n",
    "  2. Extracting the genome fasta sequence from each genbank file \n",
    "    * The genome fasta is required\n",
    "  3. Loading of the loci information into the sqlite database\n",
    "  \n",
    "**Notes on the command**\n",
    "\n",
    "* Why didn't I use the 'required' `-database` flag for `CLdb -- loadLoci`???\n",
    "  * I didn't have to use the `-database` flag because it is provided via the .CLdb config file that was previously created."
   ]
  },
  {
   "cell_type": "code",
   "execution_count": 156,
   "metadata": {
    "collapsed": false
   },
   "outputs": [
    {
     "name": "stdout",
     "output_type": "stream",
     "text": [
      "loci\tbroken\tintact\t7\r\n",
      "loci\tintact\tbroken\t1\r\n",
      "loci\tintact\tintact\t12\r\n",
      "loci\tTotal\tNA\t20\r\n",
      "spacer\tNA\tAll\tNULL\r\n",
      "DR\tNA\tAll\tNULL\r\n",
      "genes\tTotal\tNA\tNULL\r\n",
      "leaders\tTotal\tNA\tNA\r\n"
     ]
    }
   ],
   "source": [
    "# This is just a quick summary of the database \n",
    "## It should show 10 loci for the 'loci' rows\n",
    "!CLdb -- summary"
   ]
  },
  {
   "cell_type": "markdown",
   "metadata": {},
   "source": [
    "**The summary doesn't show anything for spacers, DRs, genes or leaders!**\n",
    "\n",
    "That's because we haven't loaded that info yet..."
   ]
  },
  {
   "cell_type": "markdown",
   "metadata": {},
   "source": [
    "## Loading CRISPR arrays\n",
    "\n",
    "* The next step is to load the CRISPR array tables.\n",
    "* These are tables in 'CRISPRFinder format' that have CRISPR array info.\n",
    "  * Let's take a look at one of the array files before loading them all."
   ]
  },
  {
   "cell_type": "code",
   "execution_count": 157,
   "metadata": {
    "collapsed": false
   },
   "outputs": [
    {
     "name": "stdout",
     "output_type": "stream",
     "text": [
      "2379328\tATTCGCGAGCAAGATCCACTAAAACAAGGATTGAAAC\tTCCGGAACTGGAAACCGTGTAATGGTAACCGATGACTA \t2379402\t\r\n",
      "2379403\tATTCGCGAGCAAGATCCACTAAAACAAGGATTGAAAC\tTCCTCGATTTGATCACAGCATTTCTTAACGTGATAC \t2379475\t\r\n",
      "2379476\tATTCGCGAGCAAGATCCACTAAAACAAGGATTGAAAC\tTAATCAAGCTCTTTTTGAGCCTGGTTCCCGGGTTCGAAT \t2379551\t\r\n",
      "2379552\tATTCGCGAGCAAGATCCACTAAAACAAGGATTGAAAC\tATCTCTCAGGTTGGGATGATATCGCCGAAATACGGT \t2379624\t\r\n",
      "2379625\tATTCGCGAGCAAGATCCACTAAAACAAGGATTGAAAC\tTTACAACAGGGCTATGAAAAACACTTTGTACAGAAAGT \t2379699\t\r\n",
      "2379700\tATTCGCGAGCAAGATCCACTAAAACAAGGATTGAAAC\tCTGAAGGCTTTCCCGGTAATCCCGAATTCAGCGT \t2379770\t\r\n",
      "2379771\tATTCGCGAGCAAGATCCACTAAAACAAGGATTGAAAC\tATATAAGCGTCTTTTCCTGTGTATGTGATCCACTTT \t2379843\t\r\n",
      "2379844\tATTCGCGAGCAAGATCCACTAAAACAAGGATTGAAAC\tCCTTGTTGGTAATTAGTACAATGTTACCAGTATCAG \t2379916\t\r\n",
      "2379917\tATTCGCGAGCAAGATCCACTAAAACAAGGATTGAAAC\tATTCCTCCAACTGCTTTTTTAGCTGGTCTTCTGGAACT \t2379991\t\r\n",
      "2379992\tATTCGCGAGCAAGATCCACTAAAACAAGGATTGAAAC\tACTCTAAAAGAAGAGCTTAATGAACTACGTATAGAA \t2380064\t\r\n"
     ]
    }
   ],
   "source": [
    "# an example array file (obtained from CRISPRFinder)\n",
    "arrayFile = os.path.join(workDir, 'array', 'Methanosarcina_acetivorans_C2A_1.txt')\n",
    "!head $arrayFile"
   ]
  },
  {
   "cell_type": "markdown",
   "metadata": {},
   "source": [
    "__Note: the array file consists of 4 columns:__\n",
    "\n",
    "1. spacer start\n",
    "1. spacer sequence\n",
    "1. direct-repeat sequence\n",
    "1. direct-repeat stop\n",
    "\n",
    "All extra columns ignored!"
   ]
  },
  {
   "cell_type": "code",
   "execution_count": 158,
   "metadata": {
    "collapsed": false
   },
   "outputs": [
    {
     "name": "stdout",
     "output_type": "stream",
     "text": [
      "...Number of entries added/updated to 'DRs' table: 1181\n",
      "...Number of entries added/updated to 'spacers' table: 1160\n"
     ]
    }
   ],
   "source": [
    "# loading CRISPR array info\n",
    "!CLdb -- loadArrays "
   ]
  },
  {
   "cell_type": "code",
   "execution_count": 159,
   "metadata": {
    "collapsed": false
   },
   "outputs": [
    {
     "name": "stdout",
     "output_type": "stream",
     "text": [
      "loci\tbroken\tintact\t7\r\n",
      "loci\tintact\tbroken\t1\r\n",
      "loci\tintact\tintact\t12\r\n",
      "loci\tTotal\tNA\t20\r\n",
      "spacer\tNA\tAll\t1160\r\n",
      "DR\tNA\tAll\t1181\r\n",
      "genes\tTotal\tNA\tNULL\r\n",
      "leaders\tTotal\tNA\tNA\r\n"
     ]
    }
   ],
   "source": [
    "# This is just a quick summary of the database \n",
    "!CLdb -- summary"
   ]
  },
  {
   "cell_type": "markdown",
   "metadata": {},
   "source": [
    "**Note: The output should show 75 spacer & 85 DR entries in the database**"
   ]
  },
  {
   "cell_type": "markdown",
   "metadata": {},
   "source": [
    "## Loading CAS genes\n",
    "\n",
    "* Technically, all coding seuqences in the region specified in the loci table (CAS_start, CAS_end) will be loaded.\n",
    "* This requires 2 subcommands:\n",
    "  1. The 1st gets the gene info\n",
    "  2. The 2nd loads the info into CLdb"
   ]
  },
  {
   "cell_type": "code",
   "execution_count": 160,
   "metadata": {
    "collapsed": true
   },
   "outputs": [],
   "source": [
    "geneDir = os.path.join(workDir, 'genes')\n",
    "if not os.path.isdir(geneDir):\n",
    "    os.makedirs(geneDir)"
   ]
  },
  {
   "cell_type": "code",
   "execution_count": 161,
   "metadata": {
    "collapsed": false
   },
   "outputs": [
    {
     "name": "stdout",
     "output_type": "stream",
     "text": [
      "...Getting features in:\r\n",
      " file:\t\t\t/home/nyoungb2/t/CLdb_Methanosarcina/genbank/Methanosarcina_mazei_Go1.gbk\r\n",
      " scaffold:\t\tNC_003901\r\n",
      " region:\t\t4095299-4080452\r\n",
      " CAS_status:\t\tintact\r\n",
      "-----------\r\n",
      " WARNING: Locus4 -> 1 does not have a FIG-PEG ID in a db_xref tag!\r\n",
      " WARNING: Locus4 -> 6 does not have a FIG-PEG ID in a db_xref tag!\r\n",
      " WARNING: Locus4 -> 4 does not have a FIG-PEG ID in a db_xref tag!\r\n",
      " WARNING: Locus4 -> 3 does not have a FIG-PEG ID in a db_xref tag!\r\n",
      " WARNING: Locus4 -> 5 does not have a FIG-PEG ID in a db_xref tag!\r\n",
      "-----------\r\n",
      "Locus_ID\tGene_Id\tGene_start\tGene_end\tGene_length__AA\tIn_CAS\tGene_Alias\tSequence\r\n",
      "10\tGI:850492586::GeneID:24882689\t3308151\t3308441\t96\tyes\thypothetical protein\tMGNIKFTSKEEREYTLISFEMDDLLSPEDLAAITPPNINGAKGVVLSGRGPIWLFCFLTHFYHPTKFIATYDPRLEGAVIVERHTSGYEIGSVIKC\r\n",
      "10\tGI:850478304::GeneID:24882684\t3302926\t3304689\t587\tyes\ttype III-B CRISPR-associated protein Cas10/Cmr2\tMSQFLFLFTVGPVQSFIAQARKSQDLYSGSFLLSHLSDIAIYKLKTLVSSCDLIFPNKEIASKPNRFIAKIECEDPEKIGSELHNFVQNEYRKICEDIVTKLNLNAPEGFNQQIDYLLDLHWIALDFEEGEYASKFSELESYLGAVKNIRRFHQFQEAGRKCSLCGERNVLFYGGARKRAHVHDAERINNVSNKFISDGEGLCAVCLSKRFAGRHFKKKYHSDYPSTAEIALMDTLSKLDSSLLNDYKSFFGKDFDEQLYFKDNLTKKYFEKNGIKADPEISLKELAKITNIAEQTGLKFSTYYALLCLDGDNMGKWLSGKFLEDKDKSNLMDFHFDLTKKLGTYAIKVKDIVQNPKGIVVYSGGDDVLAFINLDYLLPVMKELREHFPAFEEFSYTKQGEKSSASCGVCIAHYKTPLQEVLTWARKMEHEAKSIDDNAKKDAFAIAVLKRSGEIHKTVFNWKYETLDTIEVLAELISLLKSPNNSETPPFSDSFVNKLNEEFNLLMNDEGNYSEFPLFETEIKRLINRSCMMVKNTGESETEYRSRKDQTIADITEKLCALARESRSLENFLSLLNTAVFIERGSN\r\n",
      "10\tGI:919171957::GeneID:24882687\t3306791\t3307201\t136\tyes\ttype III-B CRISPR module-associated protein Cmr5\tMKGLEQGRAKFAYEKALVGSGIKKKKEYKAYVRKIPTLIKANGLGETFAFVKAKKVKRAEETDKPGYAYYLIYDQTSQWLKENGLLEPNTDLVKWVVSLDSPTYRAVTNEVLSLFKWLSRFSEGLIEGELENEKQE\r\n",
      "10\tGI:850492902::GeneID:24882681\t3300812\t3301252\t146\tyes\thypothetical protein\tMVLSKEWINPDRVEAVMAELGLELNKEKTYVGTAANGFEFVGFYFEEIMEENGAGSVIRVMPTEGSIEKVVESIESIGSNVRSIDSTARIEKAHKDDENKVQALDNLIKNICDVVDPWRSYYRHTDYAAGLERIEPSFNEKIQKFI\r\n"
     ]
    }
   ],
   "source": [
    "!cd $geneDir; \\\n",
    "    CLdb -- getGenesInLoci 2> CAS.log > CAS.txt\n",
    "    \n",
    "# checking output    \n",
    "!cd $geneDir; \\\n",
    "    head -n 5 CAS.log; \\\n",
    "    echo -----------; \\\n",
    "    tail -n 5 CAS.log; \\\n",
    "    echo -----------; \\\n",
    "    head -n 5 CAS.txt"
   ]
  },
  {
   "cell_type": "code",
   "execution_count": 162,
   "metadata": {
    "collapsed": false
   },
   "outputs": [
    {
     "name": "stdout",
     "output_type": "stream",
     "text": [
      "...Number of entries added/updated to 'genes' table: 192\r\n"
     ]
    }
   ],
   "source": [
    "# loading gene table into the database\n",
    "!cd $geneDir; \\\n",
    "    CLdb -- loadGenes < CAS.txt "
   ]
  },
  {
   "cell_type": "markdown",
   "metadata": {},
   "source": [
    "## Setting array sense strand\n",
    "\n",
    "* __The strand that is transcribed needs to be defined in order to have the correct sequence for downstream analyses (e.g., blasting spacers and getting PAM regions)__\n",
    "* __The sense (reading) strand is defined by (order of precedence):__\n",
    " * The leader region (if defined; in this case, no).\n",
    " * Array_start,Array_end in the loci table\n",
    "   * The genome negative strand will be used if array_start > array_end"
   ]
  },
  {
   "cell_type": "code",
   "execution_count": 163,
   "metadata": {
    "collapsed": false
   },
   "outputs": [
    {
     "name": "stdout",
     "output_type": "stream",
     "text": [
      "Setting sense strand for 20 loci...\r\n",
      "...sense strand set based on array_start-array_end for:\t20 loci\r\n",
      "...sense strand set base on leader region for:\t0 loci\r\n"
     ]
    }
   ],
   "source": [
    "!CLdb -- setSenseStrand "
   ]
  },
  {
   "cell_type": "markdown",
   "metadata": {},
   "source": [
    "## Spacer and DR clustering\n",
    "\n",
    "* __Clustering of spacer and/or DR sequences accomplishes:__\n",
    " * A method of comparing within and between CRISPRs\n",
    " * A reducing redundancy for spacer and DR blasting"
   ]
  },
  {
   "cell_type": "code",
   "execution_count": 164,
   "metadata": {
    "collapsed": false
   },
   "outputs": [
    {
     "name": "stdout",
     "output_type": "stream",
     "text": [
      "Deleted all entries in 'spacer_clusters' table\n",
      "Deleted all entries in 'DR_clusters' table\n",
      "Getting array element sequences. Orienting sequences by array_sense_strand\n",
      "\n",
      "Clustering spacer sequences...\n",
      "...Clustering spacers at cutoff: 0.80\n",
      "\tNumber of clusters produced: 1100\n",
      "...Clustering spacers at cutoff: 0.81\n",
      "\tNumber of clusters produced: 1101\n",
      "...Clustering spacers at cutoff: 0.82\n",
      "\tNumber of clusters produced: 1101\n",
      "...Clustering spacers at cutoff: 0.83\n",
      "\tNumber of clusters produced: 1101\n",
      "...Clustering spacers at cutoff: 0.84\n",
      "\tNumber of clusters produced: 1101\n",
      "...Clustering spacers at cutoff: 0.85\n",
      "\tNumber of clusters produced: 1101\n",
      "...Clustering spacers at cutoff: 0.86\n",
      "\tNumber of clusters produced: 1101\n",
      "...Clustering spacers at cutoff: 0.87\n",
      "\tNumber of clusters produced: 1101\n",
      "...Clustering spacers at cutoff: 0.88\n",
      "\tNumber of clusters produced: 1101\n",
      "...Clustering spacers at cutoff: 0.89\n",
      "\tNumber of clusters produced: 1101\n",
      "...Clustering spacers at cutoff: 0.90\n",
      "\tNumber of clusters produced: 1101\n",
      "...Clustering spacers at cutoff: 0.91\n",
      "\tNumber of clusters produced: 1101\n",
      "...Clustering spacers at cutoff: 0.92\n",
      "\tNumber of clusters produced: 1101\n",
      "...Clustering spacers at cutoff: 0.93\n",
      "\tNumber of clusters produced: 1101\n",
      "...Clustering spacers at cutoff: 0.94\n",
      "\tNumber of clusters produced: 1101\n",
      "...Clustering spacers at cutoff: 0.95\n",
      "\tNumber of clusters produced: 1102\n",
      "...Clustering spacers at cutoff: 0.96\n",
      "\tNumber of clusters produced: 1102\n",
      "...Clustering spacers at cutoff: 0.97\n",
      "\tNumber of clusters produced: 1102\n",
      "...Clustering spacers at cutoff: 0.98\n",
      "\tNumber of clusters produced: 1104\n",
      "...Clustering spacers at cutoff: 0.99\n",
      "\tNumber of clusters produced: 1104\n",
      "...Clustering spacers at cutoff: 1.00\n",
      "\tNumber of clusters produced: 1104\n",
      "\n",
      "Clustering DR sequences...\n",
      "...Clustering DRs at cutoff: 0.80\n",
      "\tNumber of clusters produced: 11\n",
      "...Clustering DRs at cutoff: 0.81\n",
      "\tNumber of clusters produced: 11\n",
      "...Clustering DRs at cutoff: 0.82\n",
      "\tNumber of clusters produced: 12\n",
      "...Clustering DRs at cutoff: 0.83\n",
      "\tNumber of clusters produced: 12\n",
      "...Clustering DRs at cutoff: 0.84\n",
      "\tNumber of clusters produced: 15\n",
      "...Clustering DRs at cutoff: 0.85\n",
      "\tNumber of clusters produced: 15\n",
      "...Clustering DRs at cutoff: 0.86\n",
      "\tNumber of clusters produced: 15\n",
      "...Clustering DRs at cutoff: 0.87\n",
      "\tNumber of clusters produced: 15\n",
      "...Clustering DRs at cutoff: 0.88\n",
      "\tNumber of clusters produced: 15\n",
      "...Clustering DRs at cutoff: 0.89\n",
      "\tNumber of clusters produced: 15\n",
      "...Clustering DRs at cutoff: 0.90\n",
      "\tNumber of clusters produced: 16\n",
      "...Clustering DRs at cutoff: 0.91\n",
      "\tNumber of clusters produced: 16\n",
      "...Clustering DRs at cutoff: 0.92\n",
      "\tNumber of clusters produced: 21\n",
      "...Clustering DRs at cutoff: 0.93\n",
      "\tNumber of clusters produced: 21\n",
      "...Clustering DRs at cutoff: 0.94\n",
      "\tNumber of clusters produced: 22\n",
      "...Clustering DRs at cutoff: 0.95\n",
      "\tNumber of clusters produced: 26\n",
      "...Clustering DRs at cutoff: 0.96\n",
      "\tNumber of clusters produced: 26\n",
      "...Clustering DRs at cutoff: 0.97\n",
      "\tNumber of clusters produced: 28\n",
      "...Clustering DRs at cutoff: 0.98\n",
      "\tNumber of clusters produced: 38\n",
      "...Clustering DRs at cutoff: 0.99\n",
      "\tNumber of clusters produced: 38\n",
      "...Clustering DRs at cutoff: 1.00\n",
      "\tNumber of clusters produced: 38\n",
      "\n",
      "Inserting/updating entries in CLdb...\n",
      "...24360 spacer cluster entries added/updated\n",
      "...24801 DR cluster entries added/updated\n",
      "\n",
      "Creating indices for cluster ids...\n"
     ]
    }
   ],
   "source": [
    "!CLdb -- clusterArrayElements -s -r"
   ]
  },
  {
   "cell_type": "markdown",
   "metadata": {},
   "source": [
    "# Database summary"
   ]
  },
  {
   "cell_type": "code",
   "execution_count": 165,
   "metadata": {
    "collapsed": false,
    "scrolled": false
   },
   "outputs": [
    {
     "name": "stdout",
     "output_type": "stream",
     "text": [
      "loci\tI-B\tMethanosarcina_horonobensis_HB_1\tintact\tintact\t1\r\n",
      "loci\tI-B\tMethanosarcina_mazei_C16\tintact\tintact\t1\r\n",
      "loci\tI-B\tMethanosarcina_mazei_Go1\tintact\tintact\t1\r\n",
      "loci\tI-B\tMethanosarcina_mazei_SarPi\tintact\tintact\t1\r\n",
      "loci\tI-B\tMethanosarcina_mazei_WWM610\tintact\tintact\t1\r\n",
      "loci\tI-D\tMethanosarcina_mazei_S_6\tbroken\tintact\t1\r\n",
      "loci\tI-G\tMethanosarcina_acetivorans_C2A\tbroken\tintact\t1\r\n",
      "loci\tI-G\tMethanosarcina_barkeri_str_fusaro\tbroken\tintact\t1\r\n",
      "loci\tIII-A\tMethanosarcina_acetivorans_C2A\tbroken\tintact\t1\r\n",
      "loci\tIII-B\tMethanosarcina_mazei_C16\tbroken\tintact\t1\r\n",
      "loci\tIII-B\tMethanosarcina_mazei_WWM610\tintact\tintact\t1\r\n",
      "loci\tIII-C\tMethanosarcina_barkeri_str_fusaro\tintact\tintact\t1\r\n",
      "loci\tIII-C\tMethanosarcina_mazei_Go1\tintact\tintact\t1\r\n",
      "loci\tIII-C\tMethanosarcina_mazei_S_6\tintact\tintact\t1\r\n",
      "loci\tNA\tMethanosarcina_horonobensis_HB_1\tbroken\tintact\t1\r\n",
      "loci\tNA\tMethanosarcina_mazei_LYC\tbroken\tintact\t1\r\n",
      "loci\tVI-3\tMethanosarcina_barkeri_str_fusaro\tintact\tintact\t1\r\n",
      "loci\tVIII-3\tMethanosarcina_mazei_SarPi\tintact\tintact\t1\r\n",
      "loci\tVIII-4\tMethanosarcina_horonobensis_HB_1\tintact\tintact\t1\r\n",
      "loci\tVIII-4\tMethanosarcina_mazei_LYC\tintact\tbroken\t1\r\n",
      "loci\tI-B\tMethanosarcina_horonobensis_HB_1\tTotal\tNA\t1\r\n",
      "loci\tI-B\tMethanosarcina_mazei_C16\tTotal\tNA\t1\r\n",
      "loci\tI-B\tMethanosarcina_mazei_Go1\tTotal\tNA\t1\r\n",
      "loci\tI-B\tMethanosarcina_mazei_SarPi\tTotal\tNA\t1\r\n",
      "loci\tI-B\tMethanosarcina_mazei_WWM610\tTotal\tNA\t1\r\n",
      "loci\tI-D\tMethanosarcina_mazei_S_6\tTotal\tNA\t1\r\n",
      "loci\tI-G\tMethanosarcina_acetivorans_C2A\tTotal\tNA\t1\r\n",
      "loci\tI-G\tMethanosarcina_barkeri_str_fusaro\tTotal\tNA\t1\r\n",
      "loci\tIII-A\tMethanosarcina_acetivorans_C2A\tTotal\tNA\t1\r\n",
      "loci\tIII-B\tMethanosarcina_mazei_C16\tTotal\tNA\t1\r\n",
      "loci\tIII-B\tMethanosarcina_mazei_WWM610\tTotal\tNA\t1\r\n",
      "loci\tIII-C\tMethanosarcina_barkeri_str_fusaro\tTotal\tNA\t1\r\n",
      "loci\tIII-C\tMethanosarcina_mazei_Go1\tTotal\tNA\t1\r\n",
      "loci\tIII-C\tMethanosarcina_mazei_S_6\tTotal\tNA\t1\r\n",
      "loci\tNA\tMethanosarcina_horonobensis_HB_1\tTotal\tNA\t1\r\n",
      "loci\tNA\tMethanosarcina_mazei_LYC\tTotal\tNA\t1\r\n",
      "loci\tVI-3\tMethanosarcina_barkeri_str_fusaro\tTotal\tNA\t1\r\n",
      "loci\tVIII-3\tMethanosarcina_mazei_SarPi\tTotal\tNA\t1\r\n",
      "loci\tVIII-4\tMethanosarcina_horonobensis_HB_1\tTotal\tNA\t1\r\n",
      "loci\tVIII-4\tMethanosarcina_mazei_LYC\tTotal\tNA\t1\r\n",
      "spacer\tI-B\tMethanosarcina_horonobensis_HB_1\tAll\tNA\tNA\t49\r\n",
      "spacer\tI-B\tMethanosarcina_mazei_C16\tAll\tNA\tNA\t75\r\n",
      "spacer\tI-B\tMethanosarcina_mazei_Go1\tAll\tNA\tNA\t46\r\n",
      "spacer\tI-B\tMethanosarcina_mazei_SarPi\tAll\tNA\tNA\t101\r\n",
      "spacer\tI-B\tMethanosarcina_mazei_WWM610\tAll\tNA\tNA\t35\r\n",
      "spacer\tI-D\tMethanosarcina_mazei_S_6\tAll\tNA\tNA\t60\r\n",
      "spacer\tI-G\tMethanosarcina_acetivorans_C2A\tAll\tNA\tNA\t30\r\n",
      "spacer\tI-G\tMethanosarcina_barkeri_str_fusaro\tAll\tNA\tNA\t50\r\n",
      "spacer\tIII-A\tMethanosarcina_acetivorans_C2A\tAll\tNA\tNA\t26\r\n",
      "spacer\tIII-B\tMethanosarcina_mazei_C16\tAll\tNA\tNA\t41\r\n",
      "spacer\tIII-B\tMethanosarcina_mazei_WWM610\tAll\tNA\tNA\t83\r\n",
      "spacer\tIII-C\tMethanosarcina_barkeri_str_fusaro\tAll\tNA\tNA\t18\r\n",
      "spacer\tIII-C\tMethanosarcina_mazei_Go1\tAll\tNA\tNA\t80\r\n",
      "spacer\tIII-C\tMethanosarcina_mazei_S_6\tAll\tNA\tNA\t72\r\n",
      "spacer\tNA\tMethanosarcina_horonobensis_HB_1\tAll\tNA\tNA\t44\r\n",
      "spacer\tNA\tMethanosarcina_mazei_LYC\tAll\tNA\tNA\t36\r\n",
      "spacer\tVI-3\tMethanosarcina_barkeri_str_fusaro\tAll\tNA\tNA\t24\r\n",
      "spacer\tVIII-3\tMethanosarcina_mazei_SarPi\tAll\tNA\tNA\t139\r\n",
      "spacer\tVIII-4\tMethanosarcina_horonobensis_HB_1\tAll\tNA\tNA\t19\r\n",
      "spacer\tVIII-4\tMethanosarcina_mazei_LYC\tAll\tNA\tNA\t132\r\n",
      "spacers\tI-B\tMethanosarcina_horonobensis_HB_1\tnum_groups\t1\t49\r\n",
      "spacers\tI-B\tMethanosarcina_mazei_C16\tnum_groups\t1\t75\r\n",
      "spacers\tI-B\tMethanosarcina_mazei_Go1\tnum_groups\t1\t46\r\n",
      "spacers\tI-B\tMethanosarcina_mazei_SarPi\tnum_groups\t1\t97\r\n",
      "spacers\tI-B\tMethanosarcina_mazei_WWM610\tnum_groups\t1\t35\r\n",
      "spacers\tI-D\tMethanosarcina_mazei_S_6\tnum_groups\t1\t59\r\n",
      "spacers\tI-G\tMethanosarcina_acetivorans_C2A\tnum_groups\t1\t30\r\n",
      "spacers\tI-G\tMethanosarcina_barkeri_str_fusaro\tnum_groups\t1\t50\r\n",
      "spacers\tIII-A\tMethanosarcina_acetivorans_C2A\tnum_groups\t1\t26\r\n",
      "spacers\tIII-B\tMethanosarcina_mazei_C16\tnum_groups\t1\t41\r\n",
      "spacers\tIII-B\tMethanosarcina_mazei_WWM610\tnum_groups\t1\t83\r\n",
      "spacers\tIII-C\tMethanosarcina_barkeri_str_fusaro\tnum_groups\t1\t17\r\n",
      "spacers\tIII-C\tMethanosarcina_mazei_Go1\tnum_groups\t1\t78\r\n",
      "spacers\tIII-C\tMethanosarcina_mazei_S_6\tnum_groups\t1\t72\r\n",
      "spacers\tNA\tMethanosarcina_horonobensis_HB_1\tnum_groups\t1\t44\r\n",
      "spacers\tNA\tMethanosarcina_mazei_LYC\tnum_groups\t1\t36\r\n",
      "spacers\tVI-3\tMethanosarcina_barkeri_str_fusaro\tnum_groups\t1\t24\r\n",
      "spacers\tVIII-3\tMethanosarcina_mazei_SarPi\tnum_groups\t1\t132\r\n",
      "spacers\tVIII-4\tMethanosarcina_horonobensis_HB_1\tnum_groups\t1\t19\r\n",
      "spacers\tVIII-4\tMethanosarcina_mazei_LYC\tnum_groups\t1\t132\r\n",
      "DR\tI-B\tMethanosarcina_horonobensis_HB_1\tAll\tNA\tNA\t50\r\n",
      "DR\tI-B\tMethanosarcina_mazei_C16\tAll\tNA\tNA\t76\r\n",
      "DR\tI-B\tMethanosarcina_mazei_Go1\tAll\tNA\tNA\t47\r\n",
      "DR\tI-B\tMethanosarcina_mazei_SarPi\tAll\tNA\tNA\t102\r\n",
      "DR\tI-B\tMethanosarcina_mazei_WWM610\tAll\tNA\tNA\t36\r\n",
      "DR\tI-D\tMethanosarcina_mazei_S_6\tAll\tNA\tNA\t61\r\n",
      "DR\tI-G\tMethanosarcina_acetivorans_C2A\tAll\tNA\tNA\t31\r\n",
      "DR\tI-G\tMethanosarcina_barkeri_str_fusaro\tAll\tNA\tNA\t51\r\n",
      "DR\tIII-A\tMethanosarcina_acetivorans_C2A\tAll\tNA\tNA\t27\r\n",
      "DR\tIII-B\tMethanosarcina_mazei_C16\tAll\tNA\tNA\t42\r\n",
      "DR\tIII-B\tMethanosarcina_mazei_WWM610\tAll\tNA\tNA\t84\r\n",
      "DR\tIII-C\tMethanosarcina_barkeri_str_fusaro\tAll\tNA\tNA\t19\r\n",
      "DR\tIII-C\tMethanosarcina_mazei_Go1\tAll\tNA\tNA\t81\r\n",
      "DR\tIII-C\tMethanosarcina_mazei_S_6\tAll\tNA\tNA\t73\r\n",
      "DR\tNA\tMethanosarcina_horonobensis_HB_1\tAll\tNA\tNA\t45\r\n",
      "DR\tNA\tMethanosarcina_mazei_LYC\tAll\tNA\tNA\t37\r\n",
      "DR\tVI-3\tMethanosarcina_barkeri_str_fusaro\tAll\tNA\tNA\t25\r\n",
      "DR\tVIII-3\tMethanosarcina_mazei_SarPi\tAll\tNA\tNA\t140\r\n",
      "DR\tVIII-4\tMethanosarcina_horonobensis_HB_1\tAll\tNA\tNA\t20\r\n",
      "DR\tVIII-4\tMethanosarcina_mazei_LYC\tAll\tNA\tNA\t134\r\n",
      "DRs\tI-B\tMethanosarcina_horonobensis_HB_1\tnum_groups\t1\t1\r\n",
      "DRs\tI-B\tMethanosarcina_mazei_C16\tnum_groups\t1\t3\r\n",
      "DRs\tI-B\tMethanosarcina_mazei_Go1\tnum_groups\t1\t4\r\n",
      "DRs\tI-B\tMethanosarcina_mazei_SarPi\tnum_groups\t1\t3\r\n",
      "DRs\tI-B\tMethanosarcina_mazei_WWM610\tnum_groups\t1\t3\r\n",
      "DRs\tI-D\tMethanosarcina_mazei_S_6\tnum_groups\t1\t2\r\n",
      "DRs\tI-G\tMethanosarcina_acetivorans_C2A\tnum_groups\t1\t2\r\n",
      "DRs\tI-G\tMethanosarcina_barkeri_str_fusaro\tnum_groups\t1\t3\r\n",
      "DRs\tIII-A\tMethanosarcina_acetivorans_C2A\tnum_groups\t1\t3\r\n",
      "DRs\tIII-B\tMethanosarcina_mazei_C16\tnum_groups\t1\t5\r\n",
      "DRs\tIII-B\tMethanosarcina_mazei_WWM610\tnum_groups\t1\t2\r\n",
      "DRs\tIII-C\tMethanosarcina_barkeri_str_fusaro\tnum_groups\t1\t2\r\n",
      "DRs\tIII-C\tMethanosarcina_mazei_Go1\tnum_groups\t1\t5\r\n",
      "DRs\tIII-C\tMethanosarcina_mazei_S_6\tnum_groups\t1\t2\r\n",
      "DRs\tNA\tMethanosarcina_horonobensis_HB_1\tnum_groups\t1\t1\r\n",
      "DRs\tNA\tMethanosarcina_mazei_LYC\tnum_groups\t1\t1\r\n",
      "DRs\tVI-3\tMethanosarcina_barkeri_str_fusaro\tnum_groups\t1\t6\r\n",
      "DRs\tVIII-3\tMethanosarcina_mazei_SarPi\tnum_groups\t1\t4\r\n",
      "DRs\tVIII-4\tMethanosarcina_horonobensis_HB_1\tnum_groups\t1\t3\r\n",
      "DRs\tVIII-4\tMethanosarcina_mazei_LYC\tnum_groups\t1\t7\r\n",
      "genes\tI-B\tMethanosarcina_horonobensis_HB_1\tyes\tNA\t9\r\n",
      "genes\tI-B\tMethanosarcina_mazei_C16\tyes\tNA\t9\r\n",
      "genes\tI-B\tMethanosarcina_mazei_Go1\tyes\tNA\t9\r\n",
      "genes\tI-B\tMethanosarcina_mazei_SarPi\tyes\tNA\t9\r\n",
      "genes\tI-B\tMethanosarcina_mazei_WWM610\tyes\tNA\t9\r\n",
      "genes\tI-D\tMethanosarcina_mazei_S_6\tyes\tNA\t12\r\n",
      "genes\tI-G\tMethanosarcina_acetivorans_C2A\tyes\tNA\t9\r\n",
      "genes\tI-G\tMethanosarcina_barkeri_str_fusaro\tyes\tNA\t8\r\n",
      "genes\tIII-A\tMethanosarcina_acetivorans_C2A\tyes\tNA\t9\r\n",
      "genes\tIII-B\tMethanosarcina_mazei_C16\tyes\tNA\t10\r\n",
      "genes\tIII-B\tMethanosarcina_mazei_WWM610\tyes\tNA\t12\r\n",
      "genes\tIII-C\tMethanosarcina_barkeri_str_fusaro\tno\tNA\t5\r\n",
      "genes\tIII-C\tMethanosarcina_barkeri_str_fusaro\tyes\tNA\t8\r\n",
      "genes\tIII-C\tMethanosarcina_mazei_Go1\tyes\tNA\t8\r\n",
      "genes\tIII-C\tMethanosarcina_mazei_S_6\tyes\tNA\t8\r\n",
      "genes\tNA\tMethanosarcina_horonobensis_HB_1\tno\tNA\t1\r\n",
      "genes\tNA\tMethanosarcina_horonobensis_HB_1\tyes\tNA\t6\r\n",
      "genes\tNA\tMethanosarcina_mazei_LYC\tno\tNA\t1\r\n",
      "genes\tNA\tMethanosarcina_mazei_LYC\tyes\tNA\t13\r\n",
      "genes\tVI-3\tMethanosarcina_barkeri_str_fusaro\tyes\tNA\t6\r\n",
      "genes\tVIII-3\tMethanosarcina_mazei_SarPi\tyes\tNA\t9\r\n",
      "genes\tVIII-4\tMethanosarcina_horonobensis_HB_1\tyes\tNA\t11\r\n",
      "genes\tVIII-4\tMethanosarcina_mazei_LYC\tyes\tNA\t11\r\n",
      "genes\tI-B\tMethanosarcina_horonobensis_HB_1\tTotal\tNA\t9\r\n",
      "genes\tI-B\tMethanosarcina_mazei_C16\tTotal\tNA\t9\r\n",
      "genes\tI-B\tMethanosarcina_mazei_Go1\tTotal\tNA\t9\r\n",
      "genes\tI-B\tMethanosarcina_mazei_SarPi\tTotal\tNA\t9\r\n",
      "genes\tI-B\tMethanosarcina_mazei_WWM610\tTotal\tNA\t9\r\n",
      "genes\tI-D\tMethanosarcina_mazei_S_6\tTotal\tNA\t12\r\n",
      "genes\tI-G\tMethanosarcina_acetivorans_C2A\tTotal\tNA\t9\r\n",
      "genes\tI-G\tMethanosarcina_barkeri_str_fusaro\tTotal\tNA\t8\r\n",
      "genes\tIII-A\tMethanosarcina_acetivorans_C2A\tTotal\tNA\t9\r\n",
      "genes\tIII-B\tMethanosarcina_mazei_C16\tTotal\tNA\t10\r\n",
      "genes\tIII-B\tMethanosarcina_mazei_WWM610\tTotal\tNA\t12\r\n",
      "genes\tIII-C\tMethanosarcina_barkeri_str_fusaro\tTotal\tNA\t13\r\n",
      "genes\tIII-C\tMethanosarcina_mazei_Go1\tTotal\tNA\t8\r\n",
      "genes\tIII-C\tMethanosarcina_mazei_S_6\tTotal\tNA\t8\r\n",
      "genes\tNA\tMethanosarcina_horonobensis_HB_1\tTotal\tNA\t7\r\n",
      "genes\tNA\tMethanosarcina_mazei_LYC\tTotal\tNA\t14\r\n",
      "genes\tVI-3\tMethanosarcina_barkeri_str_fusaro\tTotal\tNA\t6\r\n",
      "genes\tVIII-3\tMethanosarcina_mazei_SarPi\tTotal\tNA\t9\r\n",
      "genes\tVIII-4\tMethanosarcina_horonobensis_HB_1\tTotal\tNA\t11\r\n",
      "genes\tVIII-4\tMethanosarcina_mazei_LYC\tTotal\tNA\t11\r\n"
     ]
    }
   ],
   "source": [
    "# summary\n",
    "!cd $workDir; \\\n",
    "    CLdb -- summary -name -subtype > summary.txt\n",
    "\n",
    "# checking output\n",
    "!cd $workDir; \\\n",
    "     cat summary.txt"
   ]
  },
  {
   "cell_type": "markdown",
   "metadata": {},
   "source": [
    "# Next Steps\n",
    "\n",
    "* [arrayBlast](./arrayBlast.ipynb)\n",
    "  * Blast spacers (& DRs), get protospacers, PAM regions, mismatches to the protospacer & SEED sequence\n",
    "* **TODO:** [spacers_shared](./spacers_shared.ipynb)\n",
    "  * Spacer sequences shared among CRISPSRs\n",
    "* **TODO:** [DR_consensus](./DR_consensus.ipynb)\n",
    "  * Consensus sequences of direct repeats in each CRISPR\n",
    "* **TODO:** [loci_plots](./loci_plots.ipynb)\n",
    "  * Plots of CRISPR arrays and CAS genes"
   ]
  }
 ],
 "metadata": {
  "hide_input": false,
  "kernelspec": {
   "display_name": "Python 2",
   "language": "python",
   "name": "python2"
  },
  "language_info": {
   "codemirror_mode": {
    "name": "ipython",
    "version": 2
   },
   "file_extension": ".py",
   "mimetype": "text/x-python",
   "name": "python",
   "nbconvert_exporter": "python",
   "pygments_lexer": "ipython2",
   "version": "2.7.6"
  }
 },
 "nbformat": 4,
 "nbformat_minor": 0
}
