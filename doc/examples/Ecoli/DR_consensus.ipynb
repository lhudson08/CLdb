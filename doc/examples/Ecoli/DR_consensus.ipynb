{
 "cells": [
  {
   "cell_type": "markdown",
   "metadata": {},
   "source": [
    "# Description:\n",
    "\n",
    "* This notebook goes through the creation and assessment of direct repeat (DR) consensus sequences"
   ]
  },
  {
   "cell_type": "markdown",
   "metadata": {},
   "source": [
    "### Before running this notebook:\n",
    "\n",
    "* __run the [Setup](./Setup.pynb) notebook__"
   ]
  },
  {
   "cell_type": "markdown",
   "metadata": {},
   "source": [
    "# User-defined variables"
   ]
  },
  {
   "cell_type": "code",
   "execution_count": 1,
   "metadata": {
    "collapsed": true
   },
   "outputs": [],
   "source": [
    "# directory where you want the spacer blasting to be done\n",
    "## CHANGE THIS!\n",
    "workDir = \"/home/nyoungb2/t/CLdb_Ecoli/DR_consensus/\""
   ]
  },
  {
   "cell_type": "markdown",
   "metadata": {},
   "source": [
    "# Init"
   ]
  },
  {
   "cell_type": "code",
   "execution_count": 2,
   "metadata": {
    "collapsed": false
   },
   "outputs": [],
   "source": [
    "import os\n",
    "from IPython.display import FileLinks\n",
    "%load_ext rpy2.ipython"
   ]
  },
  {
   "cell_type": "code",
   "execution_count": 3,
   "metadata": {
    "collapsed": true
   },
   "outputs": [],
   "source": [
    "if not os.path.isdir(workDir):\n",
    "    os.makedirs(workDir)"
   ]
  },
  {
   "cell_type": "code",
   "execution_count": 4,
   "metadata": {
    "collapsed": false
   },
   "outputs": [
    {
     "name": "stdout",
     "output_type": "stream",
     "text": [
      "#-- Config params --#\r\n",
      "DATABASE = /home/nyoungb2/t/CLdb_Ecoli/CLdb.sqlite\r\n"
     ]
    }
   ],
   "source": [
    "# checking that CLdb is in $PATH & ~/.CLdb config file is set up\n",
    "!CLdb --config-params"
   ]
  },
  {
   "cell_type": "markdown",
   "metadata": {},
   "source": [
    "# Creating DR consensus seqs & loading into CLdb"
   ]
  },
  {
   "cell_type": "code",
   "execution_count": 5,
   "metadata": {
    "collapsed": false
   },
   "outputs": [
    {
     "name": "stdout",
     "output_type": "stream",
     "text": [
      "...Processing locus 'F'\n",
      "...Processing locus 'D'\n",
      "...Processing locus 'B'\n",
      "...Processing locus 'H'\n",
      "...Processing locus 'J'\n",
      "...Processing locus 'A'\n",
      "...Processing locus 'C'\n",
      "...Processing locus 'I'\n",
      "...Processing locus 'E'\n",
      "...Processing locus 'G'\n",
      "...10 entries added/updated in database\n"
     ]
    }
   ],
   "source": [
    "!CLdb -- loadDRConsensus"
   ]
  },
  {
   "cell_type": "markdown",
   "metadata": {},
   "source": [
    "**That's it! Now, the CLdb.sqlite file contains the DR consensus sequences for each CRISPR locus**"
   ]
  },
  {
   "cell_type": "markdown",
   "metadata": {},
   "source": [
    "# Assessing DR consensus seqs"
   ]
  },
  {
   "cell_type": "code",
   "execution_count": 6,
   "metadata": {
    "collapsed": false
   },
   "outputs": [
    {
     "name": "stdout",
     "output_type": "stream",
     "text": [
      "Usage:\r\n",
      "    DRconsensus2fasta.pl [flags] > DR_consensus.fasta\r\n",
      "\r\n",
      "  Required flags:\r\n",
      "    -database <char>\r\n",
      "        CLdb database.\r\n",
      "\r\n",
      "  Optional flags:\r\n",
      "    -IUPAC <bool>\r\n",
      "        Get consensus sequences with IUPAC nucleotide ambiguity codes\r\n",
      "        instead of consensus by threshold? [FALSE]\r\n",
      "\r\n",
      "    -subtype <char>\r\n",
      "        Refine query to specific a subtype(s) (>1 argument allowed).\r\n",
      "\r\n",
      "    -taxon_id <char>\r\n",
      "        Refine query to specific a taxon_id(s) (>1 argument allowed).\r\n",
      "\r\n",
      "    -taxon_name <char>\r\n",
      "        Refine query to specific a taxon_name(s) (>1 argument allowed).\r\n",
      "\r\n",
      "    -verbose <bool>\r\n",
      "        Verbose output. [FALSE]\r\n",
      "\r\n",
      "    -help <bool>\r\n",
      "        This help message\r\n",
      "\r\n",
      "  For more information:\r\n",
      "    CLdb_perldoc DRconsensus2fasta.pl\r\n",
      "\r\n"
     ]
    }
   ],
   "source": [
    "!CLdb -- DRconsensus2fasta -h"
   ]
  },
  {
   "cell_type": "code",
   "execution_count": 9,
   "metadata": {
    "collapsed": false
   },
   "outputs": [
    {
     "name": "stdout",
     "output_type": "stream",
     "text": [
      ">G|I-E\r\n",
      "cggtttatccccgctggcgcggggaacac\r\n",
      ">A|I-E\r\n",
      "cggtttatccccgctggcgcggggaactc\r\n",
      ">E|I-E\r\n",
      "cggtttatccccgctggcgcggggaactc\r\n"
     ]
    }
   ],
   "source": [
    "# writing out the consensus sequences\n",
    "!cd $workDir; \\\n",
    "    CLdb -- DRconsensus2fasta > DR_consensus.fna\n",
    "    \n",
    "# checking output    \n",
    "!cd $workDir; \\\n",
    "    head -n 6 DR_consensus.fna"
   ]
  },
  {
   "cell_type": "markdown",
   "metadata": {},
   "source": [
    "**Sequence naming is 'locus_ID'|'subtype'**"
   ]
  },
  {
   "cell_type": "markdown",
   "metadata": {},
   "source": [
    "## Making a quick tree of DR consensus sequences"
   ]
  },
  {
   "cell_type": "markdown",
   "metadata": {},
   "source": [
    "### Alignment"
   ]
  },
  {
   "cell_type": "code",
   "execution_count": 17,
   "metadata": {
    "collapsed": false
   },
   "outputs": [
    {
     "name": "stdout",
     "output_type": "stream",
     "text": [
      "\n",
      "nseq =  10\n",
      "distance =  ktuples\n",
      "iterate =  0\n",
      "cycle =  2\n",
      "nthread = 0\n",
      "nadd = 0\n",
      "inputfile = infile\n",
      "thresholdtorev = 0.010000\n",
      "generating 200PAM scoring matrix for nucleotides ... done\n",
      "done\n",
      "done\n",
      "scoremtx = -1\n",
      "\n",
      "\n",
      " 9 / 10  \n",
      "makedirectionlist (nuc) Version 7.123b alg=m, model=DNA200 (2),  1.530 ( 4.590),  0.123 ( 0.369)\n",
      "0 thread(s)\n",
      "directionfile = _direction\n",
      "inputfile = infile\n",
      "10 x 29 - 28 d\n",
      "nthread = 0\n",
      "generating 200PAM scoring matrix for nucleotides ... done\n",
      "done\n",
      "done\n",
      "scoremtx = -1\n",
      "Gap Penalty = -1.53, +0.00, +0.00\n",
      "\n",
      "tuplesize = 6, dorp = d\n",
      "\n",
      "\n",
      "Making a distance matrix ..\n",
      "\n",
      "WARNING : 2 unknown characters\n",
      "    1 / 10\n",
      "done.\n",
      "\n",
      "Constructing a UPGMA tree ... \n",
      "    0 / 10\n",
      "done.\n",
      "\n",
      "Progressive alignment ... \n",
      "STEP     9 / 9 d\n",
      "done.\n",
      "\n",
      "disttbfast (nuc) Version 7.123b alg=A, model=DNA200 (2),  1.530 ( 4.590), -0.000 (-0.000)\n",
      "0 thread(s)\n",
      "nthread = 0\n",
      "blosum 62 / kimura 200\n",
      "generating 200PAM scoring matrix for nucleotides ... done\n",
      "done\n",
      "done\n",
      "scoremtx = -1\n",
      "Gap Penalty = -1.53, +0.00, +0.00\n",
      "Making a distance matrix .. \n",
      "    0 / 9\n",
      "done.\n",
      "\n",
      "Constructing a UPGMA tree ... \n",
      "    0 / 10\n",
      "done.\n",
      "\n",
      "Progressive alignment ... \n",
      "STEP     9 /9 d\n",
      "done.\n",
      "tbfast (nuc) Version 7.123b alg=A, model=DNA200 (2),  1.530 ( 4.590), -0.000 (-0.000)\n",
      "0 thread(s)\n",
      "\n",
      "\n",
      "Strategy:\n",
      " FFT-NS-2 (Fast but rough)\n",
      " Progressive method (guide trees were built 2 times.)\n",
      "\n",
      "If unsure which option to use, try 'mafft --auto input > output'.\n",
      "For more information, see 'mafft --help', 'mafft --man' and the mafft page.\n",
      "\n",
      "The default gap scoring scheme has been changed in version 7.110 (2013 Oct).\n",
      "It tends to insert more gaps into gap-rich regions than previous versions.\n",
      "To disable this change, add the --legacygappenalty option.\n",
      "\n",
      "#-------#\n",
      ">G|I-E\n",
      "cggtttatccccgctggcgcggggaacac\n",
      ">A|I-E\n",
      "cggtttatccccgctggcgcggggaactc\n",
      ">E|I-E\n",
      "cggtttatccccgctggcgcggggaactc\n"
     ]
    }
   ],
   "source": [
    "!cd $workDir; \\\n",
    "    mafft --adjustdirection DR_consensus.fna > DR_consensus_aln.fna\n",
    "    \n",
    "!cd $workDir; \\\n",
    "    echo \"#-------#\"; \\\n",
    "    head -n 6 DR_consensus_aln.fna"
   ]
  },
  {
   "cell_type": "markdown",
   "metadata": {},
   "source": [
    "### Tree inference"
   ]
  },
  {
   "cell_type": "code",
   "execution_count": 10,
   "metadata": {
    "collapsed": true
   },
   "outputs": [],
   "source": [
    "%%R\n",
    "library(ape)"
   ]
  },
  {
   "cell_type": "code",
   "execution_count": 27,
   "metadata": {
    "collapsed": false
   },
   "outputs": [
    {
     "data": {
      "image/png": "[encoded data removed]"
     },
     "metadata": {},
     "output_type": "display_data"
    },
    {
     "data": {
      "image/png": "[encoded data removed]"
     },
     "metadata": {},
     "output_type": "display_data"
    }
   ],
   "source": [
    "%%R -i workDir\n",
    "\n",
    "inFile = file.path(workDir, 'DR_consensus_aln.fna')\n",
    "seqs = read.dna(inFile, format='fasta')\n",
    "seqs.dist = dist.dna(seqs)\n",
    "plot(hclust(seqs.dist), main='Hierarchical clustering dendrogram')\n",
    "plot(nj(seqs.dist), main='Neighbor-joining tree')"
   ]
  }
 ],
 "metadata": {
  "hide_input": true,
  "kernelspec": {
   "display_name": "Python 2",
   "language": "python",
   "name": "python2"
  },
  "language_info": {
   "codemirror_mode": {
    "name": "ipython",
    "version": 2
   },
   "file_extension": ".py",
   "mimetype": "text/x-python",
   "name": "python",
   "nbconvert_exporter": "python",
   "pygments_lexer": "ipython2",
   "version": "2.7.6"
  }
 },
 "nbformat": 4,
 "nbformat_minor": 0
}
