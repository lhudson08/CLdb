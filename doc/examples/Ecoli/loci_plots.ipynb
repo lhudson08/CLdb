{
 "cells": [
  {
   "cell_type": "markdown",
   "metadata": {},
   "source": [
    "# Description:\n",
    "\n",
    "* This notebook goes through the plotting of CRISPR loci"
   ]
  },
  {
   "cell_type": "markdown",
   "metadata": {},
   "source": [
    "### Before running this notebook:\n",
    "\n",
    "* __run the [Setup](./Setup.pynb) notebook__"
   ]
  },
  {
   "cell_type": "markdown",
   "metadata": {},
   "source": [
    "# User-defined variables"
   ]
  },
  {
   "cell_type": "code",
   "execution_count": 9,
   "metadata": {
    "collapsed": true
   },
   "outputs": [],
   "source": [
    "# directory where you want the spacer blasting to be done\n",
    "## CHANGE THIS!\n",
    "workDir = \"/home/nyoungb2/t/CLdb_Ecoli/loci_plots/\""
   ]
  },
  {
   "cell_type": "markdown",
   "metadata": {},
   "source": [
    "# Init"
   ]
  },
  {
   "cell_type": "code",
   "execution_count": 10,
   "metadata": {
    "collapsed": false
   },
   "outputs": [],
   "source": [
    "import os\n",
    "from IPython.display import FileLinks"
   ]
  },
  {
   "cell_type": "code",
   "execution_count": 11,
   "metadata": {
    "collapsed": true
   },
   "outputs": [],
   "source": [
    "if not os.path.isdir(workDir):\n",
    "    os.makedirs(workDir)"
   ]
  },
  {
   "cell_type": "code",
   "execution_count": 12,
   "metadata": {
    "collapsed": false
   },
   "outputs": [
    {
     "name": "stdout",
     "output_type": "stream",
     "text": [
      "#-- Config params --#\r\n",
      "DATABASE = /home/nyoungb2/t/CLdb_Ecoli/CLdb.sqlite\r\n"
     ]
    }
   ],
   "source": [
    "# checking that CLdb is in $PATH & ~/.CLdb config file is set up\n",
    "!CLdb --config-params"
   ]
  },
  {
   "cell_type": "markdown",
   "metadata": {},
   "source": [
    "# Plotting loci\n",
    "\n",
    "* As with arrayBlast, `plotLoci` has subcommands of it's own"
   ]
  },
  {
   "cell_type": "code",
   "execution_count": 13,
   "metadata": {
    "collapsed": false
   },
   "outputs": [
    {
     "name": "stdout",
     "output_type": "stream",
     "text": [
      "Usage:\r\n",
      "    plotLoci [options] subcommand -- [subcommand_options]\r\n",
      "\r\n",
      "  Options:\r\n",
      "    --list\r\n",
      "        List all subcommands.\r\n",
      "\r\n",
      "    --perldoc\r\n",
      "        Get perldoc of subcommand.\r\n",
      "\r\n",
      "    -v Verbose output\r\n",
      "    -h This help message\r\n",
      "\r\n",
      "  For more information:\r\n",
      "    CLdb_perldoc plotLoci\r\n",
      "\r\n"
     ]
    }
   ],
   "source": [
    "!CLdb -- plotLoci -h"
   ]
  },
  {
   "cell_type": "code",
   "execution_count": 14,
   "metadata": {
    "collapsed": false
   },
   "outputs": [
    {
     "name": "stdout",
     "output_type": "stream",
     "text": [
      "format_dna_segs_colors\r\n",
      "loci_plot_func\r\n",
      "make_comparison\r\n",
      "make_dna_segs\r\n",
      "make_xlims\r\n",
      "order_by_tree\r\n",
      "prune_tree\r\n",
      "rotate_tree\r\n",
      "run\r\n"
     ]
    }
   ],
   "source": [
    "!CLdb -- plotLoci --list"
   ]
  },
  {
   "cell_type": "markdown",
   "metadata": {},
   "source": [
    "## Basics on how a plot is made\n",
    "\n",
    "* Note: some steps are optional (like mapping loci plots to a tree)\n",
    "\n",
    "1. Make a table of spacer/DR sequence locations & other info.\n",
    "  * A 'dna_segs' table\n",
    "1. [optional] order the table by a tree file\n",
    "1. [optional] add color info to the table\n",
    "1. Make a table of the range limits for each locus.\n",
    "  * ie., the start & stop positions of each plot\n",
    "  * An 'xlims' table\n",
    "1. [optional] order the table by a tree file.\n",
    "1. Make a comparison file to compare sequence similarity among loci.\n",
    "  * A 'compare' table\n",
    "1. Feed all of the tables into an R script for making the figure."
   ]
  },
  {
   "cell_type": "markdown",
   "metadata": {},
   "source": [
    "# Making the plot"
   ]
  },
  {
   "cell_type": "markdown",
   "metadata": {},
   "source": [
    "## dna_segs table"
   ]
  },
  {
   "cell_type": "code",
   "execution_count": 18,
   "metadata": {
    "collapsed": false
   },
   "outputs": [
    {
     "name": "stdout",
     "output_type": "stream",
     "text": [
      "WARNING: no ITEP db provided! All genes will have col value of '1'!\r\n",
      " ERROR: no matching entries for CAS gene query!\r\n",
      "ERROR: subcommand format not recognized\r\n"
     ]
    }
   ],
   "source": [
    "!cd $workDir; \\\n",
    "    CLdb -- plotLoci -- make_dna_segs "
   ]
  }
 ],
 "metadata": {
  "hide_input": true,
  "kernelspec": {
   "display_name": "Python 2",
   "language": "python",
   "name": "python2"
  },
  "language_info": {
   "codemirror_mode": {
    "name": "ipython",
    "version": 2
   },
   "file_extension": ".py",
   "mimetype": "text/x-python",
   "name": "python",
   "nbconvert_exporter": "python",
   "pygments_lexer": "ipython2",
   "version": "2.7.6"
  }
 },
 "nbformat": 4,
 "nbformat_minor": 0
}
