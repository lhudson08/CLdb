{
 "cells": [
  {
   "cell_type": "markdown",
   "metadata": {},
   "source": [
    "# Description:\n",
    "\n",
    "* This notebook goes through the assessment of CRISPR loci presence/absence in the database"
   ]
  },
  {
   "cell_type": "markdown",
   "metadata": {},
   "source": [
    "### Before running this notebook:\n",
    "\n",
    "* __run the [Setup](./Setup.pynb) notebook__"
   ]
  },
  {
   "cell_type": "markdown",
   "metadata": {},
   "source": [
    "# User-defined variables"
   ]
  },
  {
   "cell_type": "code",
   "execution_count": 1,
   "metadata": {
    "collapsed": true
   },
   "outputs": [],
   "source": [
    "# directory where you want the spacer blasting to be done\n",
    "## CHANGE THIS!\n",
    "workDir = \"/home/nyoungb2/t/CLdb_Ecoli/spacer_pres-abs/\""
   ]
  },
  {
   "cell_type": "markdown",
   "metadata": {},
   "source": [
    "# Init"
   ]
  },
  {
   "cell_type": "code",
   "execution_count": 2,
   "metadata": {
    "collapsed": false
   },
   "outputs": [],
   "source": [
    "import os\n",
    "from IPython.display import FileLinks\n",
    "%load_ext rpy2.ipython"
   ]
  },
  {
   "cell_type": "code",
   "execution_count": 3,
   "metadata": {
    "collapsed": true
   },
   "outputs": [],
   "source": [
    "if not os.path.isdir(workDir):\n",
    "    os.makedirs(workDir)"
   ]
  },
  {
   "cell_type": "code",
   "execution_count": 6,
   "metadata": {
    "collapsed": false
   },
   "outputs": [
    {
     "name": "stdout",
     "output_type": "stream",
     "text": [
      "#-- Config params --#\r\n",
      "DATABASE = /home/nyoungb2/t/CLdb_Ecoli/CLdb.sqlite\r\n"
     ]
    }
   ],
   "source": [
    "# checking that CLdb is in $PATH & ~/.CLdb config file is set up\n",
    "!CLdb --config-params"
   ]
  },
  {
   "cell_type": "markdown",
   "metadata": {},
   "source": [
    "# Pres-abs"
   ]
  },
  {
   "cell_type": "markdown",
   "metadata": {},
   "source": [
    "## Spacer pres-abs table\n",
    "\n",
    "* in ITOL format for easy plotting on a tree"
   ]
  },
  {
   "cell_type": "code",
   "execution_count": 5,
   "metadata": {
    "collapsed": false
   },
   "outputs": [
    {
     "name": "stdout",
     "output_type": "stream",
     "text": [
      "Usage:\r\n",
      "    subtypePA_ITOL.pl [flags] > subtype_PA.meta\r\n",
      "\r\n",
      "  Required flags:\r\n",
      "    -database <char>\r\n",
      "        CLdb database.\r\n",
      "\r\n",
      "  Optional flags:\r\n",
      "    -colors <char>\r\n",
      "        For providing user-defined hexidecimal colors (>= 1 argument).\r\n",
      "\r\n",
      "    -abundance <bool>\r\n",
      "        Provide counts of subtypes per taxon instead of binary pres-abs?\r\n",
      "        [FALSE]\r\n",
      "\r\n",
      "    -subtype <char>\r\n",
      "        Refine query to specific a subtype(s) (>1 argument allowed).\r\n",
      "\r\n",
      "    -taxon_id <char>\r\n",
      "        Refine query to specific a taxon_id(s) (>1 argument allowed).\r\n",
      "\r\n",
      "    -taxon_name <char>\r\n",
      "        Refine query to specific a taxon_name(s) (>1 argument allowed).\r\n",
      "\r\n",
      "    -group <bool>\r\n",
      "        Get array elements de-replicated by group (ie. all uniqe sequences).\r\n",
      "        [FALSE]\r\n",
      "\r\n",
      "    -verbose <bool>\r\n",
      "        Verbose output. [FALSE]\r\n",
      "\r\n",
      "    -help <bool>\r\n",
      "        This help message\r\n",
      "\r\n",
      "  For more information:\r\n",
      "    CLdb_perldoc subtypePA_ITOL.pl\r\n",
      "\r\n"
     ]
    }
   ],
   "source": [
    "!cd $workDir; \\\n",
    "    CLdb -- subtypePA_ITOL -h"
   ]
  },
  {
   "cell_type": "code",
   "execution_count": 8,
   "metadata": {
    "collapsed": false
   },
   "outputs": [
    {
     "name": "stdout",
     "output_type": "stream",
     "text": [
      "LABELS\tI-E\r\n",
      "COLORS\t#FF0000\r\n",
      "Escherichia_coli_K-12_W3110\t1\r\n",
      "Escherichia_coli_K-12_DH10B\t1\r\n",
      "Escherichia_coli_BL21_DE3\t1\r\n",
      "Escherichia_coli_O157_H7\t1\r\n",
      "Escherichia_coli_K-12_MG1655\t1\r\n"
     ]
    }
   ],
   "source": [
    "!cd $workDir; \\\n",
    "    CLdb -- subtypePA_ITOL "
   ]
  },
  {
   "cell_type": "markdown",
   "metadata": {},
   "source": [
    "#### Notes\n",
    "\n",
    "Not a very exciting table!\n",
    "\n",
    "We can try including loci abundances..."
   ]
  },
  {
   "cell_type": "code",
   "execution_count": 9,
   "metadata": {
    "collapsed": false
   },
   "outputs": [
    {
     "name": "stdout",
     "output_type": "stream",
     "text": [
      "LABELS\tI-E\r\n",
      "COLORS\t#FF0000\r\n",
      "Escherichia_coli_BL21_DE3\t2\r\n",
      "Escherichia_coli_K-12_MG1655\t2\r\n",
      "Escherichia_coli_O157_H7\t2\r\n",
      "Escherichia_coli_K-12_DH10B\t2\r\n",
      "Escherichia_coli_K-12_W3110\t2\r\n"
     ]
    }
   ],
   "source": [
    "!cd $workDir; \\\n",
    "    CLdb -- subtypePA_ITOL -a"
   ]
  },
  {
   "cell_type": "markdown",
   "metadata": {},
   "source": [
    "#### Notes\n",
    "\n",
    "Again, not a very exciting table! But this was just an exercise in running this script. \n",
    "\n",
    "You could then load this table in ITOL with a tree to plot pres-abs."
   ]
  },
  {
   "cell_type": "code",
   "execution_count": null,
   "metadata": {
    "collapsed": true
   },
   "outputs": [],
   "source": []
  }
 ],
 "metadata": {
  "hide_input": true,
  "kernelspec": {
   "display_name": "Python 2",
   "language": "python",
   "name": "python2"
  },
  "language_info": {
   "codemirror_mode": {
    "name": "ipython",
    "version": 2
   },
   "file_extension": ".py",
   "mimetype": "text/x-python",
   "name": "python",
   "nbconvert_exporter": "python",
   "pygments_lexer": "ipython2",
   "version": "2.7.6"
  }
 },
 "nbformat": 4,
 "nbformat_minor": 0
}
