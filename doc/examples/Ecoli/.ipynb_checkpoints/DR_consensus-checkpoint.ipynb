{
 "cells": [
  {
   "cell_type": "markdown",
   "metadata": {},
   "source": [
    "# Description:\n",
    "\n",
    "* This notebook goes through the creation and assessment of direct repeat (DR) consensus sequences"
   ]
  },
  {
   "cell_type": "markdown",
   "metadata": {},
   "source": [
    "### Before running this notebook:\n",
    "\n",
    "* __run the [Setup](./Setup.pynb) notebook__"
   ]
  },
  {
   "cell_type": "markdown",
   "metadata": {},
   "source": [
    "# User-defined variables"
   ]
  },
  {
   "cell_type": "code",
   "execution_count": 1,
   "metadata": {
    "collapsed": true
   },
   "outputs": [],
   "source": [
    "# directory where you want the spacer blasting to be done\n",
    "## CHANGE THIS!\n",
    "workDir = \"/home/nyoungb2/t/CLdb_Ecoli/DR_consensus/\""
   ]
  },
  {
   "cell_type": "markdown",
   "metadata": {},
   "source": [
    "# Init"
   ]
  },
  {
   "cell_type": "code",
   "execution_count": 2,
   "metadata": {
    "collapsed": false
   },
   "outputs": [],
   "source": [
    "import os\n",
    "from IPython.display import FileLinks\n",
    "%load_ext rpy2.ipython"
   ]
  },
  {
   "cell_type": "code",
   "execution_count": 3,
   "metadata": {
    "collapsed": true
   },
   "outputs": [],
   "source": [
    "if not os.path.isdir(workDir):\n",
    "    os.makedirs(workDir)"
   ]
  },
  {
   "cell_type": "code",
   "execution_count": 4,
   "metadata": {
    "collapsed": false
   },
   "outputs": [
    {
     "name": "stdout",
     "output_type": "stream",
     "text": [
      "#-- Config params --#\r\n",
      "DATABASE = /home/nyoungb2/t/CLdb_Ecoli/CLdb.sqlite\r\n"
     ]
    }
   ],
   "source": [
    "# checking that CLdb is in $PATH & ~/.CLdb config file is set up\n",
    "!CLdb --config-params"
   ]
  },
  {
   "cell_type": "markdown",
   "metadata": {},
   "source": [
    "# Creating DR consensus seqs & loading into CLdb"
   ]
  },
  {
   "cell_type": "code",
   "execution_count": 5,
   "metadata": {
    "collapsed": false
   },
   "outputs": [
    {
     "name": "stdout",
     "output_type": "stream",
     "text": [
      "...Processing locus 'F'\n",
      "...Processing locus 'D'\n",
      "...Processing locus 'B'\n",
      "...Processing locus 'H'\n",
      "...Processing locus 'J'\n",
      "...Processing locus 'A'\n",
      "...Processing locus 'C'\n",
      "...Processing locus 'I'\n",
      "...Processing locus 'E'\n",
      "...Processing locus 'G'\n",
      "...10 entries added/updated in database\n"
     ]
    }
   ],
   "source": [
    "!CLdb -- loadDRConsensus"
   ]
  },
  {
   "cell_type": "markdown",
   "metadata": {},
   "source": [
    "**That's it! Now, the CLdb.sqlite file contains the DR consensus sequences for each CRISPR locus**"
   ]
  },
  {
   "cell_type": "markdown",
   "metadata": {},
   "source": [
    "# Assessing DR consensus seqs"
   ]
  },
  {
   "cell_type": "code",
   "execution_count": 6,
   "metadata": {
    "collapsed": false
   },
   "outputs": [
    {
     "name": "stdout",
     "output_type": "stream",
     "text": [
      "Usage:\r\n",
      "    DRconsensus2fasta.pl [flags] > DR_consensus.fasta\r\n",
      "\r\n",
      "  Required flags:\r\n",
      "    -database <char>\r\n",
      "        CLdb database.\r\n",
      "\r\n",
      "  Optional flags:\r\n",
      "    -IUPAC <bool>\r\n",
      "        Get consensus sequences with IUPAC nucleotide ambiguity codes\r\n",
      "        instead of consensus by threshold? [FALSE]\r\n",
      "\r\n",
      "    -subtype <char>\r\n",
      "        Refine query to specific a subtype(s) (>1 argument allowed).\r\n",
      "\r\n",
      "    -taxon_id <char>\r\n",
      "        Refine query to specific a taxon_id(s) (>1 argument allowed).\r\n",
      "\r\n",
      "    -taxon_name <char>\r\n",
      "        Refine query to specific a taxon_name(s) (>1 argument allowed).\r\n",
      "\r\n",
      "    -verbose <bool>\r\n",
      "        Verbose output. [FALSE]\r\n",
      "\r\n",
      "    -help <bool>\r\n",
      "        This help message\r\n",
      "\r\n",
      "  For more information:\r\n",
      "    CLdb_perldoc DRconsensus2fasta.pl\r\n",
      "\r\n"
     ]
    }
   ],
   "source": [
    "!CLdb -- DRconsensus2fasta -h"
   ]
  },
  {
   "cell_type": "code",
   "execution_count": 9,
   "metadata": {
    "collapsed": false
   },
   "outputs": [
    {
     "name": "stdout",
     "output_type": "stream",
     "text": [
      ">G|I-E\r\n",
      "cggtttatccccgctggcgcggggaacac\r\n",
      ">A|I-E\r\n",
      "cggtttatccccgctggcgcggggaactc\r\n",
      ">E|I-E\r\n",
      "cggtttatccccgctggcgcggggaactc\r\n"
     ]
    }
   ],
   "source": [
    "# writing out the consensus sequences\n",
    "!cd $workDir; \\\n",
    "    CLdb -- DRconsensus2fasta > DR_consensus.fna\n",
    "    \n",
    "# checking output    \n",
    "!cd $workDir; \\\n",
    "    head -n 6 DR_consensus.fna"
   ]
  },
  {
   "cell_type": "markdown",
   "metadata": {},
   "source": [
    "**Sequence naming is 'locus_ID'|'subtype'**"
   ]
  },
  {
   "cell_type": "code",
   "execution_count": null,
   "metadata": {
    "collapsed": true
   },
   "outputs": [],
   "source": []
  }
 ],
 "metadata": {
  "hide_input": true,
  "kernelspec": {
   "display_name": "Python 2",
   "language": "python",
   "name": "python2"
  },
  "language_info": {
   "codemirror_mode": {
    "name": "ipython",
    "version": 2
   },
   "file_extension": ".py",
   "mimetype": "text/x-python",
   "name": "python",
   "nbconvert_exporter": "python",
   "pygments_lexer": "ipython2",
   "version": "2.7.6"
  }
 },
 "nbformat": 4,
 "nbformat_minor": 0
}
