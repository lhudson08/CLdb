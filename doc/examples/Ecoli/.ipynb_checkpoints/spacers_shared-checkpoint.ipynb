{
 "cells": [
  {
   "cell_type": "markdown",
   "metadata": {},
   "source": [
    "# Description:\n",
    "\n",
    "* This notebook goes through the assessment of spacers shared across CRISPR loci"
   ]
  },
  {
   "cell_type": "markdown",
   "metadata": {},
   "source": [
    "### Before running this notebook:\n",
    "\n",
    "* __run the [Setup](./Setup.pynb) notebook__"
   ]
  },
  {
   "cell_type": "markdown",
   "metadata": {},
   "source": [
    "# User-defined variables"
   ]
  },
  {
   "cell_type": "code",
   "execution_count": 1,
   "metadata": {
    "collapsed": true
   },
   "outputs": [],
   "source": [
    "# directory where you want the spacer blasting to be done\n",
    "## CHANGE THIS!\n",
    "workDir = \"/home/nyoungb2/t/CLdb_Ecoli/spacers_shared/\""
   ]
  },
  {
   "cell_type": "markdown",
   "metadata": {},
   "source": [
    "# Init"
   ]
  },
  {
   "cell_type": "code",
   "execution_count": 2,
   "metadata": {
    "collapsed": false
   },
   "outputs": [],
   "source": [
    "import os\n",
    "from IPython.display import FileLinks\n",
    "%load_ext rpy2.ipython"
   ]
  },
  {
   "cell_type": "code",
   "execution_count": 13,
   "metadata": {
    "collapsed": false
   },
   "outputs": [
    {
     "data": {
      "text/plain": [
       "\n",
       "Attaching package: ‘dplyr’\n",
       "\n",
       "The following objects are masked from ‘package:stats’:\n",
       "\n",
       "    filter, lag\n",
       "\n",
       "The following objects are masked from ‘package:base’:\n",
       "\n",
       "    intersect, setdiff, setequal, union\n",
       "\n"
      ]
     },
     "metadata": {},
     "output_type": "display_data"
    }
   ],
   "source": [
    "%%R\n",
    "library(dplyr)\n",
    "library(tidyr)\n",
    "library(ggplot2)"
   ]
  },
  {
   "cell_type": "code",
   "execution_count": 3,
   "metadata": {
    "collapsed": true
   },
   "outputs": [],
   "source": [
    "if not os.path.isdir(workDir):\n",
    "    os.makedirs(workDir)"
   ]
  },
  {
   "cell_type": "code",
   "execution_count": 4,
   "metadata": {
    "collapsed": false
   },
   "outputs": [
    {
     "name": "stdout",
     "output_type": "stream",
     "text": [
      "#-- Config params --#\r\n",
      "DATABASE = /home/nyoungb2/t/CLdb_Ecoli/CLdb.sqlite\r\n"
     ]
    }
   ],
   "source": [
    "# checking that CLdb is in $PATH & ~/.CLdb config file is set up\n",
    "!CLdb --config-params"
   ]
  },
  {
   "cell_type": "markdown",
   "metadata": {},
   "source": [
    "# Spacers-shared table"
   ]
  },
  {
   "cell_type": "code",
   "execution_count": 5,
   "metadata": {
    "collapsed": false
   },
   "outputs": [
    {
     "name": "stdout",
     "output_type": "stream",
     "text": [
      "Usage:\r\n",
      "    spacersShared.pl [flags] > shared.txt\r\n",
      "\r\n",
      "  Required flags:\r\n",
      "    -database <char>\r\n",
      "        CLdb database.\r\n",
      "\r\n",
      "  Optional flags:\r\n",
      "    -subtype <bool>\r\n",
      "        Group count data by subtype? [FALSE]\r\n",
      "\r\n",
      "    -id <bool>\r\n",
      "        Group count data by taxon_id? [FALSE]\r\n",
      "\r\n",
      "    -name <bool>\r\n",
      "        Group count data by taxon_name? [FALSE]\r\n",
      "\r\n",
      "    -locus <bool>\r\n",
      "        Group count data by locus_id? [FALSE]\r\n",
      "\r\n",
      "    -cutoff <float>\r\n",
      "        Which Spacer/DR clustering cutoffs to summarize? [1]\r\n",
      "\r\n",
      "    -long <bool>\r\n",
      "        Write long form of table instead of wide format.\r\n",
      "\r\n",
      "    -sep <char>\r\n",
      "        The separator for delimiting group IDs (e.g., subtype or taxon_name)\r\n",
      "\r\n",
      "    -verbose <bool>\r\n",
      "        Verbose output. [FALSE]\r\n",
      "\r\n",
      "    -help <bool>\r\n",
      "        This help message\r\n",
      "\r\n",
      "  For more information:\r\n",
      "    CLdb_perldoc spacersShared.pl\r\n",
      "\r\n"
     ]
    }
   ],
   "source": [
    "!cd $workDir; \\\n",
    "    CLdb -- spacersShared -h"
   ]
  },
  {
   "cell_type": "markdown",
   "metadata": {},
   "source": [
    "**Lets try the default table**"
   ]
  },
  {
   "cell_type": "code",
   "execution_count": 9,
   "metadata": {
    "collapsed": false
   },
   "outputs": [
    {
     "name": "stdout",
     "output_type": "stream",
     "text": [
      "Spacer_cluster\tTotal\r\n",
      "0\t3\r\n",
      "1\t3\r\n",
      "10\t1\r\n",
      "11\t3\r\n",
      "12\t1\r\n",
      "13\t3\r\n",
      "14\t1\r\n",
      "15\t3\r\n",
      "16\t1\r\n"
     ]
    }
   ],
   "source": [
    "!cd $workDir; \\\n",
    "    CLdb -- spacersShared | head"
   ]
  },
  {
   "cell_type": "markdown",
   "metadata": {},
   "source": [
    "* The first column is the cluster that the spacer sequence belongs to.\n",
    "  * By default ('-cutoff'), the clusters are at 100% sequence identity ('unique' spacer sequences)\n",
    "* The 2nd column shows the number of times that spacer sequence is found in the database\n",
    "\n",
    "**Let's show totals for each taxon**"
   ]
  },
  {
   "cell_type": "code",
   "execution_count": 11,
   "metadata": {
    "collapsed": false
   },
   "outputs": [
    {
     "name": "stdout",
     "output_type": "stream",
     "text": [
      "Spacer_cluster\tEscherichia_coli_BL21_DE3\tEscherichia_coli_K-12_DH10B\tEscherichia_coli_K-12_MG1655\tEscherichia_coli_K-12_W3110\tEscherichia_coli_O157_H7\r\n",
      "0\t0\t1\t1\t1\t0\r\n",
      "1\t0\t1\t1\t1\t0\r\n",
      "10\t1\t0\t0\t0\t0\r\n",
      "11\t0\t1\t1\t1\t0\r\n",
      "12\t1\t0\t0\t0\t0\r\n",
      "13\t0\t1\t1\t1\t0\r\n",
      "14\t1\t0\t0\t0\t0\r\n",
      "15\t0\t1\t1\t1\t0\r\n",
      "16\t0\t0\t0\t0\t1\r\n"
     ]
    }
   ],
   "source": [
    "!cd $workDir; \\\n",
    "    CLdb -- spacersShared -name | head"
   ]
  },
  {
   "cell_type": "markdown",
   "metadata": {},
   "source": [
    "**As you can see, not every genome contains all of the same unique spacer sequences**\n",
    "\n",
    "**Let's plot this**"
   ]
  },
  {
   "cell_type": "code",
   "execution_count": 12,
   "metadata": {
    "collapsed": true
   },
   "outputs": [],
   "source": [
    "!cd $workDir; \\\n",
    "     CLdb -- spacersShared -name -long > shared_byTaxon.txt"
   ]
  },
  {
   "cell_type": "code",
   "execution_count": 16,
   "metadata": {
    "collapsed": false
   },
   "outputs": [
    {
     "data": {
      "text/plain": [
       "  Spacer_cluster                     group_ID count\n",
       "1              0  Escherichia_coli_K-12_DH10B     1\n",
       "2              0 Escherichia_coli_K-12_MG1655     1\n",
       "3              0  Escherichia_coli_K-12_W3110     1\n",
       "4              1  Escherichia_coli_K-12_DH10B     1\n",
       "5              1 Escherichia_coli_K-12_MG1655     1\n",
       "6              1  Escherichia_coli_K-12_W3110     1\n"
      ]
     },
     "metadata": {},
     "output_type": "display_data"
    }
   ],
   "source": [
    "%%R -i workDir\n",
    "\n",
    "infile = file.path(workDir, 'shared_byTaxon.txt')\n",
    "df = read.delim(infile, sep='\\t')\n",
    "df %>% head"
   ]
  },
  {
   "cell_type": "code",
   "execution_count": 21,
   "metadata": {
    "collapsed": false
   },
   "outputs": [
    {
     "data": {
      "image/png": "[encoded data removed]"
     },
     "metadata": {},
     "output_type": "display_data"
    }
   ],
   "source": [
    "%%R\n",
    "# plotting\n",
    "ggplot(df, aes(group_ID, Spacer_cluster, fill=count)) +\n",
    "    geom_tile() +\n",
    "    scale_x_discrete(expand=c(0,0)) +\n",
    "    scale_y_continuous(expand=c(0,0)) +\n",
    "    labs(y='unique spacer sequence') +\n",
    "    theme_bw() +\n",
    "    theme(\n",
    "        text = element_text(size=16),\n",
    "        axis.title.x = element_blank(),\n",
    "        axis.text.x = element_text(angle=60, hjust=1)\n",
    "    )"
   ]
  },
  {
   "cell_type": "markdown",
   "metadata": {},
   "source": [
    "#### Notes\n",
    "\n",
    "* All of the K-12's have the same spacers (not surprising).\n",
    "* While BL21-DE3 & 0157-H7 show some variation."
   ]
  },
  {
   "cell_type": "code",
   "execution_count": null,
   "metadata": {
    "collapsed": true
   },
   "outputs": [],
   "source": []
  }
 ],
 "metadata": {
  "hide_input": true,
  "kernelspec": {
   "display_name": "Python 2",
   "language": "python",
   "name": "python2"
  },
  "language_info": {
   "codemirror_mode": {
    "name": "ipython",
    "version": 2
   },
   "file_extension": ".py",
   "mimetype": "text/x-python",
   "name": "python",
   "nbconvert_exporter": "python",
   "pygments_lexer": "ipython2",
   "version": "2.7.6"
  }
 },
 "nbformat": 4,
 "nbformat_minor": 0
}
