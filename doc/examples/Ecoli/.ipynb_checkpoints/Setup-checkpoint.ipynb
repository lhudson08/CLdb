{
 "cells": [
  {
   "cell_type": "markdown",
   "metadata": {},
   "source": [
    "__This notebook describes the setup of CLdb with a set of E. coli genomes.__\n",
    "\n",
    "**Notes**\n",
    "\n",
    "* It is assumed that you have CLdb in your PATH"
   ]
  },
  {
   "cell_type": "code",
   "execution_count": 149,
   "metadata": {
    "collapsed": false
   },
   "outputs": [],
   "source": [
    "# path to raw files\n",
    "## CHANGE THIS!\n",
    "rawFileDir = \"/home/nyoungb2/perl/projects/CLdb/data/Ecoli/\"\n",
    "# directory where the CLdb database will be created\n",
    "## CHANGE THIS!\n",
    "workDir = \"/home/nyoungb2/t/CLdb_Ecoli/\""
   ]
  },
  {
   "cell_type": "code",
   "execution_count": 150,
   "metadata": {
    "collapsed": false
   },
   "outputs": [],
   "source": [
    "# viewing file links\n",
    "import os\n",
    "import zipfile\n",
    "import csv\n",
    "from IPython.display import FileLinks\n",
    "# pretty viewing of tables\n",
    "## get from: http://epmoyer.github.io/ipy_table/\n",
    "from ipy_table import *"
   ]
  },
  {
   "cell_type": "markdown",
   "metadata": {},
   "source": [
    "__The required files are in '../ecoli_raw/':__\n",
    "\n",
    "* a loci table\n",
    "* array files\n",
    "* genome nucleotide sequences\n",
    " * genbank (preferred) or fasta format\n",
    "\n",
    "__Let's look at the provided files for this example:__"
   ]
  },
  {
   "cell_type": "code",
   "execution_count": 151,
   "metadata": {
    "collapsed": false
   },
   "outputs": [
    {
     "data": {
      "text/html": [
       "/home/nyoungb2/perl/projects/CLdb/data/Ecoli/<br>\n",
       "&nbsp;&nbsp;<a href='/home/nyoungb2/perl/projects/CLdb/data/Ecoli/loci.zip' target='_blank'>loci.zip</a><br>\n",
       "&nbsp;&nbsp;<a href='/home/nyoungb2/perl/projects/CLdb/data/Ecoli/GIs.txt.zip' target='_blank'>GIs.txt.zip</a><br>\n",
       "&nbsp;&nbsp;<a href='/home/nyoungb2/perl/projects/CLdb/data/Ecoli/array.zip' target='_blank'>array.zip</a><br>"
      ],
      "text/plain": [
       "/home/nyoungb2/perl/projects/CLdb/data/Ecoli/\n",
       "  loci.zip\n",
       "  GIs.txt.zip\n",
       "  array.zip"
      ]
     },
     "execution_count": 151,
     "metadata": {},
     "output_type": "execute_result"
    }
   ],
   "source": [
    "FileLinks(rawFileDir)"
   ]
  },
  {
   "cell_type": "markdown",
   "metadata": {},
   "source": [
    "# Checking that CLdb is installed in PATH"
   ]
  },
  {
   "cell_type": "code",
   "execution_count": 152,
   "metadata": {
    "collapsed": false
   },
   "outputs": [
    {
     "name": "stdout",
     "output_type": "stream",
     "text": [
      "Usage:\r\n",
      "    CLdb [options] -- subcommand [subcommand_options]\r\n",
      "\r\n",
      "  Options:\r\n",
      "    --list\r\n",
      "        List all subcommands.\r\n",
      "\r\n",
      "    --perldoc\r\n",
      "        Get perldoc of subcommand.\r\n",
      "\r\n",
      "    --sql\r\n",
      "        SQL passed to subcommand for limiting queries. (eg., --sql\r\n",
      "        'loci.subtype == \"I-B\" or loci.subtype == \"I-C\"'). NOTE: The sql\r\n",
      "        statement must go in SINGLE quotes!\r\n",
      "\r\n",
      "    --config\r\n",
      "        Config file (if not ~/.CLdb)\r\n",
      "\r\n",
      "    --config-params\r\n",
      "        List params set by config\r\n",
      "\r\n",
      "    -v Verbose output\r\n",
      "    -h This help message\r\n",
      "\r\n",
      "  For more information:\r\n",
      "    perldoc CLdb\r\n",
      "\r\n"
     ]
    }
   ],
   "source": [
    "!CLdb -h"
   ]
  },
  {
   "cell_type": "markdown",
   "metadata": {},
   "source": [
    "# Setting up the CLdb directory"
   ]
  },
  {
   "cell_type": "code",
   "execution_count": 153,
   "metadata": {
    "collapsed": true
   },
   "outputs": [],
   "source": [
    "# this makes the working directory\n",
    "if not os.path.isdir(workDir):\n",
    "    os.makedirs(workDir)"
   ]
  },
  {
   "cell_type": "code",
   "execution_count": null,
   "metadata": {
    "collapsed": false
   },
   "outputs": [
    {
     "name": "stdout",
     "output_type": "stream",
     "text": [
      "unzipped raw files:\n"
     ]
    },
    {
     "data": {
      "text/html": [
       "/home/nyoungb2/t/CLdb_Ecoli/<br>\n",
       "&nbsp;&nbsp;<a href='/home/nyoungb2/t/CLdb_Ecoli/GIs.txt' target='_blank'>GIs.txt</a><br>\n",
       "/home/nyoungb2/t/CLdb_Ecoli/array/<br>\n",
       "&nbsp;&nbsp;<a href='/home/nyoungb2/t/CLdb_Ecoli/array/Ecoli_K12_DH10B_a2.txt' target='_blank'>Ecoli_K12_DH10B_a2.txt</a><br>\n",
       "&nbsp;&nbsp;<a href='/home/nyoungb2/t/CLdb_Ecoli/array/Ecoli_K12_W3110_a1.txt' target='_blank'>Ecoli_K12_W3110_a1.txt</a><br>\n",
       "&nbsp;&nbsp;<a href='/home/nyoungb2/t/CLdb_Ecoli/array/Ecoli_K12_MG1655_a1.txt' target='_blank'>Ecoli_K12_MG1655_a1.txt</a><br>\n",
       "&nbsp;&nbsp;<a href='/home/nyoungb2/t/CLdb_Ecoli/array/Ecoli_BL21_DE3_a2.txt' target='_blank'>Ecoli_BL21_DE3_a2.txt</a><br>\n",
       "&nbsp;&nbsp;<a href='/home/nyoungb2/t/CLdb_Ecoli/array/Ecoli_K12_MG1655_a2.txt' target='_blank'>Ecoli_K12_MG1655_a2.txt</a><br>\n",
       "&nbsp;&nbsp;<a href='/home/nyoungb2/t/CLdb_Ecoli/array/Ecoli_BL21_DE3_a1.txt' target='_blank'>Ecoli_BL21_DE3_a1.txt</a><br>\n",
       "&nbsp;&nbsp;<a href='/home/nyoungb2/t/CLdb_Ecoli/array/Ecoli_K12_W3110_a2.txt' target='_blank'>Ecoli_K12_W3110_a2.txt</a><br>\n",
       "&nbsp;&nbsp;<a href='/home/nyoungb2/t/CLdb_Ecoli/array/Ecoli_K12_DH10B_a1.txt' target='_blank'>Ecoli_K12_DH10B_a1.txt</a><br>\n",
       "&nbsp;&nbsp;<a href='/home/nyoungb2/t/CLdb_Ecoli/array/Ecoli_0157_H7_a1.txt' target='_blank'>Ecoli_0157_H7_a1.txt</a><br>\n",
       "&nbsp;&nbsp;<a href='/home/nyoungb2/t/CLdb_Ecoli/array/Ecoli_0157_H7_a2.txt' target='_blank'>Ecoli_0157_H7_a2.txt</a><br>\n",
       "/home/nyoungb2/t/CLdb_Ecoli/loci/<br>\n",
       "&nbsp;&nbsp;<a href='/home/nyoungb2/t/CLdb_Ecoli/loci/loci.txt' target='_blank'>loci.txt</a><br>"
      ],
      "text/plain": [
       "/home/nyoungb2/t/CLdb_Ecoli/\n",
       "  GIs.txt\n",
       "/home/nyoungb2/t/CLdb_Ecoli/array/\n",
       "  Ecoli_K12_DH10B_a2.txt\n",
       "  Ecoli_K12_W3110_a1.txt\n",
       "  Ecoli_K12_MG1655_a1.txt\n",
       "  Ecoli_BL21_DE3_a2.txt\n",
       "  Ecoli_K12_MG1655_a2.txt\n",
       "  Ecoli_BL21_DE3_a1.txt\n",
       "  Ecoli_K12_W3110_a2.txt\n",
       "  Ecoli_K12_DH10B_a1.txt\n",
       "  Ecoli_0157_H7_a1.txt\n",
       "  Ecoli_0157_H7_a2.txt\n",
       "/home/nyoungb2/t/CLdb_Ecoli/loci/\n",
       "  loci.txt"
      ]
     },
     "execution_count": 154,
     "metadata": {},
     "output_type": "execute_result"
    }
   ],
   "source": [
    "# unarchiving files in the raw folder over to the newly made working folder\n",
    "files = ['array.zip','loci.zip', 'GIs.txt.zip']\n",
    "files = [os.path.join(rawFileDir, x) for x in files]\n",
    "for f in files:\n",
    "    if not os.path.isfile(f):\n",
    "        raise IOError, 'Cannot find file: {}'.format(f)\n",
    "    else:\n",
    "        zip = zipfile.ZipFile(f)\n",
    "        zip.extractall(path=workDir)         \n",
    "\n",
    "print 'unzipped raw files:'        \n",
    "FileLinks(workDir)      "
   ]
  },
  {
   "cell_type": "markdown",
   "metadata": {},
   "source": [
    "## Downloading the genome genbank files. Using the 'GIs.txt' file\n",
    "\n",
    "* GIs.txt is just a list of GIs and taxon names."
   ]
  },
  {
   "cell_type": "code",
   "execution_count": null,
   "metadata": {
    "collapsed": false
   },
   "outputs": [
    {
     "name": "stdout",
     "output_type": "stream",
     "text": [
      "Writing files to '/home/nyoungb2/t/CLdb_Ecoli/genbank'\n",
      "Attempting to stream: Escherichia_coli_K-12_W3110 (accession/GI = 388476123)\n",
      "Attempting to stream: Escherichia_coli_BL21_DE3 (accession/GI = 387825439)\n",
      "Attempting to stream: Escherichia_coli_K-12_DH10B (accession/GI = 170079663)\n",
      "Attempting to stream: Escherichia_coli_O157_H7 (accession/GI = 16445223)\n",
      "Attempting to stream: Escherichia_coli_K-12_MG1655 (accession/GI = 49175990)\n"
     ]
    }
   ],
   "source": [
    "# making genbank directory\n",
    "genbankDir = os.path.join(workDir, 'genbank')\n",
    "if not os.path.isdir(genbankDir):\n",
    "    os.makedirs(genbankDir)    \n",
    "\n",
    "# downloading genomes\n",
    "!cd $genbankDir; \\\n",
    "    CLdb -- accession-GI2fastaGenome -format genbank -fork 5 < ../GIs.txt\n",
    "    \n",
    "# checking files\n",
    "!cd $genbankDir; \\\n",
    "    ls -thlc *.gbk"
   ]
  },
  {
   "cell_type": "markdown",
   "metadata": {},
   "source": [
    "# Creating/loading CLdb of E. coli CRISPR data"
   ]
  },
  {
   "cell_type": "code",
   "execution_count": null,
   "metadata": {
    "collapsed": false
   },
   "outputs": [],
   "source": [
    "!CLdb -- makeDB -h"
   ]
  },
  {
   "cell_type": "markdown",
   "metadata": {},
   "source": [
    "## Making CLdb sqlite file"
   ]
  },
  {
   "cell_type": "code",
   "execution_count": null,
   "metadata": {
    "collapsed": false
   },
   "outputs": [],
   "source": [
    "!cd $workDir; \\\n",
    "    CLdb -- makeDB -r -drop\n",
    "    \n",
    "CLdbFile = os.path.join(workDir, 'CLdb.sqlite')\n",
    "print 'CLdb file location: {}'.format(CLdbFile)"
   ]
  },
  {
   "cell_type": "markdown",
   "metadata": {},
   "source": [
    "## Setting up CLdb config\n",
    "\n",
    "* This way, the CLdb script will know where the CLdb database is located.\n",
    "  * Otherwise, you would have to keep telling the CLdb script where the database is."
   ]
  },
  {
   "cell_type": "code",
   "execution_count": null,
   "metadata": {
    "collapsed": false
   },
   "outputs": [],
   "source": [
    "s = 'DATABASE = ' + CLdbFile\n",
    "configFile = os.path.join(os.path.expanduser('~'), '.CLdb')\n",
    "\n",
    "with open(configFile, 'wb') as outFH:\n",
    "    outFH.write(s)\n",
    "    \n",
    "print 'Config file written: {}'.format(configFile)"
   ]
  },
  {
   "cell_type": "markdown",
   "metadata": {},
   "source": [
    "## Loading loci\n",
    "\n",
    "* The next step is loading the loci table.\n",
    " * This table contains the user-provided info on each CRISPR-CAS system in the genomes.\n",
    " * Let's look at the table before loading it in CLdb"
   ]
  },
  {
   "cell_type": "markdown",
   "metadata": {},
   "source": [
    "### Checking out the CRISPR loci table"
   ]
  },
  {
   "cell_type": "code",
   "execution_count": null,
   "metadata": {
    "collapsed": false
   },
   "outputs": [],
   "source": [
    "lociFile = os.path.join(workDir, 'loci', 'loci.txt')\n",
    "\n",
    "# reading in file\n",
    "tbl = []\n",
    "with open(lociFile, 'rb') as f:\n",
    "    reader = csv.reader(f, delimiter='\\t')\n",
    "    for row in reader:\n",
    "        tbl.append(row)\n",
    "\n",
    "# making table\n",
    "make_table(tbl)\n",
    "apply_theme('basic')"
   ]
  },
  {
   "cell_type": "markdown",
   "metadata": {},
   "source": [
    "__Notes on the loci table:__\n",
    "* As you can see, not all of the fields have values. Some are not required (e.g., 'fasta_file').\n",
    "* You will get an error if you try to load a table with missing values in required fields.\n",
    "* For a list of required columns, see the documentation for `CLdb -- loadLoci -h`."
   ]
  },
  {
   "cell_type": "markdown",
   "metadata": {},
   "source": [
    "### Loading loci info into database"
   ]
  },
  {
   "cell_type": "code",
   "execution_count": null,
   "metadata": {
    "collapsed": false
   },
   "outputs": [],
   "source": [
    "!CLdb -- loadLoci -h"
   ]
  },
  {
   "cell_type": "code",
   "execution_count": null,
   "metadata": {
    "collapsed": false,
    "scrolled": true
   },
   "outputs": [],
   "source": [
    "!CLdb -- loadLoci < $lociFile"
   ]
  },
  {
   "cell_type": "markdown",
   "metadata": {},
   "source": [
    "**Notes on loading**\n",
    "\n",
    "* A lot is going on here:\n",
    "  1. Various checks on the input files\n",
    "  2. Extracting the genome fasta sequence from each genbank file \n",
    "    * the genome fasta is required\n",
    "  3. Loading of the loci information into the sqlite database\n",
    "  \n",
    "**Notes on the command**\n",
    "\n",
    "* Why didn't I use the 'required' `-database` flag for `CLdb -- loadLoci`???\n",
    "  * I didn't have to use the `-database` flag because it is provided via the .CLdb config file that was previously created."
   ]
  },
  {
   "cell_type": "code",
   "execution_count": null,
   "metadata": {
    "collapsed": false
   },
   "outputs": [],
   "source": [
    "# This is just a quick summary of the database \n",
    "## It should show 10 loci for the 'loci' rows\n",
    "!CLdb -- summary"
   ]
  },
  {
   "cell_type": "markdown",
   "metadata": {},
   "source": [
    "## Loading CRISPR arrays\n",
    "\n",
    "* The next step is to load the CRISPR array tables.\n",
    "* These are tables in 'CRISPRFinder format' that have CRISPR array info.\n",
    "  * Let's take a look at one of the array files before loading them all."
   ]
  },
  {
   "cell_type": "code",
   "execution_count": null,
   "metadata": {
    "collapsed": false
   },
   "outputs": [],
   "source": [
    "# an example array file (obtained from CRISPRFinder)\n",
    "arrayFile = os.path.join(workDir, 'array', 'Ecoli_0157_H7_a1.txt')\n",
    "!head $arrayFile"
   ]
  },
  {
   "cell_type": "markdown",
   "metadata": {},
   "source": [
    "__Note: the array file consists of 4 columns:__\n",
    "\n",
    "1. spacer start\n",
    "1. spacer sequence\n",
    "1. direct-repeat sequence\n",
    "1. direct-repeat stop\n",
    "\n",
    "All extra columns ignored!"
   ]
  },
  {
   "cell_type": "code",
   "execution_count": null,
   "metadata": {
    "collapsed": false
   },
   "outputs": [],
   "source": [
    "# loading CRISPR array info\n",
    "!CLdb -- loadArrays "
   ]
  },
  {
   "cell_type": "code",
   "execution_count": null,
   "metadata": {
    "collapsed": false
   },
   "outputs": [],
   "source": [
    "# This is just a quick summary of the database \n",
    "## It should show 75 spacer & 85 DR entries in the database\n",
    "!CLdb -- summary"
   ]
  },
  {
   "cell_type": "markdown",
   "metadata": {},
   "source": [
    "## Loading CAS genes\n",
    "\n",
    "* Technically, all coding seuqences in the region specified in the loci table (CAS_start, CAS_end) will be loaded.\n",
    "* This requires 2 subcommands:\n",
    "  1. The 1st gets the gene info\n",
    "  2. The 2nd loads the info into CLdb"
   ]
  },
  {
   "cell_type": "code",
   "execution_count": null,
   "metadata": {
    "collapsed": false
   },
   "outputs": [],
   "source": [
    "!CLdb -- getGenesInLoci | CLdb -- loadGenes"
   ]
  },
  {
   "cell_type": "markdown",
   "metadata": {},
   "source": [
    "## Setting array sense strand\n",
    "\n",
    "* __The strand that is transcribed needs to be defined in order to have the correct sequence for downstream analyses (e.g., blasting spacers and getting PAM regions)__\n",
    "* __The sense (reading) strand is defined by (order of precedence):__\n",
    " * The leader region (if defined; in this case, no).\n",
    " * Array_start,Array_end in the loci table\n",
    "   * The genome negative strand will be used if array_start > array_end"
   ]
  },
  {
   "cell_type": "code",
   "execution_count": null,
   "metadata": {
    "collapsed": false
   },
   "outputs": [],
   "source": [
    "!CLdb -- setSenseStrand "
   ]
  },
  {
   "cell_type": "markdown",
   "metadata": {},
   "source": [
    "## Spacer and DR clustering\n",
    "\n",
    "* __Clustering of spacer and/or DR sequences accomplishes:__\n",
    " * A method of comparing within and between CRISPRs\n",
    " * A reducing redundancy for spacer and DR blasting"
   ]
  },
  {
   "cell_type": "code",
   "execution_count": null,
   "metadata": {
    "collapsed": false
   },
   "outputs": [],
   "source": [
    "!CLdb -- clusterArrayElements -s -r"
   ]
  },
  {
   "cell_type": "markdown",
   "metadata": {},
   "source": [
    "# Database summary"
   ]
  },
  {
   "cell_type": "code",
   "execution_count": null,
   "metadata": {
    "collapsed": false
   },
   "outputs": [],
   "source": [
    "!CLdb -- summary -name -subtype "
   ]
  },
  {
   "cell_type": "markdown",
   "metadata": {},
   "source": [
    "# Next Steps\n",
    "\n",
    "* [arrayBlast](./arrayBlast.ipynb)\n",
    "  * Blast spacers (& DRs), get protospacers, PAM regions, mismatches to the protospacer & SEED sequence"
   ]
  },
  {
   "cell_type": "code",
   "execution_count": null,
   "metadata": {
    "collapsed": false
   },
   "outputs": [],
   "source": []
  }
 ],
 "metadata": {
  "hide_input": true,
  "kernelspec": {
   "display_name": "Python 2",
   "language": "python",
   "name": "python2"
  },
  "language_info": {
   "codemirror_mode": {
    "name": "ipython",
    "version": 2
   },
   "file_extension": ".py",
   "mimetype": "text/x-python",
   "name": "python",
   "nbconvert_exporter": "python",
   "pygments_lexer": "ipython2",
   "version": "2.7.6"
  }
 },
 "nbformat": 4,
 "nbformat_minor": 0
}
