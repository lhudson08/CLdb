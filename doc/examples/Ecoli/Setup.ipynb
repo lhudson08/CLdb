{
 "cells": [
  {
   "cell_type": "markdown",
   "metadata": {},
   "source": [
    "__This notebook describes the setup of CLdb with a set of E. coli genomes.__\n",
    "\n",
    "**Notes**\n",
    "\n",
    "* It is assumed that you have CLdb in your PATH"
   ]
  },
  {
   "cell_type": "code",
   "execution_count": 287,
   "metadata": {
    "collapsed": false
   },
   "outputs": [],
   "source": [
    "# path to raw files\n",
    "## CHANGE THIS!\n",
    "rawFileDir = \"~/perl/projects/CLdb/data/Ecoli/\"\n",
    "# directory where the CLdb database will be created\n",
    "## CHANGE THIS!\n",
    "workDir = \"~/t/CLdb_Ecoli/\""
   ]
  },
  {
   "cell_type": "code",
   "execution_count": 288,
   "metadata": {
    "collapsed": false
   },
   "outputs": [],
   "source": [
    "# viewing file links\n",
    "import os\n",
    "import zipfile\n",
    "import csv\n",
    "from IPython.display import FileLinks\n",
    "# pretty viewing of tables\n",
    "## get from: http://epmoyer.github.io/ipy_table/\n",
    "from ipy_table import *"
   ]
  },
  {
   "cell_type": "code",
   "execution_count": 290,
   "metadata": {
    "collapsed": false
   },
   "outputs": [],
   "source": [
    "rawFileDir = os.path.expanduser(rawFileDir)\n",
    "workDir = os.path.expanduser(workDir)"
   ]
  },
  {
   "cell_type": "markdown",
   "metadata": {},
   "source": [
    "__The required files are in '../ecoli_raw/':__\n",
    "\n",
    "* a loci table\n",
    "* array files\n",
    "* genome nucleotide sequences\n",
    " * genbank (preferred) or fasta format\n",
    "\n",
    "__Let's look at the provided files for this example:__"
   ]
  },
  {
   "cell_type": "code",
   "execution_count": 151,
   "metadata": {
    "collapsed": false
   },
   "outputs": [
    {
     "data": {
      "text/html": [
       "/home/nyoungb2/perl/projects/CLdb/data/Ecoli/<br>\n",
       "&nbsp;&nbsp;<a href='/home/nyoungb2/perl/projects/CLdb/data/Ecoli/loci.zip' target='_blank'>loci.zip</a><br>\n",
       "&nbsp;&nbsp;<a href='/home/nyoungb2/perl/projects/CLdb/data/Ecoli/GIs.txt.zip' target='_blank'>GIs.txt.zip</a><br>\n",
       "&nbsp;&nbsp;<a href='/home/nyoungb2/perl/projects/CLdb/data/Ecoli/array.zip' target='_blank'>array.zip</a><br>"
      ],
      "text/plain": [
       "/home/nyoungb2/perl/projects/CLdb/data/Ecoli/\n",
       "  loci.zip\n",
       "  GIs.txt.zip\n",
       "  array.zip"
      ]
     },
     "execution_count": 151,
     "metadata": {},
     "output_type": "execute_result"
    }
   ],
   "source": [
    "FileLinks(rawFileDir)"
   ]
  },
  {
   "cell_type": "markdown",
   "metadata": {},
   "source": [
    "# Checking that CLdb is installed in PATH"
   ]
  },
  {
   "cell_type": "code",
   "execution_count": 152,
   "metadata": {
    "collapsed": false
   },
   "outputs": [
    {
     "name": "stdout",
     "output_type": "stream",
     "text": [
      "Usage:\r\n",
      "    CLdb [options] -- subcommand [subcommand_options]\r\n",
      "\r\n",
      "  Options:\r\n",
      "    --list\r\n",
      "        List all subcommands.\r\n",
      "\r\n",
      "    --perldoc\r\n",
      "        Get perldoc of subcommand.\r\n",
      "\r\n",
      "    --sql\r\n",
      "        SQL passed to subcommand for limiting queries. (eg., --sql\r\n",
      "        'loci.subtype == \"I-B\" or loci.subtype == \"I-C\"'). NOTE: The sql\r\n",
      "        statement must go in SINGLE quotes!\r\n",
      "\r\n",
      "    --config\r\n",
      "        Config file (if not ~/.CLdb)\r\n",
      "\r\n",
      "    --config-params\r\n",
      "        List params set by config\r\n",
      "\r\n",
      "    -v Verbose output\r\n",
      "    -h This help message\r\n",
      "\r\n",
      "  For more information:\r\n",
      "    perldoc CLdb\r\n",
      "\r\n"
     ]
    }
   ],
   "source": [
    "!CLdb -h"
   ]
  },
  {
   "cell_type": "markdown",
   "metadata": {},
   "source": [
    "# Setting up the CLdb directory"
   ]
  },
  {
   "cell_type": "code",
   "execution_count": 153,
   "metadata": {
    "collapsed": true
   },
   "outputs": [],
   "source": [
    "# this makes the working directory\n",
    "if not os.path.isdir(workDir):\n",
    "    os.makedirs(workDir)"
   ]
  },
  {
   "cell_type": "code",
   "execution_count": 154,
   "metadata": {
    "collapsed": false
   },
   "outputs": [
    {
     "name": "stdout",
     "output_type": "stream",
     "text": [
      "unzipped raw files:\n"
     ]
    },
    {
     "data": {
      "text/html": [
       "/home/nyoungb2/t/CLdb_Ecoli/<br>\n",
       "&nbsp;&nbsp;<a href='/home/nyoungb2/t/CLdb_Ecoli/GIs.txt' target='_blank'>GIs.txt</a><br>\n",
       "/home/nyoungb2/t/CLdb_Ecoli/array/<br>\n",
       "&nbsp;&nbsp;<a href='/home/nyoungb2/t/CLdb_Ecoli/array/Ecoli_K12_DH10B_a2.txt' target='_blank'>Ecoli_K12_DH10B_a2.txt</a><br>\n",
       "&nbsp;&nbsp;<a href='/home/nyoungb2/t/CLdb_Ecoli/array/Ecoli_K12_W3110_a1.txt' target='_blank'>Ecoli_K12_W3110_a1.txt</a><br>\n",
       "&nbsp;&nbsp;<a href='/home/nyoungb2/t/CLdb_Ecoli/array/Ecoli_K12_MG1655_a1.txt' target='_blank'>Ecoli_K12_MG1655_a1.txt</a><br>\n",
       "&nbsp;&nbsp;<a href='/home/nyoungb2/t/CLdb_Ecoli/array/Ecoli_BL21_DE3_a2.txt' target='_blank'>Ecoli_BL21_DE3_a2.txt</a><br>\n",
       "&nbsp;&nbsp;<a href='/home/nyoungb2/t/CLdb_Ecoli/array/Ecoli_K12_MG1655_a2.txt' target='_blank'>Ecoli_K12_MG1655_a2.txt</a><br>\n",
       "&nbsp;&nbsp;<a href='/home/nyoungb2/t/CLdb_Ecoli/array/Ecoli_BL21_DE3_a1.txt' target='_blank'>Ecoli_BL21_DE3_a1.txt</a><br>\n",
       "&nbsp;&nbsp;<a href='/home/nyoungb2/t/CLdb_Ecoli/array/Ecoli_K12_W3110_a2.txt' target='_blank'>Ecoli_K12_W3110_a2.txt</a><br>\n",
       "&nbsp;&nbsp;<a href='/home/nyoungb2/t/CLdb_Ecoli/array/Ecoli_K12_DH10B_a1.txt' target='_blank'>Ecoli_K12_DH10B_a1.txt</a><br>\n",
       "&nbsp;&nbsp;<a href='/home/nyoungb2/t/CLdb_Ecoli/array/Ecoli_0157_H7_a1.txt' target='_blank'>Ecoli_0157_H7_a1.txt</a><br>\n",
       "&nbsp;&nbsp;<a href='/home/nyoungb2/t/CLdb_Ecoli/array/Ecoli_0157_H7_a2.txt' target='_blank'>Ecoli_0157_H7_a2.txt</a><br>\n",
       "/home/nyoungb2/t/CLdb_Ecoli/loci/<br>\n",
       "&nbsp;&nbsp;<a href='/home/nyoungb2/t/CLdb_Ecoli/loci/loci.txt' target='_blank'>loci.txt</a><br>"
      ],
      "text/plain": [
       "/home/nyoungb2/t/CLdb_Ecoli/\n",
       "  GIs.txt\n",
       "/home/nyoungb2/t/CLdb_Ecoli/array/\n",
       "  Ecoli_K12_DH10B_a2.txt\n",
       "  Ecoli_K12_W3110_a1.txt\n",
       "  Ecoli_K12_MG1655_a1.txt\n",
       "  Ecoli_BL21_DE3_a2.txt\n",
       "  Ecoli_K12_MG1655_a2.txt\n",
       "  Ecoli_BL21_DE3_a1.txt\n",
       "  Ecoli_K12_W3110_a2.txt\n",
       "  Ecoli_K12_DH10B_a1.txt\n",
       "  Ecoli_0157_H7_a1.txt\n",
       "  Ecoli_0157_H7_a2.txt\n",
       "/home/nyoungb2/t/CLdb_Ecoli/loci/\n",
       "  loci.txt"
      ]
     },
     "execution_count": 154,
     "metadata": {},
     "output_type": "execute_result"
    }
   ],
   "source": [
    "# unarchiving files in the raw folder over to the newly made working folder\n",
    "files = ['array.zip','loci.zip', 'GIs.txt.zip']\n",
    "files = [os.path.join(rawFileDir, x) for x in files]\n",
    "for f in files:\n",
    "    if not os.path.isfile(f):\n",
    "        raise IOError, 'Cannot find file: {}'.format(f)\n",
    "    else:\n",
    "        zip = zipfile.ZipFile(f)\n",
    "        zip.extractall(path=workDir)         \n",
    "\n",
    "print 'unzipped raw files:'        \n",
    "FileLinks(workDir)      "
   ]
  },
  {
   "cell_type": "markdown",
   "metadata": {},
   "source": [
    "## Downloading the genome genbank files. Using the 'GIs.txt' file\n",
    "\n",
    "* GIs.txt is just a list of GIs and taxon names."
   ]
  },
  {
   "cell_type": "code",
   "execution_count": 155,
   "metadata": {
    "collapsed": false
   },
   "outputs": [
    {
     "name": "stdout",
     "output_type": "stream",
     "text": [
      "Writing files to '/home/nyoungb2/t/CLdb_Ecoli/genbank'\n",
      "Attempting to stream: Escherichia_coli_K-12_W3110 (accession/GI = 388476123)\n",
      "Attempting to stream: Escherichia_coli_BL21_DE3 (accession/GI = 387825439)\n",
      "Attempting to stream: Escherichia_coli_K-12_DH10B (accession/GI = 170079663)\n",
      "Attempting to stream: Escherichia_coli_O157_H7 (accession/GI = 16445223)\n",
      "Attempting to stream: Escherichia_coli_K-12_MG1655 (accession/GI = 49175990)\n",
      "-rw-rw-r-- 1 nyoungb2 nyoungb2 14M Dec 29 14:47 Escherichia_coli_O157_H7.gbk\n",
      "-rw-rw-r-- 1 nyoungb2 nyoungb2 12M Dec 29 14:47 Escherichia_coli_K-12_W3110.gbk\n",
      "-rw-rw-r-- 1 nyoungb2 nyoungb2 11M Dec 29 14:47 Escherichia_coli_BL21_DE3.gbk\n",
      "-rw-rw-r-- 1 nyoungb2 nyoungb2 12M Dec 29 14:47 Escherichia_coli_K-12_DH10B.gbk\n",
      "-rw-rw-r-- 1 nyoungb2 nyoungb2 13M Dec 29 14:46 Escherichia_coli_K-12_MG1655.gbk\n"
     ]
    }
   ],
   "source": [
    "# making genbank directory\n",
    "genbankDir = os.path.join(workDir, 'genbank')\n",
    "if not os.path.isdir(genbankDir):\n",
    "    os.makedirs(genbankDir)    \n",
    "\n",
    "# downloading genomes\n",
    "!cd $genbankDir; \\\n",
    "    CLdb -- accession-GI2fastaGenome -format genbank -fork 5 < ../GIs.txt\n",
    "    \n",
    "# checking files\n",
    "!cd $genbankDir; \\\n",
    "    ls -thlc *.gbk"
   ]
  },
  {
   "cell_type": "markdown",
   "metadata": {},
   "source": [
    "# Creating/loading CLdb of E. coli CRISPR data"
   ]
  },
  {
   "cell_type": "code",
   "execution_count": 271,
   "metadata": {
    "collapsed": false
   },
   "outputs": [
    {
     "name": "stdout",
     "output_type": "stream",
     "text": [
      "Usage:\n",
      "    makeDB.pl [options] [DATABASE_name]\n",
      "\n",
      "  options:\n",
      "    -replace <bool>\n",
      "        Replace existing database.\n",
      "\n",
      "    -table <char>\n",
      "        Table(s) to keep as is (if they exist). [\"leaders\" \"genes\"]\n",
      "\n",
      "    -drop <bool>\n",
      "        Drop all tables. [FALSE]\n",
      "\n",
      "    -help <bool>\n",
      "        This help message\n",
      "\n",
      "  For more information:\n",
      "    CLdb --perldoc -- makeDB\n",
      "\n"
     ]
    }
   ],
   "source": [
    "!CLdb -- makeDB -h"
   ]
  },
  {
   "cell_type": "markdown",
   "metadata": {},
   "source": [
    "## Making CLdb sqlite file"
   ]
  },
  {
   "cell_type": "code",
   "execution_count": 272,
   "metadata": {
    "collapsed": false
   },
   "outputs": [
    {
     "name": "stdout",
     "output_type": "stream",
     "text": [
      "...sqlite3 database tables created\n",
      "CLdb file location: /home/nyoungb2/t/CLdb_Ecoli/CLdb.sqlite\n"
     ]
    }
   ],
   "source": [
    "!cd $workDir; \\\n",
    "    CLdb -- makeDB -r -drop\n",
    "    \n",
    "CLdbFile = os.path.join(workDir, 'CLdb.sqlite')\n",
    "print 'CLdb file location: {}'.format(CLdbFile)"
   ]
  },
  {
   "cell_type": "markdown",
   "metadata": {},
   "source": [
    "## Setting up CLdb config\n",
    "\n",
    "* This way, the CLdb script will know where the CLdb database is located.\n",
    "  * Otherwise, you would have to keep telling the CLdb script where the database is."
   ]
  },
  {
   "cell_type": "code",
   "execution_count": 273,
   "metadata": {
    "collapsed": false
   },
   "outputs": [
    {
     "name": "stdout",
     "output_type": "stream",
     "text": [
      "Config file written: /home/nyoungb2/.CLdb\n"
     ]
    }
   ],
   "source": [
    "s = 'DATABASE = ' + CLdbFile\n",
    "configFile = os.path.join(os.path.expanduser('~'), '.CLdb')\n",
    "\n",
    "with open(configFile, 'wb') as outFH:\n",
    "    outFH.write(s)\n",
    "    \n",
    "print 'Config file written: {}'.format(configFile)"
   ]
  },
  {
   "cell_type": "markdown",
   "metadata": {},
   "source": [
    "## Loading loci\n",
    "\n",
    "* The next step is loading the loci table.\n",
    " * This table contains the user-provided info on each CRISPR-CAS system in the genomes.\n",
    " * Let's look at the table before loading it in CLdb"
   ]
  },
  {
   "cell_type": "markdown",
   "metadata": {},
   "source": [
    "### Checking out the CRISPR loci table"
   ]
  },
  {
   "cell_type": "code",
   "execution_count": 274,
   "metadata": {
    "collapsed": false
   },
   "outputs": [
    {
     "data": {
      "text/html": [
       "<table border=\"1\" cellpadding=\"3\" cellspacing=\"0\"  style=\"border:1px solid black;border-collapse:collapse;\"><tr><td  style=\"background-color:LightGray;\"><b>Locus_ID</b></td><td  style=\"background-color:LightGray;\"><b>Taxon_ID</b></td><td  style=\"background-color:LightGray;\"><b>Taxon_Name</b></td><td  style=\"background-color:LightGray;\"><b>Subtype</b></td><td  style=\"background-color:LightGray;\"><b>Scaffold</b></td><td  style=\"background-color:LightGray;\"><b>Locus_Start</b></td><td  style=\"background-color:LightGray;\"><b>Locus_End</b></td><td  style=\"background-color:LightGray;\"><b>CAS_Start</b></td><td  style=\"background-color:LightGray;\"><b>CAS_End</b></td><td  style=\"background-color:LightGray;\"><b>Array_Start</b></td><td  style=\"background-color:LightGray;\"><b>Array_End</b></td><td  style=\"background-color:LightGray;\"><b>CAS_Status</b></td><td  style=\"background-color:LightGray;\"><b>Array_Status</b></td><td  style=\"background-color:LightGray;\"><b>Genbank_File</b></td><td  style=\"background-color:LightGray;\"><b>Fasta_File</b></td><td  style=\"background-color:LightGray;\"><b>Array_File</b></td><td  style=\"background-color:LightGray;\"><b>Scaffold_count</b></td><td  style=\"background-color:LightGray;\"><b>File_Creation_Date</b></td><td  style=\"background-color:LightGray;\"><b>Author</b></td><td  style=\"background-color:LightGray;\"><b>Leader_Start</b></td><td  style=\"background-color:LightGray;\"><b>Leader_End</b></td></tr><tr><td  style=\"background-color:Ivory;\">A</td><td  style=\"background-color:Ivory;\">49175990</td><td  style=\"background-color:Ivory;\">Escherichia_coli_K-12_MG1655</td><td  style=\"background-color:Ivory;\">I-E</td><td  style=\"background-color:Ivory;\">NC_000913</td><td  style=\"background-color:Ivory;\">2875723</td><td  style=\"background-color:Ivory;\">2885217</td><td  style=\"background-color:Ivory;\">2876486</td><td  style=\"background-color:Ivory;\">2885217</td><td  style=\"background-color:Ivory;\">2875723</td><td  style=\"background-color:Ivory;\">2876485</td><td  style=\"background-color:Ivory;\"></td><td  style=\"background-color:Ivory;\">intact</td><td  style=\"background-color:Ivory;\">Escherichia_coli_K-12_MG1655.gbk</td><td  style=\"background-color:Ivory;\"></td><td  style=\"background-color:Ivory;\">Ecoli_K12_MG1655_a1.txt</td><td  style=\"background-color:Ivory;\"></td><td  style=\"background-color:Ivory;\">4/19/14</td><td  style=\"background-color:Ivory;\">Nick</td><td  style=\"background-color:Ivory;\"></td><td  style=\"background-color:Ivory;\"></td></tr><tr><td  style=\"background-color:AliceBlue;\">B</td><td  style=\"background-color:AliceBlue;\">49175990</td><td  style=\"background-color:AliceBlue;\">Escherichia_coli_K-12_MG1655</td><td  style=\"background-color:AliceBlue;\">I-E</td><td  style=\"background-color:AliceBlue;\">NC_000913</td><td  style=\"background-color:AliceBlue;\">2880177</td><td  style=\"background-color:AliceBlue;\">2902429</td><td  style=\"background-color:AliceBlue;\">2880177</td><td  style=\"background-color:AliceBlue;\">2902035</td><td  style=\"background-color:AliceBlue;\">2902036</td><td  style=\"background-color:AliceBlue;\">2902429</td><td  style=\"background-color:AliceBlue;\"></td><td  style=\"background-color:AliceBlue;\">intact</td><td  style=\"background-color:AliceBlue;\">Escherichia_coli_K-12_MG1655.gbk</td><td  style=\"background-color:AliceBlue;\"></td><td  style=\"background-color:AliceBlue;\">Ecoli_K12_MG1655_a2.txt</td><td  style=\"background-color:AliceBlue;\"></td><td  style=\"background-color:AliceBlue;\">4/19/14</td><td  style=\"background-color:AliceBlue;\">Nick</td><td  style=\"background-color:AliceBlue;\"></td><td  style=\"background-color:AliceBlue;\"></td></tr><tr><td  style=\"background-color:Ivory;\">C</td><td  style=\"background-color:Ivory;\">170079663</td><td  style=\"background-color:Ivory;\">Escherichia_coli_K-12_DH10B</td><td  style=\"background-color:Ivory;\">I-E</td><td  style=\"background-color:Ivory;\">NC_010473</td><td  style=\"background-color:Ivory;\">2968265</td><td  style=\"background-color:Ivory;\">2977783</td><td  style=\"background-color:Ivory;\">2969028</td><td  style=\"background-color:Ivory;\">2977783</td><td  style=\"background-color:Ivory;\">2968265</td><td  style=\"background-color:Ivory;\">2969027</td><td  style=\"background-color:Ivory;\"></td><td  style=\"background-color:Ivory;\">intact</td><td  style=\"background-color:Ivory;\">Escherichia_coli_K-12_DH10B.gbk</td><td  style=\"background-color:Ivory;\"></td><td  style=\"background-color:Ivory;\">Ecoli_K12_DH10B_a1.txt</td><td  style=\"background-color:Ivory;\"></td><td  style=\"background-color:Ivory;\">4/19/14</td><td  style=\"background-color:Ivory;\">Nick</td><td  style=\"background-color:Ivory;\"></td><td  style=\"background-color:Ivory;\"></td></tr><tr><td  style=\"background-color:AliceBlue;\">D</td><td  style=\"background-color:AliceBlue;\">170079663</td><td  style=\"background-color:AliceBlue;\">Escherichia_coli_K-12_DH10B</td><td  style=\"background-color:AliceBlue;\">I-E</td><td  style=\"background-color:AliceBlue;\">NC_010473</td><td  style=\"background-color:AliceBlue;\">2972719</td><td  style=\"background-color:AliceBlue;\">2994971</td><td  style=\"background-color:AliceBlue;\">2972719</td><td  style=\"background-color:AliceBlue;\">2994577</td><td  style=\"background-color:AliceBlue;\">2994578</td><td  style=\"background-color:AliceBlue;\">2994971</td><td  style=\"background-color:AliceBlue;\"></td><td  style=\"background-color:AliceBlue;\">intact</td><td  style=\"background-color:AliceBlue;\">Escherichia_coli_K-12_DH10B.gbk</td><td  style=\"background-color:AliceBlue;\"></td><td  style=\"background-color:AliceBlue;\">Ecoli_K12_DH10B_a2.txt</td><td  style=\"background-color:AliceBlue;\"></td><td  style=\"background-color:AliceBlue;\">4/19/14</td><td  style=\"background-color:AliceBlue;\">Nick</td><td  style=\"background-color:AliceBlue;\"></td><td  style=\"background-color:AliceBlue;\"></td></tr><tr><td  style=\"background-color:Ivory;\">E</td><td  style=\"background-color:Ivory;\">388476123</td><td  style=\"background-color:Ivory;\">Escherichia_coli_K-12_W3110</td><td  style=\"background-color:Ivory;\">I-E</td><td  style=\"background-color:Ivory;\">NC_007779</td><td  style=\"background-color:Ivory;\">2876357</td><td  style=\"background-color:Ivory;\">2885875</td><td  style=\"background-color:Ivory;\">2877120</td><td  style=\"background-color:Ivory;\">2885875</td><td  style=\"background-color:Ivory;\">2876357</td><td  style=\"background-color:Ivory;\">2877119</td><td  style=\"background-color:Ivory;\"></td><td  style=\"background-color:Ivory;\">intact</td><td  style=\"background-color:Ivory;\">Escherichia_coli_K-12_W3110.gbk</td><td  style=\"background-color:Ivory;\"></td><td  style=\"background-color:Ivory;\">Ecoli_K12_W3110_a1.txt</td><td  style=\"background-color:Ivory;\"></td><td  style=\"background-color:Ivory;\">4/19/14</td><td  style=\"background-color:Ivory;\">Nick</td><td  style=\"background-color:Ivory;\"></td><td  style=\"background-color:Ivory;\"></td></tr><tr><td  style=\"background-color:AliceBlue;\">F</td><td  style=\"background-color:AliceBlue;\">388476123</td><td  style=\"background-color:AliceBlue;\">Escherichia_coli_K-12_W3110</td><td  style=\"background-color:AliceBlue;\">I-E</td><td  style=\"background-color:AliceBlue;\">NC_007779</td><td  style=\"background-color:AliceBlue;\">2880811</td><td  style=\"background-color:AliceBlue;\">2903063</td><td  style=\"background-color:AliceBlue;\">2880811</td><td  style=\"background-color:AliceBlue;\">2902669</td><td  style=\"background-color:AliceBlue;\">2902670</td><td  style=\"background-color:AliceBlue;\">2903063</td><td  style=\"background-color:AliceBlue;\"></td><td  style=\"background-color:AliceBlue;\">intact</td><td  style=\"background-color:AliceBlue;\">Escherichia_coli_K-12_W3110.gbk</td><td  style=\"background-color:AliceBlue;\"></td><td  style=\"background-color:AliceBlue;\">Ecoli_K12_W3110_a2.txt</td><td  style=\"background-color:AliceBlue;\"></td><td  style=\"background-color:AliceBlue;\">4/19/14</td><td  style=\"background-color:AliceBlue;\">Nick</td><td  style=\"background-color:AliceBlue;\"></td><td  style=\"background-color:AliceBlue;\"></td></tr><tr><td  style=\"background-color:Ivory;\">G</td><td  style=\"background-color:Ivory;\">16445223</td><td  style=\"background-color:Ivory;\">Escherichia_coli_O157_H7</td><td  style=\"background-color:Ivory;\">I-E</td><td  style=\"background-color:Ivory;\">NC_002655</td><td  style=\"background-color:Ivory;\">3665521</td><td  style=\"background-color:Ivory;\">3691424</td><td  style=\"background-color:Ivory;\">3665733</td><td  style=\"background-color:Ivory;\">3691424</td><td  style=\"background-color:Ivory;\">3665521</td><td  style=\"background-color:Ivory;\">3665732</td><td  style=\"background-color:Ivory;\"></td><td  style=\"background-color:Ivory;\">intact</td><td  style=\"background-color:Ivory;\">Escherichia_coli_O157_H7.gbk</td><td  style=\"background-color:Ivory;\"></td><td  style=\"background-color:Ivory;\">Ecoli_0157_H7_a1.txt</td><td  style=\"background-color:Ivory;\"></td><td  style=\"background-color:Ivory;\">4/19/14</td><td  style=\"background-color:Ivory;\">Nick</td><td  style=\"background-color:Ivory;\"></td><td  style=\"background-color:Ivory;\"></td></tr><tr><td  style=\"background-color:AliceBlue;\">H</td><td  style=\"background-color:AliceBlue;\">16445223</td><td  style=\"background-color:AliceBlue;\">Escherichia_coli_O157_H7</td><td  style=\"background-color:AliceBlue;\">I-E</td><td  style=\"background-color:AliceBlue;\">NC_002655</td><td  style=\"background-color:AliceBlue;\">3665829</td><td  style=\"background-color:AliceBlue;\">3691513</td><td  style=\"background-color:AliceBlue;\">3665829</td><td  style=\"background-color:AliceBlue;\">3691423</td><td  style=\"background-color:AliceBlue;\">3691424</td><td  style=\"background-color:AliceBlue;\">3691513</td><td  style=\"background-color:AliceBlue;\"></td><td  style=\"background-color:AliceBlue;\">intact</td><td  style=\"background-color:AliceBlue;\">Escherichia_coli_O157_H7.gbk</td><td  style=\"background-color:AliceBlue;\"></td><td  style=\"background-color:AliceBlue;\">Ecoli_0157_H7_a2.txt</td><td  style=\"background-color:AliceBlue;\"></td><td  style=\"background-color:AliceBlue;\">4/19/14</td><td  style=\"background-color:AliceBlue;\">Nick</td><td  style=\"background-color:AliceBlue;\"></td><td  style=\"background-color:AliceBlue;\"></td></tr><tr><td  style=\"background-color:Ivory;\">I</td><td  style=\"background-color:Ivory;\">387825439</td><td  style=\"background-color:Ivory;\">Escherichia_coli_BL21_DE3</td><td  style=\"background-color:Ivory;\">I-E</td><td  style=\"background-color:Ivory;\">NC_012971</td><td  style=\"background-color:Ivory;\">2717668</td><td  style=\"background-color:Ivory;\">2717940</td><td  style=\"background-color:Ivory;\"></td><td  style=\"background-color:Ivory;\"></td><td  style=\"background-color:Ivory;\">2717668</td><td  style=\"background-color:Ivory;\">2717940</td><td  style=\"background-color:Ivory;\"></td><td  style=\"background-color:Ivory;\">intact</td><td  style=\"background-color:Ivory;\">Escherichia_coli_BL21_DE3.gbk</td><td  style=\"background-color:Ivory;\"></td><td  style=\"background-color:Ivory;\">Ecoli_BL21_DE3_a1.txt</td><td  style=\"background-color:Ivory;\"></td><td  style=\"background-color:Ivory;\">4/19/14</td><td  style=\"background-color:Ivory;\">Nick</td><td  style=\"background-color:Ivory;\"></td><td  style=\"background-color:Ivory;\"></td></tr><tr><td  style=\"background-color:AliceBlue;\">J</td><td  style=\"background-color:AliceBlue;\">387825439</td><td  style=\"background-color:AliceBlue;\">Escherichia_coli_BL21_DE3</td><td  style=\"background-color:AliceBlue;\">I-E</td><td  style=\"background-color:AliceBlue;\">NC_012971</td><td  style=\"background-color:AliceBlue;\">2736174</td><td  style=\"background-color:AliceBlue;\">2736996</td><td  style=\"background-color:AliceBlue;\"></td><td  style=\"background-color:AliceBlue;\"></td><td  style=\"background-color:AliceBlue;\">2736174</td><td  style=\"background-color:AliceBlue;\">2736996</td><td  style=\"background-color:AliceBlue;\"></td><td  style=\"background-color:AliceBlue;\">intact</td><td  style=\"background-color:AliceBlue;\">Escherichia_coli_BL21_DE3.gbk</td><td  style=\"background-color:AliceBlue;\"></td><td  style=\"background-color:AliceBlue;\">Ecoli_BL21_DE3_a2.txt</td><td  style=\"background-color:AliceBlue;\"></td><td  style=\"background-color:AliceBlue;\">4/19/14</td><td  style=\"background-color:AliceBlue;\">Nick</td><td  style=\"background-color:AliceBlue;\"></td><td  style=\"background-color:AliceBlue;\"></td></tr></table>"
      ],
      "text/plain": [
       "<ipy_table.IpyTable at 0x7fc24686f350>"
      ]
     },
     "execution_count": 274,
     "metadata": {},
     "output_type": "execute_result"
    }
   ],
   "source": [
    "lociFile = os.path.join(workDir, 'loci', 'loci.txt')\n",
    "\n",
    "# reading in file\n",
    "tbl = []\n",
    "with open(lociFile, 'rb') as f:\n",
    "    reader = csv.reader(f, delimiter='\\t')\n",
    "    for row in reader:\n",
    "        tbl.append(row)\n",
    "\n",
    "# making table\n",
    "make_table(tbl)\n",
    "apply_theme('basic')"
   ]
  },
  {
   "cell_type": "markdown",
   "metadata": {},
   "source": [
    "__Notes on the loci table:__\n",
    "* As you can see, not all of the fields have values. Some are not required (e.g., 'fasta_file').\n",
    "* You will get an error if you try to load a table with missing values in required fields.\n",
    "* For a list of required columns, see the documentation for `CLdb -- loadLoci -h`."
   ]
  },
  {
   "cell_type": "markdown",
   "metadata": {},
   "source": [
    "### Loading loci info into database"
   ]
  },
  {
   "cell_type": "code",
   "execution_count": 275,
   "metadata": {
    "collapsed": false
   },
   "outputs": [
    {
     "name": "stdout",
     "output_type": "stream",
     "text": [
      "Usage:\r\n",
      "    loadLoci.pl [flags] < loci_table.txt\r\n",
      "\r\n",
      "  Required flags:\r\n",
      "    -database <char>\r\n",
      "        CLdb database.\r\n",
      "\r\n",
      "  Optional flags:\r\n",
      "    -forks <int>\r\n",
      "        Number of files to process in parallel. [1]\r\n",
      "\r\n",
      "    -verbose <bool>\r\n",
      "        Verbose output. [TRUE]\r\n",
      "\r\n",
      "    -help <bool>\r\n",
      "        This help message\r\n",
      "\r\n",
      "  For more information:\r\n",
      "    CLdb --perldoc -- loadLoci\r\n",
      "\r\n"
     ]
    }
   ],
   "source": [
    "!CLdb -- loadLoci -h"
   ]
  },
  {
   "cell_type": "code",
   "execution_count": 276,
   "metadata": {
    "collapsed": false,
    "scrolled": false
   },
   "outputs": [
    {
     "name": "stdout",
     "output_type": "stream",
     "text": [
      "### checking line breaks for all external files (converting to unix) ###\n",
      " processing: /home/nyoungb2/t/CLdb_Ecoli/genbank/Escherichia_coli_K-12_MG1655.gbk\n",
      " processing: /home/nyoungb2/t/CLdb_Ecoli/array/Ecoli_K12_MG1655_a2.txt\n",
      " processing: /home/nyoungb2/t/CLdb_Ecoli/genbank/Escherichia_coli_O157_H7.gbk\n",
      " processing: /home/nyoungb2/t/CLdb_Ecoli/array/Ecoli_0157_H7_a1.txt\n",
      " processing: /home/nyoungb2/t/CLdb_Ecoli/genbank/Escherichia_coli_K-12_DH10B.gbk\n",
      " processing: /home/nyoungb2/t/CLdb_Ecoli/array/Ecoli_K12_DH10B_a1.txt\n",
      " processing: /home/nyoungb2/t/CLdb_Ecoli/genbank/Escherichia_coli_K-12_MG1655.gbk\n",
      " processing: /home/nyoungb2/t/CLdb_Ecoli/array/Ecoli_K12_MG1655_a1.txt\n",
      " processing: /home/nyoungb2/t/CLdb_Ecoli/genbank/Escherichia_coli_BL21_DE3.gbk\n",
      " processing: /home/nyoungb2/t/CLdb_Ecoli/array/Ecoli_BL21_DE3_a2.txt\n",
      " processing: /home/nyoungb2/t/CLdb_Ecoli/genbank/Escherichia_coli_K-12_W3110.gbk\n",
      " processing: /home/nyoungb2/t/CLdb_Ecoli/array/Ecoli_K12_W3110_a2.txt\n",
      " processing: /home/nyoungb2/t/CLdb_Ecoli/genbank/Escherichia_coli_K-12_W3110.gbk\n",
      " processing: /home/nyoungb2/t/CLdb_Ecoli/array/Ecoli_K12_W3110_a1.txt\n",
      " processing: /home/nyoungb2/t/CLdb_Ecoli/genbank/Escherichia_coli_BL21_DE3.gbk\n",
      " processing: /home/nyoungb2/t/CLdb_Ecoli/array/Ecoli_BL21_DE3_a1.txt\n",
      " processing: /home/nyoungb2/t/CLdb_Ecoli/genbank/Escherichia_coli_K-12_DH10B.gbk\n",
      " processing: /home/nyoungb2/t/CLdb_Ecoli/array/Ecoli_K12_DH10B_a2.txt\n",
      " processing: /home/nyoungb2/t/CLdb_Ecoli/genbank/Escherichia_coli_O157_H7.gbk\n",
      " processing: /home/nyoungb2/t/CLdb_Ecoli/array/Ecoli_0157_H7_a2.txt\n",
      "### checking locus_ID values ###\n",
      "...locus_ID values are OK\n",
      "### Checking/copying external files specfied in loci table ###\n",
      "Processing locus 'B'...\n",
      "  Checking: '/home/nyoungb2/t/CLdb_Ecoli/array/Ecoli_K12_MG1655_a2.txt'\n",
      "\tFile found: '/home/nyoungb2/t/CLdb_Ecoli/array/Ecoli_K12_MG1655_a2.txt'\n",
      "  Checking: '/home/nyoungb2/t/CLdb_Ecoli/genbank/Escherichia_coli_K-12_MG1655.gbk'\n",
      "\tFile found: '/home/nyoungb2/t/CLdb_Ecoli/genbank/Escherichia_coli_K-12_MG1655.gbk'\n",
      "Processing locus 'G'...\n",
      "  Checking: '/home/nyoungb2/t/CLdb_Ecoli/array/Ecoli_0157_H7_a1.txt'\n",
      "\tFile found: '/home/nyoungb2/t/CLdb_Ecoli/array/Ecoli_0157_H7_a1.txt'\n",
      "  Checking: '/home/nyoungb2/t/CLdb_Ecoli/genbank/Escherichia_coli_O157_H7.gbk'\n",
      "\tFile found: '/home/nyoungb2/t/CLdb_Ecoli/genbank/Escherichia_coli_O157_H7.gbk'\n",
      "Processing locus 'C'...\n",
      "  Checking: '/home/nyoungb2/t/CLdb_Ecoli/array/Ecoli_K12_DH10B_a1.txt'\n",
      "\tFile found: '/home/nyoungb2/t/CLdb_Ecoli/array/Ecoli_K12_DH10B_a1.txt'\n",
      "  Checking: '/home/nyoungb2/t/CLdb_Ecoli/genbank/Escherichia_coli_K-12_DH10B.gbk'\n",
      "\tFile found: '/home/nyoungb2/t/CLdb_Ecoli/genbank/Escherichia_coli_K-12_DH10B.gbk'\n",
      "Processing locus 'A'...\n",
      "  Checking: '/home/nyoungb2/t/CLdb_Ecoli/array/Ecoli_K12_MG1655_a1.txt'\n",
      "\tFile found: '/home/nyoungb2/t/CLdb_Ecoli/array/Ecoli_K12_MG1655_a1.txt'\n",
      "  Checking: '/home/nyoungb2/t/CLdb_Ecoli/genbank/Escherichia_coli_K-12_MG1655.gbk'\n",
      "\tFile found: '/home/nyoungb2/t/CLdb_Ecoli/genbank/Escherichia_coli_K-12_MG1655.gbk'\n",
      "Processing locus 'J'...\n",
      "  Checking: '/home/nyoungb2/t/CLdb_Ecoli/array/Ecoli_BL21_DE3_a2.txt'\n",
      "\tFile found: '/home/nyoungb2/t/CLdb_Ecoli/array/Ecoli_BL21_DE3_a2.txt'\n",
      "  Checking: '/home/nyoungb2/t/CLdb_Ecoli/genbank/Escherichia_coli_BL21_DE3.gbk'\n",
      "\tFile found: '/home/nyoungb2/t/CLdb_Ecoli/genbank/Escherichia_coli_BL21_DE3.gbk'\n",
      "Processing locus 'F'...\n",
      "  Checking: '/home/nyoungb2/t/CLdb_Ecoli/array/Ecoli_K12_W3110_a2.txt'\n",
      "\tFile found: '/home/nyoungb2/t/CLdb_Ecoli/array/Ecoli_K12_W3110_a2.txt'\n",
      "  Checking: '/home/nyoungb2/t/CLdb_Ecoli/genbank/Escherichia_coli_K-12_W3110.gbk'\n",
      "\tFile found: '/home/nyoungb2/t/CLdb_Ecoli/genbank/Escherichia_coli_K-12_W3110.gbk'\n",
      "Processing locus 'E'...\n",
      "  Checking: '/home/nyoungb2/t/CLdb_Ecoli/array/Ecoli_K12_W3110_a1.txt'\n",
      "\tFile found: '/home/nyoungb2/t/CLdb_Ecoli/array/Ecoli_K12_W3110_a1.txt'\n",
      "  Checking: '/home/nyoungb2/t/CLdb_Ecoli/genbank/Escherichia_coli_K-12_W3110.gbk'\n",
      "\tFile found: '/home/nyoungb2/t/CLdb_Ecoli/genbank/Escherichia_coli_K-12_W3110.gbk'\n",
      "Processing locus 'I'...\n",
      "  Checking: '/home/nyoungb2/t/CLdb_Ecoli/array/Ecoli_BL21_DE3_a1.txt'\n",
      "\tFile found: '/home/nyoungb2/t/CLdb_Ecoli/array/Ecoli_BL21_DE3_a1.txt'\n",
      "  Checking: '/home/nyoungb2/t/CLdb_Ecoli/genbank/Escherichia_coli_BL21_DE3.gbk'\n",
      "\tFile found: '/home/nyoungb2/t/CLdb_Ecoli/genbank/Escherichia_coli_BL21_DE3.gbk'\n",
      "Processing locus 'D'...\n",
      "  Checking: '/home/nyoungb2/t/CLdb_Ecoli/array/Ecoli_K12_DH10B_a2.txt'\n",
      "\tFile found: '/home/nyoungb2/t/CLdb_Ecoli/array/Ecoli_K12_DH10B_a2.txt'\n",
      "  Checking: '/home/nyoungb2/t/CLdb_Ecoli/genbank/Escherichia_coli_K-12_DH10B.gbk'\n",
      "\tFile found: '/home/nyoungb2/t/CLdb_Ecoli/genbank/Escherichia_coli_K-12_DH10B.gbk'\n",
      "Processing locus 'H'...\n",
      "  Checking: '/home/nyoungb2/t/CLdb_Ecoli/array/Ecoli_0157_H7_a2.txt'\n",
      "\tFile found: '/home/nyoungb2/t/CLdb_Ecoli/array/Ecoli_0157_H7_a2.txt'\n",
      "  Checking: '/home/nyoungb2/t/CLdb_Ecoli/genbank/Escherichia_coli_O157_H7.gbk'\n",
      "\tFile found: '/home/nyoungb2/t/CLdb_Ecoli/genbank/Escherichia_coli_O157_H7.gbk'\n",
      "### Checking for existence of genome fasta ###\n",
      "### Processing locus: \"B\" ###\n",
      "  No genome fasta found. Trying to extract sequence from genbank...\n",
      "  Success! Found fasta in '/home/nyoungb2/t/CLdb_Ecoli/fasta/Escherichia_coli_K-12_MG1655.fasta'\n",
      "  Adding fasta to loci table\n",
      "### Processing locus: \"G\" ###\n",
      "  No genome fasta found. Trying to extract sequence from genbank...\n",
      "  Success! Found fasta in '/home/nyoungb2/t/CLdb_Ecoli/fasta/Escherichia_coli_O157_H7.fasta'\n",
      "  Adding fasta to loci table\n",
      "### Processing locus: \"C\" ###\n",
      "  No genome fasta found. Trying to extract sequence from genbank...\n",
      "  Success! Found fasta in '/home/nyoungb2/t/CLdb_Ecoli/fasta/Escherichia_coli_K-12_DH10B.fasta'\n",
      "  Adding fasta to loci table\n",
      "### Processing locus: \"A\" ###\n",
      "  No genome fasta found. Trying to extract sequence from genbank...\n",
      "  Success! Found fasta in '/home/nyoungb2/t/CLdb_Ecoli/fasta/Escherichia_coli_K-12_MG1655.fasta'\n",
      "  Adding fasta to loci table\n",
      "### Processing locus: \"J\" ###\n",
      "  No genome fasta found. Trying to extract sequence from genbank...\n",
      "  Success! Found fasta in '/home/nyoungb2/t/CLdb_Ecoli/fasta/Escherichia_coli_BL21_DE3.fasta'\n",
      "  Adding fasta to loci table\n",
      "### Processing locus: \"F\" ###\n",
      "  No genome fasta found. Trying to extract sequence from genbank...\n",
      "  Success! Found fasta in '/home/nyoungb2/t/CLdb_Ecoli/fasta/Escherichia_coli_K-12_W3110.fasta'\n",
      "  Adding fasta to loci table\n",
      "### Processing locus: \"E\" ###\n",
      "  No genome fasta found. Trying to extract sequence from genbank...\n",
      "  Success! Found fasta in '/home/nyoungb2/t/CLdb_Ecoli/fasta/Escherichia_coli_K-12_W3110.fasta'\n",
      "  Adding fasta to loci table\n",
      "### Processing locus: \"I\" ###\n",
      "  No genome fasta found. Trying to extract sequence from genbank...\n",
      "  Success! Found fasta in '/home/nyoungb2/t/CLdb_Ecoli/fasta/Escherichia_coli_BL21_DE3.fasta'\n",
      "  Adding fasta to loci table\n",
      "### Processing locus: \"D\" ###\n",
      "  No genome fasta found. Trying to extract sequence from genbank...\n",
      "  Success! Found fasta in '/home/nyoungb2/t/CLdb_Ecoli/fasta/Escherichia_coli_K-12_DH10B.fasta'\n",
      "  Adding fasta to loci table\n",
      "### Processing locus: \"H\" ###\n",
      "  No genome fasta found. Trying to extract sequence from genbank...\n",
      "  Success! Found fasta in '/home/nyoungb2/t/CLdb_Ecoli/fasta/Escherichia_coli_O157_H7.fasta'\n",
      "  Adding fasta to loci table\n",
      "### checking for genome fasta for scaffold names ###\n",
      "\n",
      "### loading entries into CLdb ###\n",
      "...Number of entries added/updated to 'loci' table: 10\n",
      "### Leader start-end provided. Loading values into leader table ###\n",
      "...Number of entries added/updated to 'leaders' table: 0\n"
     ]
    }
   ],
   "source": [
    "!CLdb -- loadLoci < $lociFile"
   ]
  },
  {
   "cell_type": "markdown",
   "metadata": {},
   "source": [
    "**Notes on loading**\n",
    "\n",
    "* A lot is going on here:\n",
    "  1. Various checks on the input files\n",
    "  2. Extracting the genome fasta sequence from each genbank file \n",
    "    * the genome fasta is required\n",
    "  3. Loading of the loci information into the sqlite database\n",
    "  \n",
    "**Notes on the command**\n",
    "\n",
    "* Why didn't I use the 'required' `-database` flag for `CLdb -- loadLoci`???\n",
    "  * I didn't have to use the `-database` flag because it is provided via the .CLdb config file that was previously created."
   ]
  },
  {
   "cell_type": "code",
   "execution_count": 277,
   "metadata": {
    "collapsed": false
   },
   "outputs": [
    {
     "name": "stdout",
     "output_type": "stream",
     "text": [
      "loci\tNULL\tintact\t10\r\n",
      "loci\tTotal\tNA\t10\r\n",
      "spacer\tNA\tAll\tNULL\r\n",
      "DR\tNA\tAll\tNULL\r\n",
      "genes\tTotal\tNA\tNULL\r\n",
      "leaders\tTotal\tNA\tNA\r\n"
     ]
    }
   ],
   "source": [
    "# This is just a quick summary of the database \n",
    "## It should show 10 loci for the 'loci' rows\n",
    "!CLdb -- summary"
   ]
  },
  {
   "cell_type": "markdown",
   "metadata": {},
   "source": [
    "**The summary doesn't show anything for spacers, DRs, genes or leaders!**\n",
    "\n",
    "That's because we haven't loaded that info yet..."
   ]
  },
  {
   "cell_type": "markdown",
   "metadata": {},
   "source": [
    "## Loading CRISPR arrays\n",
    "\n",
    "* The next step is to load the CRISPR array tables.\n",
    "* These are tables in 'CRISPRFinder format' that have CRISPR array info.\n",
    "  * Let's take a look at one of the array files before loading them all."
   ]
  },
  {
   "cell_type": "code",
   "execution_count": 278,
   "metadata": {
    "collapsed": false
   },
   "outputs": [
    {
     "name": "stdout",
     "output_type": "stream",
     "text": [
      "3665521\tCGGTTTATCCCCGCTGATGCGGGGAACAC\tAGCGGCACGCTGGATTGAACAAATCCCTGGGC \t3665581\t\r\n",
      "3665582\tCGGTTTATCCCCGCTGGCGCGGGGAACAC\tAAACCGAAACACACGATCAATCCGAATATGAG \t3665642\t\r\n",
      "3665643\tCGGTTTATCCCCGCTGGCGCGGGGAACAC\tTTTGGTGACAGTTTTTGTCACTGTTTTGGTGA \t3665703\t\r\n",
      "3665704\tCGGTTTATCCCCGCTGGCGCGGGGAACAC\t\t3665732\r\n"
     ]
    }
   ],
   "source": [
    "# an example array file (obtained from CRISPRFinder)\n",
    "arrayFile = os.path.join(workDir, 'array', 'Ecoli_0157_H7_a1.txt')\n",
    "!head $arrayFile"
   ]
  },
  {
   "cell_type": "markdown",
   "metadata": {},
   "source": [
    "__Note: the array file consists of 4 columns:__\n",
    "\n",
    "1. spacer start\n",
    "1. spacer sequence\n",
    "1. direct-repeat sequence\n",
    "1. direct-repeat stop\n",
    "\n",
    "All extra columns ignored!"
   ]
  },
  {
   "cell_type": "code",
   "execution_count": 279,
   "metadata": {
    "collapsed": false
   },
   "outputs": [
    {
     "name": "stdout",
     "output_type": "stream",
     "text": [
      "...Number of entries added/updated to 'DRs' table: 85\n",
      "...Number of entries added/updated to 'spacers' table: 75\n"
     ]
    }
   ],
   "source": [
    "# loading CRISPR array info\n",
    "!CLdb -- loadArrays "
   ]
  },
  {
   "cell_type": "code",
   "execution_count": 280,
   "metadata": {
    "collapsed": false
   },
   "outputs": [
    {
     "name": "stdout",
     "output_type": "stream",
     "text": [
      "loci\tNULL\tintact\t10\r\n",
      "loci\tTotal\tNA\t10\r\n",
      "spacer\tNA\tAll\t75\r\n",
      "DR\tNA\tAll\t85\r\n",
      "genes\tTotal\tNA\tNULL\r\n",
      "leaders\tTotal\tNA\tNA\r\n"
     ]
    }
   ],
   "source": [
    "# This is just a quick summary of the database \n",
    "!CLdb -- summary"
   ]
  },
  {
   "cell_type": "markdown",
   "metadata": {},
   "source": [
    "**Note: The output should show 75 spacer & 85 DR entries in the database**"
   ]
  },
  {
   "cell_type": "markdown",
   "metadata": {},
   "source": [
    "## Loading CAS genes\n",
    "\n",
    "* Technically, all coding seuqences in the region specified in the loci table (CAS_start, CAS_end) will be loaded.\n",
    "* This requires 2 subcommands:\n",
    "  1. The 1st gets the gene info\n",
    "  2. The 2nd loads the info into CLdb"
   ]
  },
  {
   "cell_type": "code",
   "execution_count": 281,
   "metadata": {
    "collapsed": true
   },
   "outputs": [],
   "source": [
    "geneDir = os.path.join(workDir, 'genes')\n",
    "if not os.path.isdir(geneDir):\n",
    "    os.makedirs(geneDir)"
   ]
  },
  {
   "cell_type": "code",
   "execution_count": 282,
   "metadata": {
    "collapsed": false
   },
   "outputs": [
    {
     "name": "stdout",
     "output_type": "stream",
     "text": [
      "...Getting features in:\r\n",
      " file:\t\t\t/home/nyoungb2/t/CLdb_Ecoli/genbank/Escherichia_coli_K-12_DH10B.gbk\r\n",
      " scaffold:\t\tNC_010473\r\n",
      " region:\t\t2972719-2994971\r\n",
      " CAS_status:\t\t\r\n",
      "-----------\r\n",
      " WARNING: LocusD -> 9 does not have a FIG-PEG ID in a db_xref tag!\r\n",
      " WARNING: LocusD -> 15 does not have a FIG-PEG ID in a db_xref tag!\r\n",
      " WARNING: LocusD -> 4 does not have a FIG-PEG ID in a db_xref tag!\r\n",
      " WARNING: LocusD -> 10 does not have a FIG-PEG ID in a db_xref tag!\r\n",
      " WARNING: LocusD -> 13 does not have a FIG-PEG ID in a db_xref tag!\r\n",
      "-----------\r\n",
      "Locus_ID\tGene_Id\tGene_start\tGene_end\tGene_length__AA\tIn_CAS\tGene_Alias\tSequence\r\n",
      "B\tGI:16130675::ASAP:ABE-0009074::UniProtKB/Swiss-Prot:Q46906::EcoGene:EG13123::GeneID:947536\t2892218\t2892793\t191\tyes\tputative anti-terminator regulatory protein\tMPLLHLLRQNPVIAAVKDNASLQLAIDSECQFISVLYGNICTISNIVKKIKNAGKYAFIHVDLLEGASNKEVVIQFLKLVTEADGIISTKASMLKAARAEGFFCIHRLFIVDSISFHNIDKQVAQSNPDCIEILPGCMPKVLGWVTEKIRQPLIAGGLVCDEEDARNAINAGVVALSTTNTGVWTLAKKLL\r\n",
      "B\tGI:16130670::ASAP:ABE-0009061::UniProtKB/Swiss-Prot:P17846::EcoGene:EG10190::GeneID:947231\t2888121\t2886409\t570\tyes\tsulfite reductase, beta subunit, NAD(P)-binding, heme-binding\tMSEKHPGPLVVEGKLTDAERMKHESNYLRGTIAEDLNDGLTGGFKGDNFLLIRFHGMYQQDDRDIRAERAEQKLEPRHAMLLRCRLPGGVITTKQWQAIDKFAGENTIYGSIRLTNRQTFQFHGILKKNVKPVHQMLHSVGLDALATANDMNRNVLCTSNPYESQLHAEAYEWAKKISEHLLPRTRAYAEIWLDQEKVATTDEEPILGQTYLPRKFKTTVVIPPQNDIDLHANDMNFVAIAENGKLVGFNLLVGGGLSIEHGNKKTYARTASEFGYLPLEHTLAVAEAVVTTQRDWGNRTDRKNAKTKYTLERVGVETFKAEVERRAGIKFEPIRPYEFTGRGDRIGWVKGIDDNWHLTLFIENGRILDYPARPLKTGLLEIAKIHKGDFRITANQNLIIAGVPESEKAKIEKIAKESGLMNAVTPQRENSMACVSFPTCPLAMAEAERFLPSFIDNIDNLMAKHGVSDEHIVMRVTGCPNGCGRAMLAEVGLVGKAPGRYNLHLGGNRIGTRIPRMYKENITEPEILASLDELIGRWAKEREAGEGFGDFTVRAGIIRPVLDPARDLWD\r\n",
      "B\tGI:90111487::ASAP:ABE-0009079::UniProtKB/Swiss-Prot:Q46908::EcoGene:EG13125::GeneID:947240\t2894577\t2893798\t259\tyes\tputative flavoprotein\tMNILLAFKAEPDAGMLAEKEWQAAAQGKSGPDISLLRSLLGADEQAAAALLLAQRKNGTPMSLTALSMGDERALHWLRYLMALGFEEAVLLETAADLRFAPEFVARHIAEWQHQNPLDLIITGCQSSEGQNGQTPFLLAEMLGWPCFTQVERFTLDALFITLEQRTEHGLRCCRVRLPAVIAVRQCGEVALPVPGMRQRMAAGKAEIIRKTVAAEMPAMQCLQLARAEQRRGATLIDGQTVAEKAQKLWQDYLRQRMQP\r\n",
      "B\tGI:16130669::ASAP:ABE-0009057::UniProtKB/Swiss-Prot:P17854::EcoGene:EG10189::GeneID:947230\t2886334\t2885600\t244\tyes\t3'-phosphoadenosine 5'-phosphosulfate reductase\tMSKLDLNALNELPKVDRILALAETNAELEKLDAEGRVAWALDNLPGEYVLSSSFGIQAAVSLHLVNQIRPDIPVILTDTGYLFPETYRFIDELTDKLKLNLKVYRATESAAWQEARYGKLWEQGVEGIEKYNDINKVEPMNRALKELNAQTWFAGLRREQSGSRANLPVLAIQRGVFKVLPIIDWDNRTIYQYLQKHGLKYHPLWDEGYLSVGDTHTTRKWEPGMAEEETRFFGLKRECGLHEG\r\n"
     ]
    }
   ],
   "source": [
    "!cd $geneDir; \\\n",
    "    CLdb -- getGenesInLoci 2> CAS.log > CAS.txt\n",
    "    \n",
    "# checking output    \n",
    "!cd $geneDir; \\\n",
    "    head -n 5 CAS.log; \\\n",
    "    echo -----------; \\\n",
    "    tail -n 5 CAS.log; \\\n",
    "    echo -----------; \\\n",
    "    head -n 5 CAS.txt"
   ]
  },
  {
   "cell_type": "code",
   "execution_count": 283,
   "metadata": {
    "collapsed": false
   },
   "outputs": [
    {
     "name": "stdout",
     "output_type": "stream",
     "text": [
      "...Number of entries added/updated to 'genes' table: 123\r\n"
     ]
    }
   ],
   "source": [
    "# loading gene table into the database\n",
    "!cd $geneDir; \\\n",
    "    CLdb -- loadGenes < CAS.txt "
   ]
  },
  {
   "cell_type": "markdown",
   "metadata": {},
   "source": [
    "## Setting array sense strand\n",
    "\n",
    "* __The strand that is transcribed needs to be defined in order to have the correct sequence for downstream analyses (e.g., blasting spacers and getting PAM regions)__\n",
    "* __The sense (reading) strand is defined by (order of precedence):__\n",
    " * The leader region (if defined; in this case, no).\n",
    " * Array_start,Array_end in the loci table\n",
    "   * The genome negative strand will be used if array_start > array_end"
   ]
  },
  {
   "cell_type": "code",
   "execution_count": 284,
   "metadata": {
    "collapsed": false
   },
   "outputs": [
    {
     "name": "stdout",
     "output_type": "stream",
     "text": [
      "Setting sense strand for 10 loci...\r\n",
      "...sense strand set based on array_start-array_end for:\t10 loci\r\n",
      "...sense strand set base on leader region for:\t0 loci\r\n"
     ]
    }
   ],
   "source": [
    "!CLdb -- setSenseStrand "
   ]
  },
  {
   "cell_type": "markdown",
   "metadata": {},
   "source": [
    "## Spacer and DR clustering\n",
    "\n",
    "* __Clustering of spacer and/or DR sequences accomplishes:__\n",
    " * A method of comparing within and between CRISPRs\n",
    " * A reducing redundancy for spacer and DR blasting"
   ]
  },
  {
   "cell_type": "code",
   "execution_count": 285,
   "metadata": {
    "collapsed": false
   },
   "outputs": [
    {
     "name": "stdout",
     "output_type": "stream",
     "text": [
      "Deleted all entries in 'spacer_clusters' table\n",
      "Deleted all entries in 'DR_clusters' table\n",
      "Getting array element sequences. Orienting sequences by array_sense_strand\n",
      "\n",
      "Clustering spacer sequences...\n",
      "...Clustering spacers at cutoff: 0.80\n",
      "\tNumber of clusters produced: 39\n",
      "...Clustering spacers at cutoff: 0.81\n",
      "\tNumber of clusters produced: 39\n",
      "...Clustering spacers at cutoff: 0.82\n",
      "\tNumber of clusters produced: 39\n",
      "...Clustering spacers at cutoff: 0.83\n",
      "\tNumber of clusters produced: 39\n",
      "...Clustering spacers at cutoff: 0.84\n",
      "\tNumber of clusters produced: 39\n",
      "...Clustering spacers at cutoff: 0.85\n",
      "\tNumber of clusters produced: 39\n",
      "...Clustering spacers at cutoff: 0.86\n",
      "\tNumber of clusters produced: 39\n",
      "...Clustering spacers at cutoff: 0.87\n",
      "\tNumber of clusters produced: 39\n",
      "...Clustering spacers at cutoff: 0.88\n",
      "\tNumber of clusters produced: 39\n",
      "...Clustering spacers at cutoff: 0.89\n",
      "\tNumber of clusters produced: 39\n",
      "...Clustering spacers at cutoff: 0.90\n",
      "\tNumber of clusters produced: 39\n",
      "...Clustering spacers at cutoff: 0.91\n",
      "\tNumber of clusters produced: 39\n",
      "...Clustering spacers at cutoff: 0.92\n",
      "\tNumber of clusters produced: 39\n",
      "...Clustering spacers at cutoff: 0.93\n",
      "\tNumber of clusters produced: 39\n",
      "...Clustering spacers at cutoff: 0.94\n",
      "\tNumber of clusters produced: 39\n",
      "...Clustering spacers at cutoff: 0.95\n",
      "\tNumber of clusters produced: 39\n",
      "...Clustering spacers at cutoff: 0.96\n",
      "\tNumber of clusters produced: 39\n",
      "...Clustering spacers at cutoff: 0.97\n",
      "\tNumber of clusters produced: 39\n",
      "...Clustering spacers at cutoff: 0.98\n",
      "\tNumber of clusters produced: 39\n",
      "...Clustering spacers at cutoff: 0.99\n",
      "\tNumber of clusters produced: 39\n",
      "...Clustering spacers at cutoff: 1.00\n",
      "\tNumber of clusters produced: 39\n",
      "\n",
      "Clustering DR sequences...\n",
      "...Clustering DRs at cutoff: 0.80\n",
      "\tNumber of clusters produced: 2\n",
      "...Clustering DRs at cutoff: 0.81\n",
      "\tNumber of clusters produced: 2\n",
      "...Clustering DRs at cutoff: 0.82\n",
      "\tNumber of clusters produced: 2\n",
      "...Clustering DRs at cutoff: 0.83\n",
      "\tNumber of clusters produced: 2\n",
      "...Clustering DRs at cutoff: 0.84\n",
      "\tNumber of clusters produced: 2\n",
      "...Clustering DRs at cutoff: 0.85\n",
      "\tNumber of clusters produced: 2\n",
      "...Clustering DRs at cutoff: 0.86\n",
      "\tNumber of clusters produced: 2\n",
      "...Clustering DRs at cutoff: 0.87\n",
      "\tNumber of clusters produced: 2\n",
      "...Clustering DRs at cutoff: 0.88\n",
      "\tNumber of clusters produced: 2\n",
      "...Clustering DRs at cutoff: 0.89\n",
      "\tNumber of clusters produced: 2\n",
      "...Clustering DRs at cutoff: 0.90\n",
      "\tNumber of clusters produced: 4\n",
      "...Clustering DRs at cutoff: 0.91\n",
      "\tNumber of clusters produced: 4\n",
      "...Clustering DRs at cutoff: 0.92\n",
      "\tNumber of clusters produced: 4\n",
      "...Clustering DRs at cutoff: 0.93\n",
      "\tNumber of clusters produced: 4\n",
      "...Clustering DRs at cutoff: 0.94\n",
      "\tNumber of clusters produced: 6\n",
      "...Clustering DRs at cutoff: 0.95\n",
      "\tNumber of clusters produced: 6\n",
      "...Clustering DRs at cutoff: 0.96\n",
      "\tNumber of clusters produced: 6\n",
      "...Clustering DRs at cutoff: 0.97\n",
      "\tNumber of clusters produced: 12\n",
      "...Clustering DRs at cutoff: 0.98\n",
      "\tNumber of clusters produced: 12\n",
      "...Clustering DRs at cutoff: 0.99\n",
      "\tNumber of clusters produced: 12\n",
      "...Clustering DRs at cutoff: 1.00\n",
      "\tNumber of clusters produced: 12\n",
      "\n",
      "Inserting/updating entries in CLdb...\n",
      "...1575 spacer cluster entries added/updated\n",
      "...1785 DR cluster entries added/updated\n",
      "\n",
      "Creating indices for cluster ids...\n"
     ]
    }
   ],
   "source": [
    "!CLdb -- clusterArrayElements -s -r"
   ]
  },
  {
   "cell_type": "markdown",
   "metadata": {},
   "source": [
    "# Database summary"
   ]
  },
  {
   "cell_type": "code",
   "execution_count": 286,
   "metadata": {
    "collapsed": false
   },
   "outputs": [
    {
     "name": "stdout",
     "output_type": "stream",
     "text": [
      "loci\tI-E\tEscherichia_coli_BL21_DE3\tNULL\tintact\t2\r\n",
      "loci\tI-E\tEscherichia_coli_K-12_DH10B\tNULL\tintact\t2\r\n",
      "loci\tI-E\tEscherichia_coli_K-12_MG1655\tNULL\tintact\t2\r\n",
      "loci\tI-E\tEscherichia_coli_K-12_W3110\tNULL\tintact\t2\r\n",
      "loci\tI-E\tEscherichia_coli_O157_H7\tNULL\tintact\t2\r\n",
      "loci\tI-E\tEscherichia_coli_BL21_DE3\tTotal\tNA\t2\r\n",
      "loci\tI-E\tEscherichia_coli_K-12_DH10B\tTotal\tNA\t2\r\n",
      "loci\tI-E\tEscherichia_coli_K-12_MG1655\tTotal\tNA\t2\r\n",
      "loci\tI-E\tEscherichia_coli_K-12_W3110\tTotal\tNA\t2\r\n",
      "loci\tI-E\tEscherichia_coli_O157_H7\tTotal\tNA\t2\r\n",
      "spacer\tI-E\tEscherichia_coli_BL21_DE3\tAll\tNA\tNA\t17\r\n",
      "spacer\tI-E\tEscherichia_coli_K-12_DH10B\tAll\tNA\tNA\t18\r\n",
      "spacer\tI-E\tEscherichia_coli_K-12_MG1655\tAll\tNA\tNA\t18\r\n",
      "spacer\tI-E\tEscherichia_coli_K-12_W3110\tAll\tNA\tNA\t18\r\n",
      "spacer\tI-E\tEscherichia_coli_O157_H7\tAll\tNA\tNA\t4\r\n",
      "spacers\tI-E\tEscherichia_coli_BL21_DE3\tnum_groups\t1\t17\r\n",
      "spacers\tI-E\tEscherichia_coli_K-12_DH10B\tnum_groups\t1\t18\r\n",
      "spacers\tI-E\tEscherichia_coli_K-12_MG1655\tnum_groups\t1\t18\r\n",
      "spacers\tI-E\tEscherichia_coli_K-12_W3110\tnum_groups\t1\t18\r\n",
      "spacers\tI-E\tEscherichia_coli_O157_H7\tnum_groups\t1\t4\r\n",
      "DR\tI-E\tEscherichia_coli_BL21_DE3\tAll\tNA\tNA\t19\r\n",
      "DR\tI-E\tEscherichia_coli_K-12_DH10B\tAll\tNA\tNA\t20\r\n",
      "DR\tI-E\tEscherichia_coli_K-12_MG1655\tAll\tNA\tNA\t20\r\n",
      "DR\tI-E\tEscherichia_coli_K-12_W3110\tAll\tNA\tNA\t20\r\n",
      "DR\tI-E\tEscherichia_coli_O157_H7\tAll\tNA\tNA\t6\r\n",
      "DRs\tI-E\tEscherichia_coli_BL21_DE3\tnum_groups\t1\t4\r\n",
      "DRs\tI-E\tEscherichia_coli_K-12_DH10B\tnum_groups\t1\t7\r\n",
      "DRs\tI-E\tEscherichia_coli_K-12_MG1655\tnum_groups\t1\t6\r\n",
      "DRs\tI-E\tEscherichia_coli_K-12_W3110\tnum_groups\t1\t6\r\n",
      "DRs\tI-E\tEscherichia_coli_O157_H7\tnum_groups\t1\t4\r\n",
      "genes\tI-E\tEscherichia_coli_K-12_DH10B\tyes\tNA\t25\r\n",
      "genes\tI-E\tEscherichia_coli_K-12_MG1655\tno\tNA\t1\r\n",
      "genes\tI-E\tEscherichia_coli_K-12_MG1655\tyes\tNA\t24\r\n",
      "genes\tI-E\tEscherichia_coli_K-12_W3110\tyes\tNA\t25\r\n",
      "genes\tI-E\tEscherichia_coli_O157_H7\tyes\tNA\t48\r\n",
      "genes\tI-E\tEscherichia_coli_K-12_DH10B\tTotal\tNA\t25\r\n",
      "genes\tI-E\tEscherichia_coli_K-12_MG1655\tTotal\tNA\t25\r\n",
      "genes\tI-E\tEscherichia_coli_K-12_W3110\tTotal\tNA\t25\r\n",
      "genes\tI-E\tEscherichia_coli_O157_H7\tTotal\tNA\t48\r\n"
     ]
    }
   ],
   "source": [
    "!CLdb -- summary -name -subtype "
   ]
  },
  {
   "cell_type": "markdown",
   "metadata": {},
   "source": [
    "# Next Steps\n",
    "\n",
    "* [arrayBlast](./arrayBlast.ipynb)\n",
    "  * Blast spacers (& DRs), get protospacers, PAM regions, mismatches to the protospacer & SEED sequence\n",
    "* [spacers_shared](./spacers_shared.ipynb)\n",
    "  * Spacer sequences shared among CRISPSRs\n",
    "* [DR_consensus](./DR_consensus.ipynb)\n",
    "  * Consensus sequences of direct repeats in each CRISPR\n",
    "* [loci_plots](./loci_plots.ipynb)\n",
    "  * Plots of CRISPR arrays and CAS genes"
   ]
  },
  {
   "cell_type": "code",
   "execution_count": null,
   "metadata": {
    "collapsed": true
   },
   "outputs": [],
   "source": []
  }
 ],
 "metadata": {
  "hide_input": true,
  "kernelspec": {
   "display_name": "Python 2",
   "language": "python",
   "name": "python2"
  },
  "language_info": {
   "codemirror_mode": {
    "name": "ipython",
    "version": 2
   },
   "file_extension": ".py",
   "mimetype": "text/x-python",
   "name": "python",
   "nbconvert_exporter": "python",
   "pygments_lexer": "ipython2",
   "version": "2.7.6"
  }
 },
 "nbformat": 4,
 "nbformat_minor": 0
}
