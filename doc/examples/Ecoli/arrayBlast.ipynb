{
 "cells": [
  {
   "cell_type": "markdown",
   "metadata": {},
   "source": [
    "# Description:\n",
    "\n",
    "* This notebook goes through the analysis of blasting spacers vs a database containing potential protospacers.\n",
    "* Any blast datbase can be used.\n",
    "* A script is provided to easily blast all of the genomes in CLdb."
   ]
  },
  {
   "cell_type": "markdown",
   "metadata": {},
   "source": [
    "### Before running this notebook:\n",
    "\n",
    "* __run the [Setup](./Setup.pynb) notebook__"
   ]
  },
  {
   "cell_type": "markdown",
   "metadata": {},
   "source": [
    "# User-defined variables"
   ]
  },
  {
   "cell_type": "code",
   "execution_count": 51,
   "metadata": {
    "collapsed": true
   },
   "outputs": [],
   "source": [
    "# directory where you want the spacer blasting to be done\n",
    "## CHANGE THIS!\n",
    "workDir = \"/home/nyoungb2/t/CLdb_Ecoli/\""
   ]
  },
  {
   "cell_type": "markdown",
   "metadata": {},
   "source": [
    "# Init"
   ]
  },
  {
   "cell_type": "code",
   "execution_count": 52,
   "metadata": {
    "collapsed": false
   },
   "outputs": [
    {
     "name": "stdout",
     "output_type": "stream",
     "text": [
      "The rpy2.ipython extension is already loaded. To reload it, use:\n",
      "  %reload_ext rpy2.ipython\n"
     ]
    }
   ],
   "source": [
    "import os\n",
    "from IPython.display import FileLinks\n",
    "%load_ext rpy2.ipython"
   ]
  },
  {
   "cell_type": "code",
   "execution_count": 53,
   "metadata": {
    "collapsed": true
   },
   "outputs": [],
   "source": [
    "blastDir = os.path.join(workDir, 'arrayBlast')\n",
    "if not os.path.isdir(blastDir):\n",
    "    os.makedirs(blastDir)"
   ]
  },
  {
   "cell_type": "markdown",
   "metadata": {},
   "source": [
    "# Blast vs all E. coli genomes in the CLdb"
   ]
  },
  {
   "cell_type": "markdown",
   "metadata": {},
   "source": [
    "## Spacer blast"
   ]
  },
  {
   "cell_type": "markdown",
   "metadata": {},
   "source": [
    "### Selecting spacer sequences"
   ]
  },
  {
   "cell_type": "code",
   "execution_count": 85,
   "metadata": {
    "collapsed": false
   },
   "outputs": [
    {
     "name": "stdout",
     "output_type": "stream",
     "text": [
      "Number of unique spacers:\t39\n",
      "\n",
      ">NA|spacer|NA|10|1\n",
      "ATAGACCCCGAACAACAATACGCGCAAACCGA\n",
      ">NA|spacer|NA|1|1\n",
      "TGGCTCTGCAACAGCAGCACCCATGACCACGTC\n",
      ">NA|spacer|NA|29|1\n",
      "GACAGAACGGCCTCAGTAGTCTCGTCAGGCTC\n"
     ]
    }
   ],
   "source": [
    "!cd $blastDir; \\\n",
    "    CLdb -- array2fasta -cluster -cut 1 > spacers_cut1.fna\n",
    "\n",
    "## getting number of spacer sequences\n",
    "!printf 'Number of unique spacers:\\t'\n",
    "!cd $blastDir; \\\n",
    "    grep -c \">\" spacers_cut1.fna; \\\n",
    "    echo; \\\n",
    "    head -n 6 spacers_cut1.fna"
   ]
  },
  {
   "cell_type": "markdown",
   "metadata": {},
   "source": [
    "### Blast\n",
    "\n",
    "* The array blast commands are sub-sub commands.\n",
    "* __SO__, that's why when you type: '`CLdb -- arrayBlast -h`', you get then following:"
   ]
  },
  {
   "cell_type": "code",
   "execution_count": 81,
   "metadata": {
    "collapsed": false
   },
   "outputs": [
    {
     "name": "stdout",
     "output_type": "stream",
     "text": [
      "Usage:\r\n",
      "    arrayBlast [options] subcommand -- [subcommand_options]\r\n",
      "\r\n",
      "  Options:\r\n",
      "    --list\r\n",
      "        List all subcommands.\r\n",
      "\r\n",
      "    --perldoc\r\n",
      "        Get perldoc of subcommand.\r\n",
      "\r\n",
      "    -v Verbose output\r\n",
      "    -h This help message\r\n",
      "\r\n",
      "  For more information:\r\n",
      "    CLdb_perldoc arrayBlast\r\n",
      "\r\n"
     ]
    }
   ],
   "source": [
    "!CLdb -- arrayBlast -h"
   ]
  },
  {
   "cell_type": "code",
   "execution_count": 82,
   "metadata": {
    "collapsed": false
   },
   "outputs": [
    {
     "name": "stdout",
     "output_type": "stream",
     "text": [
      "add_crRNA\r\n",
      "add_proto\r\n",
      "align_proto\r\n",
      "filter_arrayHits\r\n",
      "get_PAM\r\n",
      "get_SEEDstats\r\n",
      "get_align\r\n",
      "get_proto\r\n",
      "run\r\n",
      "srl2csv\r\n",
      "srl2json\r\n",
      "xml2json\r\n",
      "xml2srl\r\n"
     ]
    }
   ],
   "source": [
    "# listing all arrayBlast subcommands\n",
    "!CLdb -- arrayBlast --list"
   ]
  },
  {
   "cell_type": "markdown",
   "metadata": {},
   "source": [
    "#### Sub-sub-command help:\n",
    "\n",
    "`CLdb arrayBlast -- run -- -h`"
   ]
  },
  {
   "cell_type": "code",
   "execution_count": 83,
   "metadata": {
    "collapsed": false
   },
   "outputs": [
    {
     "name": "stdout",
     "output_type": "stream",
     "text": [
      "Making BLAST databases...\n",
      "...making blast databases in /home/nyoungb2/t/CLdb_Ecoli//arrayBlast/blast_db/\n",
      "makeblastdb -dbtype nucl -parse_seqids -in /home/nyoungb2/t/CLdb_Ecoli//arrayBlast/blast_db//Escherichia_coli_BL21_DE3.fasta\n",
      "makeblastdb -dbtype nucl -parse_seqids -in /home/nyoungb2/t/CLdb_Ecoli//arrayBlast/blast_db//Escherichia_coli_K-12_DH10B.fasta\n",
      "makeblastdb -dbtype nucl -parse_seqids -in /home/nyoungb2/t/CLdb_Ecoli//arrayBlast/blast_db//Escherichia_coli_K-12_MG1655.fasta\n",
      "makeblastdb -dbtype nucl -parse_seqids -in /home/nyoungb2/t/CLdb_Ecoli//arrayBlast/blast_db//Escherichia_coli_K-12_W3110.fasta\n",
      "makeblastdb -dbtype nucl -parse_seqids -in /home/nyoungb2/t/CLdb_Ecoli//arrayBlast/blast_db//Escherichia_coli_O157_H7.fasta\n",
      "\n",
      "Blasting sequences...\n",
      "Number of blast hits to Escherichia_coli_BL21_DE3.fasta:\t1290\n",
      "Number of blast hits to Escherichia_coli_K-12_DH10B.fasta:\t1317\n",
      "Number of blast hits to Escherichia_coli_K-12_MG1655.fasta:\t1317\n",
      "Number of blast hits to Escherichia_coli_K-12_W3110.fasta:\t1317\n",
      "Number of blast hits to Escherichia_coli_O157_H7.fasta:\t912\n"
     ]
    }
   ],
   "source": [
    "# spacer blast\n",
    "## Really just a thin wrapper around blastn that will blast the spacers against all genomes in CLdb\n",
    "### If you want to blast some else, just run the blast yourself (use 'perldoc CLdb_arrayBlast.pl' for more info)\n",
    "\n",
    "!cd $blastDir; \\\n",
    "    CLdb -- arrayBlast -- run \\\n",
    "    -query spacers_cut1.fna \\\n",
    "    > spacers_cut1_blastn.xml"
   ]
  },
  {
   "cell_type": "markdown",
   "metadata": {},
   "source": [
    "**Note:**\n",
    "\n",
    "* Using spacer clustering cutoff of 1, so just 'unique' spacer sequences"
   ]
  },
  {
   "cell_type": "code",
   "execution_count": 84,
   "metadata": {
    "collapsed": false
   },
   "outputs": [
    {
     "name": "stdout",
     "output_type": "stream",
     "text": [
      "-rw-rw-r-- 1 nyoungb2 nyoungb2  62K Dec 31 06:13 spacers_cut1_blastn.srl\r\n",
      "-rw-rw-r-- 1 nyoungb2 nyoungb2 227K Dec 31 06:13 spacers_cut1_blastn.xml\r\n"
     ]
    }
   ],
   "source": [
    "# converting .xml to .srl\n",
    "## This retains all of the info in the xml, but produces a smaller file that is faster to load and write.\n",
    "## For large blast runs (xml files > 100 Mb), this will take a little while\n",
    "\n",
    "!cd $blastDir; \\\n",
    "    CLdb -- arrayBlast -- xml2srl \\\n",
    "    spacers_cut1_blastn.xml \\\n",
    "    > spacers_cut1_blastn.srl\n",
    "\n",
    "# checking output file\n",
    "!cd $blastDir; \\\n",
    "    ls -thlc spacers_cut1_blastn.*"
   ]
  },
  {
   "cell_type": "markdown",
   "metadata": {},
   "source": [
    "**Note:**\n",
    "\n",
    "* You could pipe the output from `CLdb -- arrayBlast -- run` directly into `CLdb -- arrayBlast -- xml2srl`\n",
    "  * Example: `CLdb -- arrayBlast -- run -query spacers_cut1.fna | CLdb -- arrayBlast -- xml2srl`"
   ]
  },
  {
   "cell_type": "markdown",
   "metadata": {},
   "source": [
    "## DR Blast\n",
    "\n",
    "* BLASTing DR sequences against the same subjects.\n",
    "* This is needed to filter out spacer blast hits to CRISPR arrays."
   ]
  },
  {
   "cell_type": "code",
   "execution_count": 86,
   "metadata": {
    "collapsed": false
   },
   "outputs": [
    {
     "name": "stdout",
     "output_type": "stream",
     "text": [
      "Number of unique DRs:\t12\n",
      "\n",
      ">NA|DR|NA|9|1\n",
      "TGGTTTATCCCCGCTGGCGCGGGGAACTC\n",
      ">NA|DR|NA|6|1\n",
      "CGGTTTATCCTCGCTGGCGCGGGGAACTC\n",
      ">NA|DR|NA|10|1\n",
      "GGTTTATCCCCGCTGGCGCGGGGAACAC\n"
     ]
    }
   ],
   "source": [
    "# selecting DRs, so we can blast them.\n",
    "## This is needed blast filter out spacers that hit CRISPR arrays\n",
    "\n",
    "!cd $blastDir; \\\n",
    "    CLdb -- array2fasta \\\n",
    "    -cluster -cut 1 -r \\\n",
    "    > DRs_cut1.fna\n",
    "\n",
    "## getting number of spacer sequences\n",
    "!printf 'Number of unique DRs:\\t'\n",
    "!cd $blastDir; \\\n",
    "    grep -c \">\" DRs_cut1.fna; \\\n",
    "    echo; \\\n",
    "    head -n 6 DRs_cut1.fna"
   ]
  },
  {
   "cell_type": "code",
   "execution_count": 87,
   "metadata": {
    "collapsed": false
   },
   "outputs": [
    {
     "name": "stdout",
     "output_type": "stream",
     "text": [
      "Making BLAST databases...\n",
      "...making blast databases in /home/nyoungb2/t/CLdb_Ecoli//arrayBlast/blast_db/\n",
      "makeblastdb -dbtype nucl -parse_seqids -in /home/nyoungb2/t/CLdb_Ecoli//arrayBlast/blast_db//Escherichia_coli_BL21_DE3.fasta\n",
      "makeblastdb -dbtype nucl -parse_seqids -in /home/nyoungb2/t/CLdb_Ecoli//arrayBlast/blast_db//Escherichia_coli_K-12_DH10B.fasta\n",
      "makeblastdb -dbtype nucl -parse_seqids -in /home/nyoungb2/t/CLdb_Ecoli//arrayBlast/blast_db//Escherichia_coli_K-12_MG1655.fasta\n",
      "makeblastdb -dbtype nucl -parse_seqids -in /home/nyoungb2/t/CLdb_Ecoli//arrayBlast/blast_db//Escherichia_coli_K-12_W3110.fasta\n",
      "makeblastdb -dbtype nucl -parse_seqids -in /home/nyoungb2/t/CLdb_Ecoli//arrayBlast/blast_db//Escherichia_coli_O157_H7.fasta\n",
      "\n",
      "Blasting sequences...\n",
      "Number of blast hits to Escherichia_coli_BL21_DE3.fasta:\t4730\n",
      "Number of blast hits to Escherichia_coli_K-12_DH10B.fasta:\t4825\n",
      "Number of blast hits to Escherichia_coli_K-12_MG1655.fasta:\t4882\n",
      "Number of blast hits to Escherichia_coli_K-12_W3110.fasta:\t4882\n",
      "Number of blast hits to Escherichia_coli_O157_H7.fasta:\t1747\n"
     ]
    }
   ],
   "source": [
    "# DR blast, just like spacer blast\n",
    "\n",
    "!cd $blastDir; \\\n",
    "    CLdb -- arrayBlast -- run \\\n",
    "    -query DRs_cut1.fna \\\n",
    "    > DRs_cut1_blastn.xml"
   ]
  },
  {
   "cell_type": "code",
   "execution_count": 88,
   "metadata": {
    "collapsed": false
   },
   "outputs": [
    {
     "name": "stdout",
     "output_type": "stream",
     "text": [
      "-rw-rw-r-- 1 nyoungb2 nyoungb2 247K Dec 31 06:14 DRs_cut1_blastn.srl\r\n",
      "-rw-rw-r-- 1 nyoungb2 nyoungb2 783K Dec 31 06:14 DRs_cut1_blastn.xml\r\n"
     ]
    }
   ],
   "source": [
    "# converting .xml to .srl\n",
    "## This retains all of the info in the xml, but produces a smaller file that is faster to load and write.\n",
    "## For large blast runs (xml files > 100 Mb), this will take a little while\n",
    "\n",
    "!cd $blastDir; \\\n",
    "    CLdb -- arrayBlast -- xml2srl \\\n",
    "    DRs_cut1_blastn.xml \\\n",
    "    > DRs_cut1_blastn.srl\n",
    "\n",
    "\n",
    "# checking output file\n",
    "!cd $blastDir; \\\n",
    "    ls -thlc DRs_cut1_blastn.*"
   ]
  },
  {
   "cell_type": "markdown",
   "metadata": {},
   "source": [
    "## Filtering out spacer hits to CRISPRs\n",
    "\n",
    "* Based on DR hits falling adjacent to spacer hits"
   ]
  },
  {
   "cell_type": "code",
   "execution_count": 89,
   "metadata": {
    "collapsed": false
   },
   "outputs": [
    {
     "name": "stdout",
     "output_type": "stream",
     "text": [
      "### Summary for filtering of 'bad' DR hits ###\n",
      "Total DR hits: 1014\n",
      "DR hits with E-values < 10: 0\n",
      "DR hits with hit lengths (fraction of total) < 0.66: 0\n",
      "DR hits used for filtering: 1014\n",
      "### DR filtering of spacer blast hits ###\n",
      "Total spacer blast hits: 79\n",
      " NOTE: Deleting the blast hits to arrays\n",
      "Spacer blast hits hitting an array defined just by DR-blast hits: 79\n",
      " NOTE: Deleting the blast hits to arrays\n",
      "Spacer blast hits hitting a mobile genetic element: 0\n",
      "\n",
      "-rw-rw-r-- 1 nyoungb2 nyoungb2 43K Dec 31 06:14 spacers_cut1_blastn_filt.srl\n"
     ]
    }
   ],
   "source": [
    "# filtering spacer hits to arrays\n",
    "## This is based on the premise that DR hits adjacent to spacer hits signify that the spacer is hitting a CRISPR array\n",
    "\n",
    "!cd $blastDir; \\\n",
    "    CLdb -- arrayBlast -- filter_arrayHits \\\n",
    "    spacers_cut1_blastn.srl \\\n",
    "    DRs_cut1_blastn.srl \\\n",
    "    > spacers_cut1_blastn_filt.srl\n",
    "    \n",
    "    \n",
    "# checking output file\n",
    "!cd $blastDir; \\\n",
    "    echo; \\\n",
    "    ls -thlc spacers_cut1_blastn_filt.srl"
   ]
  },
  {
   "cell_type": "markdown",
   "metadata": {},
   "source": [
    "## Converting blast .srl to .csv"
   ]
  },
  {
   "cell_type": "code",
   "execution_count": 90,
   "metadata": {
    "collapsed": false
   },
   "outputs": [
    {
     "name": "stdout",
     "output_type": "stream",
     "text": [
      "Decoding the srl file...\n",
      "qseqid\tsseqid\tpident\tlength\tmismatch\tgapopen\tqstart\tqend\tsstart\tsend\tevalue\tbitscore\t\n"
     ]
    }
   ],
   "source": [
    "!cd $blastDir; \\\n",
    "    CLdb -- arrayBlast -- srl2csv \\\n",
    "    spacers_cut1_blastn_filt.srl \\\n",
    "    > spacers_cut1_blastn_filt.txt\n",
    "    \n",
    "# assessing table of blast hits    \n",
    "!cd $blastDir; \\\n",
    "    head spacers_cut1_blastn_filt.txt"
   ]
  },
  {
   "cell_type": "markdown",
   "metadata": {},
   "source": [
    "## Conclusions\n",
    "\n",
    "* **No spacers hit any protospacers on the Ecoli genomes in the CLdb!**\n",
    "  * This indicates that there are no interegrated mobile genetic elements in the E.coli genomes that can be detected using the CRISPR spacers.\n",
    "  * Maybe we will get some hits when we blast against NCBI's nt database."
   ]
  },
  {
   "cell_type": "markdown",
   "metadata": {},
   "source": [
    "# Array Blast vs NCBI's nt database\n",
    "\n",
    "* NOTE: you will need the BLAST nt database & the blast+ toolkit\n",
    "  * The arrayBlast wrapper only works with the genomes in CLdb.\n",
    "  * We will need to do this part 'manually'\n",
    "    * The blast output just needs to be in .xml format.\n",
    "    * You will need the BLAST nt database \n"
   ]
  },
  {
   "cell_type": "code",
   "execution_count": 91,
   "metadata": {
    "collapsed": true
   },
   "outputs": [],
   "source": [
    "#set the number of threads to use for your machine \n",
    "num_threads=20"
   ]
  },
  {
   "cell_type": "markdown",
   "metadata": {},
   "source": [
    "## Spacer blast"
   ]
  },
  {
   "cell_type": "code",
   "execution_count": 92,
   "metadata": {
    "collapsed": false
   },
   "outputs": [
    {
     "name": "stdout",
     "output_type": "stream",
     "text": [
      "-rw-rw-r-- 1 nyoungb2 nyoungb2 1.6M Dec 31 06:15 spacers_cut1_vNT.xml\r\n"
     ]
    }
   ],
   "source": [
    "## spacer blast with blastn\n",
    "!cd $blastDir; \\\n",
    "    blastn -task blastn-short -db nt -query spacers_cut1.fna \\\n",
    "    -outfmt 5 -evalue 1e-5 -num_threads $num_threads > spacers_cut1_vNT.xml\n",
    "    \n",
    "\n",
    "## checking output\n",
    "!cd $blastDir; \\\n",
    "    ls -thlc spacers_cut1_vNT.xml"
   ]
  },
  {
   "cell_type": "markdown",
   "metadata": {},
   "source": [
    "## DR blast"
   ]
  },
  {
   "cell_type": "code",
   "execution_count": 93,
   "metadata": {
    "collapsed": false
   },
   "outputs": [
    {
     "name": "stdout",
     "output_type": "stream",
     "text": [
      "-rw-rw-r-- 1 nyoungb2 nyoungb2 15M Dec 31 06:16 DRs_cut1_vNT.xml\r\n"
     ]
    }
   ],
   "source": [
    "## spacer blast with blastn\n",
    "!cd $blastDir; \\\n",
    "    blastn -task blastn-short -db nt -query DRs_cut1.fna \\\n",
    "    -outfmt 5 -evalue 1e-5 -num_threads $num_threads > DRs_cut1_vNT.xml\n",
    "    \n",
    "\n",
    "## checking output\n",
    "!cd $blastDir; \\\n",
    "    ls -thlc DRs_cut1_vNT.xml"
   ]
  },
  {
   "cell_type": "markdown",
   "metadata": {},
   "source": [
    "## Converting to .srl"
   ]
  },
  {
   "cell_type": "code",
   "execution_count": 94,
   "metadata": {
    "collapsed": false
   },
   "outputs": [
    {
     "name": "stdout",
     "output_type": "stream",
     "text": [
      "-rw-rw-r-- 1 nyoungb2 nyoungb2 4.8M Dec 31 06:17 DRs_cut1_vNT.srl\r\n",
      "-rw-rw-r-- 1 nyoungb2 nyoungb2 584K Dec 31 06:16 spacers_cut1_vNT.srl\r\n"
     ]
    }
   ],
   "source": [
    "## spacers\n",
    "!cd $blastDir; \\\n",
    "    CLdb -- arrayBlast -- xml2srl \\\n",
    "    spacers_cut1_vNT.xml \\\n",
    "    > spacers_cut1_vNT.srl\n",
    "\n",
    "## DRs\n",
    "!cd $blastDir; \\\n",
    "    CLdb -- arrayBlast -- xml2srl \\\n",
    "    DRs_cut1_vNT.xml \\\n",
    "    > DRs_cut1_vNT.srl\n",
    "\n",
    "\n",
    "## checking output\n",
    "!cd $blastDir; \\\n",
    "    ls -thlc *_vNT.srl"
   ]
  },
  {
   "cell_type": "markdown",
   "metadata": {},
   "source": [
    "## Filtering spacer hits"
   ]
  },
  {
   "cell_type": "code",
   "execution_count": 95,
   "metadata": {
    "collapsed": false
   },
   "outputs": [
    {
     "name": "stdout",
     "output_type": "stream",
     "text": [
      "### Summary for filtering of 'bad' DR hits ###\n",
      "Total DR hits: 20159\n",
      "DR hits with E-values < 10: 0\n",
      "DR hits with hit lengths (fraction of total) < 0.66: 0\n",
      "DR hits used for filtering: 20159\n",
      "### DR filtering of spacer blast hits ###\n",
      "Total spacer blast hits: 1573\n",
      " NOTE: Deleting the blast hits to arrays\n",
      "Spacer blast hits hitting an array defined just by DR-blast hits: 863\n",
      " NOTE: Deleting the blast hits to arrays\n",
      "Spacer blast hits hitting a mobile genetic element: 710\n",
      "\n",
      "-rw-rw-r-- 1 nyoungb2 nyoungb2 382K Dec 31 06:17 spacers_cut1_vNT_blastn_filt.srl\n"
     ]
    }
   ],
   "source": [
    "# filtering spacer hits to arrays\n",
    "## This is based on the premise that DR hits adjacent to spacer hits signify that the spacer is hitting a CRISPR array\n",
    "\n",
    "!cd $blastDir; \\\n",
    "    CLdb -- arrayBlast -- filter_arrayHits \\\n",
    "    spacers_cut1_vNT.srl \\\n",
    "    DRs_cut1_vNT.srl \\\n",
    "    > spacers_cut1_vNT_blastn_filt.srl\n",
    "    \n",
    "    \n",
    "## checking output file\n",
    "!cd $blastDir; echo; \\\n",
    "    ls -thlc spacers_cut1_vNT_blastn_filt.srl"
   ]
  },
  {
   "cell_type": "markdown",
   "metadata": {},
   "source": [
    "__Great! It's looks like we have some hits to some putative protospacers!__"
   ]
  },
  {
   "cell_type": "markdown",
   "metadata": {},
   "source": [
    "## File conversion\n",
    "\n",
    "* __FYI__, the .srl files can be converted to json or csv format. For example:"
   ]
  },
  {
   "cell_type": "code",
   "execution_count": 98,
   "metadata": {
    "collapsed": false
   },
   "outputs": [
    {
     "name": "stdout",
     "output_type": "stream",
     "text": [
      "{\r\n",
      "    \"0\": {\r\n",
      "        \"BlastOutput_db\": \"nt\",\r\n",
      "        \"BlastOutput_iterations\": {\r\n",
      "            \"Iteration\": [\r\n",
      "                {\r\n",
      "                    \"Iteration_hits\": {\r\n",
      "                        \"Hit\": [\r\n",
      "                            {\r\n",
      "                                \"Hit_accession\": \"KC765378\",\r\n",
      "                                \"Hit_def\": \"Escherichia coli strain 90-0009 CRISPR2a repeat region\",\r\n",
      "                                \"Hit_hsps\": {\r\n",
      "                                    \"Hsp\": {\r\n",
      "                                        \"2lOuFxXa0uuEg\": {\r\n",
      "                                            \"CLdb_array-hit\": 0,\r\n",
      "                                            \"Hsp_align-len\": \"32\",\r\n",
      "                                            \"Hsp_bit-score\": \"63.9282\",\r\n",
      "                                            \"Hsp_evalue\": \"3.97536e-08\",\r\n",
      "                                            \"Hsp_gaps\": \"0\",\r\n",
      "                                            \"Hsp_hit-frame\": \"-1\",\r\n",
      "                                            \"Hsp_hit-from\": \"652\",\r\n",
      "                                            \"Hsp_hit-to\": \"621\",\r\n",
      "                                            \"Hsp_hseq\": \"ATAGACCCCGAACAACAATACGCGCAAACCGA\",\r\n",
      "                                            \"Hsp_identity\": \"32\",\r\n",
      "                                            \"Hsp_midline\": \"||||||||||||||||||||||||||||||||\",\r\n",
      "                                            \"Hsp_num\": \"1\",\r\n",
      "                                            \"Hsp_positive\": \"32\",\r\n",
      "                                            \"Hsp_qseq\": \"ATAGACCCCGAACAACAATACGCGCAAACCGA\",\r\n",
      "                                            \"Hsp_query-frame\": \"1\",\r\n",
      "                                            \"Hsp_query-from\": \"1\",\r\n",
      "                                            \"Hsp_query-to\": \"32\",\r\n",
      "                                            \"Hsp_score\": \"32\"\r\n",
      "                                        }\r\n",
      "                                    }\r\n",
      "                                },\r\n",
      "                                \"Hit_id\": \"gi|528889517|gb|KC765378.1|\",\r\n",
      "                                \"Hit_len\": \"922\",\r\n",
      "                                \"Hit_num\": \"1\"\r\n",
      "                            },\r\n",
      "                            {\r\n"
     ]
    }
   ],
   "source": [
    "# The srl file can be converted to a json or csv file if you would like to use tools external to CLdb.\n",
    "\n",
    "!cd $blastDir; \\\n",
    "    CLdb -- arrayBlast -- srl2json \\\n",
    "    < spacers_cut1_vNT_blastn_filt.srl \\\n",
    "    > spacers_cut1_vNT_blastn_filt.json\n",
    "\n",
    "\n",
    "## viewing some of the json file\n",
    "!cd $blastDir; \\\n",
    "    cat spacers_cut1_vNT_blastn_filt.json | \\\n",
    "    python -mjson.tool 2>/dev/null | head -n 40"
   ]
  },
  {
   "cell_type": "markdown",
   "metadata": {},
   "source": [
    "## adding crRNA info\n",
    "\n",
    "* Adding crRNA region to .srl (actually the DNA template, refering to it as 'crDNA')\n",
    "  * How much of the adjacent DR sequences are included in the crDNA is determined by the user (default: 10bp on either side)"
   ]
  },
  {
   "cell_type": "code",
   "execution_count": 100,
   "metadata": {
    "collapsed": false
   },
   "outputs": [
    {
     "name": "stdout",
     "output_type": "stream",
     "text": [
      "Decoding .srl file...\n",
      "Extracting all queries with blast hits from blast hit file...\n",
      "...Number of total unique query IDs:\t39\n",
      "Getting info from CLdb on each blast query spacer...\n",
      "Getting spacer regions from each genome...\n",
      " Processing genome: Escherichia_coli_K-12_DH10B.fasta...\n",
      " Processing genome: Escherichia_coli_K-12_MG1655.fasta...\n",
      " Processing genome: Escherichia_coli_BL21_DE3.fasta...\n",
      " Processing genome: Escherichia_coli_K-12_W3110.fasta...\n",
      " Processing genome: Escherichia_coli_O157_H7.fasta...\n",
      "\n",
      "-rw-rw-r-- 1 nyoungb2 nyoungb2 406K Dec 31 06:18 spacers_cut1_vNT_blastn_filt_crDNA.srl\n"
     ]
    }
   ],
   "source": [
    "!cd $blastDir; \\\n",
    "    CLdb -- arrayBlast -- add_crRNA \\\n",
    "    < spacers_cut1_vNT_blastn_filt.srl \\\n",
    "    > spacers_cut1_vNT_blastn_filt_crDNA.srl\n",
    "   \n",
    "\n",
    "## checking output\n",
    "!cd $blastDir; echo; \\\n",
    "    ls -thlc spacers_cut1_vNT_blastn_filt_crDNA.srl"
   ]
  },
  {
   "cell_type": "markdown",
   "metadata": {},
   "source": [
    "## Adding protospacer info\n",
    "\n",
    "* Similar to adding crRNA info, but getting information from the blast database(s)"
   ]
  },
  {
   "cell_type": "code",
   "execution_count": 102,
   "metadata": {
    "collapsed": false
   },
   "outputs": [
    {
     "name": "stdout",
     "output_type": "stream",
     "text": [
      "Retrieving proto info from blast db: 'nt'\n",
      "Retrieving proto sequences from blast db: 'nt'\n",
      "\n",
      "-rw-rw-r-- 1 nyoungb2 nyoungb2 517K Dec 31 06:18 spacers_cut1_vNT_blastn_filt_crDNA_proto.srl\n"
     ]
    }
   ],
   "source": [
    "!cd $blastDir; \\\n",
    "    CLdb -- arrayBlast -- add_proto -workers 24 \\\n",
    "    < spacers_cut1_vNT_blastn_filt_crDNA.srl \\\n",
    "    > spacers_cut1_vNT_blastn_filt_crDNA_proto.srl   \n",
    "    \n",
    "## checking output\n",
    "!cd $blastDir; echo; \\\n",
    "    ls -thlc spacers_cut1_vNT_blastn_filt_crDNA_proto.srl   "
   ]
  },
  {
   "cell_type": "markdown",
   "metadata": {},
   "source": [
    "## Aligning crRNA & protospacer\n",
    "\n",
    "* Alignment added to the .srl file.\n",
    "* These are individual alignments between the spacer and protospacer (using clustalw)."
   ]
  },
  {
   "cell_type": "code",
   "execution_count": 106,
   "metadata": {
    "collapsed": false
   },
   "outputs": [
    {
     "name": "stdout",
     "output_type": "stream",
     "text": [
      "Aligning protospacers from blast db: 'nt'\n",
      "\n",
      "-rw-rw-r-- 1 nyoungb2 nyoungb2 710K Dec 31 06:21 spacers_cut1_vNT_blastn_filt_crDNA_proto_aln.srl\n"
     ]
    }
   ],
   "source": [
    "# aligning crRNA and protospacer\n",
    "\n",
    "!cd $blastDir; \\\n",
    "    CLdb -- arrayBlast -- align_proto \\\n",
    "    < spacers_cut1_vNT_blastn_filt_crDNA_proto.srl \\\n",
    "    > spacers_cut1_vNT_blastn_filt_crDNA_proto_aln.srl\n",
    "    \n",
    "## checking output\n",
    "!cd $blastDir; echo; \\\n",
    "    ls -thlc spacers_cut1_vNT_blastn_filt_crDNA_proto_aln.srl"
   ]
  },
  {
   "cell_type": "markdown",
   "metadata": {},
   "source": [
    "## Getting alignments (fasta)\n",
    "\n",
    "* You can parse out the alignments you want (parse by subtype, taxon_name, etc.)\n",
    "  * **OR** you can parse them after writing (add subtype, taxon_name, e-value, etc. to the sequence name)\n",
    "* The alignments will be oriented to the crDNA (5'-3' for the crRNA)\n",
    "* See `CLdb -- arrayBlast --perldoc -- get_align` for info on what `-outfmt` does"
   ]
  },
  {
   "cell_type": "code",
   "execution_count": 108,
   "metadata": {
    "collapsed": false
   },
   "outputs": [
    {
     "name": "stdout",
     "output_type": "stream",
     "text": [
      "Decoding .srl file...\n",
      "Getting alignments...\n",
      "\n",
      "-rw-rw-r-- 1 nyoungb2 nyoungb2 285K Dec 31 06:23 vNT_crDNA-proto_aln.fna\n"
     ]
    }
   ],
   "source": [
    "# getting alignment of protospacer and crDNA and writing as a fasta\n",
    "\n",
    "!cd $blastDir; \\\n",
    "    CLdb -- arrayBlast -- get_align \\\n",
    "    -outfmt taxon_name,subtype,evalue \\\n",
    "    < spacers_cut1_vNT_blastn_filt_crDNA_proto_aln.srl \\\n",
    "    > vNT_crDNA-proto_aln.fna\n",
    "    \n",
    "\n",
    "## checking output\n",
    "!cd $blastDir; echo; \\\n",
    "    ls -thlc vNT_crDNA-proto_aln.fna"
   ]
  },
  {
   "cell_type": "code",
   "execution_count": 109,
   "metadata": {
    "collapsed": false
   },
   "outputs": [
    {
     "name": "stdout",
     "output_type": "stream",
     "text": [
      ">crDNA|J|3|2lOuFxXa0uuEg|3.97536e-08\r\n",
      "gggataaaccGTCGGTTTGCGCGTATTGTTGTTCGGGGTCTATgtgttccccg\r\n",
      ">proto|J|3|2lOuFxXa0uuEg|3.97536e-08\r\n",
      ".ggataaaccgTCGGTTTGCGCGTATTGTTGTTCGGGGTCTATgtgttccccg\r\n",
      ">crDNA|J|3|2pFfHSafceYTm|3.97536e-08\r\n",
      "gggataaaccGTCGGTTTGCGCGTATTGTTGTTCGGGGTCTATgtgttccccg\r\n",
      ">proto|J|3|2pFfHSafceYTm|3.97536e-08\r\n",
      ".ggataaaccgTCGGTTTGCGCGTATTGTTGTTCGGGGTCTATgtgttccccg\r\n",
      ">crDNA|J|3|2q2X0hEcddMla|3.97536e-08\r\n",
      "gggataaaccGTCGGTTTGCGCGTATTGTTGTTCGGGGTCTATgtgttccccg\r\n"
     ]
    }
   ],
   "source": [
    "# let's take a look at the sequences \n",
    "!cd $blastDir; \\\n",
    "    head -n 10 vNT_crDNA-proto_aln.fna"
   ]
  },
  {
   "cell_type": "markdown",
   "metadata": {},
   "source": [
    "* __The alignment is really just for each crDNA-protospacer pair (every 4 lines)__\n",
    "* First, the crRNA (sequence name starts with \"crRNA\")\n",
    "* Second, the protospacer (sequence name start with \"proto\")\n",
    "* Example: \n",
    "  * ~~~\n",
    ">crDNA\n",
    "ATAGACA\n",
    ">proto\n",
    "ATAGACA\n",
    "~~~\n",
    "\n",
    "* **Note:** the lower case letters are sequence adjacent to the actual protospacer"
   ]
  },
  {
   "cell_type": "markdown",
   "metadata": {},
   "source": [
    "**If you wanted each crRNA-protospacer pair individually, you could use the `split` bash command like this:**\n",
    "\n",
    ">WARNING: this produces a lot of files, so we will make them in a new directory"
   ]
  },
  {
   "cell_type": "code",
   "execution_count": 118,
   "metadata": {
    "collapsed": false
   },
   "outputs": [
    {
     "name": "stdout",
     "output_type": "stream",
     "text": [
      "Number of files produced: 1594\n"
     ]
    }
   ],
   "source": [
    "# file/directory\n",
    "inFile = os.path.join(blastDir, 'vNT_crDNA-proto_aln.fna')\n",
    "outDir = os.path.join(blastDir, 'vNT_crDNA-proto_aln_split')\n",
    "if not os.path.isdir(outDir):\n",
    "    os.makedirs(outDir)\n",
    "outPre = os.path.join(outDir, 'split')    \n",
    "\n",
    "# spliting alignment\n",
    "!split -l 4 -d -a 4 $inFile $outPre\n",
    "\n",
    "# checking out files\n",
    "!printf 'Number of files produced: '\n",
    "!find $outDir -name \"split*\" | wc -l"
   ]
  },
  {
   "cell_type": "code",
   "execution_count": 123,
   "metadata": {
    "collapsed": false
   },
   "outputs": [
    {
     "name": "stdout",
     "output_type": "stream",
     "text": [
      ">crDNA|C|9|2BRoy0pg1sN3q|1.08991e-08\r\n",
      "gggataaaccGTTTGGATCGGGTCTGGAATTTCTGAGCGGTCGCgagttccccg\r\n",
      ">proto|C|9|2BRoy0pg1sN3q|1.08991e-08\r\n",
      "...ataaaccgTTTGGATCGGGTCTGGAATTTCTGAGCGGTCGCgagttccccg\r\n"
     ]
    }
   ],
   "source": [
    "## Let look at one of them\n",
    "!find $outDir -name \"split*\" 2>/dev/null | head -n 1 | xargs -I % cat % 2>/dev/null"
   ]
  },
  {
   "cell_type": "markdown",
   "metadata": {},
   "source": [
    "## Getting PAMs\n",
    "\n",
    "* **Looking at the alignments can be very useful, but it can help to extract what we specifically want and summarize.**\n",
    "  * Let's pull out the potential PAM regions from the alignment \n",
    "  * We are going to assume that the PAM is:\n",
    "    * 3bp long \n",
    "    * 1bp away from the 5' end of the protospacer ('right' side of the alignment)"
   ]
  },
  {
   "cell_type": "code",
   "execution_count": 132,
   "metadata": {
    "collapsed": false
   },
   "outputs": [
    {
     "name": "stdout",
     "output_type": "stream",
     "text": [
      "\r\n",
      ">proto|C|9|2GoDPvFP7iQVG|2.65694e-06\r\n",
      "agt\r\n",
      ">proto|J|13|1tPvM8ZwJiJQY|3.97536e-08\r\n",
      "tgt\r\n",
      ">proto|F|3|J5IiK0FqYBYc|1.08991e-08\r\n",
      "tgt\r\n",
      ">proto|E|7|2NfzYigGApLo4|3.97536e-08\r\n",
      "agt\r\n",
      ">proto|F|5|35jIrFszg79Lq|1.08991e-08\r\n",
      "tgt\r\n"
     ]
    }
   ],
   "source": [
    "!cd $blastDir; \\\n",
    "    CLdb -- arrayBlast -- get_PAM -PAM 2 4 -f - \\\n",
    "    < vNT_crDNA-proto_aln.fna \\\n",
    "    > vNT_crDNA-proto_aln_PAM.fna\n",
    "\n",
    "\n",
    "## checking output\n",
    "!cd $blastDir; echo; \\\n",
    "    head vNT_crDNA-proto_aln_PAM.fna"
   ]
  },
  {
   "cell_type": "markdown",
   "metadata": {},
   "source": [
    "### Summary table of each unique PAM sequence"
   ]
  },
  {
   "cell_type": "code",
   "execution_count": 133,
   "metadata": {
    "collapsed": false
   },
   "outputs": [
    {
     "name": "stdout",
     "output_type": "stream",
     "text": [
      "   1201 tgt\r\n",
      "    374 agt\r\n",
      "      6 \r\n",
      "      4 agc\r\n",
      "      3 att\r\n",
      "      2 gtg\r\n",
      "      2 ggt\r\n",
      "      2 cgg\r\n"
     ]
    }
   ],
   "source": [
    "!cd $blastDir; \\\n",
    "    egrep -v \"^>\" vNT_crDNA-proto_aln_PAM.fna | \\\n",
    "    sort | uniq -c | sort -k 1 -n -r "
   ]
  },
  {
   "cell_type": "markdown",
   "metadata": {},
   "source": [
    "**And if we reverse the sequence...**"
   ]
  },
  {
   "cell_type": "code",
   "execution_count": 134,
   "metadata": {
    "collapsed": false
   },
   "outputs": [
    {
     "name": "stdout",
     "output_type": "stream",
     "text": [
      "   1201 tgt\r\n",
      "    374 tga\r\n",
      "      6 \r\n",
      "      4 cga\r\n",
      "      3 tta\r\n",
      "      2 tgg\r\n",
      "      2 gtg\r\n",
      "      2 ggc\r\n"
     ]
    }
   ],
   "source": [
    "!cd $blastDir; \\\n",
    "    egrep -v \"^>\" vNT_crDNA-proto_aln_PAM.fna | \\\n",
    "    rev | sort | uniq -c | sort -k 1 -n -r "
   ]
  },
  {
   "cell_type": "markdown",
   "metadata": {},
   "source": [
    "**We get the (less prevalent) PAM region ('TGT') for known I-E CRISPR systems as shown in [Rorek et al., 2013](http://www.annualreviews.org/doi/abs/10.1146/annurev-biochem-072911-172315)!**"
   ]
  },
  {
   "cell_type": "markdown",
   "metadata": {},
   "source": [
    "## Spacer (crDNA) - protospacer mismatch distribution\n",
    "\n",
    "* Let's look at potential spacer targeting by assessing mismatches of the crDNAs and protospacers.\n",
    "* This script will make 2 summary files of mismatches for each crDNA-protospacer alignment\n",
    "* Given that spacers can vary in length, the alignment is relative to a user-defined 'SEED' region.\n",
    "* I'm going to use the default SEED region: '-SEED -8 -1'\n",
    "  * This SEED region covers the last 8 bp of the alignment"
   ]
  },
  {
   "cell_type": "code",
   "execution_count": 136,
   "metadata": {
    "collapsed": false
   },
   "outputs": [
    {
     "name": "stdout",
     "output_type": "stream",
     "text": [
      "SEED summary file written: 'vNT_crDNA-proto_aln_SEEDstats-summary.txt'\n",
      "SEED by-position table written: 'vNT_crDNA-proto_aln_SEEDstats-byPos.txt'\n",
      "\n",
      "-rw-rw-r-- 1 nyoungb2 nyoungb2 2.3K Dec 31 06:59 vNT_crDNA-proto_aln_SEEDstats-byPos.txt\n",
      "-rw-rw-r-- 1 nyoungb2 nyoungb2 457K Dec 31 06:59 vNT_crDNA-proto_aln_SEEDstats-summary.txt\n"
     ]
    }
   ],
   "source": [
    "!cd $blastDir; \\\n",
    "    CLdb -- arrayBlast -- get_SEEDstats \\\n",
    "    --SEED -8 -1 \\\n",
    "    -prefix vNT_crDNA-proto_aln \\\n",
    "    < vNT_crDNA-proto_aln.fna \n",
    "    \n",
    "\n",
    "\n",
    "## checking output files\n",
    "!cd $blastDir; echo; \\\n",
    "    ls -thlc vNT_crDNA-proto_aln_SEEDstats*.txt"
   ]
  },
  {
   "cell_type": "code",
   "execution_count": 140,
   "metadata": {
    "collapsed": false
   },
   "outputs": [
    {
     "name": "stdout",
     "output_type": "stream",
     "text": [
      "region\tpos_rel_SEED\tpos_rel_align\tcount\tmismatches\tmismatch_norm\n",
      "SEED\t1\t11\t1594\t12\t0.00752823086574655\n",
      "SEED\t2\t12\t1594\t7\t0.00439146800501882\n",
      "SEED\t3\t13\t1594\t3\t0.00188205771643664\n",
      "SEED\t4\t14\t1594\t3\t0.00188205771643664\n",
      "SEED\t5\t15\t1594\t3\t0.00188205771643664\n",
      "--------------------------------------------------\n",
      "alignment\tcrDNA\tprotospacer\tregion\tcount\tmismatches\tmismatch_norm\n",
      "910\tcrDNA|I|4|1TElyNyRCfHEA|3.97536e-08\tproto|I|4|1TElyNyRCfHEA|3.97536e-08\tSEED\t10\t1\t0.1\n",
      "910\tcrDNA|I|4|1TElyNyRCfHEA|3.97536e-08\tproto|I|4|1TElyNyRCfHEA|3.97536e-08\tnonSEED\t27\t0\t0\n",
      "910\tcrDNA|I|4|1TElyNyRCfHEA|3.97536e-08\tproto|I|4|1TElyNyRCfHEA|3.97536e-08\tprotospacer\t35\t1\t0.0285714285714286\n",
      "969\tcrDNA|J|9|2bqVUCgqCkNao|3.97536e-08\tproto|J|9|2bqVUCgqCkNao|3.97536e-08\tSEED\t10\t1\t0.1\n",
      "969\tcrDNA|J|9|2bqVUCgqCkNao|3.97536e-08\tproto|J|9|2bqVUCgqCkNao|3.97536e-08\tnonSEED\t27\t0\t0\n"
     ]
    }
   ],
   "source": [
    "# checking files\n",
    "!cd $blastDir; \\\n",
    "    head -n 6 vNT_crDNA-proto_aln_SEEDstats-byPos.txt\n",
    "    \n",
    "print '-' * 50\n",
    "\n",
    "\n",
    "!cd $blastDir; \\\n",
    "    head -n 6 vNT_crDNA-proto_aln_SEEDstats-summary.txt"
   ]
  },
  {
   "cell_type": "markdown",
   "metadata": {},
   "source": [
    "### Plotting mismatches"
   ]
  },
  {
   "cell_type": "code",
   "execution_count": 141,
   "metadata": {
    "collapsed": false
   },
   "outputs": [
    {
     "data": {
      "text/plain": [
       "Need help? Try the ggplot2 mailing list: http://groups.google.com/group/ggplot2.\n"
      ]
     },
     "metadata": {},
     "output_type": "display_data"
    }
   ],
   "source": [
    "%%R\n",
    "library(ggplot2)\n",
    "library(gridExtra)"
   ]
  },
  {
   "cell_type": "code",
   "execution_count": 142,
   "metadata": {
    "collapsed": false
   },
   "outputs": [
    {
     "data": {
      "image/png": "[encoded data removed]"
     },
     "metadata": {},
     "output_type": "display_data"
    }
   ],
   "source": [
    "%%R -i blastDir -w 800\n",
    "\n",
    "# loading table\n",
    "infile = file.path(blastDir, 'vNT_crDNA-proto_aln_SEEDstats-byPos.txt')\n",
    "\n",
    "tbl = read.delim(infile)\n",
    "tbl = tbl[tbl$region != 'protospacer', ]\n",
    "\n",
    "# mismatches and counts, & normalized mismatches\n",
    "p.mis = ggplot(tbl, aes(pos_rel_SEED, mismatches, group=region, fill=region)) +\n",
    "    geom_bar(stat='identity', position='dodge') +\n",
    "    labs(y='Number\\nof mismatches', x='Alignment position relative to SEED start')\n",
    "p.count = ggplot(tbl, aes(pos_rel_SEED, count, group=region, fill=region)) +  \n",
    "    geom_bar(stat='identity', position='dodge') +\n",
    "    labs(y='Number of alignments\\nwith nucleotide\\nat position', x='Alignment position relative to SEED start')\n",
    "p.norm = ggplot(tbl, aes(pos_rel_SEED, mismatch_norm, group=region, fill=region)) +\n",
    "  geom_bar(stat='identity', position='dodge') +\n",
    "    labs(y='Mismatchs /\\nalignments', x='Alignment position relative to SEED start')\n",
    "\n",
    "grid.arrange(p.count, p.mis, p.norm, ncol=1)"
   ]
  },
  {
   "cell_type": "markdown",
   "metadata": {},
   "source": [
    "**Notes on plots:**\n",
    "\n",
    "* The top plot shows that some spacer-protospacer are not quiet as long as the rest, which is why the 'Number of alignment with nucleotide at position' drops at the higher positions (> ~30).\n",
    "* There are no mismatches in the middle of the spacer-protospacer alignments."
   ]
  },
  {
   "cell_type": "code",
   "execution_count": null,
   "metadata": {
    "collapsed": false
   },
   "outputs": [],
   "source": []
  }
 ],
 "metadata": {
  "hide_input": true,
  "kernelspec": {
   "display_name": "Python 2",
   "language": "python",
   "name": "python2"
  },
  "language_info": {
   "codemirror_mode": {
    "name": "ipython",
    "version": 2
   },
   "file_extension": ".py",
   "mimetype": "text/x-python",
   "name": "python",
   "nbconvert_exporter": "python",
   "pygments_lexer": "ipython2",
   "version": "2.7.6"
  }
 },
 "nbformat": 4,
 "nbformat_minor": 0
}
