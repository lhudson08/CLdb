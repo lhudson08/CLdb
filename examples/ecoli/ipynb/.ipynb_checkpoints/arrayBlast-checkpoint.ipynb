{
 "metadata": {
  "name": "",
  "signature": "sha256:4936b7f9bbea0f1c0461091d9da5a0a6008a099ccc4abef2b3c997d889337743"
 },
 "nbformat": 3,
 "nbformat_minor": 0,
 "worksheets": [
  {
   "cells": [
    {
     "cell_type": "code",
     "collapsed": false,
     "input": [],
     "language": "python",
     "metadata": {},
     "outputs": []
    },
    {
     "cell_type": "markdown",
     "metadata": {},
     "source": []
    },
    {
     "cell_type": "markdown",
     "metadata": {},
     "source": [
      "### Before running this notebook:\n",
      "\n",
      "* __run the [Setup](./Setup.pynb) notebook__"
     ]
    },
    {
     "cell_type": "code",
     "collapsed": false,
     "input": [
      "from IPython.display import FileLinks\n",
      "%load_ext rmagic\n",
      "%load_ext rpy2.ipython"
     ],
     "language": "python",
     "metadata": {},
     "outputs": [
      {
       "output_type": "stream",
       "stream": "stdout",
       "text": [
        "The rmagic extension is already loaded. To reload it, use:\n",
        "  %reload_ext rmagic\n"
       ]
      }
     ],
     "prompt_number": 50
    },
    {
     "cell_type": "code",
     "collapsed": false,
     "input": [
      "# This tutorial assumes that this IPython notebook is in the ./CLdb/examples/ecoli_ipynb/ directory.\n",
      "## these are the relative paths to everything we will be working with\n",
      "CLdbDir = \"../CLdb/\"\n",
      "scriptDir = \"../../../bin/\""
     ],
     "language": "python",
     "metadata": {},
     "outputs": [],
     "prompt_number": 2
    },
    {
     "cell_type": "code",
     "collapsed": false,
     "input": [
      "# Checking on files in the CLdb directory\n",
      "FileLinks(CLdbDir)"
     ],
     "language": "python",
     "metadata": {},
     "outputs": [
      {
       "html": [
        "../CLdb/<br>\n",
        "&nbsp;&nbsp;<a href='../CLdb/CLdb.sqlite' target='_blank'>CLdb.sqlite</a><br>\n",
        "&nbsp;&nbsp;<a href='../CLdb/GIs.txt' target='_blank'>GIs.txt</a><br>\n",
        "../CLdb/array/<br>\n",
        "&nbsp;&nbsp;<a href='../CLdb/array/Ecoli_K12_DH10B_a2.txt' target='_blank'>Ecoli_K12_DH10B_a2.txt</a><br>\n",
        "&nbsp;&nbsp;<a href='../CLdb/array/Ecoli_K12_W3110_a1.txt' target='_blank'>Ecoli_K12_W3110_a1.txt</a><br>\n",
        "&nbsp;&nbsp;<a href='../CLdb/array/Ecoli_K12_MG1655_a1.txt' target='_blank'>Ecoli_K12_MG1655_a1.txt</a><br>\n",
        "&nbsp;&nbsp;<a href='../CLdb/array/Ecoli_BL21_DE3_a2.txt' target='_blank'>Ecoli_BL21_DE3_a2.txt</a><br>\n",
        "&nbsp;&nbsp;<a href='../CLdb/array/Ecoli_K12_MG1655_a2.txt' target='_blank'>Ecoli_K12_MG1655_a2.txt</a><br>\n",
        "&nbsp;&nbsp;<a href='../CLdb/array/Ecoli_BL21_DE3_a1.txt' target='_blank'>Ecoli_BL21_DE3_a1.txt</a><br>\n",
        "&nbsp;&nbsp;<a href='../CLdb/array/Ecoli_K12_W3110_a2.txt' target='_blank'>Ecoli_K12_W3110_a2.txt</a><br>\n",
        "&nbsp;&nbsp;<a href='../CLdb/array/Ecoli_K12_DH10B_a1.txt' target='_blank'>Ecoli_K12_DH10B_a1.txt</a><br>\n",
        "&nbsp;&nbsp;<a href='../CLdb/array/Ecoli_0157_H7_a1.txt' target='_blank'>Ecoli_0157_H7_a1.txt</a><br>\n",
        "&nbsp;&nbsp;<a href='../CLdb/array/Ecoli_0157_H7_a2.txt' target='_blank'>Ecoli_0157_H7_a2.txt</a><br>\n",
        "../CLdb/clustering/<br>\n",
        "&nbsp;&nbsp;<a href='../CLdb/clustering/spacers.cdhit.clstr' target='_blank'>spacers.cdhit.clstr</a><br>\n",
        "&nbsp;&nbsp;<a href='../CLdb/clustering/spacers.cdhit' target='_blank'>spacers.cdhit</a><br>\n",
        "&nbsp;&nbsp;<a href='../CLdb/clustering/DRs.cdhit' target='_blank'>DRs.cdhit</a><br>\n",
        "&nbsp;&nbsp;<a href='../CLdb/clustering/DRs.fna' target='_blank'>DRs.fna</a><br>\n",
        "&nbsp;&nbsp;<a href='../CLdb/clustering/DRs.cdhit.clstr' target='_blank'>DRs.cdhit.clstr</a><br>\n",
        "&nbsp;&nbsp;<a href='../CLdb/clustering/spacers.fna' target='_blank'>spacers.fna</a><br>\n",
        "../CLdb/fasta/<br>\n",
        "&nbsp;&nbsp;<a href='../CLdb/fasta/Escherichia_coli_BL2_DE3.fasta' target='_blank'>Escherichia_coli_BL2_DE3.fasta</a><br>\n",
        "&nbsp;&nbsp;<a href='../CLdb/fasta/Escherichia_coli_K_2_W3.fasta' target='_blank'>Escherichia_coli_K_2_W3.fasta</a><br>\n",
        "&nbsp;&nbsp;<a href='../CLdb/fasta/Escherichia_coli_K_2_MG_655.fasta' target='_blank'>Escherichia_coli_K_2_MG_655.fasta</a><br>\n",
        "&nbsp;&nbsp;<a href='../CLdb/fasta/Escherichia_coli_K_2_DH_B.fasta' target='_blank'>Escherichia_coli_K_2_DH_B.fasta</a><br>\n",
        "&nbsp;&nbsp;<a href='../CLdb/fasta/Escherichia_coli_O_57_H7.fasta' target='_blank'>Escherichia_coli_O_57_H7.fasta</a><br>\n",
        "../CLdb/genbank/<br>\n",
        "&nbsp;&nbsp;<a href='../CLdb/genbank/Escherichia_coli_BL2_DE3.gbk' target='_blank'>Escherichia_coli_BL2_DE3.gbk</a><br>\n",
        "&nbsp;&nbsp;<a href='../CLdb/genbank/Escherichia_coli_K_2_W3.gbk' target='_blank'>Escherichia_coli_K_2_W3.gbk</a><br>\n",
        "&nbsp;&nbsp;<a href='../CLdb/genbank/Escherichia_coli_K_2_MG_655.gbk' target='_blank'>Escherichia_coli_K_2_MG_655.gbk</a><br>\n",
        "&nbsp;&nbsp;<a href='../CLdb/genbank/Escherichia_coli_K_2_DH_B.gbk' target='_blank'>Escherichia_coli_K_2_DH_B.gbk</a><br>\n",
        "&nbsp;&nbsp;<a href='../CLdb/genbank/Escherichia_coli_O_57_H7.gbk' target='_blank'>Escherichia_coli_O_57_H7.gbk</a><br>\n",
        "../CLdb/loci/<br>\n",
        "&nbsp;&nbsp;<a href='../CLdb/loci/140419_loci.txt' target='_blank'>140419_loci.txt</a><br>"
       ],
       "metadata": {},
       "output_type": "pyout",
       "prompt_number": 3,
       "text": [
        "../CLdb/\n",
        "  CLdb.sqlite\n",
        "  GIs.txt\n",
        "../CLdb/array/\n",
        "  Ecoli_K12_DH10B_a2.txt\n",
        "  Ecoli_K12_W3110_a1.txt\n",
        "  Ecoli_K12_MG1655_a1.txt\n",
        "  Ecoli_BL21_DE3_a2.txt\n",
        "  Ecoli_K12_MG1655_a2.txt\n",
        "  Ecoli_BL21_DE3_a1.txt\n",
        "  Ecoli_K12_W3110_a2.txt\n",
        "  Ecoli_K12_DH10B_a1.txt\n",
        "  Ecoli_0157_H7_a1.txt\n",
        "  Ecoli_0157_H7_a2.txt\n",
        "../CLdb/clustering/\n",
        "  spacers.cdhit.clstr\n",
        "  spacers.cdhit\n",
        "  DRs.cdhit\n",
        "  DRs.fna\n",
        "  DRs.cdhit.clstr\n",
        "  spacers.fna\n",
        "../CLdb/fasta/\n",
        "  Escherichia_coli_BL2_DE3.fasta\n",
        "  Escherichia_coli_K_2_W3.fasta\n",
        "  Escherichia_coli_K_2_MG_655.fasta\n",
        "  Escherichia_coli_K_2_DH_B.fasta\n",
        "  Escherichia_coli_O_57_H7.fasta\n",
        "../CLdb/genbank/\n",
        "  Escherichia_coli_BL2_DE3.gbk\n",
        "  Escherichia_coli_K_2_W3.gbk\n",
        "  Escherichia_coli_K_2_MG_655.gbk\n",
        "  Escherichia_coli_K_2_DH_B.gbk\n",
        "  Escherichia_coli_O_57_H7.gbk\n",
        "../CLdb/loci/\n",
        "  140419_loci.txt"
       ]
      }
     ],
     "prompt_number": 3
    },
    {
     "cell_type": "code",
     "collapsed": false,
     "input": [
      "%%bash -s \"$CLdbDir\"\n",
      "\n",
      "BlastDir='arrayBlast'\n",
      "\n",
      "if [ -d $1$BlastDir ]; then\n",
      "    rm -r $1$BlastDir\n",
      "fi    \n",
      "\n",
      "mkdir $1$BlastDir"
     ],
     "language": "python",
     "metadata": {},
     "outputs": [],
     "prompt_number": 4
    },
    {
     "cell_type": "code",
     "collapsed": false,
     "input": [
      "%%bash -s \"$CLdbDir\" \"$scriptDir\"\n",
      "\n",
      "# Getting 'unique' spacer sequences (OTUs at 100% sequence identity)\n",
      "cd $1\n",
      "perl $2'CLdb_array2fasta.pl' -da CLdb.sqlite -clust -cut 1 > ./arrayBlast/spacers_cut1.fna\n",
      "\n",
      "## getting number of spacer sequences\n",
      "printf 'Number_unique_spacers:\\t'; grep -c \">\" ./arrayBlast/spacers_cut1.fna\n",
      "\n",
      "## looking at spacers\n",
      "head -n 6 ./arrayBlast/spacers_cut1.fna"
     ],
     "language": "python",
     "metadata": {},
     "outputs": [
      {
       "output_type": "stream",
       "stream": "stdout",
       "text": [
        "Number_unique_spacers:\t39\n",
        ">NA|spacer|NA|22|1\n",
        "TTTTACAGTGTCAACAATCGTTCCCTGATTGT\n",
        ">NA|spacer|NA|13|1\n",
        "GACAGAACGGCCTCAGTAGTCTCGTCAGGCTC\n",
        ">NA|spacer|NA|6|1\n",
        "GAAATGCTGGTGAGCGTTAATGCCGCAAACACA\n"
       ]
      }
     ],
     "prompt_number": 5
    },
    {
     "cell_type": "code",
     "collapsed": false,
     "input": [
      "%%bash -s \"$CLdbDir\" \"$scriptDir\"\n",
      "\n",
      "# spacer blast\n",
      "## Really just a thin wrapper around blastn that will blast the spacers against all genomes in CLdb\n",
      "### If you want to blast some else, just run the blast yourself (use 'perldoc CLdb_arrayBlast.pl' for more info)\n",
      "\n",
      "cd $1\n",
      "perl $2'CLdb_arrayBlast.pl' -da CLdb.sqlite -query ./arrayBlast/spacers_cut1.fna > ./arrayBlast/spacers_cut1_blastn.xml"
     ],
     "language": "python",
     "metadata": {},
     "outputs": [
      {
       "output_type": "stream",
       "stream": "stderr",
       "text": [
        "Making BLAST databases...\n",
        "...making blast databases in /home/nyoungb2/perl/projects/CLdb/examples/ecoli/CLdb//arrayBlast/blast_db/\n",
        "makeblastdb -dbtype nucl -parse_seqids -in /home/nyoungb2/perl/projects/CLdb/examples/ecoli/CLdb//arrayBlast/blast_db//Escherichia_coli_BL2_DE3.fasta\n",
        "makeblastdb -dbtype nucl -parse_seqids -in /home/nyoungb2/perl/projects/CLdb/examples/ecoli/CLdb//arrayBlast/blast_db//Escherichia_coli_K_2_DH_B.fasta\n",
        "makeblastdb -dbtype nucl -parse_seqids -in /home/nyoungb2/perl/projects/CLdb/examples/ecoli/CLdb//arrayBlast/blast_db//Escherichia_coli_K_2_MG_655.fasta\n",
        "makeblastdb -dbtype nucl -parse_seqids -in /home/nyoungb2/perl/projects/CLdb/examples/ecoli/CLdb//arrayBlast/blast_db//Escherichia_coli_K_2_W3.fasta\n",
        "makeblastdb -dbtype nucl -parse_seqids -in /home/nyoungb2/perl/projects/CLdb/examples/ecoli/CLdb//arrayBlast/blast_db//Escherichia_coli_O_57_H7.fasta\n",
        "\n",
        "Blasting sequences...\n",
        "Number of blast hits to Escherichia_coli_BL2_DE3.fasta:\t1290\n",
        "Number of blast hits to Escherichia_coli_K_2_DH_B.fasta:\t1317\n",
        "Number of blast hits to Escherichia_coli_K_2_MG_655.fasta:\t1317\n",
        "Number of blast hits to Escherichia_coli_K_2_W3.fasta:\t1317\n",
        "Number of blast hits to Escherichia_coli_O_57_H7.fasta:\t912\n"
       ]
      }
     ],
     "prompt_number": 6
    },
    {
     "cell_type": "code",
     "collapsed": false,
     "input": [
      "%%bash -s \"$CLdbDir\" \"$scriptDir\"\n",
      "\n",
      "# converting .xml to .srl\n",
      "## This retains all of the info in the xml, but produces a smaller file that is faster to load and write.\n",
      "## For large blast runs (xml files > 100 Mb), this will take a little while\n",
      "\n",
      "cd $1\n",
      "perl $2'blast-xml2srl.pl' ./arrayBlast/spacers_cut1_blastn.xml > ./arrayBlast/spacers_cut1_blastn.srl"
     ],
     "language": "python",
     "metadata": {},
     "outputs": [],
     "prompt_number": 7
    },
    {
     "cell_type": "code",
     "collapsed": false,
     "input": [
      "%%bash -s \"$CLdbDir\" \"$scriptDir\"\n",
      "\n",
      "# selecting DRs, so we can blast them.\n",
      "## This is needed blast filter out spacers that hit CRISPR arrays\n",
      "\n",
      "cd $1\n",
      "perl $2'CLdb_array2fasta.pl' -da CLdb.sqlite -clust -cut 1 -r > ./arrayBlast/DRs_cut1.fna"
     ],
     "language": "python",
     "metadata": {},
     "outputs": [],
     "prompt_number": 8
    },
    {
     "cell_type": "code",
     "collapsed": false,
     "input": [
      "%%bash -s \"$CLdbDir\" \"$scriptDir\"\n",
      "\n",
      "# DR blast, just like spacer blast\n",
      "\n",
      "cd $1\n",
      "perl $2'CLdb_arrayBlast.pl' -da CLdb.sqlite -query ./arrayBlast/DRs_cut1.fna > ./arrayBlast/DRs_cut1_blastn.xml"
     ],
     "language": "python",
     "metadata": {},
     "outputs": [
      {
       "output_type": "stream",
       "stream": "stderr",
       "text": [
        "Making BLAST databases...\n",
        "...making blast databases in /home/nyoungb2/perl/projects/CLdb/examples/ecoli/CLdb//arrayBlast/blast_db/\n",
        "makeblastdb -dbtype nucl -parse_seqids -in /home/nyoungb2/perl/projects/CLdb/examples/ecoli/CLdb//arrayBlast/blast_db//Escherichia_coli_BL2_DE3.fasta\n",
        "makeblastdb -dbtype nucl -parse_seqids -in /home/nyoungb2/perl/projects/CLdb/examples/ecoli/CLdb//arrayBlast/blast_db//Escherichia_coli_K_2_DH_B.fasta\n",
        "makeblastdb -dbtype nucl -parse_seqids -in /home/nyoungb2/perl/projects/CLdb/examples/ecoli/CLdb//arrayBlast/blast_db//Escherichia_coli_K_2_MG_655.fasta\n",
        "makeblastdb -dbtype nucl -parse_seqids -in /home/nyoungb2/perl/projects/CLdb/examples/ecoli/CLdb//arrayBlast/blast_db//Escherichia_coli_K_2_W3.fasta\n",
        "makeblastdb -dbtype nucl -parse_seqids -in /home/nyoungb2/perl/projects/CLdb/examples/ecoli/CLdb//arrayBlast/blast_db//Escherichia_coli_O_57_H7.fasta\n",
        "\n",
        "Blasting sequences...\n",
        "Number of blast hits to Escherichia_coli_BL2_DE3.fasta:\t4730\n",
        "Number of blast hits to Escherichia_coli_K_2_DH_B.fasta:\t4825\n",
        "Number of blast hits to Escherichia_coli_K_2_MG_655.fasta:\t4882\n",
        "Number of blast hits to Escherichia_coli_K_2_W3.fasta:\t4882\n",
        "Number of blast hits to Escherichia_coli_O_57_H7.fasta:\t1747\n"
       ]
      }
     ],
     "prompt_number": 9
    },
    {
     "cell_type": "code",
     "collapsed": false,
     "input": [
      "%%bash -s \"$CLdbDir\" \"$scriptDir\"\n",
      "\n",
      "# converting .xml to .srl\n",
      "## This retains all of the info in the xml, but produces a smaller file that is faster to load and write.\n",
      "## For large blast runs (xml files > 100 Mb), this will take a little while\n",
      "\n",
      "cd $1\n",
      "perl $2'blast-xml2srl.pl' ./arrayBlast/DRs_cut1_blastn.xml > ./arrayBlast/DRs_cut1_blastn.srl"
     ],
     "language": "python",
     "metadata": {},
     "outputs": [],
     "prompt_number": 10
    },
    {
     "cell_type": "code",
     "collapsed": false,
     "input": [
      "%%bash -s \"$CLdbDir\" \"$scriptDir\"\n",
      "\n",
      "# filtering spacer hits to arrays\n",
      "## This is based on the premise that DR hits adjacent to spacer hits signify that the spacer is hitting a CRISPR array\n",
      "\n",
      "cd $1\n",
      "perl $2'CLdb_arrayBlastDRFilter.pl' ./arrayBlast/spacers_cut1_blastn.srl \\\n",
      "    ./arrayBlast/DRs_cut1_blastn.srl > ./arrayBlast/spacers_cut1_blastn_filt.srl"
     ],
     "language": "python",
     "metadata": {},
     "outputs": [
      {
       "output_type": "stream",
       "stream": "stderr",
       "text": [
        "### Summary for filtering of 'bad' DR hits ###\n",
        "Total DR hits: 1014\n",
        "DR hits with E-values < 10: 0\n",
        "DR hits with hit lengths (fraction of total) < 0.66: 0\n",
        "DR hits used for filtering: 1014\n",
        "### DR filtering of spacer blast hits ###\n",
        "Total spacer blast hits: 79\n",
        "Spacer blast hits hitting an array (filtered out): 79\n",
        "\tDeleting the blast hits to arrays\n",
        "Spacer blast hits hitting a protospacer: 0\n"
       ]
      }
     ],
     "prompt_number": 11
    },
    {
     "cell_type": "markdown",
     "metadata": {},
     "source": [
      "__No spacers hit any protospacers on the Ecoli genomes in the CLdb!__\n",
      "\n",
      "__Maybe we will get some hits when we blast against NCBI's nt database.__"
     ]
    },
    {
     "cell_type": "markdown",
     "metadata": {},
     "source": [
      "### Array Blast vs nt"
     ]
    },
    {
     "cell_type": "code",
     "collapsed": false,
     "input": [
      "%%bash -s \"$CLdbDir\" \"$scriptDir\"\n",
      "\n",
      "# The arrayBlast wrapper only works with the genomes in CLdb.\n",
      "# We will need to do this part 'manually'\n",
      "## The blast output just needs to be in .xml format.\n",
      "## NOTE: you will need the BLAST nt database \n",
      "\n",
      "num_threads=20\n",
      "\n",
      "cd $1'arrayBlast'\n",
      "\n",
      "# spacer blast\n",
      "blastn -task blastn-short -db nt -query spacers_cut1.fna \\\n",
      "    -outfmt 5 -evalue 1e-5 -num_threads $num_threads > spacers_cut1_vNR.xml\n",
      "    "
     ],
     "language": "python",
     "metadata": {},
     "outputs": [],
     "prompt_number": 12
    },
    {
     "cell_type": "code",
     "collapsed": false,
     "input": [
      "%%bash -s \"$CLdbDir\" \"$scriptDir\"\n",
      "\n",
      "num_threads=20\n",
      "\n",
      "cd $1'arrayBlast'\n",
      "\n",
      "# DR blast\n",
      "blastn -task blastn-short -db nt -query DRs_cut1.fna \\\n",
      "    -outfmt 5 -evalue 1e-5 -num_threads $num_threads > DRs_cut1_vNR.xml"
     ],
     "language": "python",
     "metadata": {},
     "outputs": [],
     "prompt_number": 13
    },
    {
     "cell_type": "code",
     "collapsed": false,
     "input": [
      "!ls -thlc $CLdbDir'arrayBlast'"
     ],
     "language": "python",
     "metadata": {},
     "outputs": [
      {
       "output_type": "stream",
       "stream": "stdout",
       "text": [
        "total 18M\r\n",
        "-rw-rw-r-- 1 nyoungb2 nyoungb2  15M Jun 22 08:09 DRs_cut1_vNR.xml\r\n",
        "-rw-rw-r-- 1 nyoungb2 nyoungb2 1.6M Jun 22 08:08 spacers_cut1_vNR.xml\r\n",
        "-rw-rw-r-- 1 nyoungb2 nyoungb2  43K Jun 22 08:06 spacers_cut1_blastn_filt.srl\r\n",
        "-rw-rw-r-- 1 nyoungb2 nyoungb2 247K Jun 22 08:06 DRs_cut1_blastn.srl\r\n",
        "-rw-rw-r-- 1 nyoungb2 nyoungb2 783K Jun 22 08:06 DRs_cut1_blastn.xml\r\n",
        "drwxrwxr-x 2 nyoungb2 nyoungb2 4.0K Jun 22 08:06 blast_db\r\n",
        "-rw-rw-r-- 1 nyoungb2 nyoungb2  528 Jun 22 08:06 DRs_cut1.fna\r\n",
        "-rw-rw-r-- 1 nyoungb2 nyoungb2  62K Jun 22 08:06 spacers_cut1_blastn.srl\r\n",
        "-rw-rw-r-- 1 nyoungb2 nyoungb2 227K Jun 22 08:06 spacers_cut1_blastn.xml\r\n",
        "-rw-rw-r-- 1 nyoungb2 nyoungb2 2.0K Jun 22 08:06 spacers_cut1.fna\r\n"
       ]
      }
     ],
     "prompt_number": 14
    },
    {
     "cell_type": "code",
     "collapsed": false,
     "input": [
      "%%bash -s \"$CLdbDir\" \"$scriptDir\"\n",
      "\n",
      "# converting .xml to .srl\n",
      "\n",
      "cd $1\n",
      "\n",
      "perl $2'blast-xml2srl.pl' ./arrayBlast/spacers_cut1_vNR.xml > ./arrayBlast/spacers_cut1_vNR.srl\n",
      "perl $2'blast-xml2srl.pl' ./arrayBlast/DRs_cut1_vNR.xml > ./arrayBlast/DRs_cut1_vNR.srl"
     ],
     "language": "python",
     "metadata": {},
     "outputs": [],
     "prompt_number": 15
    },
    {
     "cell_type": "code",
     "collapsed": false,
     "input": [
      "%%bash -s \"$CLdbDir\" \"$scriptDir\"\n",
      "\n",
      "# filtering spacer hits to arrays\n",
      "## This is based on the premise that DR hits adjacent to spacer hits signify that the spacer is hitting a CRISPR array\n",
      "\n",
      "cd $1\n",
      "perl $2'CLdb_arrayBlastDRFilter.pl' \\\n",
      "    ./arrayBlast/spacers_cut1_vNR.srl \\\n",
      "    ./arrayBlast/DRs_cut1_vNR.srl \\\n",
      "    > ./arrayBlast/spacers_cut1_blastn_filt.srl"
     ],
     "language": "python",
     "metadata": {},
     "outputs": [
      {
       "output_type": "stream",
       "stream": "stderr",
       "text": [
        "### Summary for filtering of 'bad' DR hits ###\n",
        "Total DR hits: 20159\n",
        "DR hits with E-values < 10: 0\n",
        "DR hits with hit lengths (fraction of total) < 0.66: 0\n",
        "DR hits used for filtering: 20159\n",
        "### DR filtering of spacer blast hits ###\n",
        "Total spacer blast hits: 1573\n",
        "Spacer blast hits hitting an array (filtered out): 863\n",
        "\tDeleting the blast hits to arrays\n",
        "Spacer blast hits hitting a protospacer: 710\n"
       ]
      }
     ],
     "prompt_number": 16
    },
    {
     "cell_type": "markdown",
     "metadata": {},
     "source": [
      "__OK. It's looks like we have some hits to some putative protospacers!__\n",
      "\n",
      "__Let the investigation begin...__"
     ]
    },
    {
     "cell_type": "code",
     "collapsed": false,
     "input": [
      "%%bash -s \"$CLdbDir\" \"$scriptDir\"\n",
      "\n",
      "# The srl file can be converted to a json or csv file if you would like to use tools external to CLdb.\n",
      "\n",
      "cd $1\n",
      "\n",
      "$2'blast-srl2json.pl' < ./arrayBlast/spacers_cut1_blastn_filt.srl > ./arrayBlast/spacers_cut1_blastn_filt.json\n",
      "\n",
      "# viewing some of the json file\n",
      "cat ./arrayBlast/spacers_cut1_blastn_filt.json | python -mjson.tool 2>/dev/null | head -n 40"
     ],
     "language": "python",
     "metadata": {},
     "outputs": [
      {
       "output_type": "stream",
       "stream": "stdout",
       "text": [
        "{\n",
        "    \"0\": {\n",
        "        \"BlastOutput_db\": \"nt\", \n",
        "        \"BlastOutput_iterations\": {\n",
        "            \"Iteration\": [\n",
        "                {\n",
        "                    \"Iteration_hits\": {\n",
        "                        \"Hit\": [\n",
        "                            {\n",
        "                                \"Hit_accession\": \"KC765378\", \n",
        "                                \"Hit_def\": \"Escherichia coli strain 90-0009 CRISPR2a repeat region\", \n",
        "                                \"Hit_hsps\": {\n",
        "                                    \"Hsp\": {\n",
        "                                        \"1BFNxsbQbvEd6\": {\n",
        "                                            \"CLdb_array-hit\": 0, \n",
        "                                            \"Hsp_align-len\": \"32\", \n",
        "                                            \"Hsp_bit-score\": \"63.9282\", \n",
        "                                            \"Hsp_evalue\": \"3.97536e-08\", \n",
        "                                            \"Hsp_gaps\": \"0\", \n",
        "                                            \"Hsp_hit-frame\": \"-1\", \n",
        "                                            \"Hsp_hit-from\": \"286\", \n",
        "                                            \"Hsp_hit-to\": \"255\", \n",
        "                                            \"Hsp_hseq\": \"TTTTACAGTGTCAACAATCGTTCCCTGATTGT\", \n",
        "                                            \"Hsp_identity\": \"32\", \n",
        "                                            \"Hsp_midline\": \"||||||||||||||||||||||||||||||||\", \n",
        "                                            \"Hsp_num\": \"1\", \n",
        "                                            \"Hsp_positive\": \"32\", \n",
        "                                            \"Hsp_qseq\": \"TTTTACAGTGTCAACAATCGTTCCCTGATTGT\", \n",
        "                                            \"Hsp_query-frame\": \"1\", \n",
        "                                            \"Hsp_query-from\": \"1\", \n",
        "                                            \"Hsp_query-to\": \"32\", \n",
        "                                            \"Hsp_score\": \"32\"\n",
        "                                        }\n",
        "                                    }\n",
        "                                }, \n",
        "                                \"Hit_id\": \"gi|528889517|gb|KC765378.1|\", \n",
        "                                \"Hit_len\": \"922\", \n",
        "                                \"Hit_num\": \"1\"\n",
        "                            }, \n",
        "                            {\n"
       ]
      }
     ],
     "prompt_number": 17
    },
    {
     "cell_type": "code",
     "collapsed": false,
     "input": [
      "!ls -thlc $CLdbDir'arrayBlast' | sort -k 9"
     ],
     "language": "python",
     "metadata": {},
     "outputs": [
      {
       "output_type": "stream",
       "stream": "stdout",
       "text": [
        "total 24M\r\n",
        "drwxrwxr-x 2 nyoungb2 nyoungb2 4.0K Jun 22 08:06 blast_db\r\n",
        "-rw-rw-r-- 1 nyoungb2 nyoungb2 247K Jun 22 08:06 DRs_cut1_blastn.srl\r\n",
        "-rw-rw-r-- 1 nyoungb2 nyoungb2 783K Jun 22 08:06 DRs_cut1_blastn.xml\r\n",
        "-rw-rw-r-- 1 nyoungb2 nyoungb2  528 Jun 22 08:06 DRs_cut1.fna\r\n",
        "-rw-rw-r-- 1 nyoungb2 nyoungb2 4.8M Jun 22 08:10 DRs_cut1_vNR.srl\r\n",
        "-rw-rw-r-- 1 nyoungb2 nyoungb2  15M Jun 22 08:09 DRs_cut1_vNR.xml\r\n",
        "-rw-rw-r-- 1 nyoungb2 nyoungb2 638K Jun 22 08:10 spacers_cut1_blastn_filt.json\r\n",
        "-rw-rw-r-- 1 nyoungb2 nyoungb2 385K Jun 22 08:10 spacers_cut1_blastn_filt.srl\r\n",
        "-rw-rw-r-- 1 nyoungb2 nyoungb2  62K Jun 22 08:06 spacers_cut1_blastn.srl\r\n",
        "-rw-rw-r-- 1 nyoungb2 nyoungb2 227K Jun 22 08:06 spacers_cut1_blastn.xml\r\n",
        "-rw-rw-r-- 1 nyoungb2 nyoungb2 2.0K Jun 22 08:06 spacers_cut1.fna\r\n",
        "-rw-rw-r-- 1 nyoungb2 nyoungb2 584K Jun 22 08:09 spacers_cut1_vNR.srl\r\n",
        "-rw-rw-r-- 1 nyoungb2 nyoungb2 1.6M Jun 22 08:08 spacers_cut1_vNR.xml\r\n"
       ]
      }
     ],
     "prompt_number": 18
    },
    {
     "cell_type": "code",
     "collapsed": false,
     "input": [
      "%%bash -s \"$CLdbDir\" \"$scriptDir\"\n",
      "\n",
      "# adding crRNA region to .srl (actually the DNA template, refering to it as 'crDNA')\n",
      "## How much of the adjacent DR sequences are included in the crDNA is determined by the user (default: 10bp on either side)\n",
      "\n",
      "cd $1\n",
      "perl $2'CLdb_arrayBlastAddcrRNA.pl' -da CLdb.sqlite \\\n",
      "    < ./arrayBlast/spacers_cut1_blastn_filt.srl \\\n",
      "    > ./arrayBlast/spacers_cut1_blastn_filt_crDNA.srl\n",
      "    \n",
      "## TODO: add summary info on crDNA sequences obtained"
     ],
     "language": "python",
     "metadata": {},
     "outputs": [
      {
       "output_type": "stream",
       "stream": "stderr",
       "text": [
        "Decoding .srl file...\n",
        "Extracting all queries with blast hits from blast hit file...\n",
        "...Number of total unique query IDs:\t39\n",
        "Getting info from CLdb on each blast query spacer...\n",
        "Getting spacer regions from each genome...\n",
        " Processing genome: Escherichia_coli_K_2_DH_B.fasta...\n",
        " Processing genome: Escherichia_coli_K_2_MG_655.fasta...\n",
        " Processing genome: Escherichia_coli_O_57_H7.fasta...\n",
        " Processing genome: Escherichia_coli_BL2_DE3.fasta...\n",
        " Processing genome: Escherichia_coli_K_2_W3.fasta...\n"
       ]
      }
     ],
     "prompt_number": 19
    },
    {
     "cell_type": "code",
     "collapsed": false,
     "input": [
      "%%bash -s \"$CLdbDir\" \"$scriptDir\"\n",
      "# adding protospacer region to .srl\n",
      "\n",
      "cd $1\n",
      "perl $2'CLdb_arrayBlastAddProto.pl' -workers 24 \\\n",
      "    < ./arrayBlast/spacers_cut1_blastn_filt_crDNA.srl \\\n",
      "    > ./arrayBlast/spacers_cut1_blastn_filt_crDNA_proto.srl      "
     ],
     "language": "python",
     "metadata": {},
     "outputs": [
      {
       "output_type": "stream",
       "stream": "stderr",
       "text": [
        "Retrieving proto info from blast db: 'nt'\n",
        "Retrieving proto sequences from blast db: 'nt'\n"
       ]
      }
     ],
     "prompt_number": 20
    },
    {
     "cell_type": "code",
     "collapsed": false,
     "input": [
      "%%bash -s \"$CLdbDir\" \"$scriptDir\"\n",
      "# aligning crRNA and protospacer\n",
      "## alignment added to the .srl file.\n",
      "## These are individual alignments between the spacer and protospacer (using clustalw).\n",
      "\n",
      "cd $1\n",
      "perl $2'CLdb_arrayBlastAlignProto.pl' \\\n",
      "    < ./arrayBlast/spacers_cut1_blastn_filt_crDNA_proto.srl \\\n",
      "    > ./arrayBlast/spacers_cut1_blastn_filt_crDNA_proto_aln.srl"
     ],
     "language": "python",
     "metadata": {},
     "outputs": [
      {
       "output_type": "stream",
       "stream": "stderr",
       "text": [
        "Aligning protospacers from blast db: 'nt'\n"
       ]
      }
     ],
     "prompt_number": 21
    },
    {
     "cell_type": "code",
     "collapsed": false,
     "input": [
      "%%bash -s \"$CLdbDir\" \"$scriptDir\"\n",
      "# getting alignment of protospacer and crDNA and writing as a fasta\n",
      "## You can parse out the alignments you want (parse by subtype, taxon_name, etc.)\n",
      "### OR you can parse them after writing (add subtype, taxon_name, e-value, etc. to the sequence name)\n",
      "## The alignments will be oriented to the crDNA (5'-3' for the crRNA)\n",
      "\n",
      "cd $1\n",
      "perl $2'CLdb_arrayBlastGetAlign.pl' \\\n",
      "    -da CLdb.sqlite -outfmt taxon_name,subtype,evalue \\\n",
      "    < ./arrayBlast/spacers_cut1_blastn_filt_crDNA_proto_aln.srl \\\n",
      "    > ./arrayBlast/all_crDNA-proto_aln.fna"
     ],
     "language": "python",
     "metadata": {},
     "outputs": [
      {
       "output_type": "stream",
       "stream": "stderr",
       "text": [
        "Decoding .srl file...\n",
        "Getting metadata info from CLdb...\n",
        "Getting alignments...\n"
       ]
      }
     ],
     "prompt_number": 22
    },
    {
     "cell_type": "code",
     "collapsed": false,
     "input": [
      "# let's take a look at the sequences \n",
      "!head -n 20 $CLdbDir'/arrayBlast/all_crDNA-proto_aln.fna'"
     ],
     "language": "python",
     "metadata": {},
     "outputs": [
      {
       "output_type": "stream",
       "stream": "stdout",
       "text": [
        ">crDNA|J|10|1BFNxsbQbvEd6|Escherichia_coli_BL21_DE3|I-E|3.97536e-08\r\n",
        "gggataaaccGACAATCAGGGAACGATTGTTGACACTGTAAAAgtgttccccg\r\n",
        ">proto|J|10|1BFNxsbQbvEd6|Escherichia_coli_BL21_DE3|I-E|3.97536e-08\r\n",
        ".ggataaaccgACAATCAGGGAACGATTGTTGACACTGTAAAAgtgttccccg\r\n",
        ">crDNA|J|10|1H7g3Ri62Kvuk|Escherichia_coli_BL21_DE3|I-E|3.97536e-08\r\n",
        "gggataaaccGACAATCAGGGAACGATTGTTGACACTGTAAAAgtgttccccg\r\n",
        ">proto|J|10|1H7g3Ri62Kvuk|Escherichia_coli_BL21_DE3|I-E|3.97536e-08\r\n",
        ".ggataaaccgACAATCAGGGAACGATTGTTGACACTGTAAAAgtgttccccg\r\n",
        ">crDNA|J|10|1HxIJTv3VwnRy|Escherichia_coli_BL21_DE3|I-E|3.97536e-08\r\n",
        "gggataaaccGACAATCAGGGAACGATTGTTGACACTGTAAAAgtgttccccg\r\n",
        ">proto|J|10|1HxIJTv3VwnRy|Escherichia_coli_BL21_DE3|I-E|3.97536e-08\r\n",
        ".ggataaaccgACAATCAGGGAACGATTGTTGACACTGTAAAAgtgttccccg\r\n",
        ">crDNA|J|10|1HWPcIyJKjguo|Escherichia_coli_BL21_DE3|I-E|3.97536e-08\r\n",
        "gggataaaccGACAATCAGGGAACGATTGTTGACACTGTAAAAgtgttccccg\r\n",
        ">proto|J|10|1HWPcIyJKjguo|Escherichia_coli_BL21_DE3|I-E|3.97536e-08\r\n",
        ".ggataaaccgACAATCAGGGAACGATTGTTGACACTGTAAAAgtgttccccg\r\n",
        ">crDNA|J|10|1J9r0YWTNLRMo|Escherichia_coli_BL21_DE3|I-E|3.97536e-08\r\n",
        "gggataaaccGACAATCAGGGAACGATTGTTGACACTGTAAAAgtgttccccg\r\n",
        ">proto|J|10|1J9r0YWTNLRMo|Escherichia_coli_BL21_DE3|I-E|3.97536e-08\r\n",
        ".ggataaaccgACAATCAGGGAACGATTGTTGACACTGTAAAAgtgttccccg\r\n"
       ]
      }
     ],
     "prompt_number": 23
    },
    {
     "cell_type": "markdown",
     "metadata": {},
     "source": [
      "__The alignment is really just for each crDNA-protospacer pair (every 4 lines):__\n",
      "\n",
      "~~~\n",
      ">crDNA\n",
      "ATAGACA\n",
      ">proto\n",
      "ATAGACA\n",
      "~~~\n",
      "\n",
      "__If you wanted each pair individually, you could use something like the following:__"
     ]
    },
    {
     "cell_type": "code",
     "collapsed": false,
     "input": [
      "# WARNING: this will produce a lot of files!\n",
      "!split -l 4 -d -a 4 $CLdbDir'arrayBlast/all_crDNA-proto_aln.fna' $CLdbDir'arrayBlast/crDNA-proto_aln_split'\n",
      "\n",
      "## Let look at one of them\n",
      "!find $CLdbDir'arrayBlast/' -name 'crDNA-proto_aln_split[0-9]*' | head -n 1 | xargs -I % cat %"
     ],
     "language": "python",
     "metadata": {},
     "outputs": [
      {
       "output_type": "stream",
       "stream": "stdout",
       "text": [
        ">crDNA|J|6|22ByLIOpuxUAQ|Escherichia_coli_BL21_DE3|I-E|3.97536e-08\r\n",
        "gggataaaccGGCGACCACGCAGAGCGGCGACAACCTGACGTTgtgttccccg\r\n",
        ">proto|J|6|22ByLIOpuxUAQ|Escherichia_coli_BL21_DE3|I-E|3.97536e-08\r\n",
        ".ggataaaccgGCGACCACGCAGAGCGGCGACAACCTGACGTTgtgttccccg\r\n",
        "find: `standard output': Broken pipe\r\n",
        "find: write error\r\n"
       ]
      }
     ],
     "prompt_number": 36
    },
    {
     "cell_type": "code",
     "collapsed": false,
     "input": [
      "# Let's remove those files\n",
      "!find $CLdbDir'arrayBlast' -name 'crDNA-proto_aln_split[0-9]*' | xargs -I % rm %"
     ],
     "language": "python",
     "metadata": {},
     "outputs": [],
     "prompt_number": 38
    },
    {
     "cell_type": "code",
     "collapsed": false,
     "input": [
      "%%bash -s \"$CLdbDir\" \"$scriptDir\"\n",
      "# Looking at the alignments can be very useful, but it can help to extract what we specifically want and summarize.\n",
      "## Let's pull out the potential PAM regions from the alignment \n",
      "## We are going to assume that the PAM is:\n",
      "### 4bp (really 3bp) long \n",
      "### adjacent to the 5' end of the protospacer (right side of the alignment)\n",
      "\n",
      "cd $1\n",
      "perl $2'CLdb_arrayBlastGetPAM.pl' -PAM 1 4 -f - \\\n",
      "    < ./arrayBlast/all_crDNA-proto_aln.fna \\\n",
      "    > ./arrayBlast/all_crDNA-proto_aln_PAM.fna\n",
      "\n",
      "head ./arrayBlast/all_crDNA-proto_aln_PAM.fna"
     ],
     "language": "python",
     "metadata": {},
     "outputs": [
      {
       "output_type": "stream",
       "stream": "stdout",
       "text": [
        ">proto|G|3|21WKGmhD8OS0s|Escherichia_coli_O157_H7|I-E|3.97536e-08\n",
        "gtgt\n",
        ">proto|D|3|acrDRh1RR5Na|Escherichia_coli_K-12_DH10B|I-E|1.08991e-08\n",
        "gtgt\n",
        ">proto|J|7|2PvuEIE5YqPoo|Escherichia_coli_BL21_DE3|I-E|3.97536e-08\n",
        "gtgt\n",
        ">proto|B|2|1z8G9sfx4ozre|Escherichia_coli_K-12_MG1655|I-E|1.08991e-08\n",
        "gtgt\n",
        ">proto|F|3|4bpkkVPh0mck|Escherichia_coli_K-12_W3110|I-E|1.08991e-08\n",
        "gtgt\n"
       ]
      }
     ],
     "prompt_number": 39
    },
    {
     "cell_type": "code",
     "collapsed": false,
     "input": [
      "#summarizing each PAM sequence\n",
      "!egrep -v \"^>\" $CLdbDir'./arrayBlast/all_crDNA-proto_aln_PAM.fna' | sort | uniq -c | sort -k 1 -n -r "
     ],
     "language": "python",
     "metadata": {},
     "outputs": [
      {
       "output_type": "stream",
       "stream": "stdout",
       "text": [
        "   1201 gtgt\r\n",
        "    371 gagt\r\n",
        "      6 \r\n",
        "      4 gagc\r\n",
        "      3 aatt\r\n",
        "      3 aagt\r\n",
        "      2 cgtg\r\n",
        "      2 cggt\r\n",
        "      2 acgg\r\n"
       ]
      }
     ],
     "prompt_number": 40
    },
    {
     "cell_type": "code",
     "collapsed": false,
     "input": [
      "# and if we reverse the sequence...\n",
      "!egrep -v \"^>\" $CLdbDir'./arrayBlast/all_crDNA-proto_aln_PAM.fna' | rev | sort | uniq -c | sort -k 1 -n -r "
     ],
     "language": "python",
     "metadata": {},
     "outputs": [
      {
       "output_type": "stream",
       "stream": "stdout",
       "text": [
        "   1201 tgtg\r\n",
        "    371 tgag\r\n",
        "      6 \r\n",
        "      4 cgag\r\n",
        "      3 ttaa\r\n",
        "      3 tgaa\r\n",
        "      2 tggc\r\n",
        "      2 gtgc\r\n",
        "      2 ggca\r\n"
       ]
      }
     ],
     "prompt_number": 41
    },
    {
     "cell_type": "markdown",
     "metadata": {},
     "source": [
      "__We get the (less prevalent) PAM region ('TGT') for known I-E CRISPR systems as shown in [Rorek et al., 2013](http://www.annualreviews.org/doi/abs/10.1146/annurev-biochem-072911-172315)!__"
     ]
    },
    {
     "cell_type": "markdown",
     "metadata": {},
     "source": [
      "### spacer (crDNA) - protospacer mismatch distribution\n",
      "\n",
      "Let's look at potential spacer targeting by assessing mismatches of the crDNAs and protospacers"
     ]
    },
    {
     "cell_type": "code",
     "collapsed": false,
     "input": [
      "%%bash -s \"$CLdbDir\" \"$scriptDir\"\n",
      "# This script will make 2 summary files of mismatches for each crDNA-protospacer alignment\n",
      "# Given that spacers can vary in length, the alignment is relative to a user-defined 'SEED' region.\n",
      "# I'm going to use the default SEED region: '-SEED -8 -1'\n",
      "## This SEED region covers the last 8 bp of the alignment\n",
      "\n",
      "cd $1\n",
      "perl $2'CLdb_arrayBlastSEEDstats.pl' \\\n",
      "    --SEED -8 -1 \\\n",
      "    < ./arrayBlast/all_crDNA-proto_aln.fna \\\n",
      "    -prefix ./arrayBlast/all_crDNA-proto_aln\n"
     ],
     "language": "python",
     "metadata": {},
     "outputs": [
      {
       "output_type": "stream",
       "stream": "stderr",
       "text": [
        "SEED summary file written: './arrayBlast/all_crDNA-proto_aln_SEEDstats-summary.txt'\n",
        "SEED by-position table written: './arrayBlast/all_crDNA-proto_aln_SEEDstats-byPos.txt'\n"
       ]
      }
     ],
     "prompt_number": 52
    },
    {
     "cell_type": "code",
     "collapsed": false,
     "input": [
      "%%R -i CLdbDir -w 800\n",
      "# plotting mismatches across the protospacer alignments\n",
      "library(ggplot2)\n",
      "library(gridExtra)\n",
      "\n",
      "# loading table\n",
      "filename = './arrayBlast/all_crDNA-proto_aln_SEEDstats-byPos.txt'\n",
      "fullname = paste(c(CLdbDir, filename), collapse='')\n",
      "\n",
      "tbl = read.delim( fullname )\n",
      "tbl = tbl[tbl$region != 'protospacer', ]\n",
      "\n",
      "# mismatches and counts, & normalized mismatches\n",
      "p.mis = ggplot(tbl, aes(pos_rel_SEED, mismatches, group=region, fill=region)) +\n",
      "    geom_bar(stat='identity', position='dodge') +\n",
      "    labs(y='Number\\nof mismatches', x='Alignment position relative to SEED start')\n",
      "p.count = ggplot(tbl, aes(pos_rel_SEED, count, group=region, fill=region)) +  \n",
      "    geom_bar(stat='identity', position='dodge') +\n",
      "    labs(y='Number of align-\\nments with position', x='Alignment position relative to SEED start')\n",
      "p.norm = ggplot(tbl, aes(pos_rel_SEED, mismatch_norm, group=region, fill=region)) +\n",
      "  geom_bar(stat='identity', position='dodge') +\n",
      "    labs(y='Mismatchs /\\nalignments', x='Alignment position relative to SEED start')\n",
      "\n",
      "grid.arrange(p.count, p.mis, p.norm, ncol=1)"
     ],
     "language": "python",
     "metadata": {},
     "outputs": [
      {
       "metadata": {},
       "output_type": "display_data",
       "text": [
        "NULL\n"
       ]
      },
      {
       "metadata": {},
       "output_type": "display_data",
       "png": "[encoded data removed]"
      }
     ],
     "prompt_number": 53
    },
    {
     "cell_type": "code",
     "collapsed": false,
     "input": [],
     "language": "python",
     "metadata": {},
     "outputs": []
    }
   ],
   "metadata": {}
  }
 ]
}