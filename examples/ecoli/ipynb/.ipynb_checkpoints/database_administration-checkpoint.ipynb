{
 "metadata": {
  "name": "",
  "signature": "sha256:870e63a72d237832b64787a780ba7479a9210cf7d955cb3c229ed63a9a2468ed"
 },
 "nbformat": 3,
 "nbformat_minor": 0,
 "worksheets": [
  {
   "cells": [
    {
     "cell_type": "markdown",
     "metadata": {},
     "source": [
      "# Description\n",
      "\n",
      "This notebook provides examples of common tasks database manipulation, summarization, and getting some basic info from the database.\n",
      "\n",
      "Most of these tasks could also be done with some understanding of sqlite. \n",
      "These tasks are (hopefully) made easier with the provided scripts.\n",
      "\n",
      "I also provide examples of tasks that are so simple, I didn't think it was necessary to make one."
     ]
    },
    {
     "cell_type": "markdown",
     "metadata": {},
     "source": [
      "### Before running this notebook:\n",
      "\n",
      "* __run the [Setup](./Setup.pynb) notebook__"
     ]
    },
    {
     "cell_type": "code",
     "collapsed": false,
     "input": [
      "# This tutorial assumes that this IPython notebook is in the ./CLdb/examples/ecoli_ipynb/ directory.\n",
      "## these are the relative paths to everything we will be working with\n",
      "CLdbDir = \"../CLdb/\"\n",
      "scriptDir = \"../../../bin/\""
     ],
     "language": "python",
     "metadata": {},
     "outputs": [],
     "prompt_number": 2
    },
    {
     "cell_type": "code",
     "collapsed": false,
     "input": [
      "# checking to make sure a CLdb database exists\n",
      "!ls -thlc $CLdbDir"
     ],
     "language": "python",
     "metadata": {},
     "outputs": [
      {
       "output_type": "stream",
       "stream": "stdout",
       "text": [
        "total 432K\r\n",
        "drwxrwxr-x 3 nyoungb2 nyoungb2  76K Jun 22 08:19 arrayBlast\r\n",
        "-rw-r--r-- 1 nyoungb2 nyoungb2 321K Jun 22 08:05 CLdb.sqlite\r\n",
        "drwxrwxr-x 2 nyoungb2 nyoungb2 4.0K Jun 22 08:05 clustering\r\n",
        "drwxrwxr-x 2 nyoungb2 nyoungb2 4.0K Jun 22 07:57 fasta\r\n",
        "drwxrwxr-x 2 nyoungb2 nyoungb2 4.0K Jun 22 07:48 genbank\r\n",
        "drwxrwxr-x 2 nyoungb2 nyoungb2 4.0K Jun 22 07:48 array\r\n",
        "-rw-rw-r-- 1 nyoungb2 nyoungb2  184 Jun 22 07:48 GIs.txt\r\n",
        "drwxrwxr-x 2 nyoungb2 nyoungb2 4.0K Jun 22 07:48 loci\r\n"
       ]
      }
     ],
     "prompt_number": 4
    },
    {
     "cell_type": "markdown",
     "metadata": {},
     "source": [
      "# Script-task outline\n",
      "\n",
      "#### CLdb_summary.pl\n",
      " * Make a summary table quantifying database entries \n",
      "\n",
      "#### CLdb_writeTable.pl\n",
      " * Write >=1 table in the database\n",
      " * This is useful for general database entry editing without really using sql."
     ]
    },
    {
     "cell_type": "markdown",
     "metadata": {},
     "source": [
      "## CLdb_summary.pl"
     ]
    },
    {
     "cell_type": "code",
     "collapsed": false,
     "input": [],
     "language": "python",
     "metadata": {},
     "outputs": []
    }
   ],
   "metadata": {}
  }
 ]
}