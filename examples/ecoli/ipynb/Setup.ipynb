{
 "metadata": {
  "name": "",
  "signature": "sha256:e0c5d7ae08d4923e1fd6a0f609054530cbc29c3a9514edb3297f24885bd375d4"
 },
 "nbformat": 3,
 "nbformat_minor": 0,
 "worksheets": [
  {
   "cells": [
    {
     "cell_type": "markdown",
     "metadata": {},
     "source": [
      "__This notebook describes the setup of CLdb with a set of E. coli genomes.__\n"
     ]
    },
    {
     "cell_type": "code",
     "collapsed": false,
     "input": [
      "# This tutorial assumes that this IPython notebook is in the ./CLdb/examples/ecoli_ipynb/ directory.\n",
      "## these are the relative paths to everything we will be working with\n",
      "rawDir = \"../raw_files/\"\n",
      "CLdbDir = \"../CLdb/\"\n",
      "scriptDir = \"../../../bin/\""
     ],
     "language": "python",
     "metadata": {},
     "outputs": [],
     "prompt_number": 1
    },
    {
     "cell_type": "code",
     "collapsed": false,
     "input": [
      "# viewing file links\n",
      "from IPython.display import FileLinks\n",
      "# pretty viewing of tables\n",
      "## get from: http://epmoyer.github.io/ipy_table/\n",
      "from ipy_table import *"
     ],
     "language": "python",
     "metadata": {},
     "outputs": [],
     "prompt_number": 6
    },
    {
     "cell_type": "markdown",
     "metadata": {},
     "source": [
      "__The required files are in '../ecoli_raw/':__\n",
      "\n",
      "* a loci table\n",
      "* array files\n",
      "* genome nucleotide sequences\n",
      " * genbank (preferred) or fasta format\n",
      "\n",
      "__Let's look at the provided files for this example:__"
     ]
    },
    {
     "cell_type": "code",
     "collapsed": false,
     "input": [
      "FileLinks(rawDir)"
     ],
     "language": "python",
     "metadata": {},
     "outputs": [
      {
       "html": [
        "../raw_files/<br>\n",
        "&nbsp;&nbsp;<a href='../raw_files/loci.zip' target='_blank'>loci.zip</a><br>\n",
        "&nbsp;&nbsp;<a href='../raw_files/GIs.txt.zip' target='_blank'>GIs.txt.zip</a><br>\n",
        "&nbsp;&nbsp;<a href='../raw_files/array.zip' target='_blank'>array.zip</a><br>\n",
        "&nbsp;&nbsp;<a href='../raw_files/GIs.txt' target='_blank'>GIs.txt</a><br>\n",
        "../raw_files/array/<br>\n",
        "&nbsp;&nbsp;<a href='../raw_files/array/Ecoli_K12_DH10B_a2.txt' target='_blank'>Ecoli_K12_DH10B_a2.txt</a><br>\n",
        "&nbsp;&nbsp;<a href='../raw_files/array/Ecoli_K12_W3110_a1.txt' target='_blank'>Ecoli_K12_W3110_a1.txt</a><br>\n",
        "&nbsp;&nbsp;<a href='../raw_files/array/Ecoli_K12_MG1655_a1.txt' target='_blank'>Ecoli_K12_MG1655_a1.txt</a><br>\n",
        "&nbsp;&nbsp;<a href='../raw_files/array/Ecoli_BL21_DE3_a2.txt' target='_blank'>Ecoli_BL21_DE3_a2.txt</a><br>\n",
        "&nbsp;&nbsp;<a href='../raw_files/array/Ecoli_K12_MG1655_a2.txt' target='_blank'>Ecoli_K12_MG1655_a2.txt</a><br>\n",
        "&nbsp;&nbsp;<a href='../raw_files/array/Ecoli_BL21_DE3_a1.txt' target='_blank'>Ecoli_BL21_DE3_a1.txt</a><br>\n",
        "&nbsp;&nbsp;<a href='../raw_files/array/Ecoli_K12_W3110_a2.txt' target='_blank'>Ecoli_K12_W3110_a2.txt</a><br>\n",
        "&nbsp;&nbsp;<a href='../raw_files/array/Ecoli_K12_DH10B_a1.txt' target='_blank'>Ecoli_K12_DH10B_a1.txt</a><br>\n",
        "&nbsp;&nbsp;<a href='../raw_files/array/Ecoli_0157_H7_a1.txt' target='_blank'>Ecoli_0157_H7_a1.txt</a><br>\n",
        "&nbsp;&nbsp;<a href='../raw_files/array/Ecoli_0157_H7_a2.txt' target='_blank'>Ecoli_0157_H7_a2.txt</a><br>\n",
        "../raw_files/loci/<br>\n",
        "&nbsp;&nbsp;<a href='../raw_files/loci/140419_loci.txt' target='_blank'>140419_loci.txt</a><br>"
       ],
       "metadata": {},
       "output_type": "pyout",
       "prompt_number": 7,
       "text": [
        "../raw_files/\n",
        "  loci.zip\n",
        "  GIs.txt.zip\n",
        "  array.zip\n",
        "  GIs.txt\n",
        "../raw_files/array/\n",
        "  Ecoli_K12_DH10B_a2.txt\n",
        "  Ecoli_K12_W3110_a1.txt\n",
        "  Ecoli_K12_MG1655_a1.txt\n",
        "  Ecoli_BL21_DE3_a2.txt\n",
        "  Ecoli_K12_MG1655_a2.txt\n",
        "  Ecoli_BL21_DE3_a1.txt\n",
        "  Ecoli_K12_W3110_a2.txt\n",
        "  Ecoli_K12_DH10B_a1.txt\n",
        "  Ecoli_0157_H7_a1.txt\n",
        "  Ecoli_0157_H7_a2.txt\n",
        "../raw_files/loci/\n",
        "  140419_loci.txt"
       ]
      }
     ],
     "prompt_number": 7
    },
    {
     "cell_type": "markdown",
     "metadata": {},
     "source": [
      "## Setting up the CLdb directory"
     ]
    },
    {
     "cell_type": "code",
     "collapsed": false,
     "input": [
      "%%bash -s \"$rawDir\" \"$CLdbDir\"\n",
      "\n",
      "# new ecoli_CLdb directory (removing old version if exists)\n",
      "if [ -d $2 ]; then\n",
      "    rm -rf $2\n",
      "    mkdir $2\n",
      "fi\n",
      "\n",
      "\n",
      "# unarchiving files in the raw folder over to the newly made working folder\n",
      "find $1 -type f -name \"*zip\" | xargs -I % unzip % -d $2\n",
      "\n",
      "# checking files\n",
      "echo \"CLdb directory contents:\"\n",
      "ls -thlc $2"
     ],
     "language": "python",
     "metadata": {},
     "outputs": [
      {
       "output_type": "stream",
       "stream": "stdout",
       "text": [
        "Archive:  ../raw_files/loci.zip\n",
        "   creating: ../CLdb/loci/\n",
        "  inflating: ../CLdb/loci/140419_loci.txt  \n",
        "Archive:  ../raw_files/GIs.txt.zip\n",
        "  inflating: ../CLdb/GIs.txt         \n",
        "Archive:  ../raw_files/array.zip\n",
        "   creating: ../CLdb/array/\n",
        "  inflating: ../CLdb/array/Ecoli_K12_DH10B_a2.txt  \n",
        "  inflating: ../CLdb/array/Ecoli_K12_W3110_a1.txt  \n",
        "  inflating: ../CLdb/array/Ecoli_K12_MG1655_a1.txt  \n",
        "  inflating: ../CLdb/array/Ecoli_BL21_DE3_a2.txt  \n",
        "  inflating: ../CLdb/array/Ecoli_K12_MG1655_a2.txt  \n",
        "  inflating: ../CLdb/array/Ecoli_BL21_DE3_a1.txt  \n",
        "  inflating: ../CLdb/array/Ecoli_K12_W3110_a2.txt  \n",
        "  inflating: ../CLdb/array/Ecoli_K12_DH10B_a1.txt  \n",
        "  inflating: ../CLdb/array/Ecoli_0157_H7_a1.txt  \n",
        "  inflating: ../CLdb/array/Ecoli_0157_H7_a2.txt  \n",
        "CLdb directory contents:\n",
        "total 12K\n",
        "drwxrwxr-x 2 nyoungb2 nyoungb2 4.0K Jun 22 07:48 array\n",
        "-rw-rw-r-- 1 nyoungb2 nyoungb2  184 Jun 22 07:48 GIs.txt\n",
        "drwxrwxr-x 2 nyoungb2 nyoungb2 4.0K Jun 22 07:48 loci\n"
       ]
      }
     ],
     "prompt_number": 8
    },
    {
     "cell_type": "markdown",
     "metadata": {},
     "source": [
      "__Downloading the genome genbank files. Using the 'GIs.txt' file__"
     ]
    },
    {
     "cell_type": "code",
     "collapsed": false,
     "input": [
      "%%bash -s \"$CLdbDir\" \"$scriptDir\"\n",
      "\n",
      "cd $1\n",
      "\n",
      "# making directory\n",
      "genbankDir='genbank/'\n",
      "if [ ! -d $genbankDir ]; then\n",
      "    mkdir $genbankDir\n",
      "fi\n",
      "\n",
      "\n",
      "# loading genbanks (uses BioPerl)\n",
      "perl $2'accession-GI2fastaGenome.pl' -format genbank -fork 5 < 'GIs.txt' -prefix $genbankDir\n",
      "\n",
      "# checking files; all file sizes should be > 10 Mb\n",
      "ls -thlc genbank/*gbk"
     ],
     "language": "python",
     "metadata": {},
     "outputs": [
      {
       "output_type": "stream",
       "stream": "stdout",
       "text": [
        "-rw-rw-r-- 1 nyoungb2 nyoungb2 13M Jun 22 07:48 genbank/Escherichia_coli_O_57_H7.gbk\n",
        "-rw-rw-r-- 1 nyoungb2 nyoungb2 13M Jun 22 07:48 genbank/Escherichia_coli_K_2_MG_655.gbk\n",
        "-rw-rw-r-- 1 nyoungb2 nyoungb2 11M Jun 22 07:48 genbank/Escherichia_coli_K_2_W3.gbk\n",
        "-rw-rw-r-- 1 nyoungb2 nyoungb2 10M Jun 22 07:48 genbank/Escherichia_coli_BL2_DE3.gbk\n",
        "-rw-rw-r-- 1 nyoungb2 nyoungb2 11M Jun 22 07:48 genbank/Escherichia_coli_K_2_DH_B.gbk\n"
       ]
      },
      {
       "output_type": "stream",
       "stream": "stderr",
       "text": [
        "Writing files to '/home/nyoungb2/perl/projects/CLdb/examples/ecoli/CLdb/genbank'\n",
        "Attempting to stream: Escherichia_coli_K_2_DH_B (accession/GI = 170079663)\n",
        "Attempting to stream: Escherichia_coli_K_2_MG_655 (accession/GI = 49175990)\n",
        "Attempting to stream: Escherichia_coli_BL2_DE3 (accession/GI = 387825439)\n",
        "Attempting to stream: Escherichia_coli_K_2_W3 (accession/GI = 388476123)\n",
        "Attempting to stream: Escherichia_coli_O_57_H7 (accession/GI = 16445223)\n",
        "\n",
        "--------------------- WARNING ---------------------\n",
        "MSG: Unrecognized DBSOURCE data: BioProject: PRJNA57831\n",
        "\n",
        "---------------------------------------------------\n"
       ]
      }
     ],
     "prompt_number": 9
    },
    {
     "cell_type": "markdown",
     "metadata": {},
     "source": [
      "## Loading CLdb"
     ]
    },
    {
     "cell_type": "code",
     "collapsed": false,
     "input": [
      "%%bash -s \"$CLdbDir\" \"$scriptDir\"\n",
      "\n",
      "# making the sqlite database\n",
      "cd $1\n",
      "if [ -e 'CLdb.sqlite' ]; then \n",
      "    rm 'CLdb.sqlite'\n",
      "fi\n",
      "\n",
      "perl $2'CLdb_makeDB.pl'"
     ],
     "language": "python",
     "metadata": {},
     "outputs": [
      {
       "output_type": "stream",
       "stream": "stderr",
       "text": [
        "...sqlite3 database tables created\n"
       ]
      }
     ],
     "prompt_number": 10
    },
    {
     "cell_type": "markdown",
     "metadata": {},
     "source": [
      "* The next step is loading the loci table.\n",
      " * This table contains the user-provided info on each CRISPR-CAS system in the genomes.\n",
      " * Let's look at the table before loading it in CLdb"
     ]
    },
    {
     "cell_type": "code",
     "collapsed": false,
     "input": [
      "import csv\n",
      "lociFile = 'loci/140419_loci.txt'\n",
      "\n",
      "# reading in file\n",
      "tbl = []\n",
      "with open(CLdbDir + lociFile, 'rb') as f:\n",
      "    reader = csv.reader(f, delimiter='\\t')\n",
      "    for row in reader:\n",
      "        tbl.append(row)\n",
      "\n",
      "# making table\n",
      "make_table(tbl)\n",
      "apply_theme('basic')"
     ],
     "language": "python",
     "metadata": {},
     "outputs": [
      {
       "html": [
        "<table border=\"1\" cellpadding=\"3\" cellspacing=\"0\"  style=\"border:1px solid black;border-collapse:collapse;\"><tr><td  style=\"background-color:LightGray;\"><b>Locus_ID</b></td><td  style=\"background-color:LightGray;\"><b>Taxon_ID</b></td><td  style=\"background-color:LightGray;\"><b>Taxon_Name</b></td><td  style=\"background-color:LightGray;\"><b>Subtype</b></td><td  style=\"background-color:LightGray;\"><b>Scaffold</b></td><td  style=\"background-color:LightGray;\"><b>Locus_Start</b></td><td  style=\"background-color:LightGray;\"><b>Locus_End</b></td><td  style=\"background-color:LightGray;\"><b>CAS_Start</b></td><td  style=\"background-color:LightGray;\"><b>CAS_End</b></td><td  style=\"background-color:LightGray;\"><b>Array_Start</b></td><td  style=\"background-color:LightGray;\"><b>Array_End</b></td><td  style=\"background-color:LightGray;\"><b>CAS_Status</b></td><td  style=\"background-color:LightGray;\"><b>Array_Status</b></td><td  style=\"background-color:LightGray;\"><b>Genbank_File</b></td><td  style=\"background-color:LightGray;\"><b>Fasta_File</b></td><td  style=\"background-color:LightGray;\"><b>Array_File</b></td><td  style=\"background-color:LightGray;\"><b>Scaffold_count</b></td><td  style=\"background-color:LightGray;\"><b>File_Creation_Date</b></td><td  style=\"background-color:LightGray;\"><b>Author</b></td><td  style=\"background-color:LightGray;\"><b>Leader_Start</b></td><td  style=\"background-color:LightGray;\"><b>Leader_End</b></td></tr><tr><td  style=\"background-color:Ivory;\">A</td><td  style=\"background-color:Ivory;\">49175990</td><td  style=\"background-color:Ivory;\">Escherichia_coli_K-12_MG1655</td><td  style=\"background-color:Ivory;\">I-E</td><td  style=\"background-color:Ivory;\">NC_000913</td><td  style=\"background-color:Ivory;\">2875723</td><td  style=\"background-color:Ivory;\">2876485</td><td  style=\"background-color:Ivory;\"></td><td  style=\"background-color:Ivory;\"></td><td  style=\"background-color:Ivory;\">2875723</td><td  style=\"background-color:Ivory;\">2876485</td><td  style=\"background-color:Ivory;\"></td><td  style=\"background-color:Ivory;\">intact</td><td  style=\"background-color:Ivory;\">Escherichia_coli_K_2_MG_655.gbk</td><td  style=\"background-color:Ivory;\"></td><td  style=\"background-color:Ivory;\">Ecoli_K12_MG1655_a1.txt</td><td  style=\"background-color:Ivory;\"></td><td  style=\"background-color:Ivory;\">4/19/14</td><td  style=\"background-color:Ivory;\">Nick</td><td  style=\"background-color:Ivory;\"></td><td  style=\"background-color:Ivory;\"></td></tr><tr><td  style=\"background-color:AliceBlue;\">B</td><td  style=\"background-color:AliceBlue;\">49175990</td><td  style=\"background-color:AliceBlue;\">Escherichia_coli_K-12_MG1655</td><td  style=\"background-color:AliceBlue;\">I-E</td><td  style=\"background-color:AliceBlue;\">NC_000913</td><td  style=\"background-color:AliceBlue;\">2902036</td><td  style=\"background-color:AliceBlue;\">2902429</td><td  style=\"background-color:AliceBlue;\"></td><td  style=\"background-color:AliceBlue;\"></td><td  style=\"background-color:AliceBlue;\">2902036</td><td  style=\"background-color:AliceBlue;\">2902429</td><td  style=\"background-color:AliceBlue;\"></td><td  style=\"background-color:AliceBlue;\">intact</td><td  style=\"background-color:AliceBlue;\">Escherichia_coli_K_2_MG_655.gbk</td><td  style=\"background-color:AliceBlue;\"></td><td  style=\"background-color:AliceBlue;\">Ecoli_K12_MG1655_a2.txt</td><td  style=\"background-color:AliceBlue;\"></td><td  style=\"background-color:AliceBlue;\">4/19/14</td><td  style=\"background-color:AliceBlue;\">Nick</td><td  style=\"background-color:AliceBlue;\"></td><td  style=\"background-color:AliceBlue;\"></td></tr><tr><td  style=\"background-color:Ivory;\">C</td><td  style=\"background-color:Ivory;\">170079663</td><td  style=\"background-color:Ivory;\">Escherichia_coli_K-12_DH10B</td><td  style=\"background-color:Ivory;\">I-E</td><td  style=\"background-color:Ivory;\">NC_010473</td><td  style=\"background-color:Ivory;\">2968265</td><td  style=\"background-color:Ivory;\">2969027</td><td  style=\"background-color:Ivory;\"></td><td  style=\"background-color:Ivory;\"></td><td  style=\"background-color:Ivory;\">2968265</td><td  style=\"background-color:Ivory;\">2969027</td><td  style=\"background-color:Ivory;\"></td><td  style=\"background-color:Ivory;\">intact</td><td  style=\"background-color:Ivory;\">Escherichia_coli_K_2_DH_B.gbk</td><td  style=\"background-color:Ivory;\"></td><td  style=\"background-color:Ivory;\">Ecoli_K12_DH10B_a1.txt</td><td  style=\"background-color:Ivory;\"></td><td  style=\"background-color:Ivory;\">4/19/14</td><td  style=\"background-color:Ivory;\">Nick</td><td  style=\"background-color:Ivory;\"></td><td  style=\"background-color:Ivory;\"></td></tr><tr><td  style=\"background-color:AliceBlue;\">D</td><td  style=\"background-color:AliceBlue;\">170079663</td><td  style=\"background-color:AliceBlue;\">Escherichia_coli_K-12_DH10B</td><td  style=\"background-color:AliceBlue;\">I-E</td><td  style=\"background-color:AliceBlue;\">NC_010473</td><td  style=\"background-color:AliceBlue;\">2994578</td><td  style=\"background-color:AliceBlue;\">2994971</td><td  style=\"background-color:AliceBlue;\"></td><td  style=\"background-color:AliceBlue;\"></td><td  style=\"background-color:AliceBlue;\">2994578</td><td  style=\"background-color:AliceBlue;\">2994971</td><td  style=\"background-color:AliceBlue;\"></td><td  style=\"background-color:AliceBlue;\">intact</td><td  style=\"background-color:AliceBlue;\">Escherichia_coli_K_2_DH_B.gbk</td><td  style=\"background-color:AliceBlue;\"></td><td  style=\"background-color:AliceBlue;\">Ecoli_K12_DH10B_a2.txt</td><td  style=\"background-color:AliceBlue;\"></td><td  style=\"background-color:AliceBlue;\">4/19/14</td><td  style=\"background-color:AliceBlue;\">Nick</td><td  style=\"background-color:AliceBlue;\"></td><td  style=\"background-color:AliceBlue;\"></td></tr><tr><td  style=\"background-color:Ivory;\">E</td><td  style=\"background-color:Ivory;\">388476123</td><td  style=\"background-color:Ivory;\">Escherichia_coli_K-12_W3110</td><td  style=\"background-color:Ivory;\">I-E</td><td  style=\"background-color:Ivory;\">NC_007779</td><td  style=\"background-color:Ivory;\">2876357</td><td  style=\"background-color:Ivory;\">2877119</td><td  style=\"background-color:Ivory;\"></td><td  style=\"background-color:Ivory;\"></td><td  style=\"background-color:Ivory;\">2876357</td><td  style=\"background-color:Ivory;\">2877119</td><td  style=\"background-color:Ivory;\"></td><td  style=\"background-color:Ivory;\">intact</td><td  style=\"background-color:Ivory;\">Escherichia_coli_K_2_W3.gbk</td><td  style=\"background-color:Ivory;\"></td><td  style=\"background-color:Ivory;\">Ecoli_K12_W3110_a1.txt</td><td  style=\"background-color:Ivory;\"></td><td  style=\"background-color:Ivory;\">4/19/14</td><td  style=\"background-color:Ivory;\">Nick</td><td  style=\"background-color:Ivory;\"></td><td  style=\"background-color:Ivory;\"></td></tr><tr><td  style=\"background-color:AliceBlue;\">F</td><td  style=\"background-color:AliceBlue;\">388476123</td><td  style=\"background-color:AliceBlue;\">Escherichia_coli_K-12_W3110</td><td  style=\"background-color:AliceBlue;\">I-E</td><td  style=\"background-color:AliceBlue;\">NC_007779</td><td  style=\"background-color:AliceBlue;\">2902670</td><td  style=\"background-color:AliceBlue;\">2903063</td><td  style=\"background-color:AliceBlue;\"></td><td  style=\"background-color:AliceBlue;\"></td><td  style=\"background-color:AliceBlue;\">2902670</td><td  style=\"background-color:AliceBlue;\">2903063</td><td  style=\"background-color:AliceBlue;\"></td><td  style=\"background-color:AliceBlue;\">intact</td><td  style=\"background-color:AliceBlue;\">Escherichia_coli_K_2_W3.gbk</td><td  style=\"background-color:AliceBlue;\"></td><td  style=\"background-color:AliceBlue;\">Ecoli_K12_W3110_a2.txt</td><td  style=\"background-color:AliceBlue;\"></td><td  style=\"background-color:AliceBlue;\">4/19/14</td><td  style=\"background-color:AliceBlue;\">Nick</td><td  style=\"background-color:AliceBlue;\"></td><td  style=\"background-color:AliceBlue;\"></td></tr><tr><td  style=\"background-color:Ivory;\">G</td><td  style=\"background-color:Ivory;\">16445223</td><td  style=\"background-color:Ivory;\">Escherichia_coli_O157_H7</td><td  style=\"background-color:Ivory;\">I-E</td><td  style=\"background-color:Ivory;\">NC_002655</td><td  style=\"background-color:Ivory;\">3665521</td><td  style=\"background-color:Ivory;\">3665732</td><td  style=\"background-color:Ivory;\"></td><td  style=\"background-color:Ivory;\"></td><td  style=\"background-color:Ivory;\">3665521</td><td  style=\"background-color:Ivory;\">3665732</td><td  style=\"background-color:Ivory;\"></td><td  style=\"background-color:Ivory;\">intact</td><td  style=\"background-color:Ivory;\">Escherichia_coli_O_57_H7.gbk</td><td  style=\"background-color:Ivory;\"></td><td  style=\"background-color:Ivory;\">Ecoli_0157_H7_a1.txt</td><td  style=\"background-color:Ivory;\"></td><td  style=\"background-color:Ivory;\">4/19/14</td><td  style=\"background-color:Ivory;\">Nick</td><td  style=\"background-color:Ivory;\"></td><td  style=\"background-color:Ivory;\"></td></tr><tr><td  style=\"background-color:AliceBlue;\">H</td><td  style=\"background-color:AliceBlue;\">16445223</td><td  style=\"background-color:AliceBlue;\">Escherichia_coli_O157_H7</td><td  style=\"background-color:AliceBlue;\">I-E</td><td  style=\"background-color:AliceBlue;\">NC_002655</td><td  style=\"background-color:AliceBlue;\">3691424</td><td  style=\"background-color:AliceBlue;\">3691513</td><td  style=\"background-color:AliceBlue;\"></td><td  style=\"background-color:AliceBlue;\"></td><td  style=\"background-color:AliceBlue;\">3691424</td><td  style=\"background-color:AliceBlue;\">3691513</td><td  style=\"background-color:AliceBlue;\"></td><td  style=\"background-color:AliceBlue;\">intact</td><td  style=\"background-color:AliceBlue;\">Escherichia_coli_O_57_H7.gbk</td><td  style=\"background-color:AliceBlue;\"></td><td  style=\"background-color:AliceBlue;\">Ecoli_0157_H7_a2.txt</td><td  style=\"background-color:AliceBlue;\"></td><td  style=\"background-color:AliceBlue;\">4/19/14</td><td  style=\"background-color:AliceBlue;\">Nick</td><td  style=\"background-color:AliceBlue;\"></td><td  style=\"background-color:AliceBlue;\"></td></tr><tr><td  style=\"background-color:Ivory;\">I</td><td  style=\"background-color:Ivory;\">387825439</td><td  style=\"background-color:Ivory;\">Escherichia_coli_BL21_DE3</td><td  style=\"background-color:Ivory;\">I-E</td><td  style=\"background-color:Ivory;\">NC_012971</td><td  style=\"background-color:Ivory;\">2717668</td><td  style=\"background-color:Ivory;\">2717940</td><td  style=\"background-color:Ivory;\"></td><td  style=\"background-color:Ivory;\"></td><td  style=\"background-color:Ivory;\">2717668</td><td  style=\"background-color:Ivory;\">2717940</td><td  style=\"background-color:Ivory;\"></td><td  style=\"background-color:Ivory;\">intact</td><td  style=\"background-color:Ivory;\">Escherichia_coli_BL2_DE3.gbk</td><td  style=\"background-color:Ivory;\"></td><td  style=\"background-color:Ivory;\">Ecoli_BL21_DE3_a1.txt</td><td  style=\"background-color:Ivory;\"></td><td  style=\"background-color:Ivory;\">4/19/14</td><td  style=\"background-color:Ivory;\">Nick</td><td  style=\"background-color:Ivory;\"></td><td  style=\"background-color:Ivory;\"></td></tr><tr><td  style=\"background-color:AliceBlue;\">J</td><td  style=\"background-color:AliceBlue;\">387825439</td><td  style=\"background-color:AliceBlue;\">Escherichia_coli_BL21_DE3</td><td  style=\"background-color:AliceBlue;\">I-E</td><td  style=\"background-color:AliceBlue;\">NC_012971</td><td  style=\"background-color:AliceBlue;\">2736174</td><td  style=\"background-color:AliceBlue;\">2736996</td><td  style=\"background-color:AliceBlue;\"></td><td  style=\"background-color:AliceBlue;\"></td><td  style=\"background-color:AliceBlue;\">2736174</td><td  style=\"background-color:AliceBlue;\">2736996</td><td  style=\"background-color:AliceBlue;\"></td><td  style=\"background-color:AliceBlue;\">intact</td><td  style=\"background-color:AliceBlue;\">Escherichia_coli_BL2_DE3.gbk</td><td  style=\"background-color:AliceBlue;\"></td><td  style=\"background-color:AliceBlue;\">Ecoli_BL21_DE3_a2.txt</td><td  style=\"background-color:AliceBlue;\"></td><td  style=\"background-color:AliceBlue;\">4/19/14</td><td  style=\"background-color:AliceBlue;\">Nick</td><td  style=\"background-color:AliceBlue;\"></td><td  style=\"background-color:AliceBlue;\"></td></tr></table>"
       ],
       "metadata": {},
       "output_type": "pyout",
       "prompt_number": 17,
       "text": [
        "<ipy_table.IpyTable at 0x3322b10>"
       ]
      }
     ],
     "prompt_number": 17
    },
    {
     "cell_type": "markdown",
     "metadata": {},
     "source": [
      "__Notes on the loci table:__\n",
      "* As you can see, not all of the fields have values. Some are not required (e.g., 'fasta_file').\n",
      "* You will get an error if you try to load a table with missing values in required fields.\n",
      "* For a list of required columns, see the documentation for `CLdb_loadLoci.pl`."
     ]
    },
    {
     "cell_type": "code",
     "collapsed": false,
     "input": [
      "%%bash -s \"$CLdbDir\" \"$scriptDir\"\n",
      "\n",
      "# Loading the loci table\n",
      "## This will involve a lot of checking files and loading data\n",
      "## The genbanks will be checked for the genome nucleotide sequence.\n",
      "### This is because the fasta files \n",
      "### If found fasta files of each genome will be created in the ./fasta/ directory\n",
      "\n",
      "cd $1\n",
      "perl $2'CLdb_loadLoci.pl' -da CLdb.sqlite < $1'loci/140419_loci.txt'"
     ],
     "language": "python",
     "metadata": {},
     "outputs": [
      {
       "output_type": "stream",
       "stream": "stderr",
       "text": [
        "### checking line breaks for all external files (converting to unix) ###\n",
        " processing: /home/nyoungb2/perl/projects/CLdb/examples/ecoli/CLdb/genbank/Escherichia_coli_K_2_W3.gbk\n",
        " processing: /home/nyoungb2/perl/projects/CLdb/examples/ecoli/CLdb/array/Ecoli_K12_W3110_a2.txt\n",
        " processing: /home/nyoungb2/perl/projects/CLdb/examples/ecoli/CLdb/genbank/Escherichia_coli_K_2_MG_655.gbk\n",
        " processing: /home/nyoungb2/perl/projects/CLdb/examples/ecoli/CLdb/array/Ecoli_K12_MG1655_a1.txt\n",
        " processing: /home/nyoungb2/perl/projects/CLdb/examples/ecoli/CLdb/genbank/Escherichia_coli_BL2_DE3.gbk\n",
        " processing: /home/nyoungb2/perl/projects/CLdb/examples/ecoli/CLdb/array/Ecoli_BL21_DE3_a2.txt\n",
        " processing: /home/nyoungb2/perl/projects/CLdb/examples/ecoli/CLdb/genbank/Escherichia_coli_K_2_W3.gbk\n",
        " processing: /home/nyoungb2/perl/projects/CLdb/examples/ecoli/CLdb/array/Ecoli_K12_W3110_a1.txt\n",
        " processing: /home/nyoungb2/perl/projects/CLdb/examples/ecoli/CLdb/genbank/Escherichia_coli_K_2_MG_655.gbk\n",
        " processing: /home/nyoungb2/perl/projects/CLdb/examples/ecoli/CLdb/array/Ecoli_K12_MG1655_a2.txt\n",
        " processing: /home/nyoungb2/perl/projects/CLdb/examples/ecoli/CLdb/genbank/Escherichia_coli_O_57_H7.gbk\n",
        " processing: /home/nyoungb2/perl/projects/CLdb/examples/ecoli/CLdb/array/Ecoli_0157_H7_a2.txt\n",
        " processing: /home/nyoungb2/perl/projects/CLdb/examples/ecoli/CLdb/genbank/Escherichia_coli_K_2_DH_B.gbk\n",
        " processing: /home/nyoungb2/perl/projects/CLdb/examples/ecoli/CLdb/array/Ecoli_K12_DH10B_a1.txt\n",
        " processing: /home/nyoungb2/perl/projects/CLdb/examples/ecoli/CLdb/genbank/Escherichia_coli_K_2_DH_B.gbk\n",
        " processing: /home/nyoungb2/perl/projects/CLdb/examples/ecoli/CLdb/array/Ecoli_K12_DH10B_a2.txt\n",
        " processing: /home/nyoungb2/perl/projects/CLdb/examples/ecoli/CLdb/genbank/Escherichia_coli_BL2_DE3.gbk\n",
        " processing: /home/nyoungb2/perl/projects/CLdb/examples/ecoli/CLdb/array/Ecoli_BL21_DE3_a1.txt\n",
        " processing: /home/nyoungb2/perl/projects/CLdb/examples/ecoli/CLdb/genbank/Escherichia_coli_O_57_H7.gbk\n",
        " processing: /home/nyoungb2/perl/projects/CLdb/examples/ecoli/CLdb/array/Ecoli_0157_H7_a1.txt\n",
        "### checking locus_ID values ###\n",
        "...locus_ID values are OK\n",
        "### Checking for existence of genome fasta ###\n",
        "### Processing locus: \"F\" ###\n",
        "  No genome fasta for locus_id: \"F\"! Trying to extract sequence from genbank...\n",
        "   Success! fasta file extracted from Escherichia_coli_K_2_W3.gbk.\n",
        "   File written to: /home/nyoungb2/perl/projects/CLdb/examples/ecoli/CLdb//fasta//Escherichia_coli_K_2_W3.fasta\n",
        "### Processing locus: \"A\" ###\n",
        "  No genome fasta for locus_id: \"A\"! Trying to extract sequence from genbank...\n",
        "   Success! fasta file extracted from Escherichia_coli_K_2_MG_655.gbk.\n",
        "   File written to: /home/nyoungb2/perl/projects/CLdb/examples/ecoli/CLdb//fasta//Escherichia_coli_K_2_MG_655.fasta\n",
        "### Processing locus: \"J\" ###\n",
        "  No genome fasta for locus_id: \"J\"! Trying to extract sequence from genbank...\n",
        "   Success! fasta file extracted from Escherichia_coli_BL2_DE3.gbk.\n",
        "   File written to: /home/nyoungb2/perl/projects/CLdb/examples/ecoli/CLdb//fasta//Escherichia_coli_BL2_DE3.fasta\n",
        "### Processing locus: \"E\" ###\n",
        "  No genome fasta for locus_id: \"E\"! Trying to extract sequence from genbank...\n",
        "  Success! Found fasta in '/home/nyoungb2/perl/projects/CLdb/examples/ecoli/CLdb//fasta//Escherichia_coli_K_2_W3.fasta'\n",
        "  Adding fasta to loci table\n",
        "### Processing locus: \"B\" ###\n",
        "  No genome fasta for locus_id: \"B\"! Trying to extract sequence from genbank...\n",
        "  Success! Found fasta in '/home/nyoungb2/perl/projects/CLdb/examples/ecoli/CLdb//fasta//Escherichia_coli_K_2_MG_655.fasta'\n",
        "  Adding fasta to loci table\n",
        "### Processing locus: \"H\" ###\n",
        "  No genome fasta for locus_id: \"H\"! Trying to extract sequence from genbank...\n",
        "   Success! fasta file extracted from Escherichia_coli_O_57_H7.gbk.\n",
        "   File written to: /home/nyoungb2/perl/projects/CLdb/examples/ecoli/CLdb//fasta//Escherichia_coli_O_57_H7.fasta\n",
        "### Processing locus: \"C\" ###\n",
        "  No genome fasta for locus_id: \"C\"! Trying to extract sequence from genbank...\n",
        "   Success! fasta file extracted from Escherichia_coli_K_2_DH_B.gbk.\n",
        "   File written to: /home/nyoungb2/perl/projects/CLdb/examples/ecoli/CLdb//fasta//Escherichia_coli_K_2_DH_B.fasta\n",
        "### Processing locus: \"D\" ###\n",
        "  No genome fasta for locus_id: \"D\"! Trying to extract sequence from genbank...\n",
        "  Success! Found fasta in '/home/nyoungb2/perl/projects/CLdb/examples/ecoli/CLdb//fasta//Escherichia_coli_K_2_DH_B.fasta'\n",
        "  Adding fasta to loci table\n",
        "### Processing locus: \"I\" ###\n",
        "  No genome fasta for locus_id: \"I\"! Trying to extract sequence from genbank...\n",
        "  Success! Found fasta in '/home/nyoungb2/perl/projects/CLdb/examples/ecoli/CLdb//fasta//Escherichia_coli_BL2_DE3.fasta'\n",
        "  Adding fasta to loci table\n",
        "### Processing locus: \"G\" ###\n",
        "  No genome fasta for locus_id: \"G\"! Trying to extract sequence from genbank...\n",
        "  Success! Found fasta in '/home/nyoungb2/perl/projects/CLdb/examples/ecoli/CLdb//fasta//Escherichia_coli_O_57_H7.fasta'\n",
        "  Adding fasta to loci table\n",
        "### checking for genome fasta for scaffold names ###\n",
        "\n",
        "### loading entries into CLdb ###\n",
        "...Number of entries added/updated to 'loci' table: 10\n",
        "### Leader start-end provided. Loading values into leader table ###\n",
        "...Number of entries added/updated to 'leaders' table: 0\n"
       ]
      }
     ],
     "prompt_number": 18
    },
    {
     "cell_type": "code",
     "collapsed": false,
     "input": [
      "# This is a simple sql statement to make sure that the fasta files have been generated\n",
      "! sqlite3 $CLdbDir'CLdb.sqlite' \"select distinct(fasta_file) from loci\""
     ],
     "language": "python",
     "metadata": {},
     "outputs": [
      {
       "output_type": "stream",
       "stream": "stdout",
       "text": [
        "Escherichia_coli_K_2_W3.fasta\r\n",
        "Escherichia_coli_K_2_MG_655.fasta\r\n",
        "Escherichia_coli_BL2_DE3.fasta\r\n",
        "Escherichia_coli_O_57_H7.fasta\r\n",
        "Escherichia_coli_K_2_DH_B.fasta\r\n"
       ]
      }
     ],
     "prompt_number": 19
    },
    {
     "cell_type": "markdown",
     "metadata": {},
     "source": [
      "* __The next step is to load the array tables.__\n",
      "* __These are tables in 'CRISPRFinder format' that have CRISPR array info.__\n",
      "* __Let's take a look at one array file.__"
     ]
    },
    {
     "cell_type": "code",
     "collapsed": false,
     "input": [
      "arrayFile = 'array/Ecoli_0157_H7_a1.txt'\n",
      "#pd.set_option('display.max_columns', 30)\n",
      "#tbl = pd.read_table(CLdbDir + arrayFile)\n",
      "#tbl\n",
      "\n",
      "# loading array file\n",
      "tbl = []\n",
      "with open(CLdbDir + arrayFile, 'rb') as f:\n",
      "    reader = csv.reader(f, delimiter='\\t')\n",
      "    for row in reader:\n",
      "        # making sure all rows have 4 columns\n",
      "        for i in range(0, 3):\n",
      "            try:\n",
      "                row[i]\n",
      "            except IndexError:\n",
      "                row[i] = ''\n",
      "        # loading row into table\n",
      "        tbl.append(row[0:4])\n",
      "\n",
      "        \n",
      "# displaying as a table\n",
      "make_table(tbl)\n",
      "apply_theme('basic')        "
     ],
     "language": "python",
     "metadata": {},
     "outputs": [
      {
       "html": [
        "<table border=\"1\" cellpadding=\"3\" cellspacing=\"0\"  style=\"border:1px solid black;border-collapse:collapse;\"><tr><td  style=\"background-color:LightGray;\"><b>3665521</b></td><td  style=\"background-color:LightGray;\"><b>CGGTTTATCCCCGCTGATGCGGGGAACAC</b></td><td  style=\"background-color:LightGray;\"><b>AGCGGCACGCTGGATTGAACAAATCCCTGGGC&nbsp</b></td><td  style=\"background-color:LightGray;\"><b>3665581</b></td></tr><tr><td  style=\"background-color:Ivory;\">3665582</td><td  style=\"background-color:Ivory;\">CGGTTTATCCCCGCTGGCGCGGGGAACAC</td><td  style=\"background-color:Ivory;\">AAACCGAAACACACGATCAATCCGAATATGAG&nbsp</td><td  style=\"background-color:Ivory;\">3665642</td></tr><tr><td  style=\"background-color:AliceBlue;\">3665643</td><td  style=\"background-color:AliceBlue;\">CGGTTTATCCCCGCTGGCGCGGGGAACAC</td><td  style=\"background-color:AliceBlue;\">TTTGGTGACAGTTTTTGTCACTGTTTTGGTGA&nbsp</td><td  style=\"background-color:AliceBlue;\">3665703</td></tr><tr><td  style=\"background-color:Ivory;\">3665704</td><td  style=\"background-color:Ivory;\">CGGTTTATCCCCGCTGGCGCGGGGAACAC</td><td  style=\"background-color:Ivory;\"></td><td  style=\"background-color:Ivory;\">3665732</td></tr></table>"
       ],
       "metadata": {},
       "output_type": "pyout",
       "prompt_number": 25,
       "text": [
        "<ipy_table.IpyTable at 0x331e450>"
       ]
      }
     ],
     "prompt_number": 25
    },
    {
     "cell_type": "markdown",
     "metadata": {},
     "source": [
      "* __The array file consists of 4 columns:__\n",
      " * spacer start\n",
      " * spacer sequence\n",
      " * direct-repeat sequence\n",
      " * direct-repeat stop\n",
      "* all extra columns ignored"
     ]
    },
    {
     "cell_type": "code",
     "collapsed": false,
     "input": [
      "%%bash -s \"$CLdbDir\" \"$scriptDir\"\n",
      "\n",
      "# now, load the array tables in to CLdb\n",
      "\n",
      "cd $1\n",
      "perl $2'CLdb_loadArrays.pl' -da CLdb.sqlite "
     ],
     "language": "python",
     "metadata": {},
     "outputs": [
      {
       "output_type": "stream",
       "stream": "stderr",
       "text": [
        "...Number of entries added/updated to 'DRs' table: 85\n",
        "...Number of entries added/updated to 'spacers' table: 75\n"
       ]
      }
     ],
     "prompt_number": 26
    },
    {
     "cell_type": "code",
     "collapsed": false,
     "input": [
      "%%bash -s \"$CLdbDir\" \"$scriptDir\"\n",
      "\n",
      "# Next, loading the CAS genes\n",
      "## Technically, all coding seuqences in the region specified in the loci table (CAS_start, CAS_end) will be loaded.\n",
      "\n",
      "#--- skipping for now, CAS genes not identified ---#\n",
      "\n",
      "#cd $1\n",
      "#perl $1'CLdb_getGenesInLoci.pl' -da CLdb.sqlite |\\\n",
      "#perl $1'CLdb_loadGenes.pl' -da CLdb.sqlite"
     ],
     "language": "python",
     "metadata": {},
     "outputs": [],
     "prompt_number": 159
    },
    {
     "cell_type": "markdown",
     "metadata": {},
     "source": [
      "### Setting array sense strand\n",
      "\n",
      "* __The strand that is transcribed needs to be defined in order to have the correct sequence for downstream analyses (e.g., blasting spacers and getting PAM regions)__\n",
      "* __The sense (reading) strand is defined by:__\n",
      " * The leader region (if defined; in this case, no).\n",
      " * Array_start * Array_end in the loci table\n",
      "  * The genome negative strand will be used if array_start > array_end"
     ]
    },
    {
     "cell_type": "code",
     "collapsed": false,
     "input": [
      "%%bash -s \"$CLdbDir\" \"$scriptDir\"\n",
      "\n",
      "# clustering is performed with cd-hit-est\n",
      "## I'm looking into other methods such as usearch\n",
      "\n",
      "cd $1\n",
      "perl $2'CLdb_setSenseStrand.pl' -da CLdb.sqlite"
     ],
     "language": "python",
     "metadata": {},
     "outputs": [
      {
       "output_type": "stream",
       "stream": "stderr",
       "text": [
        "Setting sense strand for 10 loci...\n",
        "...sense strand set based on array_start-array_end for:\t10 loci\n",
        "...sense strand set base on leader region for:\t0 loci\n"
       ]
      }
     ],
     "prompt_number": 27
    },
    {
     "cell_type": "markdown",
     "metadata": {},
     "source": [
      "## Spacer and DR clustering\n",
      "\n",
      "* __Clustering of spacer and/or DR sequences accomplishes:__\n",
      " * A method of comparing within and between CRISPRs\n",
      " * A reducing redundancy for spacer and DR blasting"
     ]
    },
    {
     "cell_type": "code",
     "collapsed": false,
     "input": [
      "%%bash -s \"$CLdbDir\" \"$scriptDir\"\n",
      "\n",
      "# clustering is performed with cd-hit-est\n",
      "## I'm looking into other methods such as usearch\n",
      "\n",
      "cd $1\n",
      "perl $2'CLdb_clusterArrayElements.pl' -da CLdb.sqlite -s -r"
     ],
     "language": "python",
     "metadata": {},
     "outputs": [
      {
       "output_type": "stream",
       "stream": "stderr",
       "text": [
        "Deleted all entries in 'spacer_clusters' table\n",
        "Deleted all entries in 'DR_clusters' table\n",
        "Getting array element sequences. Orienting sequences by array_sense_strand\n",
        "\n",
        "Clustering spacer sequences...\n",
        "...Clustering spacers at cutoff: 0.80\n",
        "\tNumber of clusters produced: 39\n",
        "...Clustering spacers at cutoff: 0.81\n",
        "\tNumber of clusters produced: 39\n",
        "...Clustering spacers at cutoff: 0.82\n",
        "\tNumber of clusters produced: 39\n",
        "...Clustering spacers at cutoff: 0.83\n",
        "\tNumber of clusters produced: 39\n",
        "...Clustering spacers at cutoff: 0.84\n",
        "\tNumber of clusters produced: 39\n",
        "...Clustering spacers at cutoff: 0.85\n",
        "\tNumber of clusters produced: 39\n",
        "...Clustering spacers at cutoff: 0.86\n",
        "\tNumber of clusters produced: 39\n",
        "...Clustering spacers at cutoff: 0.87\n",
        "\tNumber of clusters produced: 39\n",
        "...Clustering spacers at cutoff: 0.88\n",
        "\tNumber of clusters produced: 39\n",
        "...Clustering spacers at cutoff: 0.89\n",
        "\tNumber of clusters produced: 39\n",
        "...Clustering spacers at cutoff: 0.90\n",
        "\tNumber of clusters produced: 39\n",
        "...Clustering spacers at cutoff: 0.91\n",
        "\tNumber of clusters produced: 39\n",
        "...Clustering spacers at cutoff: 0.92\n",
        "\tNumber of clusters produced: 39\n",
        "...Clustering spacers at cutoff: 0.93\n",
        "\tNumber of clusters produced: 39\n",
        "...Clustering spacers at cutoff: 0.94\n",
        "\tNumber of clusters produced: 39\n",
        "...Clustering spacers at cutoff: 0.95\n",
        "\tNumber of clusters produced: 39\n",
        "...Clustering spacers at cutoff: 0.96\n",
        "\tNumber of clusters produced: 39\n",
        "...Clustering spacers at cutoff: 0.97\n",
        "\tNumber of clusters produced: 39\n",
        "...Clustering spacers at cutoff: 0.98\n",
        "\tNumber of clusters produced: 39\n",
        "...Clustering spacers at cutoff: 0.99\n",
        "\tNumber of clusters produced: 39\n",
        "...Clustering spacers at cutoff: 1.00\n",
        "\tNumber of clusters produced: 39\n",
        "\n",
        "Clustering DR sequences...\n",
        "...Clustering DRs at cutoff: 0.80\n",
        "\tNumber of clusters produced: 2\n",
        "...Clustering DRs at cutoff: 0.81\n",
        "\tNumber of clusters produced: 2\n",
        "...Clustering DRs at cutoff: 0.82\n",
        "\tNumber of clusters produced: 2\n",
        "...Clustering DRs at cutoff: 0.83\n",
        "\tNumber of clusters produced: 2\n",
        "...Clustering DRs at cutoff: 0.84\n",
        "\tNumber of clusters produced: 2\n",
        "...Clustering DRs at cutoff: 0.85\n",
        "\tNumber of clusters produced: 2\n",
        "...Clustering DRs at cutoff: 0.86\n",
        "\tNumber of clusters produced: 2\n",
        "...Clustering DRs at cutoff: 0.87\n",
        "\tNumber of clusters produced: 2\n",
        "...Clustering DRs at cutoff: 0.88\n",
        "\tNumber of clusters produced: 2\n",
        "...Clustering DRs at cutoff: 0.89\n",
        "\tNumber of clusters produced: 2\n",
        "...Clustering DRs at cutoff: 0.90\n",
        "\tNumber of clusters produced: 4\n",
        "...Clustering DRs at cutoff: 0.91\n",
        "\tNumber of clusters produced: 4\n",
        "...Clustering DRs at cutoff: 0.92\n",
        "\tNumber of clusters produced: 4\n",
        "...Clustering DRs at cutoff: 0.93\n",
        "\tNumber of clusters produced: 4\n",
        "...Clustering DRs at cutoff: 0.94\n",
        "\tNumber of clusters produced: 8\n",
        "...Clustering DRs at cutoff: 0.95\n",
        "\tNumber of clusters produced: 8\n",
        "...Clustering DRs at cutoff: 0.96\n",
        "\tNumber of clusters produced: 8\n",
        "...Clustering DRs at cutoff: 0.97\n",
        "\tNumber of clusters produced: 12\n",
        "...Clustering DRs at cutoff: 0.98\n",
        "\tNumber of clusters produced: 12\n",
        "...Clustering DRs at cutoff: 0.99\n",
        "\tNumber of clusters produced: 12\n",
        "...Clustering DRs at cutoff: 1.00\n",
        "\tNumber of clusters produced: 12\n",
        "\n",
        "Inserting/updating entries in CLdb...\n",
        "...1575 spacer cluster entries added/updated\n",
        "...1785 DR cluster entries added/updated\n",
        "\n",
        "Creating indices for cluster ids...\n"
       ]
      }
     ],
     "prompt_number": 28
    },
    {
     "cell_type": "markdown",
     "metadata": {},
     "source": [
      "# Next Steps\n",
      "\n",
      "### [arrayBlast](./arrayBlast.ipynb)\n",
      "\n",
      "Blast spacers (& DRs), get protospacers, PAM regions, mismatches to the protospacer & SEED sequence"
     ]
    },
    {
     "cell_type": "code",
     "collapsed": false,
     "input": [],
     "language": "python",
     "metadata": {},
     "outputs": [],
     "prompt_number": 106
    }
   ],
   "metadata": {}
  }
 ]
}