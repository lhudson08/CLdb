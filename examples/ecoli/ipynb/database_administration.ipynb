{
 "metadata": {
  "name": "",
  "signature": "sha256:f7d0bcf313cf3d3f266bb20cb9f1789f7ffda8ceb97799f6bc366375cbb7be37"
 },
 "nbformat": 3,
 "nbformat_minor": 0,
 "worksheets": [
  {
   "cells": [
    {
     "cell_type": "markdown",
     "metadata": {},
     "source": [
      "# Description\n",
      "\n",
      "This notebook provides examples of common tasks database manipulation, summarization, and getting some basic info from the database.\n",
      "\n",
      "Most of these tasks could also be done with some understanding of sqlite. \n",
      "These tasks are (hopefully) made easier with the provided scripts.\n",
      "\n",
      "I also provide examples of tasks that are so simple, I didn't think it was necessary to make one."
     ]
    },
    {
     "cell_type": "markdown",
     "metadata": {},
     "source": [
      "### Before running this notebook:\n",
      "\n",
      "* __run the [Setup](./Setup.pynb) notebook__"
     ]
    },
    {
     "cell_type": "code",
     "collapsed": false,
     "input": [
      "%load_ext rmagic\n",
      "%load_ext rpy2.ipython"
     ],
     "language": "python",
     "metadata": {},
     "outputs": [],
     "prompt_number": 19
    },
    {
     "cell_type": "code",
     "collapsed": false,
     "input": [
      "# This tutorial assumes that this IPython notebook is in the ./CLdb/examples/ecoli_ipynb/ directory.\n",
      "## these are the relative paths to everything we will be working with\n",
      "CLdbDir = \"../CLdb/\"\n",
      "scriptDir = \"../../../bin/\""
     ],
     "language": "python",
     "metadata": {},
     "outputs": [],
     "prompt_number": 2
    },
    {
     "cell_type": "code",
     "collapsed": false,
     "input": [
      "# checking to make sure a CLdb database exists\n",
      "!ls -thlc $CLdbDir"
     ],
     "language": "python",
     "metadata": {},
     "outputs": [
      {
       "output_type": "stream",
       "stream": "stdout",
       "text": [
        "total 432K\r\n",
        "drwxrwxr-x 3 nyoungb2 nyoungb2  76K Jun 22 08:19 arrayBlast\r\n",
        "-rw-r--r-- 1 nyoungb2 nyoungb2 321K Jun 22 08:05 CLdb.sqlite\r\n",
        "drwxrwxr-x 2 nyoungb2 nyoungb2 4.0K Jun 22 08:05 clustering\r\n",
        "drwxrwxr-x 2 nyoungb2 nyoungb2 4.0K Jun 22 07:57 fasta\r\n",
        "drwxrwxr-x 2 nyoungb2 nyoungb2 4.0K Jun 22 07:48 genbank\r\n",
        "drwxrwxr-x 2 nyoungb2 nyoungb2 4.0K Jun 22 07:48 array\r\n",
        "-rw-rw-r-- 1 nyoungb2 nyoungb2  184 Jun 22 07:48 GIs.txt\r\n",
        "drwxrwxr-x 2 nyoungb2 nyoungb2 4.0K Jun 22 07:48 loci\r\n"
       ]
      }
     ],
     "prompt_number": 4
    },
    {
     "cell_type": "markdown",
     "metadata": {},
     "source": [
      "# Script-task outline\n",
      "\n",
      "#### CLdb_summary.pl\n",
      " * Make a summary table quantifying database entries \n",
      "\n",
      "#### CLdb_writeTable.pl\n",
      " * Write >=1 table in the database\n",
      " * This is useful for general database entry editing without really using sql."
     ]
    },
    {
     "cell_type": "markdown",
     "metadata": {},
     "source": [
      "# CLdb_summary.pl"
     ]
    },
    {
     "cell_type": "code",
     "collapsed": false,
     "input": [
      "# Let's look at the help doc\n",
      "!perl $scriptDir'CLdb_summary.pl'"
     ],
     "language": "python",
     "metadata": {},
     "outputs": [
      {
       "output_type": "stream",
       "stream": "stdout",
       "text": [
        "../../../bin/CLdb_summary.pl: No files given.\r\n",
        "Usage:\r\n",
        "    CLdb_summary.pl [flags] > summary.txt\r\n",
        "\r\n",
        "  Required flags:\r\n",
        "    -database <char>\r\n",
        "        CLdb database.\r\n",
        "\r\n",
        "  Optional flags:\r\n",
        "    -subtype <bool>\r\n",
        "        Group summary by subtype? [FALSE]\r\n",
        "\r\n",
        "    -id <bool>\r\n",
        "        Group summary by taxon_id? [FALSE]\r\n",
        "\r\n",
        "    -name <bool>\r\n",
        "        Group summary by taxon_name? [FALSE]\r\n",
        "\r\n",
        "    -cutoff <float>\r\n",
        "        Spacer/DR clustering cutoffs to summarize (range:0.8-1; >=1\r\n",
        "        argument). [1]\r\n",
        "\r\n",
        "    -verbose <bool>\r\n",
        "        Verbose output. [FALSE]\r\n",
        "\r\n",
        "    -help <bool>\r\n",
        "        This help message\r\n",
        "\r\n",
        "  For more information:\r\n",
        "    perldoc CLdb_summary.pl\r\n",
        "\r\n"
       ]
      }
     ],
     "prompt_number": 8
    },
    {
     "cell_type": "code",
     "collapsed": false,
     "input": [
      "%%bash -s \"$CLdbDir\" \"$scriptDir\"\n",
      "cd $1\n",
      "# summarizing by taxon_name\n",
      "perl $2'CLdb_summary.pl' -d CLdb.sqlite -name"
     ],
     "language": "python",
     "metadata": {},
     "outputs": [
      {
       "output_type": "stream",
       "stream": "stdout",
       "text": [
        "loci\tEscherichia_coli_BL21_DE3\tNULL\tintact\t2\n",
        "loci\tEscherichia_coli_K-12_DH10B\tNULL\tintact\t2\n",
        "loci\tEscherichia_coli_K-12_MG1655\tNULL\tintact\t2\n",
        "loci\tEscherichia_coli_K-12_W3110\tNULL\tintact\t2\n",
        "loci\tEscherichia_coli_O157_H7\tNULL\tintact\t2\n",
        "loci\tEscherichia_coli_BL21_DE3\tTotal\tNA\t2\n",
        "loci\tEscherichia_coli_K-12_DH10B\tTotal\tNA\t2\n",
        "loci\tEscherichia_coli_K-12_MG1655\tTotal\tNA\t2\n",
        "loci\tEscherichia_coli_K-12_W3110\tTotal\tNA\t2\n",
        "loci\tEscherichia_coli_O157_H7\tTotal\tNA\t2\n",
        "spacer\tEscherichia_coli_BL21_DE3\tAll\tNA\t17\n",
        "spacer\tEscherichia_coli_K-12_DH10B\tAll\tNA\t18\n",
        "spacer\tEscherichia_coli_K-12_MG1655\tAll\tNA\t18\n",
        "spacer\tEscherichia_coli_K-12_W3110\tAll\tNA\t18\n",
        "spacer\tEscherichia_coli_O157_H7\tAll\tNA\t4\n",
        "spacers\tEscherichia_coli_BL21_DE3\tnum_groups\t1\t17\n",
        "spacers\tEscherichia_coli_K-12_DH10B\tnum_groups\t1\t18\n",
        "spacers\tEscherichia_coli_K-12_MG1655\tnum_groups\t1\t18\n",
        "spacers\tEscherichia_coli_K-12_W3110\tnum_groups\t1\t18\n",
        "spacers\tEscherichia_coli_O157_H7\tnum_groups\t1\t4\n",
        "DR\tEscherichia_coli_BL21_DE3\tAll\tNA\t19\n",
        "DR\tEscherichia_coli_K-12_DH10B\tAll\tNA\t20\n",
        "DR\tEscherichia_coli_K-12_MG1655\tAll\tNA\t20\n",
        "DR\tEscherichia_coli_K-12_W3110\tAll\tNA\t20\n",
        "DR\tEscherichia_coli_O157_H7\tAll\tNA\t6\n",
        "DRs\tEscherichia_coli_BL21_DE3\tnum_groups\t1\t4\n",
        "DRs\tEscherichia_coli_K-12_DH10B\tnum_groups\t1\t7\n",
        "DRs\tEscherichia_coli_K-12_MG1655\tnum_groups\t1\t6\n",
        "DRs\tEscherichia_coli_K-12_W3110\tnum_groups\t1\t6\n",
        "DRs\tEscherichia_coli_O157_H7\tnum_groups\t1\t4\n"
       ]
      }
     ],
     "prompt_number": 26
    },
    {
     "cell_type": "code",
     "collapsed": false,
     "input": [
      "%%R -i scriptDir -h 700\n",
      "# plotting output in R\n",
      "require(ggplot2)\n",
      "\n",
      "cmd = paste(c('perl ', scriptDir, 'CLdb_summary.pl -d ../CLdb/CLdb.sqlite -name'), collapse='')\n",
      "tbl = read.delim(pipe(cmd), header=F)\n",
      "\n",
      "colnames(tbl) = c('Table', 'Taxon_name', 'Category1', 'Category2', 'Count')\n",
      "\n",
      "tbl = tbl[tbl$Category1 != 'NULL',]\n",
      "\n",
      "## plotting\n",
      "ggplot(tbl, aes(Taxon_name, Count)) +\n",
      "    geom_bar(stat='identity', position='dodge') +\n",
      "    facet_grid(Table ~ .) +\n",
      "    theme(\n",
      "        text = element_text(size=18),\n",
      "        axis.text.x = element_text(angle=90, hjust=1)\n",
      "        )"
     ],
     "language": "python",
     "metadata": {},
     "outputs": [
      {
       "metadata": {},
       "output_type": "display_data",
       "png": "[encoded data removed]"
      }
     ],
     "prompt_number": 40
    },
    {
     "cell_type": "markdown",
     "metadata": {},
     "source": [
      "__Notes on the plot:__\n",
      "\n",
      "* O157 generally has less"
     ]
    },
    {
     "cell_type": "markdown",
     "metadata": {},
     "source": [
      "# CLdb_writeTable.pl"
     ]
    },
    {
     "cell_type": "code",
     "collapsed": false,
     "input": [
      "# Let's look at the help doc\n",
      "!perl $scriptDir'CLdb_writeTable.pl'"
     ],
     "language": "python",
     "metadata": {},
     "outputs": [
      {
       "output_type": "stream",
       "stream": "stdout",
       "text": [
        "../../../bin/CLdb_writeTable.pl: No files given.\r\n",
        "Usage:\r\n",
        "    CLdb_writeTable.pl [flags]\r\n",
        "\r\n",
        "  Required flags:\r\n",
        "    -database <char>\r\n",
        "        CLdb database.\r\n",
        "\r\n",
        "  Optional flags:\r\n",
        "    -table <char>\r\n",
        "        >=1 table to write out.\r\n",
        "\r\n",
        "    -list <bool>\r\n",
        "        Just list table names and number of entries in each table. [FALSE]\r\n",
        "\r\n",
        "    -prefix <char>\r\n",
        "        Output file prefix. [\"\"]\r\n",
        "\r\n",
        "    -verbose <bool>\r\n",
        "        Verbose output. [TRUE]\r\n",
        "\r\n",
        "    -help <bool>\r\n",
        "        This help message\r\n",
        "\r\n",
        "  For more information:\r\n",
        "    perldoc CLdb_writeTable.pl\r\n",
        "\r\n"
       ]
      }
     ],
     "prompt_number": 42
    },
    {
     "cell_type": "markdown",
     "metadata": {},
     "source": [
      "__Notes:__\n",
      "* This script will write file for each specified table.\n",
      "* The tables could be loaded into excel for analyzing.\n",
      "* The tables can be reloaded into CLdb to introduce updates.\n",
      " * This can work well for, say, updating the loci table.\n"
     ]
    },
    {
     "cell_type": "code",
     "collapsed": false,
     "input": [
      "%%bash -s \"$CLdbDir\" \"$scriptDir\"\n",
      "cd $1\n",
      "# listing number of entries per table in the database\n",
      "perl $2'CLdb_writeTable.pl' -d CLdb.sqlite -list 1"
     ],
     "language": "python",
     "metadata": {},
     "outputs": [
      {
       "output_type": "stream",
       "stream": "stdout",
       "text": [
        "Table\tNumber_entries\n",
        "DR_Consensus\t0\n",
        "DR_clusters\t1785\n",
        "DRs\t85\n",
        "Genes\t0\n",
        "Leaders\t0\n",
        "Loci\t10\n",
        "PAM\t0\n",
        "Spacers\t75\n",
        "spacer_clusters\t1575\n",
        "spacer_pairwise_blast\t0\n",
        "sqlite_master\t24\n"
       ]
      }
     ],
     "prompt_number": 48
    },
    {
     "cell_type": "code",
     "collapsed": false,
     "input": [],
     "language": "python",
     "metadata": {},
     "outputs": []
    }
   ],
   "metadata": {}
  }
 ]
}