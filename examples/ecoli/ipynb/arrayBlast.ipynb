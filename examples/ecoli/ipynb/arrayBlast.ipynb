{
 "metadata": {
  "name": "",
  "signature": "sha256:edf359eb395f9164955a79ce9a45638e9f6b193ad8e38462fa222e52ae3efa10"
 },
 "nbformat": 3,
 "nbformat_minor": 0,
 "worksheets": [
  {
   "cells": [
    {
     "cell_type": "markdown",
     "metadata": {},
     "source": [
      "# Description:\n",
      "\n",
      "* This notebook goes through the analysis of blasting spacers vs a database containing potential protospacers.\n",
      "* Any blast datbase can be used.\n",
      "* A script is provided to easily blast all of the genomes in CLdb."
     ]
    },
    {
     "cell_type": "markdown",
     "metadata": {},
     "source": [
      "### Before running this notebook:\n",
      "\n",
      "* __run the [Setup](./Setup.pynb) notebook__"
     ]
    },
    {
     "cell_type": "code",
     "collapsed": false,
     "input": [
      "from IPython.display import FileLinks\n",
      "%load_ext rmagic\n",
      "%load_ext rpy2.ipython"
     ],
     "language": "python",
     "metadata": {},
     "outputs": [
      {
       "output_type": "stream",
       "stream": "stdout",
       "text": [
        "The rmagic extension is already loaded. To reload it, use:\n",
        "  %reload_ext rmagic\n",
        "The rpy2.ipython extension is already loaded. To reload it, use:\n",
        "  %reload_ext rpy2.ipython\n"
       ]
      }
     ],
     "prompt_number": 54
    },
    {
     "cell_type": "code",
     "collapsed": false,
     "input": [
      "# This tutorial assumes that this IPython notebook is in the ./CLdb/examples/ecoli_ipynb/ directory.\n",
      "## these are the relative paths to everything we will be working with\n",
      "CLdbDir = \"../CLdb/\"\n",
      "scriptDir = \"../../../\""
     ],
     "language": "python",
     "metadata": {},
     "outputs": [],
     "prompt_number": 60
    },
    {
     "cell_type": "code",
     "collapsed": false,
     "input": [
      "# Checking on files in the CLdb directory\n",
      "FileLinks(CLdbDir)"
     ],
     "language": "python",
     "metadata": {},
     "outputs": [
      {
       "html": [
        "../CLdb/<br>\n",
        "&nbsp;&nbsp;<a href='../CLdb/CLdb.sqlite' target='_blank'>CLdb.sqlite</a><br>\n",
        "&nbsp;&nbsp;<a href='../CLdb/GIs.txt' target='_blank'>GIs.txt</a><br>\n",
        "&nbsp;&nbsp;<a href='../CLdb/SELECT * from loci' target='_blank'>SELECT * from loci</a><br>\n",
        "../CLdb/array/<br>\n",
        "&nbsp;&nbsp;<a href='../CLdb/array/Ecoli_K12_DH10B_a2.txt' target='_blank'>Ecoli_K12_DH10B_a2.txt</a><br>\n",
        "&nbsp;&nbsp;<a href='../CLdb/array/Ecoli_K12_W3110_a1.txt' target='_blank'>Ecoli_K12_W3110_a1.txt</a><br>\n",
        "&nbsp;&nbsp;<a href='../CLdb/array/Ecoli_K12_MG1655_a1.txt' target='_blank'>Ecoli_K12_MG1655_a1.txt</a><br>\n",
        "&nbsp;&nbsp;<a href='../CLdb/array/Ecoli_BL21_DE3_a2.txt' target='_blank'>Ecoli_BL21_DE3_a2.txt</a><br>\n",
        "&nbsp;&nbsp;<a href='../CLdb/array/Ecoli_K12_MG1655_a2.txt' target='_blank'>Ecoli_K12_MG1655_a2.txt</a><br>\n",
        "&nbsp;&nbsp;<a href='../CLdb/array/Ecoli_BL21_DE3_a1.txt' target='_blank'>Ecoli_BL21_DE3_a1.txt</a><br>\n",
        "&nbsp;&nbsp;<a href='../CLdb/array/Ecoli_K12_W3110_a2.txt' target='_blank'>Ecoli_K12_W3110_a2.txt</a><br>\n",
        "&nbsp;&nbsp;<a href='../CLdb/array/Ecoli_K12_DH10B_a1.txt' target='_blank'>Ecoli_K12_DH10B_a1.txt</a><br>\n",
        "&nbsp;&nbsp;<a href='../CLdb/array/Ecoli_0157_H7_a1.txt' target='_blank'>Ecoli_0157_H7_a1.txt</a><br>\n",
        "&nbsp;&nbsp;<a href='../CLdb/array/Ecoli_0157_H7_a2.txt' target='_blank'>Ecoli_0157_H7_a2.txt</a><br>\n",
        "../CLdb/clustering/<br>\n",
        "&nbsp;&nbsp;<a href='../CLdb/clustering/spacers.cdhit.clstr' target='_blank'>spacers.cdhit.clstr</a><br>\n",
        "&nbsp;&nbsp;<a href='../CLdb/clustering/spacers.cdhit' target='_blank'>spacers.cdhit</a><br>\n",
        "&nbsp;&nbsp;<a href='../CLdb/clustering/DRs.cdhit' target='_blank'>DRs.cdhit</a><br>\n",
        "&nbsp;&nbsp;<a href='../CLdb/clustering/DRs.fna' target='_blank'>DRs.fna</a><br>\n",
        "&nbsp;&nbsp;<a href='../CLdb/clustering/DRs.cdhit.clstr' target='_blank'>DRs.cdhit.clstr</a><br>\n",
        "&nbsp;&nbsp;<a href='../CLdb/clustering/spacers.fna' target='_blank'>spacers.fna</a><br>\n",
        "../CLdb/fasta/<br>\n",
        "&nbsp;&nbsp;<a href='../CLdb/fasta/Escherichia_coli_BL2_DE3.fasta' target='_blank'>Escherichia_coli_BL2_DE3.fasta</a><br>\n",
        "&nbsp;&nbsp;<a href='../CLdb/fasta/Escherichia_coli_K_2_W3.fasta' target='_blank'>Escherichia_coli_K_2_W3.fasta</a><br>\n",
        "&nbsp;&nbsp;<a href='../CLdb/fasta/Escherichia_coli_K_2_MG_655.fasta' target='_blank'>Escherichia_coli_K_2_MG_655.fasta</a><br>\n",
        "&nbsp;&nbsp;<a href='../CLdb/fasta/Escherichia_coli_K_2_DH_B.fasta' target='_blank'>Escherichia_coli_K_2_DH_B.fasta</a><br>\n",
        "&nbsp;&nbsp;<a href='../CLdb/fasta/Escherichia_coli_O_57_H7.fasta' target='_blank'>Escherichia_coli_O_57_H7.fasta</a><br>\n",
        "../CLdb/genbank/<br>\n",
        "&nbsp;&nbsp;<a href='../CLdb/genbank/Escherichia_coli_BL2_DE3.gbk' target='_blank'>Escherichia_coli_BL2_DE3.gbk</a><br>\n",
        "&nbsp;&nbsp;<a href='../CLdb/genbank/Escherichia_coli_K_2_W3.gbk' target='_blank'>Escherichia_coli_K_2_W3.gbk</a><br>\n",
        "&nbsp;&nbsp;<a href='../CLdb/genbank/Escherichia_coli_K_2_MG_655.gbk' target='_blank'>Escherichia_coli_K_2_MG_655.gbk</a><br>\n",
        "&nbsp;&nbsp;<a href='../CLdb/genbank/Escherichia_coli_K_2_DH_B.gbk' target='_blank'>Escherichia_coli_K_2_DH_B.gbk</a><br>\n",
        "&nbsp;&nbsp;<a href='../CLdb/genbank/Escherichia_coli_O_57_H7.gbk' target='_blank'>Escherichia_coli_O_57_H7.gbk</a><br>\n",
        "../CLdb/loci/<br>\n",
        "&nbsp;&nbsp;<a href='../CLdb/loci/140419_loci.txt' target='_blank'>140419_loci.txt</a><br>"
       ],
       "metadata": {},
       "output_type": "pyout",
       "prompt_number": 56,
       "text": [
        "../CLdb/\n",
        "  CLdb.sqlite\n",
        "  GIs.txt\n",
        "  SELECT * from loci\n",
        "../CLdb/array/\n",
        "  Ecoli_K12_DH10B_a2.txt\n",
        "  Ecoli_K12_W3110_a1.txt\n",
        "  Ecoli_K12_MG1655_a1.txt\n",
        "  Ecoli_BL21_DE3_a2.txt\n",
        "  Ecoli_K12_MG1655_a2.txt\n",
        "  Ecoli_BL21_DE3_a1.txt\n",
        "  Ecoli_K12_W3110_a2.txt\n",
        "  Ecoli_K12_DH10B_a1.txt\n",
        "  Ecoli_0157_H7_a1.txt\n",
        "  Ecoli_0157_H7_a2.txt\n",
        "../CLdb/clustering/\n",
        "  spacers.cdhit.clstr\n",
        "  spacers.cdhit\n",
        "  DRs.cdhit\n",
        "  DRs.fna\n",
        "  DRs.cdhit.clstr\n",
        "  spacers.fna\n",
        "../CLdb/fasta/\n",
        "  Escherichia_coli_BL2_DE3.fasta\n",
        "  Escherichia_coli_K_2_W3.fasta\n",
        "  Escherichia_coli_K_2_MG_655.fasta\n",
        "  Escherichia_coli_K_2_DH_B.fasta\n",
        "  Escherichia_coli_O_57_H7.fasta\n",
        "../CLdb/genbank/\n",
        "  Escherichia_coli_BL2_DE3.gbk\n",
        "  Escherichia_coli_K_2_W3.gbk\n",
        "  Escherichia_coli_K_2_MG_655.gbk\n",
        "  Escherichia_coli_K_2_DH_B.gbk\n",
        "  Escherichia_coli_O_57_H7.gbk\n",
        "../CLdb/loci/\n",
        "  140419_loci.txt"
       ]
      }
     ],
     "prompt_number": 56
    },
    {
     "cell_type": "code",
     "collapsed": false,
     "input": [
      "%%bash -s \"$CLdbDir\"\n",
      "# making new directory\n",
      "\n",
      "cd $1\n",
      "\n",
      "BlastDir='arrayBlast'\n",
      "\n",
      "if [ -d $1$BlastDir ]; then\n",
      "    rm -r $1$BlastDir\n",
      "fi    \n",
      "\n",
      "mkdir $1$BlastDir"
     ],
     "language": "python",
     "metadata": {},
     "outputs": [],
     "prompt_number": 58
    },
    {
     "cell_type": "markdown",
     "metadata": {},
     "source": [
      "### Selectin spacer sequences"
     ]
    },
    {
     "cell_type": "code",
     "collapsed": false,
     "input": [
      "%%bash -s \"$CLdbDir\" \"$scriptDir\"\n",
      "# Getting 'unique' spacer sequences (OTUs at 100% sequence identity)\n",
      "\n",
      "cd $1\n",
      "\n",
      "## selecting spacer sequences and writing as a fasta file\n",
      "$2'CLdb' array2fasta -- -da CLdb.sqlite -clust -cut 1 > ./arrayBlast/spacers_cut1.fna\n",
      "\n",
      "## getting number of spacer sequences\n",
      "printf 'Number_unique_spacers:\\t'; grep -c \">\" ./arrayBlast/spacers_cut1.fna\n",
      "\n",
      "## looking at spacers\n",
      "head -n 6 ./arrayBlast/spacers_cut1.fna"
     ],
     "language": "python",
     "metadata": {},
     "outputs": [
      {
       "output_type": "stream",
       "stream": "stdout",
       "text": [
        "Number_unique_spacers:\t39\n",
        ">NA|spacer|NA|22|1\n",
        "TTTTACAGTGTCAACAATCGTTCCCTGATTGT\n",
        ">NA|spacer|NA|13|1\n",
        "GACAGAACGGCCTCAGTAGTCTCGTCAGGCTC\n",
        ">NA|spacer|NA|6|1\n",
        "GAAATGCTGGTGAGCGTTAATGCCGCAAACACA\n"
       ]
      }
     ],
     "prompt_number": 61
    },
    {
     "cell_type": "markdown",
     "metadata": {},
     "source": [
      "### Blast\n",
      "\n",
      "* The array blast commands are sub-sub commands.\n",
      "* __SO__, that's why when you type: '`CLdb arrayBlast -- h`', you get then following:"
     ]
    },
    {
     "cell_type": "code",
     "collapsed": false,
     "input": [
      "%%bash -s \"$CLdbDir\" \"$scriptDir\"\n",
      "\n",
      "cd $1\n",
      "\n",
      "$2'CLdb' arrayBlast -- -h\n",
      "\n",
      "# you need to use sub-sub commands!"
     ],
     "language": "python",
     "metadata": {},
     "outputs": [
      {
       "output_type": "stream",
       "stream": "stderr",
       "text": [
        "Usage:\n",
        "    arrayBlast [options] subcommand -- [subcommand_options]\n",
        "\n",
        "  Options:\n",
        "    --list\n",
        "        List all subcommands.\n",
        "\n",
        "    --perldoc\n",
        "        Get perldoc of subcommand.\n",
        "\n",
        "    -v Verbose output\n",
        "    -h This help message\n",
        "\n",
        "  For more information:\n",
        "    perldoc arrayBlast\n",
        "\n"
       ]
      }
     ],
     "prompt_number": 72
    },
    {
     "cell_type": "code",
     "collapsed": false,
     "input": [
      "%%bash -s \"$CLdbDir\" \"$scriptDir\"\n",
      "# list arrayBlast subcommands\n",
      "\n",
      "cd $1\n",
      "\n",
      "$2'CLdb' arrayBlast -- --list"
     ],
     "language": "python",
     "metadata": {},
     "outputs": [
      {
       "output_type": "stream",
       "stream": "stdout",
       "text": [
        "add_crRNA\n",
        "add_proto\n",
        "align_proto\n",
        "filter_DRs\n",
        "get_PAM\n",
        "get_SEEDstats\n",
        "get_align\n",
        "get_proto\n",
        "run\n"
       ]
      }
     ],
     "prompt_number": 73
    },
    {
     "cell_type": "markdown",
     "metadata": {},
     "source": [
      "#### Subsubcommand:\n",
      "\n",
      "`CLdb arrayBlast -- run -- -h`"
     ]
    },
    {
     "cell_type": "code",
     "collapsed": false,
     "input": [
      "%%bash -s \"$CLdbDir\" \"$scriptDir\"\n",
      "\n",
      "# spacer blast\n",
      "## Really just a thin wrapper around blastn that will blast the spacers against all genomes in CLdb\n",
      "### If you want to blast some else, just run the blast yourself (use 'perldoc CLdb_arrayBlast.pl' for more info)\n",
      "\n",
      "cd $1\n",
      "\n",
      "$2'CLdb' arrayBlast -- run -- -da CLdb.sqlite -query ./arrayBlast/spacers_cut1.fna > ./arrayBlast/spacers_cut1_blastn.xml"
     ],
     "language": "python",
     "metadata": {},
     "outputs": [
      {
       "output_type": "stream",
       "stream": "stderr",
       "text": [
        "Making BLAST databases...\n",
        "...making blast databases in /home/nyoungb2/perl/projects/CLdb/examples/ecoli/CLdb//arrayBlast/blast_db/\n",
        "makeblastdb -dbtype nucl -parse_seqids -in /home/nyoungb2/perl/projects/CLdb/examples/ecoli/CLdb//arrayBlast/blast_db//Escherichia_coli_BL2_DE3.fasta\n",
        "makeblastdb -dbtype nucl -parse_seqids -in /home/nyoungb2/perl/projects/CLdb/examples/ecoli/CLdb//arrayBlast/blast_db//Escherichia_coli_K_2_DH_B.fasta\n",
        "makeblastdb -dbtype nucl -parse_seqids -in /home/nyoungb2/perl/projects/CLdb/examples/ecoli/CLdb//arrayBlast/blast_db//Escherichia_coli_K_2_MG_655.fasta\n",
        "makeblastdb -dbtype nucl -parse_seqids -in /home/nyoungb2/perl/projects/CLdb/examples/ecoli/CLdb//arrayBlast/blast_db//Escherichia_coli_K_2_W3.fasta\n",
        "makeblastdb -dbtype nucl -parse_seqids -in /home/nyoungb2/perl/projects/CLdb/examples/ecoli/CLdb//arrayBlast/blast_db//Escherichia_coli_O_57_H7.fasta\n",
        "\n",
        "Blasting sequences...\n",
        "Number of blast hits to Escherichia_coli_BL2_DE3.fasta:\t1290\n",
        "Number of blast hits to Escherichia_coli_K_2_DH_B.fasta:\t1317\n",
        "Number of blast hits to Escherichia_coli_K_2_MG_655.fasta:\t1317\n",
        "Number of blast hits to Escherichia_coli_K_2_W3.fasta:\t1317\n",
        "Number of blast hits to Escherichia_coli_O_57_H7.fasta:\t912\n"
       ]
      }
     ],
     "prompt_number": 74
    },
    {
     "cell_type": "code",
     "collapsed": false,
     "input": [
      "%%bash -s \"$CLdbDir\" \"$scriptDir\"\n",
      "\n",
      "# converting .xml to .srl\n",
      "## This retains all of the info in the xml, but produces a smaller file that is faster to load and write.\n",
      "## For large blast runs (xml files > 100 Mb), this will take a little while\n",
      "\n",
      "cd $1\n",
      "\n",
      "$2'CLdb' arrayBlast -- xml2srl -- ./arrayBlast/spacers_cut1_blastn.xml > ./arrayBlast/spacers_cut1_blastn.srl\n",
      "\n",
      "\n",
      "# checking output file\n",
      "ls -thlc ./arrayBlast/spacers_cut1_blastn.srl"
     ],
     "language": "python",
     "metadata": {},
     "outputs": [
      {
       "output_type": "stream",
       "stream": "stdout",
       "text": [
        "-rw-rw-r-- 1 nyoungb2 nyoungb2 62K Oct 26 13:52 ./arrayBlast/spacers_cut1_blastn.srl\n"
       ]
      }
     ],
     "prompt_number": 77
    },
    {
     "cell_type": "markdown",
     "metadata": {},
     "source": [
      "### Blasting DRs against the same queries. \n",
      "\n",
      "* This is needed to filter out spacer blast hits to CRISPR arrays"
     ]
    },
    {
     "cell_type": "code",
     "collapsed": false,
     "input": [
      "%%bash -s \"$CLdbDir\" \"$scriptDir\"\n",
      "\n",
      "# selecting DRs, so we can blast them.\n",
      "## This is needed blast filter out spacers that hit CRISPR arrays\n",
      "\n",
      "cd $1\n",
      "\n",
      "$2'CLdb' array2fasta -- -da CLdb.sqlite -clust -cut 1 -r > ./arrayBlast/DRs_cut1.fna\n",
      "\n",
      "\n",
      "# checking output file\n",
      "ls -thlc ./arrayBlast/DRs_cut1.fna"
     ],
     "language": "python",
     "metadata": {},
     "outputs": [
      {
       "output_type": "stream",
       "stream": "stdout",
       "text": [
        "-rw-rw-r-- 1 nyoungb2 nyoungb2 528 Oct 26 13:52 ./arrayBlast/DRs_cut1.fna\n"
       ]
      }
     ],
     "prompt_number": 78
    },
    {
     "cell_type": "code",
     "collapsed": false,
     "input": [
      "%%bash -s \"$CLdbDir\" \"$scriptDir\"\n",
      "\n",
      "# DR blast, just like spacer blast\n",
      "\n",
      "cd $1\n",
      "\n",
      "$2'CLdb' arrayBlast -- run -- -da CLdb.sqlite -query ./arrayBlast/DRs_cut1.fna > ./arrayBlast/DRs_cut1_blastn.xml\n",
      "\n",
      "\n",
      "# checking output file\n",
      "ls -thlc ./arrayBlast/DRs_cut1_blastn.xml"
     ],
     "language": "python",
     "metadata": {},
     "outputs": [
      {
       "output_type": "stream",
       "stream": "stdout",
       "text": [
        "-rw-rw-r-- 1 nyoungb2 nyoungb2 783K Oct 26 13:53 ./arrayBlast/DRs_cut1_blastn.xml\n"
       ]
      },
      {
       "output_type": "stream",
       "stream": "stderr",
       "text": [
        "Making BLAST databases...\n",
        "...making blast databases in /home/nyoungb2/perl/projects/CLdb/examples/ecoli/CLdb//arrayBlast/blast_db/\n",
        "makeblastdb -dbtype nucl -parse_seqids -in /home/nyoungb2/perl/projects/CLdb/examples/ecoli/CLdb//arrayBlast/blast_db//Escherichia_coli_BL2_DE3.fasta\n",
        "makeblastdb -dbtype nucl -parse_seqids -in /home/nyoungb2/perl/projects/CLdb/examples/ecoli/CLdb//arrayBlast/blast_db//Escherichia_coli_K_2_DH_B.fasta\n",
        "makeblastdb -dbtype nucl -parse_seqids -in /home/nyoungb2/perl/projects/CLdb/examples/ecoli/CLdb//arrayBlast/blast_db//Escherichia_coli_K_2_MG_655.fasta\n",
        "makeblastdb -dbtype nucl -parse_seqids -in /home/nyoungb2/perl/projects/CLdb/examples/ecoli/CLdb//arrayBlast/blast_db//Escherichia_coli_K_2_W3.fasta\n",
        "makeblastdb -dbtype nucl -parse_seqids -in /home/nyoungb2/perl/projects/CLdb/examples/ecoli/CLdb//arrayBlast/blast_db//Escherichia_coli_O_57_H7.fasta\n",
        "\n",
        "Blasting sequences...\n",
        "Number of blast hits to Escherichia_coli_BL2_DE3.fasta:\t4730\n",
        "Number of blast hits to Escherichia_coli_K_2_DH_B.fasta:\t4825\n",
        "Number of blast hits to Escherichia_coli_K_2_MG_655.fasta:\t4882\n",
        "Number of blast hits to Escherichia_coli_K_2_W3.fasta:\t4882\n",
        "Number of blast hits to Escherichia_coli_O_57_H7.fasta:\t1747\n"
       ]
      }
     ],
     "prompt_number": 80
    },
    {
     "cell_type": "code",
     "collapsed": false,
     "input": [
      "%%bash -s \"$CLdbDir\" \"$scriptDir\"\n",
      "\n",
      "# converting .xml to .srl\n",
      "## This retains all of the info in the xml, but produces a smaller file that is faster to load and write.\n",
      "## For large blast runs (xml files > 100 Mb), this will take a little while\n",
      "\n",
      "cd $1\n",
      "\n",
      "$2'CLdb' arrayBlast -- xml2srl -- ./arrayBlast/DRs_cut1_blastn.xml > ./arrayBlast/DRs_cut1_blastn.srl\n",
      "\n",
      "\n",
      "# checking output file\n",
      "ls -thlc ./arrayBlast/DRs_cut1_blastn.srl"
     ],
     "language": "python",
     "metadata": {},
     "outputs": [
      {
       "output_type": "stream",
       "stream": "stdout",
       "text": [
        "-rw-rw-r-- 1 nyoungb2 nyoungb2 247K Oct 26 13:55 ./arrayBlast/DRs_cut1_blastn.srl\n"
       ]
      }
     ],
     "prompt_number": 82
    },
    {
     "cell_type": "markdown",
     "metadata": {},
     "source": [
      "#### Filtering out spacer hits to arrays\n",
      "\n",
      "* Based on DR hits falling adjacent to spacer hits"
     ]
    },
    {
     "cell_type": "code",
     "collapsed": false,
     "input": [
      "%%bash -s \"$CLdbDir\" \"$scriptDir\"\n",
      "\n",
      "# filtering spacer hits to arrays\n",
      "## This is based on the premise that DR hits adjacent to spacer hits signify that the spacer is hitting a CRISPR array\n",
      "\n",
      "cd $1\n",
      "\n",
      "$2'CLdb' arrayBlast -- filter_arrayHits -- ./arrayBlast/spacers_cut1_blastn.srl \\\n",
      "    ./arrayBlast/DRs_cut1_blastn.srl > ./arrayBlast/spacers_cut1_blastn_filt.srl\n",
      "    \n",
      "    \n",
      "# checking output file\n",
      "ls -thlc ./arrayBlast/spacers_cut1_blastn_filt.srl"
     ],
     "language": "python",
     "metadata": {},
     "outputs": [
      {
       "output_type": "stream",
       "stream": "stdout",
       "text": [
        "-rw-rw-r-- 1 nyoungb2 nyoungb2 43K Oct 26 13:58 ./arrayBlast/spacers_cut1_blastn_filt.srl\n"
       ]
      },
      {
       "output_type": "stream",
       "stream": "stderr",
       "text": [
        "### Summary for filtering of 'bad' DR hits ###\n",
        "Total DR hits: 1014\n",
        "DR hits with E-values < 10: 0\n",
        "DR hits with hit lengths (fraction of total) < 0.66: 0\n",
        "DR hits used for filtering: 1014\n",
        "### DR filtering of spacer blast hits ###\n",
        "Total spacer blast hits: 79\n",
        "Spacer blast hits hitting an array (filtered out): 79\n",
        "\tDeleting the blast hits to arrays\n",
        "Spacer blast hits hitting a protospacer: 0\n"
       ]
      }
     ],
     "prompt_number": 84
    },
    {
     "cell_type": "markdown",
     "metadata": {},
     "source": [
      "### No spacers hit any protospacers on the Ecoli genomes in the CLdb!\n",
      "\n",
      "* This indicates that there are no interegrated mobile genetic elements in the E.coli genomes that can be detected using the CRISPR spacers.\n",
      "* Maybe we will get some hits when we blast against NCBI's nt database."
     ]
    },
    {
     "cell_type": "markdown",
     "metadata": {},
     "source": [
      "## Array Blast vs NCBI's nt database\n",
      "\n",
      "* NOTE: you will need the BLAST nt database & the blast+ toolkit"
     ]
    },
    {
     "cell_type": "code",
     "collapsed": false,
     "input": [
      "%%bash -s \"$CLdbDir\" \"$scriptDir\"\n",
      "\n",
      "# The arrayBlast wrapper only works with the genomes in CLdb.\n",
      "# We will need to do this part 'manually'\n",
      "## The blast output just needs to be in .xml format.\n",
      "## NOTE: you will need the BLAST nt database \n",
      "\n",
      "num_threads=20\n",
      "\n",
      "cd $1'arrayBlast'\n",
      "\n",
      "## spacer blast with blastn\n",
      "blastn -task blastn-short -db nt -query spacers_cut1.fna \\\n",
      "    -outfmt 5 -evalue 1e-5 -num_threads $num_threads > spacers_cut1_vNT.xml\n",
      "    \n",
      "\n",
      "## checking output\n",
      "ls -thlc spacers_cut1_vNT.xml"
     ],
     "language": "python",
     "metadata": {},
     "outputs": [
      {
       "output_type": "stream",
       "stream": "stdout",
       "text": [
        "-rw-rw-r-- 1 nyoungb2 nyoungb2 1.6M Oct 26 14:04 spacers_cut1_vNT.xml\n"
       ]
      }
     ],
     "prompt_number": 87
    },
    {
     "cell_type": "code",
     "collapsed": false,
     "input": [
      "%%bash -s \"$CLdbDir\" \"$scriptDir\"\n",
      "\n",
      "# Now, blasting with DR sequences (needed to filter out hits to CRISPR arrays)\n",
      "\n",
      "num_threads=20\n",
      "\n",
      "cd $1'arrayBlast'\n",
      "\n",
      "# DR blast\n",
      "blastn -task blastn-short -db nt -query DRs_cut1.fna \\\n",
      "    -outfmt 5 -evalue 1e-5 -num_threads $num_threads > DRs_cut1_vNT.xml\n",
      "    \n",
      "    \n",
      " ## checking output\n",
      "ls -thlc DRs_cut1_vNT.xml"
     ],
     "language": "python",
     "metadata": {},
     "outputs": [
      {
       "output_type": "stream",
       "stream": "stdout",
       "text": [
        "-rw-rw-r-- 1 nyoungb2 nyoungb2 15M Oct 26 14:03 DRs_cut1_vNT.xml\n"
       ]
      }
     ],
     "prompt_number": 86
    },
    {
     "cell_type": "code",
     "collapsed": false,
     "input": [
      "# checking files in arrayBlast directory\n",
      "!ls -thlc $CLdbDir'arrayBlast'"
     ],
     "language": "python",
     "metadata": {},
     "outputs": [
      {
       "output_type": "stream",
       "stream": "stdout",
       "text": [
        "total 18M\r\n",
        "-rw-rw-r-- 1 nyoungb2 nyoungb2 1.6M Oct 26 14:04 spacers_cut1_vNT.xml\r\n",
        "-rw-rw-r-- 1 nyoungb2 nyoungb2  15M Oct 26 14:03 DRs_cut1_vNT.xml\r\n",
        "-rw-rw-r-- 1 nyoungb2 nyoungb2  43K Oct 26 13:58 spacers_cut1_blastn_filt.srl\r\n",
        "-rw-rw-r-- 1 nyoungb2 nyoungb2 247K Oct 26 13:55 DRs_cut1_blastn.srl\r\n",
        "-rw-rw-r-- 1 nyoungb2 nyoungb2 783K Oct 26 13:53 DRs_cut1_blastn.xml\r\n",
        "drwxrwxr-x 2 nyoungb2 nyoungb2 4.0K Oct 26 13:53 blast_db\r\n",
        "-rw-rw-r-- 1 nyoungb2 nyoungb2  528 Oct 26 13:52 DRs_cut1.fna\r\n",
        "-rw-rw-r-- 1 nyoungb2 nyoungb2  62K Oct 26 13:52 spacers_cut1_blastn.srl\r\n",
        "-rw-rw-r-- 1 nyoungb2 nyoungb2 227K Oct 26 13:47 spacers_cut1_blastn.xml\r\n",
        "-rw-rw-r-- 1 nyoungb2 nyoungb2 2.0K Oct 26 13:39 spacers_cut1.fna\r\n"
       ]
      }
     ],
     "prompt_number": 88
    },
    {
     "cell_type": "code",
     "collapsed": false,
     "input": [
      "%%bash -s \"$CLdbDir\" \"$scriptDir\"\n",
      "\n",
      "# converting *.xml files to *.srl format\n",
      "\n",
      "cd $1\n",
      "\n",
      "## spacers\n",
      "$2'CLdb' arrayBlast -- xml2srl -- ./arrayBlast/spacers_cut1_vNT.xml > ./arrayBlast/spacers_cut1_vNT.srl\n",
      "\n",
      "## DRs\n",
      "$2'CLdb' arrayBlast -- xml2srl -- ./arrayBlast/DRs_cut1_vNT.xml > ./arrayBlast/DRs_cut1_vNT.srl\n",
      "\n",
      "\n",
      "## checking output\n",
      "ls -thlc ./arrayBlast/*_vNT.srl"
     ],
     "language": "python",
     "metadata": {},
     "outputs": [
      {
       "output_type": "stream",
       "stream": "stdout",
       "text": [
        "-rw-rw-r-- 1 nyoungb2 nyoungb2 4.8M Oct 26 14:07 ./arrayBlast/DRs_cut1_vNT.srl\n",
        "-rw-rw-r-- 1 nyoungb2 nyoungb2 584K Oct 26 14:06 ./arrayBlast/spacers_cut1_vNT.srl\n"
       ]
      }
     ],
     "prompt_number": 92
    },
    {
     "cell_type": "code",
     "collapsed": false,
     "input": [
      "%%bash -s \"$CLdbDir\" \"$scriptDir\"\n",
      "\n",
      "# filtering spacer hits to arrays\n",
      "## This is based on the premise that DR hits adjacent to spacer hits signify that the spacer is hitting a CRISPR array\n",
      "\n",
      "cd $1\n",
      "\n",
      "$2'CLdb' arrayBlast -- filter_arrayHits -- ./arrayBlast/spacers_cut1_vNT.srl ./arrayBlast/DRs_cut1_vNT.srl \\\n",
      "    > ./arrayBlast/spacers_cut1_blastn_filt.srl\n",
      "    \n",
      "    \n",
      "## checking output file\n",
      "ls -thlc ./arrayBlast/spacers_cut1_blastn_filt.srl"
     ],
     "language": "python",
     "metadata": {},
     "outputs": [
      {
       "output_type": "stream",
       "stream": "stdout",
       "text": [
        "-rw-rw-r-- 1 nyoungb2 nyoungb2 385K Oct 26 14:07 ./arrayBlast/spacers_cut1_blastn_filt.srl\n"
       ]
      },
      {
       "output_type": "stream",
       "stream": "stderr",
       "text": [
        "### Summary for filtering of 'bad' DR hits ###\n",
        "Total DR hits: 20159\n",
        "DR hits with E-values < 10: 0\n",
        "DR hits with hit lengths (fraction of total) < 0.66: 0\n",
        "DR hits used for filtering: 20159\n",
        "### DR filtering of spacer blast hits ###\n",
        "Total spacer blast hits: 1573\n",
        "Spacer blast hits hitting an array (filtered out): 863\n",
        "\tDeleting the blast hits to arrays\n",
        "Spacer blast hits hitting a protospacer: 710\n"
       ]
      }
     ],
     "prompt_number": 94
    },
    {
     "cell_type": "markdown",
     "metadata": {},
     "source": [
      "## OK. It's looks like we have some hits to some putative protospacers!\n",
      "\n",
      "__Let the investigation begin...__"
     ]
    },
    {
     "cell_type": "markdown",
     "metadata": {},
     "source": [
      "### File conversion:\n",
      "\n",
      "* __FYI__, the .srl files can be converted to json or csv format. For example:"
     ]
    },
    {
     "cell_type": "code",
     "collapsed": false,
     "input": [
      "%%bash -s \"$CLdbDir\" \"$scriptDir\"\n",
      "\n",
      "# The srl file can be converted to a json or csv file if you would like to use tools external to CLdb.\n",
      "\n",
      "cd $1\n",
      "\n",
      "$2'CLdb' arrayBlast -- srl2json -- < ./arrayBlast/spacers_cut1_blastn_filt.srl > ./arrayBlast/spacers_cut1_blastn_filt.json\n",
      "\n",
      "\n",
      "## viewing some of the json file\n",
      "cat ./arrayBlast/spacers_cut1_blastn_filt.json | python -mjson.tool 2>/dev/null | head -n 40"
     ],
     "language": "python",
     "metadata": {},
     "outputs": [
      {
       "output_type": "stream",
       "stream": "stdout",
       "text": [
        "{\n",
        "    \"0\": {\n",
        "        \"BlastOutput_db\": \"nt\", \n",
        "        \"BlastOutput_iterations\": {\n",
        "            \"Iteration\": [\n",
        "                {\n",
        "                    \"Iteration_hits\": {\n",
        "                        \"Hit\": [\n",
        "                            {\n",
        "                                \"Hit_accession\": \"KC765378\", \n",
        "                                \"Hit_def\": \"Escherichia coli strain 90-0009 CRISPR2a repeat region\", \n",
        "                                \"Hit_hsps\": {\n",
        "                                    \"Hsp\": {\n",
        "                                        \"2NhOQxJMOvPdb\": {\n",
        "                                            \"CLdb_array-hit\": 0, \n",
        "                                            \"Hsp_align-len\": \"32\", \n",
        "                                            \"Hsp_bit-score\": \"63.9282\", \n",
        "                                            \"Hsp_evalue\": \"3.97536e-08\", \n",
        "                                            \"Hsp_gaps\": \"0\", \n",
        "                                            \"Hsp_hit-frame\": \"-1\", \n",
        "                                            \"Hsp_hit-from\": \"286\", \n",
        "                                            \"Hsp_hit-to\": \"255\", \n",
        "                                            \"Hsp_hseq\": \"TTTTACAGTGTCAACAATCGTTCCCTGATTGT\", \n",
        "                                            \"Hsp_identity\": \"32\", \n",
        "                                            \"Hsp_midline\": \"||||||||||||||||||||||||||||||||\", \n",
        "                                            \"Hsp_num\": \"1\", \n",
        "                                            \"Hsp_positive\": \"32\", \n",
        "                                            \"Hsp_qseq\": \"TTTTACAGTGTCAACAATCGTTCCCTGATTGT\", \n",
        "                                            \"Hsp_query-frame\": \"1\", \n",
        "                                            \"Hsp_query-from\": \"1\", \n",
        "                                            \"Hsp_query-to\": \"32\", \n",
        "                                            \"Hsp_score\": \"32\"\n",
        "                                        }\n",
        "                                    }\n",
        "                                }, \n",
        "                                \"Hit_id\": \"gi|528889517|gb|KC765378.1|\", \n",
        "                                \"Hit_len\": \"922\", \n",
        "                                \"Hit_num\": \"1\"\n",
        "                            }, \n",
        "                            {\n"
       ]
      }
     ],
     "prompt_number": 95
    },
    {
     "cell_type": "code",
     "collapsed": false,
     "input": [
      "# status updated on while files are in the arrayBlast directory\n",
      "!ls -thlc $CLdbDir'arrayBlast' | sort -k 9"
     ],
     "language": "python",
     "metadata": {},
     "outputs": [
      {
       "output_type": "stream",
       "stream": "stdout",
       "text": [
        "total 24M\r\n",
        "drwxrwxr-x 2 nyoungb2 nyoungb2 4.0K Oct 26 13:53 blast_db\r\n",
        "-rw-rw-r-- 1 nyoungb2 nyoungb2 247K Oct 26 13:55 DRs_cut1_blastn.srl\r\n",
        "-rw-rw-r-- 1 nyoungb2 nyoungb2 783K Oct 26 13:53 DRs_cut1_blastn.xml\r\n",
        "-rw-rw-r-- 1 nyoungb2 nyoungb2  528 Oct 26 13:52 DRs_cut1.fna\r\n",
        "-rw-rw-r-- 1 nyoungb2 nyoungb2 4.8M Oct 26 14:07 DRs_cut1_vNT.srl\r\n",
        "-rw-rw-r-- 1 nyoungb2 nyoungb2  15M Oct 26 14:03 DRs_cut1_vNT.xml\r\n",
        "-rw-rw-r-- 1 nyoungb2 nyoungb2 638K Oct 26 14:09 spacers_cut1_blastn_filt.json\r\n",
        "-rw-rw-r-- 1 nyoungb2 nyoungb2 385K Oct 26 14:07 spacers_cut1_blastn_filt.srl\r\n",
        "-rw-rw-r-- 1 nyoungb2 nyoungb2  62K Oct 26 13:52 spacers_cut1_blastn.srl\r\n",
        "-rw-rw-r-- 1 nyoungb2 nyoungb2 227K Oct 26 13:47 spacers_cut1_blastn.xml\r\n",
        "-rw-rw-r-- 1 nyoungb2 nyoungb2 2.0K Oct 26 13:39 spacers_cut1.fna\r\n",
        "-rw-rw-r-- 1 nyoungb2 nyoungb2 584K Oct 26 14:06 spacers_cut1_vNT.srl\r\n",
        "-rw-rw-r-- 1 nyoungb2 nyoungb2 1.6M Oct 26 14:04 spacers_cut1_vNT.xml\r\n"
       ]
      }
     ],
     "prompt_number": 96
    },
    {
     "cell_type": "code",
     "collapsed": false,
     "input": [
      "%%bash -s \"$CLdbDir\" \"$scriptDir\"\n",
      "\n",
      "# adding crRNA region to .srl (actually the DNA template, refering to it as 'crDNA')\n",
      "## How much of the adjacent DR sequences are included in the crDNA is determined by the user (default: 10bp on either side)\n",
      "\n",
      "cd $1\n",
      "\n",
      "$2'CLdb' arrayBlast -- add_crRNA -- -da CLdb.sqlite \\\n",
      "    < ./arrayBlast/spacers_cut1_blastn_filt.srl \\\n",
      "    > ./arrayBlast/spacers_cut1_blastn_filt_crDNA.srl\n",
      "   \n",
      "   \n",
      "## checking output\n",
      "ls -thcl ./arrayBlast/spacers_cut1_blastn_filt_crDNA.srl"
     ],
     "language": "python",
     "metadata": {},
     "outputs": [
      {
       "output_type": "stream",
       "stream": "stdout",
       "text": [
        "-rw-rw-r-- 1 nyoungb2 nyoungb2 403K Oct 26 14:14 ./arrayBlast/spacers_cut1_blastn_filt_crDNA.srl\n"
       ]
      },
      {
       "output_type": "stream",
       "stream": "stderr",
       "text": [
        "Decoding .srl file...\n",
        "Extracting all queries with blast hits from blast hit file...\n",
        "...Number of total unique query IDs:\t39\n",
        "Getting info from CLdb on each blast query spacer...\n",
        "Getting spacer regions from each genome...\n",
        " Processing genome: Escherichia_coli_K_2_DH_B.fasta...\n",
        " Processing genome: Escherichia_coli_K_2_MG_655.fasta...\n",
        " Processing genome: Escherichia_coli_O_57_H7.fasta...\n",
        " Processing genome: Escherichia_coli_BL2_DE3.fasta...\n",
        " Processing genome: Escherichia_coli_K_2_W3.fasta...\n"
       ]
      }
     ],
     "prompt_number": 103
    },
    {
     "cell_type": "code",
     "collapsed": false,
     "input": [
      "%%bash -s \"$CLdbDir\" \"$scriptDir\"\n",
      "# adding protospacer region to .srl\n",
      "\n",
      "cd $1\n",
      "\n",
      "\n",
      "$2'CLdb' arrayBlast -- add_proto -- -workers 24 \\\n",
      "    < ./arrayBlast/spacers_cut1_blastn_filt_crDNA.srl \\\n",
      "    > ./arrayBlast/spacers_cut1_blastn_filt_crDNA_proto.srl   \n",
      "    \n",
      "    \n",
      "## checking output\n",
      "ls -thlc ./arrayBlast/spacers_cut1_blastn_filt_crDNA_proto.srl   "
     ],
     "language": "python",
     "metadata": {},
     "outputs": [
      {
       "output_type": "stream",
       "stream": "stdout",
       "text": [
        "-rw-rw-r-- 1 nyoungb2 nyoungb2 514K Oct 26 14:17 ./arrayBlast/spacers_cut1_blastn_filt_crDNA_proto.srl\n"
       ]
      },
      {
       "output_type": "stream",
       "stream": "stderr",
       "text": [
        "Retrieving proto info from blast db: 'nt'\n",
        "Retrieving proto sequences from blast db: 'nt'\n"
       ]
      }
     ],
     "prompt_number": 106
    },
    {
     "cell_type": "code",
     "collapsed": false,
     "input": [
      "%%bash -s \"$CLdbDir\" \"$scriptDir\"\n",
      "# aligning crRNA and protospacer\n",
      "## alignment added to the .srl file.\n",
      "## These are individual alignments between the spacer and protospacer (using clustalw).\n",
      "\n",
      "cd $1\n",
      "\n",
      "$2'CLdb' arrayBlast -- align_proto -- \\\n",
      "    < ./arrayBlast/spacers_cut1_blastn_filt_crDNA_proto.srl \\\n",
      "    > ./arrayBlast/spacers_cut1_blastn_filt_crDNA_proto_aln.srl\n",
      "    \n",
      "## checking output\n",
      "ls -thlc ./arrayBlast/spacers_cut1_blastn_filt_crDNA_proto_aln.srl"
     ],
     "language": "python",
     "metadata": {},
     "outputs": [
      {
       "output_type": "stream",
       "stream": "stdout",
       "text": [
        "-rw-rw-r-- 1 nyoungb2 nyoungb2 707K Oct 26 14:17 ./arrayBlast/spacers_cut1_blastn_filt_crDNA_proto_aln.srl\n"
       ]
      },
      {
       "output_type": "stream",
       "stream": "stderr",
       "text": [
        "Aligning protospacers from blast db: 'nt'\n"
       ]
      }
     ],
     "prompt_number": 107
    },
    {
     "cell_type": "code",
     "collapsed": false,
     "input": [
      "%%bash -s \"$CLdbDir\" \"$scriptDir\"\n",
      "# getting alignment of protospacer and crDNA and writing as a fasta\n",
      "## You can parse out the alignments you want (parse by subtype, taxon_name, etc.)\n",
      "##   OR you can parse them after writing (add subtype, taxon_name, e-value, etc. to the sequence name)\n",
      "## The alignments will be oriented to the crDNA (5'-3' for the crRNA)\n",
      "\n",
      "cd $1\n",
      "\n",
      "$2'CLdb' arrayBlast -- get_align -- \\\n",
      "    -da CLdb.sqlite -outfmt taxon_name,subtype,evalue \\\n",
      "    < ./arrayBlast/spacers_cut1_blastn_filt_crDNA_proto_aln.srl \\\n",
      "    > ./arrayBlast/all_crDNA-proto_aln.fna\n",
      "    \n",
      "\n",
      "## checking output\n",
      "ls -thlc ./arrayBlast/all_crDNA-proto_aln.fna"
     ],
     "language": "python",
     "metadata": {},
     "outputs": [
      {
       "output_type": "stream",
       "stream": "stdout",
       "text": [
        "-rw-rw-r-- 1 nyoungb2 nyoungb2 384K Oct 26 14:18 ./arrayBlast/all_crDNA-proto_aln.fna\n"
       ]
      },
      {
       "output_type": "stream",
       "stream": "stderr",
       "text": [
        "Decoding .srl file...\n",
        "Getting metadata info from CLdb...\n",
        "Getting alignments...\n"
       ]
      }
     ],
     "prompt_number": 110
    },
    {
     "cell_type": "code",
     "collapsed": false,
     "input": [
      "# let's take a look at the sequences \n",
      "!head -n 20 $CLdbDir'/arrayBlast/all_crDNA-proto_aln.fna'"
     ],
     "language": "python",
     "metadata": {},
     "outputs": [
      {
       "output_type": "stream",
       "stream": "stdout",
       "text": [
        ">crDNA|J|10|2NhOQxJMOvPdb|Escherichia_coli_BL21_DE3|I-E|3.97536e-08\r\n",
        "gggataaaccGACAATCAGGGAACGATTGTTGACACTGTAAAAgtgttccccg\r\n",
        ">proto|J|10|2NhOQxJMOvPdb|Escherichia_coli_BL21_DE3|I-E|3.97536e-08\r\n",
        ".ggataaaccgACAATCAGGGAACGATTGTTGACACTGTAAAAgtgttccccg\r\n",
        ">crDNA|J|10|2RjzImOT39gS9|Escherichia_coli_BL21_DE3|I-E|3.97536e-08\r\n",
        "gggataaaccGACAATCAGGGAACGATTGTTGACACTGTAAAAgtgttccccg\r\n",
        ">proto|J|10|2RjzImOT39gS9|Escherichia_coli_BL21_DE3|I-E|3.97536e-08\r\n",
        ".ggataaaccgACAATCAGGGAACGATTGTTGACACTGTAAAAgtgttccccg\r\n",
        ">crDNA|J|10|2RIDXN3JOzkVv|Escherichia_coli_BL21_DE3|I-E|3.97536e-08\r\n",
        "gggataaaccGACAATCAGGGAACGATTGTTGACACTGTAAAAgtgttccccg\r\n",
        ">proto|J|10|2RIDXN3JOzkVv|Escherichia_coli_BL21_DE3|I-E|3.97536e-08\r\n",
        ".ggataaaccgACAATCAGGGAACGATTGTTGACACTGTAAAAgtgttccccg\r\n",
        ">crDNA|J|10|2S7ULOBVdK1yB|Escherichia_coli_BL21_DE3|I-E|3.97536e-08\r\n",
        "gggataaaccGACAATCAGGGAACGATTGTTGACACTGTAAAAgtgttccccg\r\n",
        ">proto|J|10|2S7ULOBVdK1yB|Escherichia_coli_BL21_DE3|I-E|3.97536e-08\r\n",
        ".ggataaaccgACAATCAGGGAACGATTGTTGACACTGTAAAAgtgttccccg\r\n",
        ">crDNA|J|10|2TkZohEMYZehT|Escherichia_coli_BL21_DE3|I-E|3.97536e-08\r\n",
        "gggataaaccGACAATCAGGGAACGATTGTTGACACTGTAAAAgtgttccccg\r\n",
        ">proto|J|10|2TkZohEMYZehT|Escherichia_coli_BL21_DE3|I-E|3.97536e-08\r\n",
        ".ggataaaccgACAATCAGGGAACGATTGTTGACACTGTAAAAgtgttccccg\r\n"
       ]
      }
     ],
     "prompt_number": 111
    },
    {
     "cell_type": "markdown",
     "metadata": {},
     "source": [
      "__The alignment is really just for each crDNA-protospacer pair (every 4 lines):__\n",
      "\n",
      "~~~\n",
      ">crDNA\n",
      "ATAGACA\n",
      ">proto\n",
      "ATAGACA\n",
      "~~~\n",
      "\n",
      "__If you wanted each pair individually, you could use something like the following:__"
     ]
    },
    {
     "cell_type": "code",
     "collapsed": false,
     "input": [
      "# WARNING: this will produce a lot of files!\n",
      "!split -l 4 -d -a 4 $CLdbDir'arrayBlast/all_crDNA-proto_aln.fna' $CLdbDir'arrayBlast/crDNA-proto_aln_split'\n",
      "\n",
      "## Let look at one of them\n",
      "!find $CLdbDir'arrayBlast/' -name 'crDNA-proto_aln_split[0-9]*' | head -n 1 | xargs -I % cat %"
     ],
     "language": "python",
     "metadata": {},
     "outputs": [
      {
       "output_type": "stream",
       "stream": "stdout",
       "text": [
        ">crDNA|J|6|9k4U1yAElmYJ|Escherichia_coli_BL21_DE3|I-E|3.97536e-08\r\n",
        "gggataaaccGGCGACCACGCAGAGCGGCGACAACCTGACGTTgtgttccccg\r\n",
        ">proto|J|6|9k4U1yAElmYJ|Escherichia_coli_BL21_DE3|I-E|3.97536e-08\r\n",
        ".ggataaaccgGCGACCACGCAGAGCGGCGACAACCTGACGTTgtgttccccg\r\n",
        "find: `standard output': Broken pipe\r\n",
        "find: write error\r\n"
       ]
      }
     ],
     "prompt_number": 114
    },
    {
     "cell_type": "code",
     "collapsed": false,
     "input": [
      "# Let's remove those files\n",
      "!find $CLdbDir'arrayBlast' -name 'crDNA-proto_aln_split[0-9]*' | xargs -I % rm %"
     ],
     "language": "python",
     "metadata": {},
     "outputs": [],
     "prompt_number": 115
    },
    {
     "cell_type": "code",
     "collapsed": false,
     "input": [
      "%%bash -s \"$CLdbDir\" \"$scriptDir\"\n",
      "# Looking at the alignments can be very useful, but it can help to extract what we specifically want and summarize.\n",
      "## Let's pull out the potential PAM regions from the alignment \n",
      "## We are going to assume that the PAM is:\n",
      "### 4bp (really 3bp) long \n",
      "### adjacent to the 5' end of the protospacer (right side of the alignment)\n",
      "\n",
      "cd $1\n",
      "\n",
      "$2'CLdb' arrayBlast -- get_PAM -- -PAM 1 4 -f - \\\n",
      "    < ./arrayBlast/all_crDNA-proto_aln.fna \\\n",
      "    > ./arrayBlast/all_crDNA-proto_aln_PAM.fna\n",
      "\n",
      "\n",
      "## checking output\n",
      "ls -thlc ./arrayBlast/all_crDNA-proto_aln_PAM.fna\n",
      "head ./arrayBlast/all_crDNA-proto_aln_PAM.fna"
     ],
     "language": "python",
     "metadata": {},
     "outputs": [
      {
       "output_type": "stream",
       "stream": "stdout",
       "text": [
        "-rw-rw-r-- 1 nyoungb2 nyoungb2 115K Oct 26 14:20 ./arrayBlast/all_crDNA-proto_aln_PAM.fna\n",
        ">proto|E|9|31etS2GOyPEEd|Escherichia_coli_K-12_W3110|I-E|1.08991e-08\n",
        "gagt\n",
        ">proto|B|5|1FQXZpz9NF153|Escherichia_coli_K-12_MG1655|I-E|1.08991e-08\n",
        "gtgt\n",
        ">proto|E|5|19t75kH7llSgB|Escherichia_coli_K-12_W3110|I-E|3.97536e-08\n",
        "gagt\n",
        ">proto|D|5|1sC3vTY2xPMjj|Escherichia_coli_K-12_DH10B|I-E|1.08991e-08\n",
        "gtgt\n",
        ">proto|J|5|2IuamidfMPyMR|Escherichia_coli_BL21_DE3|I-E|3.97536e-08\n",
        "gtgt\n"
       ]
      }
     ],
     "prompt_number": 117
    },
    {
     "cell_type": "code",
     "collapsed": false,
     "input": [
      "#summarizing each PAM sequence (4 nt most proximal to spacer-protospacer alignment)\n",
      "!egrep -v \"^>\" $CLdbDir'./arrayBlast/all_crDNA-proto_aln_PAM.fna' | sort | uniq -c | sort -k 1 -n -r "
     ],
     "language": "python",
     "metadata": {},
     "outputs": [
      {
       "output_type": "stream",
       "stream": "stdout",
       "text": [
        "   1201 gtgt\r\n",
        "    371 gagt\r\n",
        "      6 \r\n",
        "      4 gagc\r\n",
        "      3 aatt\r\n",
        "      3 aagt\r\n",
        "      2 cgtg\r\n",
        "      2 cggt\r\n",
        "      2 acgg\r\n"
       ]
      }
     ],
     "prompt_number": 119
    },
    {
     "cell_type": "code",
     "collapsed": false,
     "input": [
      "# and if we reverse the sequence...\n",
      "!egrep -v \"^>\" $CLdbDir'./arrayBlast/all_crDNA-proto_aln_PAM.fna' | rev | sort | uniq -c | sort -k 1 -n -r "
     ],
     "language": "python",
     "metadata": {},
     "outputs": [
      {
       "output_type": "stream",
       "stream": "stdout",
       "text": [
        "   1201 tgtg\r\n",
        "    371 tgag\r\n",
        "      6 \r\n",
        "      4 cgag\r\n",
        "      3 ttaa\r\n",
        "      3 tgaa\r\n",
        "      2 tggc\r\n",
        "      2 gtgc\r\n",
        "      2 ggca\r\n"
       ]
      }
     ],
     "prompt_number": 120
    },
    {
     "cell_type": "markdown",
     "metadata": {},
     "source": [
      "__We get the (less prevalent) PAM region ('TGT') for known I-E CRISPR systems as shown in [Rorek et al., 2013](http://www.annualreviews.org/doi/abs/10.1146/annurev-biochem-072911-172315)!__"
     ]
    },
    {
     "cell_type": "markdown",
     "metadata": {},
     "source": [
      "## Spacer (crDNA) - protospacer mismatch distribution\n",
      "\n",
      "Let's look at potential spacer targeting by assessing mismatches of the crDNAs and protospacers."
     ]
    },
    {
     "cell_type": "code",
     "collapsed": false,
     "input": [
      "%%bash -s \"$CLdbDir\" \"$scriptDir\"\n",
      "# This script will make 2 summary files of mismatches for each crDNA-protospacer alignment\n",
      "# Given that spacers can vary in length, the alignment is relative to a user-defined 'SEED' region.\n",
      "# I'm going to use the default SEED region: '-SEED -8 -1'\n",
      "## This SEED region covers the last 8 bp of the alignment\n",
      "\n",
      "cd $1\n",
      "\n",
      "$2'CLdb' arrayBlast -- get_SEEDstats -- --SEED -8 -1 \\\n",
      "    < ./arrayBlast/all_crDNA-proto_aln.fna \\\n",
      "    -prefix ./arrayBlast/all_crDNA-proto_aln\n",
      "\n",
      "\n",
      "## checking output files\n",
      "ls -thlc ./arrayBlast/all_crDNA-proto_aln_SEEDstats-summary.txt\n",
      "ls -thlc ./arrayBlast/all_crDNA-proto_aln_SEEDstats-byPos.txt"
     ],
     "language": "python",
     "metadata": {},
     "outputs": [
      {
       "output_type": "stream",
       "stream": "stdout",
       "text": [
        "-rw-rw-r-- 1 nyoungb2 nyoungb2 725K Oct 26 14:23 ./arrayBlast/all_crDNA-proto_aln_SEEDstats-summary.txt\n",
        "-rw-rw-r-- 1 nyoungb2 nyoungb2 2.3K Oct 26 14:23 ./arrayBlast/all_crDNA-proto_aln_SEEDstats-byPos.txt\n"
       ]
      },
      {
       "output_type": "stream",
       "stream": "stderr",
       "text": [
        "SEED summary file written: './arrayBlast/all_crDNA-proto_aln_SEEDstats-summary.txt'\n",
        "SEED by-position table written: './arrayBlast/all_crDNA-proto_aln_SEEDstats-byPos.txt'\n"
       ]
      }
     ],
     "prompt_number": 123
    },
    {
     "cell_type": "code",
     "collapsed": false,
     "input": [
      "%%R -i CLdbDir -w 800\n",
      "# plotting mismatches across the protospacer alignments\n",
      "library(ggplot2)\n",
      "library(gridExtra)\n",
      "\n",
      "# loading table\n",
      "filename = './arrayBlast/all_crDNA-proto_aln_SEEDstats-byPos.txt'\n",
      "fullname = paste(c(CLdbDir, filename), collapse='')\n",
      "\n",
      "tbl = read.delim( fullname )\n",
      "tbl = tbl[tbl$region != 'protospacer', ]\n",
      "\n",
      "# mismatches and counts, & normalized mismatches\n",
      "p.mis = ggplot(tbl, aes(pos_rel_SEED, mismatches, group=region, fill=region)) +\n",
      "    geom_bar(stat='identity', position='dodge') +\n",
      "    labs(y='Number\\nof mismatches', x='Alignment position relative to SEED start')\n",
      "p.count = ggplot(tbl, aes(pos_rel_SEED, count, group=region, fill=region)) +  \n",
      "    geom_bar(stat='identity', position='dodge') +\n",
      "    labs(y='Number of alignments\\nwith nucleotide\\nat position', x='Alignment position relative to SEED start')\n",
      "p.norm = ggplot(tbl, aes(pos_rel_SEED, mismatch_norm, group=region, fill=region)) +\n",
      "  geom_bar(stat='identity', position='dodge') +\n",
      "    labs(y='Mismatchs /\\nalignments', x='Alignment position relative to SEED start')\n",
      "\n",
      "grid.arrange(p.count, p.mis, p.norm, ncol=1)"
     ],
     "language": "python",
     "metadata": {},
     "outputs": [
      {
       "metadata": {},
       "output_type": "display_data",
       "text": [
        "NULL\n"
       ]
      },
      {
       "metadata": {},
       "output_type": "display_data",
       "png": "[encoded data removed]"
      }
     ],
     "prompt_number": 128
    },
    {
     "cell_type": "markdown",
     "metadata": {},
     "source": [
      "__Notes on plots:__\n",
      "\n",
      "* The top plot shows that some spacer-protospacer are not quiet as long as the rest, which is why the 'Number of alignment with nucleotide at position' drops at the (positions 33-35).\n",
      "* There are no mismatches in the middle of the spacer-protospacer alignments."
     ]
    },
    {
     "cell_type": "code",
     "collapsed": false,
     "input": [],
     "language": "python",
     "metadata": {},
     "outputs": []
    }
   ],
   "metadata": {}
  }
 ]
}