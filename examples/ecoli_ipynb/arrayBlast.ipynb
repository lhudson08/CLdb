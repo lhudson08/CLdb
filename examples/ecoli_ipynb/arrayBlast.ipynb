{
 "metadata": {
  "name": "",
  "signature": "sha256:3a82125b1da9cf431fd6f8499a7b07d0c34ebc7a4a6db51a140b2c78348f919d"
 },
 "nbformat": 3,
 "nbformat_minor": 0,
 "worksheets": [
  {
   "cells": [
    {
     "cell_type": "markdown",
     "metadata": {},
     "source": [
      "### Before running this notebook:\n",
      "\n",
      "* __run the [Setup](./Setup.pynb) notebook__"
     ]
    },
    {
     "cell_type": "code",
     "collapsed": false,
     "input": [
      "from IPython.display import FileLinks\n",
      "import pandas as pd"
     ],
     "language": "python",
     "metadata": {},
     "outputs": [],
     "prompt_number": 195
    },
    {
     "cell_type": "code",
     "collapsed": false,
     "input": [
      "# This tutorial assumes that this IPython notebook is in the ./CLdb/examples/ecoli_ipynb/ directory.\n",
      "## these are the relative paths to everything we will be working with\n",
      "CLdbDir = \"../ecoli_CLdb/\"\n",
      "scriptDir = \"../../bin/\""
     ],
     "language": "python",
     "metadata": {},
     "outputs": [],
     "prompt_number": 196
    },
    {
     "cell_type": "code",
     "collapsed": false,
     "input": [
      "# Checking on files in the CLdb directory\n",
      "FileLinks(CLdbDir)"
     ],
     "language": "python",
     "metadata": {},
     "outputs": [
      {
       "html": [
        "../ecoli_CLdb/<br>\n",
        "&nbsp;&nbsp;<a href='../ecoli_CLdb/CLdb.sqlite' target='_blank'>CLdb.sqlite</a><br>\n",
        "&nbsp;&nbsp;<a href='../ecoli_CLdb/GIs.txt' target='_blank'>GIs.txt</a><br>\n",
        "../ecoli_CLdb/array/<br>\n",
        "&nbsp;&nbsp;<a href='../ecoli_CLdb/array/Ecoli_K12_DH10B_a2.txt' target='_blank'>Ecoli_K12_DH10B_a2.txt</a><br>\n",
        "&nbsp;&nbsp;<a href='../ecoli_CLdb/array/Ecoli_K12_W3110_a1.txt' target='_blank'>Ecoli_K12_W3110_a1.txt</a><br>\n",
        "&nbsp;&nbsp;<a href='../ecoli_CLdb/array/Ecoli_K12_MG1655_a1.txt' target='_blank'>Ecoli_K12_MG1655_a1.txt</a><br>\n",
        "&nbsp;&nbsp;<a href='../ecoli_CLdb/array/Ecoli_BL21_DE3_a2.txt' target='_blank'>Ecoli_BL21_DE3_a2.txt</a><br>\n",
        "&nbsp;&nbsp;<a href='../ecoli_CLdb/array/Ecoli_K12_MG1655_a2.txt' target='_blank'>Ecoli_K12_MG1655_a2.txt</a><br>\n",
        "&nbsp;&nbsp;<a href='../ecoli_CLdb/array/Ecoli_BL21_DE3_a1.txt' target='_blank'>Ecoli_BL21_DE3_a1.txt</a><br>\n",
        "&nbsp;&nbsp;<a href='../ecoli_CLdb/array/Ecoli_K12_W3110_a2.txt' target='_blank'>Ecoli_K12_W3110_a2.txt</a><br>\n",
        "&nbsp;&nbsp;<a href='../ecoli_CLdb/array/Ecoli_K12_DH10B_a1.txt' target='_blank'>Ecoli_K12_DH10B_a1.txt</a><br>\n",
        "&nbsp;&nbsp;<a href='../ecoli_CLdb/array/Ecoli_0157_H7_a1.txt' target='_blank'>Ecoli_0157_H7_a1.txt</a><br>\n",
        "&nbsp;&nbsp;<a href='../ecoli_CLdb/array/Ecoli_0157_H7_a2.txt' target='_blank'>Ecoli_0157_H7_a2.txt</a><br>\n",
        "../ecoli_CLdb/clustering/<br>\n",
        "&nbsp;&nbsp;<a href='../ecoli_CLdb/clustering/spacers.cdhit.clstr' target='_blank'>spacers.cdhit.clstr</a><br>\n",
        "&nbsp;&nbsp;<a href='../ecoli_CLdb/clustering/spacers.cdhit' target='_blank'>spacers.cdhit</a><br>\n",
        "&nbsp;&nbsp;<a href='../ecoli_CLdb/clustering/DRs.cdhit' target='_blank'>DRs.cdhit</a><br>\n",
        "&nbsp;&nbsp;<a href='../ecoli_CLdb/clustering/DRs.fna' target='_blank'>DRs.fna</a><br>\n",
        "&nbsp;&nbsp;<a href='../ecoli_CLdb/clustering/DRs.cdhit.clstr' target='_blank'>DRs.cdhit.clstr</a><br>\n",
        "&nbsp;&nbsp;<a href='../ecoli_CLdb/clustering/spacers.fna' target='_blank'>spacers.fna</a><br>\n",
        "../ecoli_CLdb/fasta/<br>\n",
        "&nbsp;&nbsp;<a href='../ecoli_CLdb/fasta/Escherichia_coli_BL2_DE3.fasta' target='_blank'>Escherichia_coli_BL2_DE3.fasta</a><br>\n",
        "&nbsp;&nbsp;<a href='../ecoli_CLdb/fasta/Escherichia_coli_K_2_W3.fasta' target='_blank'>Escherichia_coli_K_2_W3.fasta</a><br>\n",
        "&nbsp;&nbsp;<a href='../ecoli_CLdb/fasta/Escherichia_coli_K_2_MG_655.fasta' target='_blank'>Escherichia_coli_K_2_MG_655.fasta</a><br>\n",
        "&nbsp;&nbsp;<a href='../ecoli_CLdb/fasta/Escherichia_coli_K_2_DH_B.fasta' target='_blank'>Escherichia_coli_K_2_DH_B.fasta</a><br>\n",
        "&nbsp;&nbsp;<a href='../ecoli_CLdb/fasta/Escherichia_coli_O_57_H7.fasta' target='_blank'>Escherichia_coli_O_57_H7.fasta</a><br>\n",
        "../ecoli_CLdb/genbank/<br>\n",
        "&nbsp;&nbsp;<a href='../ecoli_CLdb/genbank/Escherichia_coli_BL2_DE3.gbk' target='_blank'>Escherichia_coli_BL2_DE3.gbk</a><br>\n",
        "&nbsp;&nbsp;<a href='../ecoli_CLdb/genbank/Escherichia_coli_K_2_W3.gbk' target='_blank'>Escherichia_coli_K_2_W3.gbk</a><br>\n",
        "&nbsp;&nbsp;<a href='../ecoli_CLdb/genbank/Escherichia_coli_K_2_MG_655.gbk' target='_blank'>Escherichia_coli_K_2_MG_655.gbk</a><br>\n",
        "&nbsp;&nbsp;<a href='../ecoli_CLdb/genbank/Escherichia_coli_K_2_DH_B.gbk' target='_blank'>Escherichia_coli_K_2_DH_B.gbk</a><br>\n",
        "&nbsp;&nbsp;<a href='../ecoli_CLdb/genbank/Escherichia_coli_O_57_H7.gbk' target='_blank'>Escherichia_coli_O_57_H7.gbk</a><br>\n",
        "../ecoli_CLdb/loci/<br>\n",
        "&nbsp;&nbsp;<a href='../ecoli_CLdb/loci/140419_loci.txt' target='_blank'>140419_loci.txt</a><br>"
       ],
       "metadata": {},
       "output_type": "pyout",
       "prompt_number": 197,
       "text": [
        "../ecoli_CLdb/\n",
        "  CLdb.sqlite\n",
        "  GIs.txt\n",
        "../ecoli_CLdb/array/\n",
        "  Ecoli_K12_DH10B_a2.txt\n",
        "  Ecoli_K12_W3110_a1.txt\n",
        "  Ecoli_K12_MG1655_a1.txt\n",
        "  Ecoli_BL21_DE3_a2.txt\n",
        "  Ecoli_K12_MG1655_a2.txt\n",
        "  Ecoli_BL21_DE3_a1.txt\n",
        "  Ecoli_K12_W3110_a2.txt\n",
        "  Ecoli_K12_DH10B_a1.txt\n",
        "  Ecoli_0157_H7_a1.txt\n",
        "  Ecoli_0157_H7_a2.txt\n",
        "../ecoli_CLdb/clustering/\n",
        "  spacers.cdhit.clstr\n",
        "  spacers.cdhit\n",
        "  DRs.cdhit\n",
        "  DRs.fna\n",
        "  DRs.cdhit.clstr\n",
        "  spacers.fna\n",
        "../ecoli_CLdb/fasta/\n",
        "  Escherichia_coli_BL2_DE3.fasta\n",
        "  Escherichia_coli_K_2_W3.fasta\n",
        "  Escherichia_coli_K_2_MG_655.fasta\n",
        "  Escherichia_coli_K_2_DH_B.fasta\n",
        "  Escherichia_coli_O_57_H7.fasta\n",
        "../ecoli_CLdb/genbank/\n",
        "  Escherichia_coli_BL2_DE3.gbk\n",
        "  Escherichia_coli_K_2_W3.gbk\n",
        "  Escherichia_coli_K_2_MG_655.gbk\n",
        "  Escherichia_coli_K_2_DH_B.gbk\n",
        "  Escherichia_coli_O_57_H7.gbk\n",
        "../ecoli_CLdb/loci/\n",
        "  140419_loci.txt"
       ]
      }
     ],
     "prompt_number": 197
    },
    {
     "cell_type": "code",
     "collapsed": false,
     "input": [
      "%%bash -s \"$CLdbDir\"\n",
      "\n",
      "BlastDir='arrayBlast'\n",
      "\n",
      "if [ -d $1$BlastDir ]; then\n",
      "    rm -r $1$BlastDir\n",
      "fi    \n",
      "\n",
      "mkdir $1$BlastDir"
     ],
     "language": "python",
     "metadata": {},
     "outputs": [],
     "prompt_number": 198
    },
    {
     "cell_type": "code",
     "collapsed": false,
     "input": [
      "%%bash -s \"$CLdbDir\" \"$scriptDir\"\n",
      "\n",
      "# Getting 'unique' spacer sequences (OTUs at 100% sequence identity)\n",
      "cd $1\n",
      "perl $2'CLdb_array2fasta.pl' -da CLdb.sqlite -clust -cut 1 > ./arrayBlast/spacers_cut1.fna\n",
      "\n",
      "## getting number of spacer sequences\n",
      "printf 'Number_unique_spacers:\\t'; grep -c \">\" ./arrayBlast/spacers_cut1.fna\n",
      "\n",
      "## looking at spacers\n",
      "head -n 6 ./arrayBlast/spacers_cut1.fna"
     ],
     "language": "python",
     "metadata": {},
     "outputs": [
      {
       "output_type": "stream",
       "stream": "stdout",
       "text": [
        "Number_unique_spacers:\t39\n",
        ">NA|spacer|NA|22|1\n",
        "TTTTACAGTGTCAACAATCGTTCCCTGATTGT\n",
        ">NA|spacer|NA|13|1\n",
        "GACAGAACGGCCTCAGTAGTCTCGTCAGGCTC\n",
        ">NA|spacer|NA|6|1\n",
        "GAAATGCTGGTGAGCGTTAATGCCGCAAACACA\n"
       ]
      }
     ],
     "prompt_number": 199
    },
    {
     "cell_type": "code",
     "collapsed": false,
     "input": [
      "%%bash -s \"$CLdbDir\" \"$scriptDir\"\n",
      "\n",
      "# spacer blast\n",
      "## Really just a thin wrapper around blastn that will blast the spacers against all genomes in CLdb\n",
      "### If you want to blast some else, just run the blast yourself (use 'perldoc CLdb_arrayBlast.pl' for more info)\n",
      "\n",
      "cd $1\n",
      "perl $2'CLdb_arrayBlast.pl' -da CLdb.sqlite -query ./arrayBlast/spacers_cut1.fna > ./arrayBlast/spacers_cut1_blastn.xml"
     ],
     "language": "python",
     "metadata": {},
     "outputs": [
      {
       "output_type": "stream",
       "stream": "stderr",
       "text": [
        "Making BLAST databases...\n",
        "...making blast databases in /home/nyoungb2/perl/projects/CLdb/examples/ecoli_CLdb//arrayBlast/blast_db/\n",
        "makeblastdb -dbtype nucl -parse_seqids -in /home/nyoungb2/perl/projects/CLdb/examples/ecoli_CLdb//arrayBlast/blast_db//Escherichia_coli_BL2_DE3.fasta\n",
        "makeblastdb -dbtype nucl -parse_seqids -in /home/nyoungb2/perl/projects/CLdb/examples/ecoli_CLdb//arrayBlast/blast_db//Escherichia_coli_K_2_DH_B.fasta\n",
        "makeblastdb -dbtype nucl -parse_seqids -in /home/nyoungb2/perl/projects/CLdb/examples/ecoli_CLdb//arrayBlast/blast_db//Escherichia_coli_K_2_MG_655.fasta\n",
        "makeblastdb -dbtype nucl -parse_seqids -in /home/nyoungb2/perl/projects/CLdb/examples/ecoli_CLdb//arrayBlast/blast_db//Escherichia_coli_K_2_W3.fasta\n",
        "makeblastdb -dbtype nucl -parse_seqids -in /home/nyoungb2/perl/projects/CLdb/examples/ecoli_CLdb//arrayBlast/blast_db//Escherichia_coli_O_57_H7.fasta\n",
        "\n",
        "Blasting sequences...\n",
        "Number of blast hits to Escherichia_coli_BL2_DE3.fasta:\t1290\n",
        "Number of blast hits to Escherichia_coli_K_2_DH_B.fasta:\t1317\n",
        "Number of blast hits to Escherichia_coli_K_2_MG_655.fasta:\t1317\n",
        "Number of blast hits to Escherichia_coli_K_2_W3.fasta:\t1317\n",
        "Number of blast hits to Escherichia_coli_O_57_H7.fasta:\t912\n"
       ]
      }
     ],
     "prompt_number": 200
    },
    {
     "cell_type": "code",
     "collapsed": false,
     "input": [
      "%%bash -s \"$CLdbDir\" \"$scriptDir\"\n",
      "\n",
      "# converting .xml to .srl\n",
      "## This retains all of the info in the xml, but produces a smaller file that is faster to load and write.\n",
      "## For large blast runs (xml files > 100 Mb), this will take a little while\n",
      "\n",
      "cd $1\n",
      "perl $2'blast-xml2srl.pl' ./arrayBlast/spacers_cut1_blastn.xml > ./arrayBlast/spacers_cut1_blastn.srl"
     ],
     "language": "python",
     "metadata": {},
     "outputs": [],
     "prompt_number": 201
    },
    {
     "cell_type": "code",
     "collapsed": false,
     "input": [
      "%%bash -s \"$CLdbDir\" \"$scriptDir\"\n",
      "\n",
      "# selecting DRs, so we can blast them.\n",
      "## This is needed blast filter out spacers that hit CRISPR arrays\n",
      "\n",
      "cd $1\n",
      "perl $2'CLdb_array2fasta.pl' -da CLdb.sqlite -clust -cut 1 -r > ./arrayBlast/DRs_cut1.fna"
     ],
     "language": "python",
     "metadata": {},
     "outputs": [],
     "prompt_number": 202
    },
    {
     "cell_type": "code",
     "collapsed": false,
     "input": [
      "%%bash -s \"$CLdbDir\" \"$scriptDir\"\n",
      "\n",
      "# DR blast, just like spacer blast\n",
      "\n",
      "cd $1\n",
      "perl $2'CLdb_arrayBlast.pl' -da CLdb.sqlite -query ./arrayBlast/DRs_cut1.fna > ./arrayBlast/DRs_cut1_blastn.xml"
     ],
     "language": "python",
     "metadata": {},
     "outputs": [
      {
       "output_type": "stream",
       "stream": "stderr",
       "text": [
        "Making BLAST databases...\n",
        "...making blast databases in /home/nyoungb2/perl/projects/CLdb/examples/ecoli_CLdb//arrayBlast/blast_db/\n",
        "makeblastdb -dbtype nucl -parse_seqids -in /home/nyoungb2/perl/projects/CLdb/examples/ecoli_CLdb//arrayBlast/blast_db//Escherichia_coli_BL2_DE3.fasta\n",
        "makeblastdb -dbtype nucl -parse_seqids -in /home/nyoungb2/perl/projects/CLdb/examples/ecoli_CLdb//arrayBlast/blast_db//Escherichia_coli_K_2_DH_B.fasta\n",
        "makeblastdb -dbtype nucl -parse_seqids -in /home/nyoungb2/perl/projects/CLdb/examples/ecoli_CLdb//arrayBlast/blast_db//Escherichia_coli_K_2_MG_655.fasta\n",
        "makeblastdb -dbtype nucl -parse_seqids -in /home/nyoungb2/perl/projects/CLdb/examples/ecoli_CLdb//arrayBlast/blast_db//Escherichia_coli_K_2_W3.fasta\n",
        "makeblastdb -dbtype nucl -parse_seqids -in /home/nyoungb2/perl/projects/CLdb/examples/ecoli_CLdb//arrayBlast/blast_db//Escherichia_coli_O_57_H7.fasta\n",
        "\n",
        "Blasting sequences...\n",
        "Number of blast hits to Escherichia_coli_BL2_DE3.fasta:\t4730\n",
        "Number of blast hits to Escherichia_coli_K_2_DH_B.fasta:\t4825\n",
        "Number of blast hits to Escherichia_coli_K_2_MG_655.fasta:\t4882\n",
        "Number of blast hits to Escherichia_coli_K_2_W3.fasta:\t4882\n",
        "Number of blast hits to Escherichia_coli_O_57_H7.fasta:\t1747\n"
       ]
      }
     ],
     "prompt_number": 203
    },
    {
     "cell_type": "code",
     "collapsed": false,
     "input": [
      "%%bash -s \"$CLdbDir\" \"$scriptDir\"\n",
      "\n",
      "# converting .xml to .srl\n",
      "## This retains all of the info in the xml, but produces a smaller file that is faster to load and write.\n",
      "## For large blast runs (xml files > 100 Mb), this will take a little while\n",
      "\n",
      "cd $1\n",
      "perl $2'blast-xml2srl.pl' ./arrayBlast/DRs_cut1_blastn.xml > ./arrayBlast/DRs_cut1_blastn.srl"
     ],
     "language": "python",
     "metadata": {},
     "outputs": [],
     "prompt_number": 204
    },
    {
     "cell_type": "code",
     "collapsed": false,
     "input": [
      "%%bash -s \"$CLdbDir\" \"$scriptDir\"\n",
      "\n",
      "# filtering spacer hits to arrays\n",
      "## This is based on the premise that DR hits adjacent to spacer hits signify that the spacer is hitting a CRISPR array\n",
      "\n",
      "cd $1\n",
      "perl $2'CLdb_arrayBlastDRFilter.pl' ./arrayBlast/spacers_cut1_blastn.srl \\\n",
      "    ./arrayBlast/DRs_cut1_blastn.srl > ./arrayBlast/spacers_cut1_blastn_filt.srl"
     ],
     "language": "python",
     "metadata": {},
     "outputs": [
      {
       "output_type": "stream",
       "stream": "stderr",
       "text": [
        "### Summary for filtering of 'bad' DR hits ###\n",
        "Total DR hits: 1014\n",
        "DR hits with E-values < 10: 0\n",
        "DR hits with hit lengths (fraction of total) < 0.66: 0\n",
        "DR hits used for filtering: 1014\n",
        "### DR filtering of spacer blast hits ###\n",
        "Total spacer blast hits: 79\n",
        "Spacer blast hits hitting an array (filtered out): 79\n",
        "\tDeleting the blast hits to arrays\n",
        "Spacer blast hits hitting a protospacer: 0\n"
       ]
      }
     ],
     "prompt_number": 205
    },
    {
     "cell_type": "markdown",
     "metadata": {},
     "source": [
      "__No spacers hit any protospacers on the Ecoli genomes in the CLdb!__\n",
      "\n",
      "__Maybe we will get some hits when we blast against NCBI's nt database.__"
     ]
    },
    {
     "cell_type": "markdown",
     "metadata": {},
     "source": [
      "### Array Blast vs nt"
     ]
    },
    {
     "cell_type": "code",
     "collapsed": false,
     "input": [
      "%%bash -s \"$CLdbDir\" \"$scriptDir\"\n",
      "\n",
      "# The arrayBlast wrapper only works with the genomes in CLdb.\n",
      "# We will need to do this part 'manually'\n",
      "## The blast output just needs to be in .xml format.\n",
      "## NOTE: you will need the BLAST nt database \n",
      "\n",
      "num_threads=20\n",
      "\n",
      "cd $1'arrayBlast'\n",
      "\n",
      "# spacer blast\n",
      "blastn -task blastn-short -db nt -query spacers_cut1.fna \\\n",
      "    -outfmt 5 -evalue 1e-5 -num_threads $num_threads > spacers_cut1_vNR.xml\n",
      "    "
     ],
     "language": "python",
     "metadata": {},
     "outputs": [],
     "prompt_number": 206
    },
    {
     "cell_type": "code",
     "collapsed": false,
     "input": [
      "%%bash -s \"$CLdbDir\" \"$scriptDir\"\n",
      "\n",
      "num_threads=20\n",
      "\n",
      "cd $1'arrayBlast'\n",
      "\n",
      "# DR blast\n",
      "blastn -task blastn-short -db nt -query DRs_cut1.fna \\\n",
      "    -outfmt 5 -evalue 1e-5 -num_threads $num_threads > DRs_cut1_vNR.xml"
     ],
     "language": "python",
     "metadata": {},
     "outputs": [],
     "prompt_number": 207
    },
    {
     "cell_type": "code",
     "collapsed": false,
     "input": [
      "!ls -thlc $CLdbDir'arrayBlast'"
     ],
     "language": "python",
     "metadata": {},
     "outputs": [
      {
       "output_type": "stream",
       "stream": "stdout",
       "text": [
        "total 18M\r\n",
        "-rw-rw-r-- 1 nyoungb2 nyoungb2  15M Jun  7 18:59 DRs_cut1_vNR.xml\r\n",
        "-rw-rw-r-- 1 nyoungb2 nyoungb2 1.6M Jun  7 18:58 spacers_cut1_vNR.xml\r\n",
        "-rw-rw-r-- 1 nyoungb2 nyoungb2  43K Jun  7 18:57 spacers_cut1_blastn_filt.srl\r\n",
        "-rw-rw-r-- 1 nyoungb2 nyoungb2 247K Jun  7 18:57 DRs_cut1_blastn.srl\r\n",
        "-rw-rw-r-- 1 nyoungb2 nyoungb2 783K Jun  7 18:57 DRs_cut1_blastn.xml\r\n",
        "drwxrwxr-x 2 nyoungb2 nyoungb2 4.0K Jun  7 18:57 blast_db\r\n",
        "-rw-rw-r-- 1 nyoungb2 nyoungb2  528 Jun  7 18:57 DRs_cut1.fna\r\n",
        "-rw-rw-r-- 1 nyoungb2 nyoungb2  62K Jun  7 18:57 spacers_cut1_blastn.srl\r\n",
        "-rw-rw-r-- 1 nyoungb2 nyoungb2 227K Jun  7 18:57 spacers_cut1_blastn.xml\r\n",
        "-rw-rw-r-- 1 nyoungb2 nyoungb2 2.0K Jun  7 18:57 spacers_cut1.fna\r\n"
       ]
      }
     ],
     "prompt_number": 208
    },
    {
     "cell_type": "code",
     "collapsed": false,
     "input": [
      "%%bash -s \"$CLdbDir\" \"$scriptDir\"\n",
      "\n",
      "# converting .xml to .srl\n",
      "\n",
      "cd $1\n",
      "\n",
      "perl $2'blast-xml2srl.pl' ./arrayBlast/spacers_cut1_vNR.xml > ./arrayBlast/spacers_cut1_vNR.srl\n",
      "perl $2'blast-xml2srl.pl' ./arrayBlast/DRs_cut1_vNR.xml > ./arrayBlast/DRs_cut1_vNR.srl"
     ],
     "language": "python",
     "metadata": {},
     "outputs": [],
     "prompt_number": 209
    },
    {
     "cell_type": "code",
     "collapsed": false,
     "input": [
      "%%bash -s \"$CLdbDir\" \"$scriptDir\"\n",
      "\n",
      "# filtering spacer hits to arrays\n",
      "## This is based on the premise that DR hits adjacent to spacer hits signify that the spacer is hitting a CRISPR array\n",
      "\n",
      "cd $1\n",
      "perl $2'CLdb_arrayBlastDRFilter.pl' \\\n",
      "    ./arrayBlast/spacers_cut1_vNR.srl \\\n",
      "    ./arrayBlast/DRs_cut1_vNR.srl \\\n",
      "    > ./arrayBlast/spacers_cut1_blastn_filt.srl"
     ],
     "language": "python",
     "metadata": {},
     "outputs": [
      {
       "output_type": "stream",
       "stream": "stderr",
       "text": [
        "### Summary for filtering of 'bad' DR hits ###\n",
        "Total DR hits: 20159\n",
        "DR hits with E-values < 10: 0\n",
        "DR hits with hit lengths (fraction of total) < 0.66: 0\n",
        "DR hits used for filtering: 20159\n",
        "### DR filtering of spacer blast hits ###\n",
        "Total spacer blast hits: 1573\n",
        "Spacer blast hits hitting an array (filtered out): 863\n",
        "\tDeleting the blast hits to arrays\n",
        "Spacer blast hits hitting a protospacer: 710\n"
       ]
      }
     ],
     "prompt_number": 210
    },
    {
     "cell_type": "markdown",
     "metadata": {},
     "source": [
      "__OK. It's looks like we have some hits to some putative protospacers!__\n",
      "\n",
      "__Let the investigation begin...__"
     ]
    },
    {
     "cell_type": "code",
     "collapsed": false,
     "input": [
      "%%bash -s \"$CLdbDir\" \"$scriptDir\"\n",
      "\n",
      "# The srl file can be converted to a json or csv file if you would like to use tools external to CLdb.\n",
      "\n",
      "cd $1\n",
      "\n",
      "$2'blast-srl2json.pl' < ./arrayBlast/spacers_cut1_blastn_filt.srl > ./arrayBlast/spacers_cut1_blastn_filt.json\n",
      "\n",
      "# viewing some of the json file\n",
      "cat ./arrayBlast/spacers_cut1_blastn_filt.json | python -mjson.tool 2>/dev/null | head -n 40"
     ],
     "language": "python",
     "metadata": {},
     "outputs": [
      {
       "output_type": "stream",
       "stream": "stdout",
       "text": [
        "{\n",
        "    \"0\": {\n",
        "        \"BlastOutput_db\": \"nt\", \n",
        "        \"BlastOutput_iterations\": {\n",
        "            \"Iteration\": [\n",
        "                {\n",
        "                    \"Iteration_hits\": {\n",
        "                        \"Hit\": [\n",
        "                            {\n",
        "                                \"Hit_accession\": \"KC765378\", \n",
        "                                \"Hit_def\": \"Escherichia coli strain 90-0009 CRISPR2a repeat region\", \n",
        "                                \"Hit_hsps\": {\n",
        "                                    \"Hsp\": {\n",
        "                                        \"kviBK0xHzVvH\": {\n",
        "                                            \"CLdb_array-hit\": 0, \n",
        "                                            \"Hsp_align-len\": \"32\", \n",
        "                                            \"Hsp_bit-score\": \"63.9282\", \n",
        "                                            \"Hsp_evalue\": \"3.97536e-08\", \n",
        "                                            \"Hsp_gaps\": \"0\", \n",
        "                                            \"Hsp_hit-frame\": \"-1\", \n",
        "                                            \"Hsp_hit-from\": \"286\", \n",
        "                                            \"Hsp_hit-to\": \"255\", \n",
        "                                            \"Hsp_hseq\": \"TTTTACAGTGTCAACAATCGTTCCCTGATTGT\", \n",
        "                                            \"Hsp_identity\": \"32\", \n",
        "                                            \"Hsp_midline\": \"||||||||||||||||||||||||||||||||\", \n",
        "                                            \"Hsp_num\": \"1\", \n",
        "                                            \"Hsp_positive\": \"32\", \n",
        "                                            \"Hsp_qseq\": \"TTTTACAGTGTCAACAATCGTTCCCTGATTGT\", \n",
        "                                            \"Hsp_query-frame\": \"1\", \n",
        "                                            \"Hsp_query-from\": \"1\", \n",
        "                                            \"Hsp_query-to\": \"32\", \n",
        "                                            \"Hsp_score\": \"32\"\n",
        "                                        }\n",
        "                                    }\n",
        "                                }, \n",
        "                                \"Hit_id\": \"gi|528889517|gb|KC765378.1|\", \n",
        "                                \"Hit_len\": \"922\", \n",
        "                                \"Hit_num\": \"1\"\n",
        "                            }, \n",
        "                            {\n"
       ]
      }
     ],
     "prompt_number": 211
    },
    {
     "cell_type": "code",
     "collapsed": false,
     "input": [
      "!ls -thlc $CLdbDir'arrayBlast' | sort -k 9"
     ],
     "language": "python",
     "metadata": {},
     "outputs": [
      {
       "output_type": "stream",
       "stream": "stdout",
       "text": [
        "total 24M\r\n",
        "drwxrwxr-x 2 nyoungb2 nyoungb2 4.0K Jun  7 18:57 blast_db\r\n",
        "-rw-rw-r-- 1 nyoungb2 nyoungb2 247K Jun  7 18:57 DRs_cut1_blastn.srl\r\n",
        "-rw-rw-r-- 1 nyoungb2 nyoungb2 783K Jun  7 18:57 DRs_cut1_blastn.xml\r\n",
        "-rw-rw-r-- 1 nyoungb2 nyoungb2  528 Jun  7 18:57 DRs_cut1.fna\r\n",
        "-rw-rw-r-- 1 nyoungb2 nyoungb2 4.8M Jun  7 19:00 DRs_cut1_vNR.srl\r\n",
        "-rw-rw-r-- 1 nyoungb2 nyoungb2  15M Jun  7 18:59 DRs_cut1_vNR.xml\r\n",
        "-rw-rw-r-- 1 nyoungb2 nyoungb2 638K Jun  7 19:00 spacers_cut1_blastn_filt.json\r\n",
        "-rw-rw-r-- 1 nyoungb2 nyoungb2 385K Jun  7 19:00 spacers_cut1_blastn_filt.srl\r\n",
        "-rw-rw-r-- 1 nyoungb2 nyoungb2  62K Jun  7 18:57 spacers_cut1_blastn.srl\r\n",
        "-rw-rw-r-- 1 nyoungb2 nyoungb2 227K Jun  7 18:57 spacers_cut1_blastn.xml\r\n",
        "-rw-rw-r-- 1 nyoungb2 nyoungb2 2.0K Jun  7 18:57 spacers_cut1.fna\r\n",
        "-rw-rw-r-- 1 nyoungb2 nyoungb2 584K Jun  7 18:59 spacers_cut1_vNR.srl\r\n",
        "-rw-rw-r-- 1 nyoungb2 nyoungb2 1.6M Jun  7 18:58 spacers_cut1_vNR.xml\r\n"
       ]
      }
     ],
     "prompt_number": 212
    },
    {
     "cell_type": "code",
     "collapsed": false,
     "input": [
      "%%bash -s \"$CLdbDir\" \"$scriptDir\"\n",
      "\n",
      "# adding crRNA region to .srl (actually the DNA template, refering to it as 'crDNA')\n",
      "## How much of the adjacent DR sequences are included in the crDNA is determined by the user (default: 10bp on either side)\n",
      "\n",
      "cd $1\n",
      "perl $2'CLdb_arrayBlastAddcrRNA.pl' -da CLdb.sqlite \\\n",
      "    < ./arrayBlast/spacers_cut1_blastn_filt.srl | head\n",
      "   # > ./arrayBlast/spacers_cut1_blastn_filt_crDNA.srl\n",
      "    \n",
      "## TODO: add summary info on crDNA sequences obtained"
     ],
     "language": "python",
     "metadata": {},
     "outputs": [
      {
       "output_type": "stream",
       "stream": "stderr",
       "text": [
        "Decoding .srl file...\n",
        "Sereal: Error in srl_decoder.c line 545 and char 1 of input: Bad Sereal header: Does not start with Sereal magic at /home/nyoungb2/perl/projects/CLdb/bin/../lib//CLdb/arrayBlast/sereal.pm line 71.\n",
        "Issuing rollback() due to DESTROY without explicit disconnect() of DBD::SQLite::db handle dbname=CLdb.sqlite at /home/nyoungb2/perl/projects/CLdb/bin/../lib//CLdb/arrayBlast/sereal.pm line 71.\n"
       ]
      }
     ],
     "prompt_number": 216
    },
    {
     "cell_type": "code",
     "collapsed": false,
     "input": [
      "#WAITING"
     ],
     "language": "python",
     "metadata": {},
     "outputs": []
    },
    {
     "cell_type": "code",
     "collapsed": false,
     "input": [
      "%%bash -s \"$CLdbDir\" \"$scriptDir\"\n",
      "# adding protospacer region to .srl\n",
      "\n",
      "cd $1\n",
      "perl $2'CLdb_arrayBlastAddProto.pl' -f 20 \\\n",
      "    < ./arrayBlast/spacers_cut1_blastn_filt_crDNA.srl \\\n",
      "        > ./arrayBlast/spacers_cut1_blastn_filt_crDNA_proto.srl \n",
      "        "
     ],
     "language": "python",
     "metadata": {},
     "outputs": [
      {
       "output_type": "stream",
       "stream": "stderr",
       "text": [
        "bash: line 4: ./arrayBlast/spacers_cut1_blastn_filt_crDNA.srl: No such file or directory\n"
       ]
      }
     ],
     "prompt_number": 193
    },
    {
     "cell_type": "code",
     "collapsed": false,
     "input": [
      "%%bash -s \"$CLdbDir\" \"$scriptDir\"\n",
      "# aligning crRNA and protospacer\n",
      "## alignment added to the .srl file.\n",
      "## These are individual alignments between the spacer and protospacer (using clustalw).\n",
      "\n",
      "cd $1\n",
      "perl $2'CLdb_arrayBlastAlignProto.pl' \\\n",
      "    < ./arrayBlast/spacers_cut1_blastn_filt_crDNA_proto.srl \\\n",
      "    > ./arrayBlast/spacers_cut1_blastn_filt_crDNA_proto_aln.srl"
     ],
     "language": "python",
     "metadata": {},
     "outputs": [
      {
       "output_type": "stream",
       "stream": "stderr",
       "text": [
        "bash: line 6: ./arrayBlast/spacers_cut1_blastn_filt_crDNA_proto.srl: No such file or directory\n"
       ]
      }
     ],
     "prompt_number": 194
    },
    {
     "cell_type": "code",
     "collapsed": false,
     "input": [
      "# WAITING"
     ],
     "language": "python",
     "metadata": {},
     "outputs": []
    },
    {
     "cell_type": "code",
     "collapsed": false,
     "input": [
      "%%bash -s \"$CLdbDir\" \"$scriptDir\"\n",
      "# getting alignment of protospacer and crDNA and writing as a fasta\n",
      "## You can parse out the alignments you want (parse by subtype, taxon_name, etc.)\n",
      "### OR you can parse them after writing (add subtype, taxon_name, e-value, etc. to the sequence name)\n",
      "## The alignments will be oriented to the crDNA (5'-3' for the crRNA)\n",
      "\n",
      "cd $1\n",
      "perl $2'CLdb_arrayBlastGetAlign.pl' \\\n",
      "    -da CLdb.sqlite -outfmt taxon_name,subtype,evalue \\\n",
      "    < ./arrayBlast/spacers_cut1_blastn_filt_crDNA_proto_aln.srl \\\n",
      "    > ./arrayBlast/all_crDNA-proto_aln.fna"
     ],
     "language": "python",
     "metadata": {},
     "outputs": [],
     "prompt_number": 87
    },
    {
     "cell_type": "code",
     "collapsed": false,
     "input": [
      "# let's take a look at the sequences \n",
      "!head -n 20 $CLdbDir'/arrayBlast/all_crDNA-proto_aln.fna'"
     ],
     "language": "python",
     "metadata": {},
     "outputs": [
      {
       "output_type": "stream",
       "stream": "stdout",
       "text": [
        ">crDNA|J|10|20gVye9WY0waD|Escherichia_coli_BL21_DE3|I-E|3.97536e-08\r\n",
        "gggataaaccGACAATCAGGGAACGATTGTTGACACTGTAAAAgtgttccccg\r\n",
        ">proto|J|10|20gVye9WY0waD|Escherichia_coli_BL21_DE3|I-E|3.97536e-08\r\n",
        ".ggataaaccgACAATCAGGGAACGATTGTTGACACTGTAAAAgtgttccccg\r\n",
        ">crDNA|J|10|24md4SMXTCrDl|Escherichia_coli_BL21_DE3|I-E|3.97536e-08\r\n",
        "gggataaaccGACAATCAGGGAACGATTGTTGACACTGTAAAAgtgttccccg\r\n",
        ">proto|J|10|24md4SMXTCrDl|Escherichia_coli_BL21_DE3|I-E|3.97536e-08\r\n",
        ".ggataaaccgACAATCAGGGAACGATTGTTGACACTGTAAAAgtgttccccg\r\n",
        ">crDNA|J|10|24Mbt780HHaQX|Escherichia_coli_BL21_DE3|I-E|3.97536e-08\r\n",
        "gggataaaccGACAATCAGGGAACGATTGTTGACACTGTAAAAgtgttccccg\r\n",
        ">proto|J|10|24Mbt780HHaQX|Escherichia_coli_BL21_DE3|I-E|3.97536e-08\r\n",
        ".ggataaaccgACAATCAGGGAACGATTGTTGACACTGTAAAAgtgttccccg\r\n",
        ">crDNA|J|10|25bt0WhNNk8ld|Escherichia_coli_BL21_DE3|I-E|3.97536e-08\r\n",
        "gggataaaccGACAATCAGGGAACGATTGTTGACACTGTAAAAgtgttccccg\r\n",
        ">proto|J|10|25bt0WhNNk8ld|Escherichia_coli_BL21_DE3|I-E|3.97536e-08\r\n",
        ".ggataaaccgACAATCAGGGAACGATTGTTGACACTGTAAAAgtgttccccg\r\n",
        ">crDNA|J|10|26pHi1aCYNIf9|Escherichia_coli_BL21_DE3|I-E|3.97536e-08\r\n",
        "gggataaaccGACAATCAGGGAACGATTGTTGACACTGTAAAAgtgttccccg\r\n",
        ">proto|J|10|26pHi1aCYNIf9|Escherichia_coli_BL21_DE3|I-E|3.97536e-08\r\n",
        ".ggataaaccgACAATCAGGGAACGATTGTTGACACTGTAAAAgtgttccccg\r\n"
       ]
      }
     ],
     "prompt_number": 110
    },
    {
     "cell_type": "markdown",
     "metadata": {},
     "source": [
      "__The alignment is really just for each crDNA-protospacer pair (every 4 lines).\n",
      "If you wanted each pair individually, you could use something like the following:__"
     ]
    },
    {
     "cell_type": "code",
     "collapsed": false,
     "input": [
      "# WARNING: this will produce a lot of files!\n",
      "!split -l 4 -d -a 4 $CLdbDir'/arrayBlast/all_crDNA-proto_aln.fna' $CLdbDir'arrayBlast/crDNA-proto_aln_split'\n",
      "\n",
      "## Let look at one of them\n",
      "!cat $CLdbDir'arrayBlast/crDNA-proto_aln_split10'"
     ],
     "language": "python",
     "metadata": {},
     "outputs": [
      {
       "output_type": "stream",
       "stream": "stdout",
       "text": [
        ">crDNA|J|1|zdpV3UuVlvov|Escherichia_coli_BL21_DE3|I-E|3.97536e-08\r\n",
        "gggataaaccGGAGCCTGACGAGACTACTGAGGCCGTTCTGTCgagttccccg\r\n",
        ">proto|J|1|zdpV3UuVlvov|Escherichia_coli_BL21_DE3|I-E|3.97536e-08\r\n",
        ".ggataaaccgGAGCCTGACGAGACTACTGAGGCCGTTCTGTCgagttccccg\r\n"
       ]
      }
     ],
     "prompt_number": 99
    },
    {
     "cell_type": "code",
     "collapsed": false,
     "input": [
      "# Let's remove those files\n",
      "!find $CLdbDir'arrayBlast' -name 'crDNA-proto_aln_split*' | xargs -I % rm %"
     ],
     "language": "python",
     "metadata": {},
     "outputs": [],
     "prompt_number": 108
    },
    {
     "cell_type": "code",
     "collapsed": false,
     "input": [
      "%%bash -s \"$CLdbDir\" \"$scriptDir\"\n",
      "# Looking at the alignments can be very useful, but it can help to extract what we specifically want and summarize.\n",
      "## Let's pull out the potential PAM regions from the alignment \n",
      "## We are going to assume that the PAM is:\n",
      "### 4bp (really 3bp) long \n",
      "### adjacent to the 5' end of the protospacer (right side of the alignment)\n",
      "\n",
      "cd $1\n",
      "perl $2'CLdb_arrayBlastGetPAM.pl' -PAM 1 4 -f - \\\n",
      "    < ./arrayBlast/all_crDNA-proto_aln.fna \\\n",
      "    > ./arrayBlast/all_crDNA-proto_aln_PAM.fna\n",
      "\n",
      "head ./arrayBlast/all_crDNA-proto_aln_PAM.fna"
     ],
     "language": "python",
     "metadata": {},
     "outputs": [
      {
       "output_type": "stream",
       "stream": "stdout",
       "text": [
        ">proto|I|2|1J0TmiCWLMrkv|Escherichia_coli_BL21_DE3|I-E|3.97536e-08\n",
        "gtgt\n",
        ">proto|C|5|itsl1hK8FmMz|Escherichia_coli_K-12_DH10B|I-E|3.97536e-08\n",
        "gagt\n",
        ">proto|D|4|2SArZ0RsNFZV9|Escherichia_coli_K-12_DH10B|I-E|1.08991e-08\n",
        "gtgt\n",
        ">proto|F|6|2V4TTMVCwImLV|Escherichia_coli_K-12_W3110|I-E|1.08991e-08\n",
        "gtgt\n",
        ">proto|J|11|2j1ygMpjy04Cf|Escherichia_coli_BL21_DE3|I-E|3.97536e-08\n",
        "gtgt\n"
       ]
      }
     ],
     "prompt_number": 135
    },
    {
     "cell_type": "code",
     "collapsed": false,
     "input": [
      "#summarizing each PAM sequence\n",
      "!egrep -v \"^>\" $CLdbDir'./arrayBlast/all_crDNA-proto_aln_PAM.fna' | sort | uniq -c | sort -k 1 -n -r "
     ],
     "language": "python",
     "metadata": {},
     "outputs": [
      {
       "output_type": "stream",
       "stream": "stdout",
       "text": [
        "   1201 gtgt\r\n",
        "    371 gagt\r\n",
        "      6 \r\n",
        "      4 gagc\r\n",
        "      3 aatt\r\n",
        "      3 aagt\r\n",
        "      2 cgtg\r\n",
        "      2 cggt\r\n",
        "      2 acgg\r\n"
       ]
      }
     ],
     "prompt_number": 136
    },
    {
     "cell_type": "code",
     "collapsed": false,
     "input": [
      "# and if we reverse the sequence...\n",
      "!egrep -v \"^>\" $CLdbDir'./arrayBlast/all_crDNA-proto_aln_PAM.fna' | rev | sort | uniq -c | sort -k 1 -n -r "
     ],
     "language": "python",
     "metadata": {},
     "outputs": [
      {
       "output_type": "stream",
       "stream": "stdout",
       "text": [
        "   1201 tgtg\r\n",
        "    371 tgag\r\n",
        "      6 \r\n",
        "      4 cgag\r\n",
        "      3 ttaa\r\n",
        "      3 tgaa\r\n",
        "      2 tggc\r\n",
        "      2 gtgc\r\n",
        "      2 ggca\r\n"
       ]
      }
     ],
     "prompt_number": 142
    },
    {
     "cell_type": "markdown",
     "metadata": {},
     "source": [
      "__We get the (less prevalent) PAM region ('TGT') for known I-E CRISPR systems as shown in [Rorek et al., 2013](http://www.annualreviews.org/doi/abs/10.1146/annurev-biochem-072911-172315)!__"
     ]
    },
    {
     "cell_type": "markdown",
     "metadata": {},
     "source": [
      "\n",
      "__TODO: mismatch distributions__"
     ]
    },
    {
     "cell_type": "code",
     "collapsed": false,
     "input": [],
     "language": "python",
     "metadata": {},
     "outputs": []
    }
   ],
   "metadata": {}
  }
 ]
}