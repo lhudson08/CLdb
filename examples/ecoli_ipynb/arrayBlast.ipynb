{
 "metadata": {
  "name": "",
  "signature": "sha256:b46bdc05d3d3fb66d30025effbfadc4f92c628aabcfe627fc93f176a4663184e"
 },
 "nbformat": 3,
 "nbformat_minor": 0,
 "worksheets": [
  {
   "cells": [
    {
     "cell_type": "markdown",
     "metadata": {},
     "source": [
      "### Before running this notebook:\n",
      "\n",
      "* __run the [Setup](./Setup.pynb) notebook__"
     ]
    },
    {
     "cell_type": "code",
     "collapsed": false,
     "input": [
      "from IPython.display import FileLinks\n",
      "import pandas as pd"
     ],
     "language": "python",
     "metadata": {},
     "outputs": [],
     "prompt_number": 2
    },
    {
     "cell_type": "code",
     "collapsed": false,
     "input": [
      "# This tutorial assumes that this IPython notebook is in the ./CLdb/examples/ecoli_ipynb/ directory.\n",
      "## these are the relative paths to everything we will be working with\n",
      "CLdbDir = \"../ecoli_CLdb/\"\n",
      "scriptDir = \"../../bin/\""
     ],
     "language": "python",
     "metadata": {},
     "outputs": [],
     "prompt_number": 26
    },
    {
     "cell_type": "code",
     "collapsed": false,
     "input": [
      "# Checking on files in the CLdb directory\n",
      "FileLinks(CLdbDir)"
     ],
     "language": "python",
     "metadata": {},
     "outputs": [
      {
       "html": [
        "../ecoli_CLdb/<br>\n",
        "&nbsp;&nbsp;<a href='../ecoli_CLdb/CLdb.sqlite' target='_blank'>CLdb.sqlite</a><br>\n",
        "&nbsp;&nbsp;<a href='../ecoli_CLdb/GIs.txt' target='_blank'>GIs.txt</a><br>\n",
        "../ecoli_CLdb/arrayBlast/<br>\n",
        "&nbsp;&nbsp;<a href='../ecoli_CLdb/arrayBlast/DRs_cut1_blastn.srl' target='_blank'>DRs_cut1_blastn.srl</a><br>\n",
        "&nbsp;&nbsp;<a href='../ecoli_CLdb/arrayBlast/spacers_cut1_blastn.xml' target='_blank'>spacers_cut1_blastn.xml</a><br>\n",
        "&nbsp;&nbsp;<a href='../ecoli_CLdb/arrayBlast/DRs_cut1.fna' target='_blank'>DRs_cut1.fna</a><br>\n",
        "&nbsp;&nbsp;<a href='../ecoli_CLdb/arrayBlast/DRs_cut1_blastn.xml' target='_blank'>DRs_cut1_blastn.xml</a><br>\n",
        "&nbsp;&nbsp;<a href='../ecoli_CLdb/arrayBlast/spacers_cut1.fna' target='_blank'>spacers_cut1.fna</a><br>\n",
        "&nbsp;&nbsp;<a href='../ecoli_CLdb/arrayBlast/spacers_cut1_blastn_filt.srl' target='_blank'>spacers_cut1_blastn_filt.srl</a><br>\n",
        "&nbsp;&nbsp;<a href='../ecoli_CLdb/arrayBlast/spacers_cut1_blastn.srl' target='_blank'>spacers_cut1_blastn.srl</a><br>\n",
        "../ecoli_CLdb/arrayBlast/blast_db/<br>\n",
        "&nbsp;&nbsp;<a href='../ecoli_CLdb/arrayBlast/blast_db/Escherichia_coli_K_2_W3.fasta.nin' target='_blank'>Escherichia_coli_K_2_W3.fasta.nin</a><br>\n",
        "&nbsp;&nbsp;<a href='../ecoli_CLdb/arrayBlast/blast_db/Escherichia_coli_BL2_DE3.fasta' target='_blank'>Escherichia_coli_BL2_DE3.fasta</a><br>\n",
        "&nbsp;&nbsp;<a href='../ecoli_CLdb/arrayBlast/blast_db/Escherichia_coli_K_2_W3.fasta' target='_blank'>Escherichia_coli_K_2_W3.fasta</a><br>\n",
        "&nbsp;&nbsp;<a href='../ecoli_CLdb/arrayBlast/blast_db/Escherichia_coli_K_2_MG_655.fasta.nsd' target='_blank'>Escherichia_coli_K_2_MG_655.fasta.nsd</a><br>\n",
        "&nbsp;&nbsp;<a href='../ecoli_CLdb/arrayBlast/blast_db/Escherichia_coli_K_2_DH_B.fasta.nsi' target='_blank'>Escherichia_coli_K_2_DH_B.fasta.nsi</a><br>\n",
        "&nbsp;&nbsp;<a href='../ecoli_CLdb/arrayBlast/blast_db/Escherichia_coli_BL2_DE3.fasta.nog' target='_blank'>Escherichia_coli_BL2_DE3.fasta.nog</a><br>\n",
        "&nbsp;&nbsp;<a href='../ecoli_CLdb/arrayBlast/blast_db/Escherichia_coli_BL2_DE3.fasta.nin' target='_blank'>Escherichia_coli_BL2_DE3.fasta.nin</a><br>\n",
        "&nbsp;&nbsp;<a href='../ecoli_CLdb/arrayBlast/blast_db/Escherichia_coli_O_57_H7.fasta.nsq' target='_blank'>Escherichia_coli_O_57_H7.fasta.nsq</a><br>\n",
        "&nbsp;&nbsp;<a href='../ecoli_CLdb/arrayBlast/blast_db/Escherichia_coli_BL2_DE3.fasta.nhr' target='_blank'>Escherichia_coli_BL2_DE3.fasta.nhr</a><br>\n",
        "&nbsp;&nbsp;<a href='../ecoli_CLdb/arrayBlast/blast_db/Escherichia_coli_K_2_DH_B.fasta.nin' target='_blank'>Escherichia_coli_K_2_DH_B.fasta.nin</a><br>\n",
        "&nbsp;&nbsp;<a href='../ecoli_CLdb/arrayBlast/blast_db/Escherichia_coli_O_57_H7.fasta.nin' target='_blank'>Escherichia_coli_O_57_H7.fasta.nin</a><br>\n",
        "&nbsp;&nbsp;<a href='../ecoli_CLdb/arrayBlast/blast_db/Escherichia_coli_K_2_DH_B.fasta.nsd' target='_blank'>Escherichia_coli_K_2_DH_B.fasta.nsd</a><br>\n",
        "&nbsp;&nbsp;<a href='../ecoli_CLdb/arrayBlast/blast_db/Escherichia_coli_K_2_MG_655.fasta.nhr' target='_blank'>Escherichia_coli_K_2_MG_655.fasta.nhr</a><br>\n",
        "&nbsp;&nbsp;<a href='../ecoli_CLdb/arrayBlast/blast_db/Escherichia_coli_K_2_DH_B.fasta.nsq' target='_blank'>Escherichia_coli_K_2_DH_B.fasta.nsq</a><br>\n",
        "&nbsp;&nbsp;<a href='../ecoli_CLdb/arrayBlast/blast_db/Escherichia_coli_O_57_H7.fasta.nhr' target='_blank'>Escherichia_coli_O_57_H7.fasta.nhr</a><br>\n",
        "&nbsp;&nbsp;<a href='../ecoli_CLdb/arrayBlast/blast_db/Escherichia_coli_K_2_MG_655.fasta' target='_blank'>Escherichia_coli_K_2_MG_655.fasta</a><br>\n",
        "&nbsp;&nbsp;<a href='../ecoli_CLdb/arrayBlast/blast_db/Escherichia_coli_BL2_DE3.fasta.nsq' target='_blank'>Escherichia_coli_BL2_DE3.fasta.nsq</a><br>\n",
        "&nbsp;&nbsp;<a href='../ecoli_CLdb/arrayBlast/blast_db/Escherichia_coli_K_2_DH_B.fasta.nhr' target='_blank'>Escherichia_coli_K_2_DH_B.fasta.nhr</a><br>\n",
        "&nbsp;&nbsp;<a href='../ecoli_CLdb/arrayBlast/blast_db/Escherichia_coli_BL2_DE3.fasta.nsd' target='_blank'>Escherichia_coli_BL2_DE3.fasta.nsd</a><br>\n",
        "&nbsp;&nbsp;<a href='../ecoli_CLdb/arrayBlast/blast_db/Escherichia_coli_K_2_MG_655.fasta.nin' target='_blank'>Escherichia_coli_K_2_MG_655.fasta.nin</a><br>\n",
        "&nbsp;&nbsp;<a href='../ecoli_CLdb/arrayBlast/blast_db/Escherichia_coli_K_2_W3.fasta.nsi' target='_blank'>Escherichia_coli_K_2_W3.fasta.nsi</a><br>\n",
        "&nbsp;&nbsp;<a href='../ecoli_CLdb/arrayBlast/blast_db/Escherichia_coli_BL2_DE3.fasta.nsi' target='_blank'>Escherichia_coli_BL2_DE3.fasta.nsi</a><br>\n",
        "&nbsp;&nbsp;<a href='../ecoli_CLdb/arrayBlast/blast_db/Escherichia_coli_K_2_W3.fasta.nsd' target='_blank'>Escherichia_coli_K_2_W3.fasta.nsd</a><br>\n",
        "&nbsp;&nbsp;<a href='../ecoli_CLdb/arrayBlast/blast_db/Escherichia_coli_K_2_W3.fasta.nsq' target='_blank'>Escherichia_coli_K_2_W3.fasta.nsq</a><br>\n",
        "&nbsp;&nbsp;<a href='../ecoli_CLdb/arrayBlast/blast_db/Escherichia_coli_K_2_DH_B.fasta' target='_blank'>Escherichia_coli_K_2_DH_B.fasta</a><br>\n",
        "&nbsp;&nbsp;<a href='../ecoli_CLdb/arrayBlast/blast_db/Escherichia_coli_O_57_H7.fasta' target='_blank'>Escherichia_coli_O_57_H7.fasta</a><br>\n",
        "&nbsp;&nbsp;<a href='../ecoli_CLdb/arrayBlast/blast_db/Escherichia_coli_K_2_DH_B.fasta.nog' target='_blank'>Escherichia_coli_K_2_DH_B.fasta.nog</a><br>\n",
        "&nbsp;&nbsp;<a href='../ecoli_CLdb/arrayBlast/blast_db/Escherichia_coli_K_2_MG_655.fasta.nsq' target='_blank'>Escherichia_coli_K_2_MG_655.fasta.nsq</a><br>\n",
        "&nbsp;&nbsp;<a href='../ecoli_CLdb/arrayBlast/blast_db/Escherichia_coli_K_2_MG_655.fasta.nsi' target='_blank'>Escherichia_coli_K_2_MG_655.fasta.nsi</a><br>\n",
        "&nbsp;&nbsp;<a href='../ecoli_CLdb/arrayBlast/blast_db/Escherichia_coli_O_57_H7.fasta.nsi' target='_blank'>Escherichia_coli_O_57_H7.fasta.nsi</a><br>\n",
        "&nbsp;&nbsp;<a href='../ecoli_CLdb/arrayBlast/blast_db/Escherichia_coli_O_57_H7.fasta.nog' target='_blank'>Escherichia_coli_O_57_H7.fasta.nog</a><br>\n",
        "&nbsp;&nbsp;<a href='../ecoli_CLdb/arrayBlast/blast_db/Escherichia_coli_K_2_W3.fasta.nhr' target='_blank'>Escherichia_coli_K_2_W3.fasta.nhr</a><br>\n",
        "&nbsp;&nbsp;<a href='../ecoli_CLdb/arrayBlast/blast_db/Escherichia_coli_O_57_H7.fasta.nsd' target='_blank'>Escherichia_coli_O_57_H7.fasta.nsd</a><br>\n",
        "&nbsp;&nbsp;<a href='../ecoli_CLdb/arrayBlast/blast_db/Escherichia_coli_K_2_MG_655.fasta.nog' target='_blank'>Escherichia_coli_K_2_MG_655.fasta.nog</a><br>\n",
        "&nbsp;&nbsp;<a href='../ecoli_CLdb/arrayBlast/blast_db/Escherichia_coli_K_2_W3.fasta.nog' target='_blank'>Escherichia_coli_K_2_W3.fasta.nog</a><br>\n",
        "../ecoli_CLdb/clustering/<br>\n",
        "&nbsp;&nbsp;<a href='../ecoli_CLdb/clustering/spacers.cdhit.clstr' target='_blank'>spacers.cdhit.clstr</a><br>\n",
        "&nbsp;&nbsp;<a href='../ecoli_CLdb/clustering/spacers.cdhit' target='_blank'>spacers.cdhit</a><br>\n",
        "&nbsp;&nbsp;<a href='../ecoli_CLdb/clustering/DRs.cdhit' target='_blank'>DRs.cdhit</a><br>\n",
        "&nbsp;&nbsp;<a href='../ecoli_CLdb/clustering/DRs.fna' target='_blank'>DRs.fna</a><br>\n",
        "&nbsp;&nbsp;<a href='../ecoli_CLdb/clustering/DRs.cdhit.clstr' target='_blank'>DRs.cdhit.clstr</a><br>\n",
        "&nbsp;&nbsp;<a href='../ecoli_CLdb/clustering/spacers.fna' target='_blank'>spacers.fna</a><br>\n",
        "../ecoli_CLdb/fasta/<br>\n",
        "&nbsp;&nbsp;<a href='../ecoli_CLdb/fasta/Escherichia_coli_BL2_DE3.fasta' target='_blank'>Escherichia_coli_BL2_DE3.fasta</a><br>\n",
        "&nbsp;&nbsp;<a href='../ecoli_CLdb/fasta/Escherichia_coli_K_2_W3.fasta' target='_blank'>Escherichia_coli_K_2_W3.fasta</a><br>\n",
        "&nbsp;&nbsp;<a href='../ecoli_CLdb/fasta/Escherichia_coli_K_2_MG_655.fasta' target='_blank'>Escherichia_coli_K_2_MG_655.fasta</a><br>\n",
        "&nbsp;&nbsp;<a href='../ecoli_CLdb/fasta/Escherichia_coli_K_2_DH_B.fasta' target='_blank'>Escherichia_coli_K_2_DH_B.fasta</a><br>\n",
        "&nbsp;&nbsp;<a href='../ecoli_CLdb/fasta/Escherichia_coli_O_57_H7.fasta' target='_blank'>Escherichia_coli_O_57_H7.fasta</a><br>\n",
        "../ecoli_CLdb/genbank/<br>\n",
        "&nbsp;&nbsp;<a href='../ecoli_CLdb/genbank/Escherichia_coli_BL2_DE3.gbk' target='_blank'>Escherichia_coli_BL2_DE3.gbk</a><br>\n",
        "&nbsp;&nbsp;<a href='../ecoli_CLdb/genbank/Escherichia_coli_K_2_W3.gbk' target='_blank'>Escherichia_coli_K_2_W3.gbk</a><br>\n",
        "&nbsp;&nbsp;<a href='../ecoli_CLdb/genbank/Escherichia_coli_K_2_MG_655.gbk' target='_blank'>Escherichia_coli_K_2_MG_655.gbk</a><br>\n",
        "&nbsp;&nbsp;<a href='../ecoli_CLdb/genbank/Escherichia_coli_K_2_DH_B.gbk' target='_blank'>Escherichia_coli_K_2_DH_B.gbk</a><br>\n",
        "&nbsp;&nbsp;<a href='../ecoli_CLdb/genbank/Escherichia_coli_O_57_H7.gbk' target='_blank'>Escherichia_coli_O_57_H7.gbk</a><br>"
       ],
       "metadata": {},
       "output_type": "pyout",
       "prompt_number": 27,
       "text": [
        "../ecoli_CLdb/\n",
        "  CLdb.sqlite\n",
        "  GIs.txt\n",
        "../ecoli_CLdb/arrayBlast/\n",
        "  DRs_cut1_blastn.srl\n",
        "  spacers_cut1_blastn.xml\n",
        "  DRs_cut1.fna\n",
        "  DRs_cut1_blastn.xml\n",
        "  spacers_cut1.fna\n",
        "  spacers_cut1_blastn_filt.srl\n",
        "  spacers_cut1_blastn.srl\n",
        "../ecoli_CLdb/arrayBlast/blast_db/\n",
        "  Escherichia_coli_K_2_W3.fasta.nin\n",
        "  Escherichia_coli_BL2_DE3.fasta\n",
        "  Escherichia_coli_K_2_W3.fasta\n",
        "  Escherichia_coli_K_2_MG_655.fasta.nsd\n",
        "  Escherichia_coli_K_2_DH_B.fasta.nsi\n",
        "  Escherichia_coli_BL2_DE3.fasta.nog\n",
        "  Escherichia_coli_BL2_DE3.fasta.nin\n",
        "  Escherichia_coli_O_57_H7.fasta.nsq\n",
        "  Escherichia_coli_BL2_DE3.fasta.nhr\n",
        "  Escherichia_coli_K_2_DH_B.fasta.nin\n",
        "  Escherichia_coli_O_57_H7.fasta.nin\n",
        "  Escherichia_coli_K_2_DH_B.fasta.nsd\n",
        "  Escherichia_coli_K_2_MG_655.fasta.nhr\n",
        "  Escherichia_coli_K_2_DH_B.fasta.nsq\n",
        "  Escherichia_coli_O_57_H7.fasta.nhr\n",
        "  Escherichia_coli_K_2_MG_655.fasta\n",
        "  Escherichia_coli_BL2_DE3.fasta.nsq\n",
        "  Escherichia_coli_K_2_DH_B.fasta.nhr\n",
        "  Escherichia_coli_BL2_DE3.fasta.nsd\n",
        "  Escherichia_coli_K_2_MG_655.fasta.nin\n",
        "  Escherichia_coli_K_2_W3.fasta.nsi\n",
        "  Escherichia_coli_BL2_DE3.fasta.nsi\n",
        "  Escherichia_coli_K_2_W3.fasta.nsd\n",
        "  Escherichia_coli_K_2_W3.fasta.nsq\n",
        "  Escherichia_coli_K_2_DH_B.fasta\n",
        "  Escherichia_coli_O_57_H7.fasta\n",
        "  Escherichia_coli_K_2_DH_B.fasta.nog\n",
        "  Escherichia_coli_K_2_MG_655.fasta.nsq\n",
        "  Escherichia_coli_K_2_MG_655.fasta.nsi\n",
        "  Escherichia_coli_O_57_H7.fasta.nsi\n",
        "  Escherichia_coli_O_57_H7.fasta.nog\n",
        "  Escherichia_coli_K_2_W3.fasta.nhr\n",
        "  Escherichia_coli_O_57_H7.fasta.nsd\n",
        "  Escherichia_coli_K_2_MG_655.fasta.nog\n",
        "  Escherichia_coli_K_2_W3.fasta.nog\n",
        "../ecoli_CLdb/clustering/\n",
        "  spacers.cdhit.clstr\n",
        "  spacers.cdhit\n",
        "  DRs.cdhit\n",
        "  DRs.fna\n",
        "  DRs.cdhit.clstr\n",
        "  spacers.fna\n",
        "../ecoli_CLdb/fasta/\n",
        "  Escherichia_coli_BL2_DE3.fasta\n",
        "  Escherichia_coli_K_2_W3.fasta\n",
        "  Escherichia_coli_K_2_MG_655.fasta\n",
        "  Escherichia_coli_K_2_DH_B.fasta\n",
        "  Escherichia_coli_O_57_H7.fasta\n",
        "../ecoli_CLdb/genbank/\n",
        "  Escherichia_coli_BL2_DE3.gbk\n",
        "  Escherichia_coli_K_2_W3.gbk\n",
        "  Escherichia_coli_K_2_MG_655.gbk\n",
        "  Escherichia_coli_K_2_DH_B.gbk\n",
        "  Escherichia_coli_O_57_H7.gbk"
       ]
      }
     ],
     "prompt_number": 27
    },
    {
     "cell_type": "code",
     "collapsed": false,
     "input": [
      "%%bash -s \"$CLdbDir\"\n",
      "\n",
      "BlastDir='arrayBlast'\n",
      "\n",
      "if [ -d $1$BlastDir ]; then\n",
      "    rm -r $1$BlastDir\n",
      "fi    \n",
      "\n",
      "mkdir $1$BlastDir"
     ],
     "language": "python",
     "metadata": {},
     "outputs": [],
     "prompt_number": 32
    },
    {
     "cell_type": "code",
     "collapsed": false,
     "input": [
      "%%bash -s \"$CLdbDir\" \"$scriptDir\"\n",
      "\n",
      "# Getting 'unique' spacer sequences (OTUs at 100% sequence identity)\n",
      "cd $1\n",
      "perl $2'CLdb_array2fasta.pl' -da CLdb.sqlite -clust -cut 1 > ./arrayBlast/spacers_cut1.fna\n",
      "\n",
      "## getting number of spacer sequences\n",
      "printf 'Number_unique_spacers:\\t'; grep -c \">\" ./arrayBlast/spacers_cut1.fna\n",
      "\n",
      "## looking at spacers\n",
      "head -n 6 ./arrayBlast/spacers_cut1.fna"
     ],
     "language": "python",
     "metadata": {},
     "outputs": [
      {
       "output_type": "stream",
       "stream": "stdout",
       "text": [
        "Number_unique_spacers:\t39\n",
        ">NA|spacer|NA|22|1\n",
        "TTTTACAGTGTCAACAATCGTTCCCTGATTGT\n",
        ">NA|spacer|NA|13|1\n",
        "GACAGAACGGCCTCAGTAGTCTCGTCAGGCTC\n",
        ">NA|spacer|NA|6|1\n",
        "GAAATGCTGGTGAGCGTTAATGCCGCAAACACA\n"
       ]
      }
     ],
     "prompt_number": 33
    },
    {
     "cell_type": "code",
     "collapsed": false,
     "input": [
      "%%bash -s \"$CLdbDir\" \"$scriptDir\"\n",
      "\n",
      "# spacer blast\n",
      "## Really just a thin wrapper around blastn that will blast the spacers against all genomes in CLdb\n",
      "### If you want to blast some else, just run the blast yourself (use 'perldoc CLdb_arrayBlast.pl' for more info)\n",
      "\n",
      "cd $1\n",
      "perl $2'CLdb_arrayBlast.pl' -da CLdb.sqlite -query ./arrayBlast/spacers_cut1.fna > ./arrayBlast/spacers_cut1_blastn.xml"
     ],
     "language": "python",
     "metadata": {},
     "outputs": [
      {
       "output_type": "stream",
       "stream": "stderr",
       "text": [
        "Making BLAST databases...\n",
        "...making blast databases in /home/nyoungb2/perl/projects/CLdb/examples/ecoli_CLdb//arrayBlast/blast_db/\n",
        "makeblastdb -dbtype nucl -parse_seqids -in /home/nyoungb2/perl/projects/CLdb/examples/ecoli_CLdb//arrayBlast/blast_db//Escherichia_coli_BL2_DE3.fasta\n",
        "makeblastdb -dbtype nucl -parse_seqids -in /home/nyoungb2/perl/projects/CLdb/examples/ecoli_CLdb//arrayBlast/blast_db//Escherichia_coli_K_2_DH_B.fasta\n",
        "makeblastdb -dbtype nucl -parse_seqids -in /home/nyoungb2/perl/projects/CLdb/examples/ecoli_CLdb//arrayBlast/blast_db//Escherichia_coli_K_2_MG_655.fasta\n",
        "makeblastdb -dbtype nucl -parse_seqids -in /home/nyoungb2/perl/projects/CLdb/examples/ecoli_CLdb//arrayBlast/blast_db//Escherichia_coli_K_2_W3.fasta\n",
        "makeblastdb -dbtype nucl -parse_seqids -in /home/nyoungb2/perl/projects/CLdb/examples/ecoli_CLdb//arrayBlast/blast_db//Escherichia_coli_O_57_H7.fasta\n",
        "\n",
        "Blasting sequences...\n",
        "Number of blast hits to Escherichia_coli_BL2_DE3.fasta:\t1290\n",
        "Number of blast hits to Escherichia_coli_K_2_DH_B.fasta:\t1317\n",
        "Number of blast hits to Escherichia_coli_K_2_MG_655.fasta:\t1317\n",
        "Number of blast hits to Escherichia_coli_K_2_W3.fasta:\t1317\n",
        "Number of blast hits to Escherichia_coli_O_57_H7.fasta:\t912\n"
       ]
      }
     ],
     "prompt_number": 34
    },
    {
     "cell_type": "code",
     "collapsed": false,
     "input": [
      "%%bash -s \"$CLdbDir\" \"$scriptDir\"\n",
      "\n",
      "# converting .xml to .srl\n",
      "## This retains all of the info in the xml, but produces a smaller file that is faster to load and write.\n",
      "## For large blast runs (xml files > 100 Mb), this will take a little while\n",
      "\n",
      "cd $1\n",
      "perl $2'blast-xml2srl.pl' ./arrayBlast/spacers_cut1_blastn.xml > ./arrayBlast/spacers_cut1_blastn.srl"
     ],
     "language": "python",
     "metadata": {},
     "outputs": [],
     "prompt_number": 35
    },
    {
     "cell_type": "code",
     "collapsed": false,
     "input": [
      "%%bash -s \"$CLdbDir\" \"$scriptDir\"\n",
      "\n",
      "# selecting DRs, so we can blast them.\n",
      "## This is needed blast filter out spacers that hit CRISPR arrays\n",
      "\n",
      "cd $1\n",
      "perl $2'CLdb_array2fasta.pl' -da CLdb.sqlite -clust -cut 1 -r > ./arrayBlast/DRs_cut1.fna"
     ],
     "language": "python",
     "metadata": {},
     "outputs": [],
     "prompt_number": 36
    },
    {
     "cell_type": "code",
     "collapsed": false,
     "input": [
      "%%bash -s \"$CLdbDir\" \"$scriptDir\"\n",
      "\n",
      "# DR blast, just like spacer blast\n",
      "\n",
      "cd $1\n",
      "perl $2'CLdb_arrayBlast.pl' -da CLdb.sqlite -query ./arrayBlast/DRs_cut1.fna > ./arrayBlast/DRs_cut1_blastn.xml"
     ],
     "language": "python",
     "metadata": {},
     "outputs": [
      {
       "output_type": "stream",
       "stream": "stderr",
       "text": [
        "Making BLAST databases...\n",
        "...making blast databases in /home/nyoungb2/perl/projects/CLdb/examples/ecoli_CLdb//arrayBlast/blast_db/\n",
        "makeblastdb -dbtype nucl -parse_seqids -in /home/nyoungb2/perl/projects/CLdb/examples/ecoli_CLdb//arrayBlast/blast_db//Escherichia_coli_BL2_DE3.fasta\n",
        "makeblastdb -dbtype nucl -parse_seqids -in /home/nyoungb2/perl/projects/CLdb/examples/ecoli_CLdb//arrayBlast/blast_db//Escherichia_coli_K_2_DH_B.fasta\n",
        "makeblastdb -dbtype nucl -parse_seqids -in /home/nyoungb2/perl/projects/CLdb/examples/ecoli_CLdb//arrayBlast/blast_db//Escherichia_coli_K_2_MG_655.fasta\n",
        "makeblastdb -dbtype nucl -parse_seqids -in /home/nyoungb2/perl/projects/CLdb/examples/ecoli_CLdb//arrayBlast/blast_db//Escherichia_coli_K_2_W3.fasta\n",
        "makeblastdb -dbtype nucl -parse_seqids -in /home/nyoungb2/perl/projects/CLdb/examples/ecoli_CLdb//arrayBlast/blast_db//Escherichia_coli_O_57_H7.fasta\n",
        "\n",
        "Blasting sequences...\n",
        "Number of blast hits to Escherichia_coli_BL2_DE3.fasta:\t4730\n",
        "Number of blast hits to Escherichia_coli_K_2_DH_B.fasta:\t4825\n",
        "Number of blast hits to Escherichia_coli_K_2_MG_655.fasta:\t4882\n",
        "Number of blast hits to Escherichia_coli_K_2_W3.fasta:\t4882\n",
        "Number of blast hits to Escherichia_coli_O_57_H7.fasta:\t1747\n"
       ]
      }
     ],
     "prompt_number": 37
    },
    {
     "cell_type": "code",
     "collapsed": false,
     "input": [
      "%%bash -s \"$CLdbDir\" \"$scriptDir\"\n",
      "\n",
      "# converting .xml to .srl\n",
      "## This retains all of the info in the xml, but produces a smaller file that is faster to load and write.\n",
      "## For large blast runs (xml files > 100 Mb), this will take a little while\n",
      "\n",
      "cd $1\n",
      "perl $2'blast-xml2srl.pl' ./arrayBlast/DRs_cut1_blastn.xml > ./arrayBlast/DRs_cut1_blastn.srl"
     ],
     "language": "python",
     "metadata": {},
     "outputs": [],
     "prompt_number": 38
    },
    {
     "cell_type": "code",
     "collapsed": false,
     "input": [
      "%%bash -s \"$CLdbDir\" \"$scriptDir\"\n",
      "\n",
      "# filtering spacer hits to arrays\n",
      "## This is based on the premise that DR hits adjacent to spacer hits signify that the spacer is hitting a CRISPR array\n",
      "\n",
      "cd $1\n",
      "perl $2'CLdb_arrayBlastDRFilter.pl' ./arrayBlast/spacers_cut1_blastn.srl \\\n",
      "    ./arrayBlast/DRs_cut1_blastn.srl > ./arrayBlast/spacers_cut1_blastn_filt.srl"
     ],
     "language": "python",
     "metadata": {},
     "outputs": [
      {
       "output_type": "stream",
       "stream": "stderr",
       "text": [
        "### Summary for filtering of 'bad' DR hits ###\n",
        "Total DR hits: 1014\n",
        "DR hits with E-values < 10: 0\n",
        "DR hits with hit lengths (fraction of total) < 0.66: 0\n",
        "DR hits used for filtering: 1014\n",
        "### DR filtering of spacer blast hits ###\n",
        "Total spacer blast hits: 79\n",
        "Spacer blast hits hitting an array (filtered out): 79\n",
        "\tDeleting the blast hits to arrays\n",
        "Spacer blast hits hitting a protospacer: 0\n"
       ]
      }
     ],
     "prompt_number": 39
    },
    {
     "cell_type": "markdown",
     "metadata": {},
     "source": [
      "__No spacers hit any protospacers on the Ecoli genomes in the CLdb!__\n",
      "\n",
      "__Maybe we will get some hits when we blast against NCBI's nt database.__"
     ]
    },
    {
     "cell_type": "markdown",
     "metadata": {},
     "source": [
      "### Array Blast vs nt"
     ]
    },
    {
     "cell_type": "code",
     "collapsed": false,
     "input": [
      "%%bash -s \"$CLdbDir\" \"$scriptDir\"\n",
      "\n",
      "# The arrayBlast wrapper only works with the genomes in CLdb.\n",
      "# We will need to do this part 'manually'\n",
      "## The blast output just needs to be in .xml format.\n",
      "## NOTE: you will need the BLAST nt database \n",
      "\n",
      "num_threads=20\n",
      "\n",
      "cd $1'arrayBlast'\n",
      "\n",
      "# spacer blast\n",
      "blastn -task blastn-short -db nt -query spacers_cut1.fna \\\n",
      "    -outfmt 5 -evalue 1e-5 -num_threads $num_threads > spacers_cut1_vNR.xml\n",
      "    "
     ],
     "language": "python",
     "metadata": {},
     "outputs": [],
     "prompt_number": 42
    },
    {
     "cell_type": "code",
     "collapsed": false,
     "input": [
      "%%bash -s \"$CLdbDir\" \"$scriptDir\"\n",
      "\n",
      "num_threads=20\n",
      "\n",
      "cd $1'arrayBlast'\n",
      "\n",
      "# DR blast\n",
      "blastn -task blastn-short -db nt -query DRs_cut1.fna \\\n",
      "    -outfmt 5 -evalue 1e-5 -num_threads $num_threads > DRs_cut1_vNR.xml"
     ],
     "language": "python",
     "metadata": {},
     "outputs": [],
     "prompt_number": 43
    },
    {
     "cell_type": "code",
     "collapsed": false,
     "input": [
      "!ls -thlc $CLdbDir'arrayBlast'"
     ],
     "language": "python",
     "metadata": {},
     "outputs": [
      {
       "output_type": "stream",
       "stream": "stdout",
       "text": [
        "total 18M\r\n",
        "-rw-rw-r-- 1 nyoungb2 nyoungb2  15M Jun  5 19:19 DRs_cut1_vNR.xml\r\n",
        "-rw-rw-r-- 1 nyoungb2 nyoungb2 1.6M Jun  5 19:18 spacers_cut1_vNR.xml\r\n",
        "-rw-rw-r-- 1 nyoungb2 nyoungb2  43K Jun  5 19:13 spacers_cut1_blastn_filt.srl\r\n",
        "-rw-rw-r-- 1 nyoungb2 nyoungb2 247K Jun  5 19:13 DRs_cut1_blastn.srl\r\n",
        "-rw-rw-r-- 1 nyoungb2 nyoungb2 783K Jun  5 19:13 DRs_cut1_blastn.xml\r\n",
        "drwxrwxr-x 2 nyoungb2 nyoungb2 4.0K Jun  5 19:13 blast_db\r\n",
        "-rw-rw-r-- 1 nyoungb2 nyoungb2  528 Jun  5 19:13 DRs_cut1.fna\r\n",
        "-rw-rw-r-- 1 nyoungb2 nyoungb2  62K Jun  5 19:13 spacers_cut1_blastn.srl\r\n",
        "-rw-rw-r-- 1 nyoungb2 nyoungb2 227K Jun  5 19:12 spacers_cut1_blastn.xml\r\n",
        "-rw-rw-r-- 1 nyoungb2 nyoungb2 2.0K Jun  5 19:12 spacers_cut1.fna\r\n"
       ]
      }
     ],
     "prompt_number": 44
    },
    {
     "cell_type": "code",
     "collapsed": false,
     "input": [
      "%%bash -s \"$CLdbDir\" \"$scriptDir\"\n",
      "\n",
      "# converting .xml to .srl\n",
      "\n",
      "cd $1\n",
      "\n",
      "perl $2'blast-xml2srl.pl' ./arrayBlast/spacers_cut1_vNR.xml > ./arrayBlast/spacers_cut1_vNR.srl\n",
      "perl $2'blast-xml2srl.pl' ./arrayBlast/DRs_cut1_vNR.xml > ./arrayBlast/DRs_cut1_vNR.srl"
     ],
     "language": "python",
     "metadata": {},
     "outputs": [],
     "prompt_number": 45
    },
    {
     "cell_type": "code",
     "collapsed": false,
     "input": [
      "%%bash -s \"$CLdbDir\" \"$scriptDir\"\n",
      "\n",
      "# filtering spacer hits to arrays\n",
      "## This is based on the premise that DR hits adjacent to spacer hits signify that the spacer is hitting a CRISPR array\n",
      "\n",
      "cd $1\n",
      "perl $2'CLdb_arrayBlastDRFilter.pl' \\\n",
      "    ./arrayBlast/spacers_cut1_vNR.srl \\\n",
      "    ./arrayBlast/DRs_cut1_vNR.srl \\\n",
      "    > ./arrayBlast/spacers_cut1_blastn_filt.srl"
     ],
     "language": "python",
     "metadata": {},
     "outputs": [
      {
       "output_type": "stream",
       "stream": "stderr",
       "text": [
        "### Summary for filtering of 'bad' DR hits ###\n",
        "Total DR hits: 20159\n",
        "DR hits with E-values < 10: 0\n",
        "DR hits with hit lengths (fraction of total) < 0.66: 0\n",
        "DR hits used for filtering: 20159\n",
        "### DR filtering of spacer blast hits ###\n",
        "Total spacer blast hits: 1573\n",
        "Spacer blast hits hitting an array (filtered out): 863\n",
        "\tDeleting the blast hits to arrays\n",
        "Spacer blast hits hitting a protospacer: 710\n"
       ]
      }
     ],
     "prompt_number": 51
    },
    {
     "cell_type": "markdown",
     "metadata": {},
     "source": [
      "__OK. It's looks like we have some hits to some putative protospacers!__\n",
      "\n",
      "__Let the investigation begin...__"
     ]
    },
    {
     "cell_type": "code",
     "collapsed": false,
     "input": [
      "%%bash -s \"$CLdbDir\" \"$scriptDir\"\n",
      "\n",
      "# The srl file can be converted to a json or csv file if you would like to use tools external to CLdb.\n",
      "\n",
      "cd $1\n",
      "\n",
      "$2'blast-srl2json.pl' < ./arrayBlast/spacers_cut1_blastn_filt.srl > ./arrayBlast/spacers_cut1_blastn_filt.json\n",
      "\n",
      "# viewing some of the json file\n",
      "cat ./arrayBlast/spacers_cut1_blastn_filt.json | python -mjson.tool 2>/dev/null | head -n 40"
     ],
     "language": "python",
     "metadata": {},
     "outputs": [
      {
       "output_type": "stream",
       "stream": "stdout",
       "text": [
        "{\n",
        "    \"0\": {\n",
        "        \"BlastOutput_db\": \"nt\", \n",
        "        \"BlastOutput_iterations\": {\n",
        "            \"Iteration\": [\n",
        "                {\n",
        "                    \"Iteration_hits\": {\n",
        "                        \"Hit\": [\n",
        "                            {\n",
        "                                \"Hit_accession\": \"KC765378\", \n",
        "                                \"Hit_def\": \"Escherichia coli strain 90-0009 CRISPR2a repeat region\", \n",
        "                                \"Hit_hsps\": {\n",
        "                                    \"Hsp\": {\n",
        "                                        \"20gVye9WY0waD\": {\n",
        "                                            \"CLdb_array-hit\": 0, \n",
        "                                            \"Hsp_align-len\": \"32\", \n",
        "                                            \"Hsp_bit-score\": \"63.9282\", \n",
        "                                            \"Hsp_evalue\": \"3.97536e-08\", \n",
        "                                            \"Hsp_gaps\": \"0\", \n",
        "                                            \"Hsp_hit-frame\": \"-1\", \n",
        "                                            \"Hsp_hit-from\": \"286\", \n",
        "                                            \"Hsp_hit-to\": \"255\", \n",
        "                                            \"Hsp_hseq\": \"TTTTACAGTGTCAACAATCGTTCCCTGATTGT\", \n",
        "                                            \"Hsp_identity\": \"32\", \n",
        "                                            \"Hsp_midline\": \"||||||||||||||||||||||||||||||||\", \n",
        "                                            \"Hsp_num\": \"1\", \n",
        "                                            \"Hsp_positive\": \"32\", \n",
        "                                            \"Hsp_qseq\": \"TTTTACAGTGTCAACAATCGTTCCCTGATTGT\", \n",
        "                                            \"Hsp_query-frame\": \"1\", \n",
        "                                            \"Hsp_query-from\": \"1\", \n",
        "                                            \"Hsp_query-to\": \"32\", \n",
        "                                            \"Hsp_score\": \"32\"\n",
        "                                        }\n",
        "                                    }\n",
        "                                }, \n",
        "                                \"Hit_id\": \"gi|528889517|gb|KC765378.1|\", \n",
        "                                \"Hit_len\": \"922\", \n",
        "                                \"Hit_num\": \"1\"\n",
        "                            }, \n",
        "                            {\n"
       ]
      }
     ],
     "prompt_number": 58
    },
    {
     "cell_type": "code",
     "collapsed": false,
     "input": [
      "%%bash -s \"$CLdbDir\" \"$scriptDir\"\n",
      "\n",
      "# The srl file can be converted to a json or csv file if you would like to use tools external to CLdb.\n",
      "\n",
      "cd $1\n",
      "\n",
      "$2'blast-srl2csv.pl' < ./arrayBlast/spacers_cut1_blastn_filt.srl > ./arrayBlast/spacers_cut1_blastn_filt.csv\n",
      "\n",
      "# viewing some of the json file\n",
      "head ./arrayBlast/spacers_cut1_blastn_filt.csv\n"
     ],
     "language": "python",
     "metadata": {},
     "outputs": [
      {
       "output_type": "stream",
       "stream": "stdout",
       "text": [
        "# blast: BLASTN 2.2.28+\n",
        "# Query: NA|spacer|NA|22|1\n",
        "# Database: nt\n",
        "# Fields: qseqid, sseqid, pident, length, mismatch, gapopen, qstart, qend, sstart, send, evalue, bitscore\n"
       ]
      },
      {
       "output_type": "stream",
       "stream": "stderr",
       "text": [
        "Use of uninitialized value $row[3] in join or string at /home/nyoungb2/perl/projects/CLdb/bin/../lib/CLdb/arrayBlast/sereal.pm line 418, <> line 1575.\n"
       ]
      }
     ],
     "prompt_number": 79
    },
    {
     "cell_type": "code",
     "collapsed": false,
     "input": [
      "!ls -thlc $CLdbDir'arrayBlast' | sort -k 9"
     ],
     "language": "python",
     "metadata": {},
     "outputs": [
      {
       "output_type": "stream",
       "stream": "stdout",
       "text": [
        "total 25M\r\n",
        "drwxrwxr-x 2 nyoungb2 nyoungb2 4.0K Jun  5 19:13 blast_db\r\n",
        "-rw-rw-r-- 1 nyoungb2 nyoungb2 247K Jun  5 19:13 DRs_cut1_blastn.srl\r\n",
        "-rw-rw-r-- 1 nyoungb2 nyoungb2 783K Jun  5 19:13 DRs_cut1_blastn.xml\r\n",
        "-rw-rw-r-- 1 nyoungb2 nyoungb2  528 Jun  5 19:13 DRs_cut1.fna\r\n",
        "-rw-rw-r-- 1 nyoungb2 nyoungb2 4.8M Jun  5 19:25 DRs_cut1_vNR.srl\r\n",
        "-rw-rw-r-- 1 nyoungb2 nyoungb2  15M Jun  5 19:19 DRs_cut1_vNR.xml\r\n",
        "-rw-rw-r-- 1 nyoungb2 nyoungb2 402K Jun  5 19:29 spacers_cut1_blastn_filt_crDNA.srl\r\n",
        "-rw-rw-r-- 1 nyoungb2 nyoungb2    0 Jun  5 20:09 spacers_cut1_blastn_filt.csv\r\n",
        "-rw-rw-r-- 1 nyoungb2 nyoungb2 638K Jun  5 19:39 spacers_cut1_blastn_filt.json\r\n",
        "-rw-rw-r-- 1 nyoungb2 nyoungb2 385K Jun  5 19:34 spacers_cut1_blastn_filt.srl\r\n",
        "-rw-rw-r-- 1 nyoungb2 nyoungb2  62K Jun  5 19:13 spacers_cut1_blastn.srl\r\n",
        "-rw-rw-r-- 1 nyoungb2 nyoungb2 227K Jun  5 19:12 spacers_cut1_blastn.xml\r\n",
        "-rw-rw-r-- 1 nyoungb2 nyoungb2 2.0K Jun  5 19:12 spacers_cut1.fna\r\n",
        "-rw-rw-r-- 1 nyoungb2 nyoungb2 584K Jun  5 19:24 spacers_cut1_vNR.srl\r\n",
        "-rw-rw-r-- 1 nyoungb2 nyoungb2 1.6M Jun  5 19:18 spacers_cut1_vNR.xml\r\n"
       ]
      }
     ],
     "prompt_number": 75
    },
    {
     "cell_type": "code",
     "collapsed": false,
     "input": [
      "%%bash -s \"$CLdbDir\" \"$scriptDir\"\n",
      "\n",
      "# adding crRNA region to .srl (actually the DNA template, refering to it as 'crDNA')\n",
      "## How much of the adjacent DR sequences are included in the crDNA is determined by the user (default: 10bp on either side)\n",
      "\n",
      "cd $1\n",
      "perl $2'CLdb_arrayBlastAddcrRNA.pl' -da CLdb.sqlite \\\n",
      "    < ./arrayBlast/spacers_cut1_blastn_filt.srl \\\n",
      "    > ./arrayBlast/spacers_cut1_blastn_filt_crDNA.srl\n",
      "    \n",
      "## TODO: add summary info on crDNA sequences obtained"
     ],
     "language": "python",
     "metadata": {},
     "outputs": [
      {
       "output_type": "stream",
       "stream": "stderr",
       "text": [
        "Extracting all queries with blast hits from blast hit file...\n",
        "...Number of total unique query IDs:\t39\n",
        "Getting info from CLdb on each blast query spacer...\n",
        "Getting spacer regions from each genome...\n",
        "...parsing from genome: Escherichia_coli_K_2_DH_B.fasta\n",
        "...parsing from genome: Escherichia_coli_K_2_MG_655.fasta\n",
        "...parsing from genome: Escherichia_coli_O_57_H7.fasta\n",
        "...parsing from genome: Escherichia_coli_BL2_DE3.fasta\n",
        "...parsing from genome: Escherichia_coli_K_2_W3.fasta\n"
       ]
      }
     ],
     "prompt_number": 49
    },
    {
     "cell_type": "code",
     "collapsed": false,
     "input": [
      "%%bash -s \"$blastDir\" \"$scriptDir\"\n",
      "# adding protospacer region to .srl\n",
      "\n",
      "cd $1\n",
      "\n",
      "perl $2'CLdb_arrayBlastAddProto.pl' -f 20 \\\n",
      "    < spacers_c1_blastn_filt_crRNA.srl > spacers_c1_blastn_filt_crRNA_proto.srl"
     ],
     "language": "python",
     "metadata": {},
     "outputs": []
    }
   ],
   "metadata": {}
  }
 ]
}