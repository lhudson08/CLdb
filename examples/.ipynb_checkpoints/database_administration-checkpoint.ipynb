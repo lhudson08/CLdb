{
 "metadata": {
  "name": "",
  "signature": "sha256:9433674324f4f971ead9220697845fa91187a9612c43ef18ec13bb854815310e"
 },
 "nbformat": 3,
 "nbformat_minor": 0,
 "worksheets": [
  {
   "cells": [
    {
     "cell_type": "markdown",
     "metadata": {},
     "source": [
      "# Description\n",
      "\n",
      "This notebook provides examples of common tasks database manipulation, summarization, and getting some basic info from the database.\n",
      "\n",
      "Most of these tasks could also be done with some understanding of sqlite. \n",
      "These tasks are (hopefully) made easier with the provided scripts.\n",
      "\n",
      "I also provide examples of tasks that are so simple, I didn't think it was necessary to make one."
     ]
    },
    {
     "cell_type": "code",
     "collapsed": false,
     "input": [
      "# This tutorial assumes that this IPython notebook is in the ./CLdb/examples/ecoli_ipynb/ directory.\n",
      "## these are the relative paths to everything we will be working with\n",
      "rawDir = \"../ecoli_raw/\"\n",
      "CLdbDir = \"../ecoli_CLdb/\"\n",
      "scriptDir = \"../../bin/\""
     ],
     "language": "python",
     "metadata": {},
     "outputs": [],
     "prompt_number": 2
    },
    {
     "cell_type": "markdown",
     "metadata": {},
     "source": [
      "# Script-task outline\n",
      "\n",
      "* CLdb_summary.pl\n",
      " * Make a summary table quantifying database entries \n",
      "* CLdb_writeTable.pl\n",
      " * Write >=1 table in the database\n",
      " * This is useful for general database entry editing without really using sql."
     ]
    },
    {
     "cell_type": "markdown",
     "metadata": {},
     "source": [
      "## CLdb_summary.pl"
     ]
    },
    {
     "cell_type": "code",
     "collapsed": false,
     "input": [
      "# checking to make sure a CLdb database exists\n",
      "!ls "
     ],
     "language": "python",
     "metadata": {},
     "outputs": [
      {
       "output_type": "stream",
       "stream": "stdout",
       "text": [
        "database_administration.ipynb  ecoli_CLdb  ecoli_ipynb\tecoli_raw  screenlog.0\r\n"
       ]
      }
     ],
     "prompt_number": 6
    },
    {
     "cell_type": "code",
     "collapsed": false,
     "input": [],
     "language": "python",
     "metadata": {},
     "outputs": []
    }
   ],
   "metadata": {}
  }
 ]
}