{
 "metadata": {
  "name": "",
  "signature": "sha256:61a3c1bd9cdd9227e5c06b0e8b33274c620db51812cd48212ecdb62ebd746c88"
 },
 "nbformat": 3,
 "nbformat_minor": 0,
 "worksheets": [
  {
   "cells": [
    {
     "cell_type": "markdown",
     "metadata": {},
     "source": [
      "## This notebook describes the setup of CLdb with a set of Methanosarcina genomes.\n"
     ]
    },
    {
     "cell_type": "code",
     "collapsed": false,
     "input": [
      "# This tutorial assumes that this IPython notebook is in the ./CLdb/examples/ecoli_ipynb/ directory.\n",
      "## these are the relative paths to everything we will be working with\n",
      "rawDir = \"../raw_files/\"\n",
      "CLdbDir = \"../CLdb/\"\n",
      "scriptDir = \"../../../\""
     ],
     "language": "python",
     "metadata": {},
     "outputs": [],
     "prompt_number": 1
    },
    {
     "cell_type": "code",
     "collapsed": false,
     "input": [
      "import os,sys"
     ],
     "language": "python",
     "metadata": {},
     "outputs": [],
     "prompt_number": 7
    },
    {
     "cell_type": "code",
     "collapsed": false,
     "input": [
      "# viewing file links\n",
      "from IPython.display import FileLinks\n",
      "# pretty viewing of tables\n",
      "## get from: http://epmoyer.github.io/ipy_table/\n",
      "from ipy_table import *"
     ],
     "language": "python",
     "metadata": {},
     "outputs": [],
     "prompt_number": 8
    },
    {
     "cell_type": "markdown",
     "metadata": {},
     "source": [
      "__The required files are in '../ecoli_raw/':__\n",
      "\n",
      "* a loci table\n",
      "* array files\n",
      "* genome nucleotide sequences\n",
      " * genbank (preferred) or fasta format\n",
      "\n",
      "__Let's look at the provided files for this example:__"
     ]
    },
    {
     "cell_type": "code",
     "collapsed": false,
     "input": [
      "FileLinks(rawDir)"
     ],
     "language": "python",
     "metadata": {},
     "outputs": [
      {
       "html": [
        "../raw_files/<br>\n",
        "&nbsp;&nbsp;<a href='../raw_files/GIs.txt' target='_blank'>GIs.txt</a><br>\n",
        "../raw_files/array/<br>\n",
        "&nbsp;&nbsp;<a href='../raw_files/array/Methanosarcina_mazei_Go1-cli117.array' target='_blank'>Methanosarcina_mazei_Go1-cli117.array</a><br>\n",
        "&nbsp;&nbsp;<a href='../raw_files/array/Methanosarcina_barkeri_str_fusaro_1.array' target='_blank'>Methanosarcina_barkeri_str_fusaro_1.array</a><br>\n",
        "&nbsp;&nbsp;<a href='../raw_files/array/Methanosarcina_mazei_Go1-cli118.array' target='_blank'>Methanosarcina_mazei_Go1-cli118.array</a><br>\n",
        "&nbsp;&nbsp;<a href='../raw_files/array/Methanosarcina_barkeri_str_fusaro_3.array' target='_blank'>Methanosarcina_barkeri_str_fusaro_3.array</a><br>\n",
        "&nbsp;&nbsp;<a href='../raw_files/array/Methanosarcina_acetivorans_C2A_1.array' target='_blank'>Methanosarcina_acetivorans_C2A_1.array</a><br>\n",
        "&nbsp;&nbsp;<a href='../raw_files/array/Methanosarcina_barkeri_str_fusaro_2.array' target='_blank'>Methanosarcina_barkeri_str_fusaro_2.array</a><br>\n",
        "&nbsp;&nbsp;<a href='../raw_files/array/Methanosarcina_acetivorans_C2A_2.array' target='_blank'>Methanosarcina_acetivorans_C2A_2.array</a><br>\n",
        "../raw_files/loci/<br>\n",
        "&nbsp;&nbsp;<a href='../raw_files/loci/loci.txt' target='_blank'>loci.txt</a><br>"
       ],
       "metadata": {},
       "output_type": "pyout",
       "prompt_number": 3,
       "text": [
        "../raw_files/\n",
        "  GIs.txt\n",
        "../raw_files/array/\n",
        "  Methanosarcina_mazei_Go1-cli117.array\n",
        "  Methanosarcina_barkeri_str_fusaro_1.array\n",
        "  Methanosarcina_mazei_Go1-cli118.array\n",
        "  Methanosarcina_barkeri_str_fusaro_3.array\n",
        "  Methanosarcina_acetivorans_C2A_1.array\n",
        "  Methanosarcina_barkeri_str_fusaro_2.array\n",
        "  Methanosarcina_acetivorans_C2A_2.array\n",
        "../raw_files/loci/\n",
        "  loci.txt"
       ]
      }
     ],
     "prompt_number": 3
    },
    {
     "cell_type": "markdown",
     "metadata": {},
     "source": [
      "## Setting up the CLdb directory"
     ]
    },
    {
     "cell_type": "code",
     "collapsed": false,
     "input": [
      "%%bash -s \"$rawDir\" \"$CLdbDir\"\n",
      "\n",
      "# new Methanosarcina CLdb directory (removing old version if exists)\n",
      "if [ -d $2 ]; then\n",
      "    rm -rf $2\n",
      "fi\n",
      "mkdir $2\n",
      "\n",
      "\n",
      "# unarchiving files in the raw folder over to the newly made working folder\n",
      "find $1 -type f -name \"*zip\" | xargs -I % unzip % -d $2\n",
      "\n",
      "# checking files\n",
      "echo \"CLdb directory contents:\"\n",
      "ls -thlc $2"
     ],
     "language": "python",
     "metadata": {},
     "outputs": [
      {
       "output_type": "stream",
       "stream": "stdout",
       "text": [
        "Archive:  ../raw_files/loci.zip\n",
        "  inflating: ../CLdb/loci/loci.txt   \n",
        "Archive:  ../raw_files/array.zip\n",
        "  inflating: ../CLdb/array/Methanosarcina_acetivorans_C2A_1.array  \n",
        "  inflating: ../CLdb/array/Methanosarcina_acetivorans_C2A_2.array  \n",
        "  inflating: ../CLdb/array/Methanosarcina_barkeri_str_fusaro_1.array  \n",
        "  inflating: ../CLdb/array/Methanosarcina_barkeri_str_fusaro_2.array  \n",
        "  inflating: ../CLdb/array/Methanosarcina_barkeri_str_fusaro_3.array  \n",
        "  inflating: ../CLdb/array/Methanosarcina_mazei_Go1-cli117.array  \n",
        "  inflating: ../CLdb/array/Methanosarcina_mazei_Go1-cli118.array  \n",
        "CLdb directory contents:\n",
        "total 8.0K\n",
        "drwxrwxr-x 2 nyoungb2 nyoungb2 4.0K Nov 16 09:02 array\n",
        "drwxrwxr-x 2 nyoungb2 nyoungb2 4.0K Nov 16 09:02 loci\n"
       ]
      }
     ],
     "prompt_number": 6
    },
    {
     "cell_type": "markdown",
     "metadata": {},
     "source": [
      "### Downloading the genome genbank files. Using the 'GIs.txt' file"
     ]
    },
    {
     "cell_type": "code",
     "collapsed": false,
     "input": [
      "# writing out list of GIs (format: 'GI<tab>taxon_name')\n",
      "\n",
      "GIs = \"\"\"19918815\tMethanosarcina_acetivorans_C2A\n",
      "72394702\tMethanosarcina_barkeri_str_fusaro\n",
      "20986624\tMethanosarcina_mazei_Go1\n",
      "\"\"\"\n",
      "\n",
      "GI_out = os.path.join(CLdbDir, 'GIs.txt')\n",
      "outf = open(GI_out, 'wb')\n",
      "outf.write(GIs)\n",
      "outf.close()"
     ],
     "language": "python",
     "metadata": {},
     "outputs": [],
     "prompt_number": 27
    },
    {
     "cell_type": "code",
     "collapsed": false,
     "input": [
      "%%bash -s \"$CLdbDir\" \"$scriptDir\"\n",
      "\n",
      "cd $1\n",
      "\n",
      "# making directory for genbanks\n",
      "genbankDir='genbank'\n",
      "if [ -d $genbankDir ]; then\n",
      "    rm -rf $genbankDir\n",
      "fi\n",
      "mkdir $genbankDir\n",
      "\n",
      "# loading genbanks (uses BioPerl)\n",
      "$2'CLdb' accession-GI2fastaGenome.pl -- -format genbank -fork 5 -prefix $genbankDir < 'GIs.txt'\n",
      "\n",
      "# checking files; all file sizes should be >= 10 Mb\n",
      "ls -thlc genbank/*gbk"
     ],
     "language": "python",
     "metadata": {},
     "outputs": [
      {
       "output_type": "stream",
       "stream": "stdout",
       "text": [
        "-rw-rw-r-- 1 nyoungb2 nyoungb2  11M Nov 16 11:13 genbank/Methanosarcina_acetivorans_C2A.gbk\n",
        "-rw-rw-r-- 1 nyoungb2 nyoungb2 7.9M Nov 16 11:13 genbank/Methanosarcina_mazei_Go1.gbk\n",
        "-rw-rw-r-- 1 nyoungb2 nyoungb2  67K Nov 16 11:13 genbank/Methanosarcina_barkeri_str_fusaro.gbk\n"
       ]
      },
      {
       "output_type": "stream",
       "stream": "stderr",
       "text": [
        "Writing files to '/home/nyoungb2/perl/projects/CLdb/examples/Methanosarcina/CLdb/genbank'\n",
        "Attempting to stream: Methanosarcina_barkeri_str_fusaro (accession/GI = 72394702)\n",
        "Attempting to stream: Methanosarcina_mazei_Go1 (accession/GI = 20986624)\n",
        "Attempting to stream: Methanosarcina_acetivorans_C2A (accession/GI = 19918815)\n",
        "\n",
        "--------------------- WARNING ---------------------\n",
        "MSG: Unrecognized DBSOURCE data: BioProject: PRJNA103            BioSample: SAMN02598252\n",
        "\n",
        "\n",
        "---------------------------------------------------\n",
        "\n",
        "--------------------- WARNING ---------------------\n",
        "MSG: Unrecognized DBSOURCE data: BioProject: PRJNA300            BioSample: SAMN02603290\n",
        "\n",
        "\n",
        "---------------------------------------------------\n",
        "\n",
        "--------------------- WARNING ---------------------\n",
        "MSG: Unrecognized DBSOURCE data: BioProject: PRJNA290            BioSample: SAMN03081414\n",
        "\n",
        "\n",
        "---------------------------------------------------\n"
       ]
      }
     ],
     "prompt_number": 45
    },
    {
     "cell_type": "markdown",
     "metadata": {},
     "source": [
      "# Loading CLdb"
     ]
    },
    {
     "cell_type": "code",
     "collapsed": false,
     "input": [
      "%%bash -s \"$CLdbDir\" \"$scriptDir\"\n",
      "# making the sqlite database (just schema)\n",
      "## -r & -d = removing any existing database\n",
      "\n",
      "cd $1\n",
      "\n",
      "perl $2'CLdb' makeDB -- -r -d"
     ],
     "language": "python",
     "metadata": {},
     "outputs": [
      {
       "output_type": "stream",
       "stream": "stderr",
       "text": [
        "...sqlite3 database tables created\n"
       ]
      }
     ],
     "prompt_number": 17
    },
    {
     "cell_type": "markdown",
     "metadata": {},
     "source": [
      "* The next step is loading the loci table.\n",
      " * This table contains the user-provided info on each CRISPR-CAS system in the genomes.\n",
      " * Let's look at the table before loading it in CLdb"
     ]
    },
    {
     "cell_type": "code",
     "collapsed": false,
     "input": [
      "import csv\n",
      "lociFile = 'loci/loci.txt'\n",
      "lociFile = os.path.join(CLdbDir, lociFile)\n",
      "\n",
      "# reading in file\n",
      "tbl = []\n",
      "with open(lociFile, 'rb') as f:\n",
      "    reader = csv.reader(f, delimiter='\\t')\n",
      "    for row in reader:\n",
      "        tbl.append(row)\n",
      "\n",
      "# making table\n",
      "make_table(tbl)\n",
      "apply_theme('basic')"
     ],
     "language": "python",
     "metadata": {},
     "outputs": [
      {
       "html": [
        "<table border=\"1\" cellpadding=\"3\" cellspacing=\"0\"  style=\"border:1px solid black;border-collapse:collapse;\"><tr><td  style=\"background-color:LightGray;\"><b>Locus_ID</b></td><td  style=\"background-color:LightGray;\"><b>Taxon_ID</b></td><td  style=\"background-color:LightGray;\"><b>Taxon_Name</b></td><td  style=\"background-color:LightGray;\"><b>Subtype</b></td><td  style=\"background-color:LightGray;\"><b>Scaffold</b></td><td  style=\"background-color:LightGray;\"><b>Locus_Start</b></td><td  style=\"background-color:LightGray;\"><b>Locus_End</b></td><td  style=\"background-color:LightGray;\"><b>CAS_Start</b></td><td  style=\"background-color:LightGray;\"><b>CAS_End</b></td><td  style=\"background-color:LightGray;\"><b>Array_Start</b></td><td  style=\"background-color:LightGray;\"><b>Array_End</b></td><td  style=\"background-color:LightGray;\"><b>Array_Sense_Strand</b></td><td  style=\"background-color:LightGray;\"><b>CAS_Status</b></td><td  style=\"background-color:LightGray;\"><b>Array_Status</b></td><td  style=\"background-color:LightGray;\"><b>Genbank_File</b></td><td  style=\"background-color:LightGray;\"><b>Fasta_File</b></td><td  style=\"background-color:LightGray;\"><b>Array_File</b></td><td  style=\"background-color:LightGray;\"><b>Scaffold_count</b></td><td  style=\"background-color:LightGray;\"><b>File_Creation_Date</b></td><td  style=\"background-color:LightGray;\"><b>Author</b></td></tr><tr><td  style=\"background-color:Ivory;\">163</td><td  style=\"background-color:Ivory;\">188937.1</td><td  style=\"background-color:Ivory;\">Methanosarcina_acetivorans_C2A</td><td  style=\"background-color:Ivory;\">I-G</td><td  style=\"background-color:Ivory;\">NC_003552</td><td  style=\"background-color:Ivory;\">4529918</td><td  style=\"background-color:Ivory;\">4518093</td><td  style=\"background-color:Ivory;\">4529918</td><td  style=\"background-color:Ivory;\">4518093</td><td  style=\"background-color:Ivory;\">4523522</td><td  style=\"background-color:Ivory;\">4525551</td><td  style=\"background-color:Ivory;\">1</td><td  style=\"background-color:Ivory;\">broken</td><td  style=\"background-color:Ivory;\">intact</td><td  style=\"background-color:Ivory;\">Methanosarcina_acetivorans_C2A.gbk</td><td  style=\"background-color:Ivory;\">Methanosarcina_acetivorans_C2A.fasta</td><td  style=\"background-color:Ivory;\">Methanosarcina_acetivorans_C2A_2.array</td><td  style=\"background-color:Ivory;\"></td><td  style=\"background-color:Ivory;\">8-Feb-14</td><td  style=\"background-color:Ivory;\">Nick&nbspY</td></tr><tr><td  style=\"background-color:AliceBlue;\">114</td><td  style=\"background-color:AliceBlue;\">192952.1</td><td  style=\"background-color:AliceBlue;\">Methanosarcina_mazei_Go1</td><td  style=\"background-color:AliceBlue;\">III-C</td><td  style=\"background-color:AliceBlue;\">NC_003901</td><td  style=\"background-color:AliceBlue;\">4095299</td><td  style=\"background-color:AliceBlue;\">4080452</td><td  style=\"background-color:AliceBlue;\">4089089</td><td  style=\"background-color:AliceBlue;\">4080452</td><td  style=\"background-color:AliceBlue;\">4095187</td><td  style=\"background-color:AliceBlue;\">4089310</td><td  style=\"background-color:AliceBlue;\">-1</td><td  style=\"background-color:AliceBlue;\">intact</td><td  style=\"background-color:AliceBlue;\">intact</td><td  style=\"background-color:AliceBlue;\">Methanosarcina_mazei_Go1.gbk</td><td  style=\"background-color:AliceBlue;\">Methanosarcina_mazei_Go1.fasta</td><td  style=\"background-color:AliceBlue;\">Methanosarcina_mazei_Go1-cli118.array</td><td  style=\"background-color:AliceBlue;\"></td><td  style=\"background-color:AliceBlue;\">28-Jun-13</td><td  style=\"background-color:AliceBlue;\">Nick&nbspY</td></tr><tr><td  style=\"background-color:Ivory;\">139</td><td  style=\"background-color:Ivory;\">269797.3</td><td  style=\"background-color:Ivory;\">Methanosarcina_barkeri_str_fusaro</td><td  style=\"background-color:Ivory;\">III-C</td><td  style=\"background-color:Ivory;\">NC_007355</td><td  style=\"background-color:Ivory;\">1660131</td><td  style=\"background-color:Ivory;\">1674653</td><td  style=\"background-color:Ivory;\">1665910</td><td  style=\"background-color:Ivory;\">1674653</td><td  style=\"background-color:Ivory;\">1660242</td><td  style=\"background-color:Ivory;\">1661621</td><td  style=\"background-color:Ivory;\">1</td><td  style=\"background-color:Ivory;\">intact</td><td  style=\"background-color:Ivory;\">intact</td><td  style=\"background-color:Ivory;\">Methanosarcina_barkeri_str_fusaro.gbk</td><td  style=\"background-color:Ivory;\">Methanosarcina_barkeri_str_fusaro.fasta</td><td  style=\"background-color:Ivory;\">Methanosarcina_barkeri_str_fusaro_2.array</td><td  style=\"background-color:Ivory;\"></td><td  style=\"background-color:Ivory;\">8-Feb-14</td><td  style=\"background-color:Ivory;\">Nick&nbspY</td></tr><tr><td  style=\"background-color:AliceBlue;\">140</td><td  style=\"background-color:AliceBlue;\">269797.3</td><td  style=\"background-color:AliceBlue;\">Methanosarcina_barkeri_str_fusaro</td><td  style=\"background-color:AliceBlue;\">VI-3</td><td  style=\"background-color:AliceBlue;\">NC_007355</td><td  style=\"background-color:AliceBlue;\">4018779</td><td  style=\"background-color:AliceBlue;\">4007239</td><td  style=\"background-color:AliceBlue;\">4018779</td><td  style=\"background-color:AliceBlue;\">4009182</td><td  style=\"background-color:AliceBlue;\">4007239</td><td  style=\"background-color:AliceBlue;\">4009012</td><td  style=\"background-color:AliceBlue;\">-1</td><td  style=\"background-color:AliceBlue;\">intact</td><td  style=\"background-color:AliceBlue;\">intact</td><td  style=\"background-color:AliceBlue;\">Methanosarcina_barkeri_str_fusaro.gbk</td><td  style=\"background-color:AliceBlue;\">Methanosarcina_barkeri_str_fusaro.fasta</td><td  style=\"background-color:AliceBlue;\">Methanosarcina_barkeri_str_fusaro_3.array</td><td  style=\"background-color:AliceBlue;\"></td><td  style=\"background-color:AliceBlue;\">8-Feb-14</td><td  style=\"background-color:AliceBlue;\">Nick&nbspY</td></tr><tr><td  style=\"background-color:Ivory;\">162</td><td  style=\"background-color:Ivory;\">188937.1</td><td  style=\"background-color:Ivory;\">Methanosarcina_acetivorans_C2A</td><td  style=\"background-color:Ivory;\">III-A</td><td  style=\"background-color:Ivory;\">NC_003552</td><td  style=\"background-color:Ivory;\">2379328</td><td  style=\"background-color:Ivory;\">2392987</td><td  style=\"background-color:Ivory;\">2381368</td><td  style=\"background-color:Ivory;\">2392987</td><td  style=\"background-color:Ivory;\">2379328</td><td  style=\"background-color:Ivory;\">2381265</td><td  style=\"background-color:Ivory;\">1</td><td  style=\"background-color:Ivory;\">broken</td><td  style=\"background-color:Ivory;\">intact</td><td  style=\"background-color:Ivory;\">Methanosarcina_acetivorans_C2A.gbk</td><td  style=\"background-color:Ivory;\">Methanosarcina_acetivorans_C2A.fasta</td><td  style=\"background-color:Ivory;\">Methanosarcina_acetivorans_C2A_1.array</td><td  style=\"background-color:Ivory;\"></td><td  style=\"background-color:Ivory;\">8-Feb-14</td><td  style=\"background-color:Ivory;\">Nick&nbspY</td></tr><tr><td  style=\"background-color:AliceBlue;\">113</td><td  style=\"background-color:AliceBlue;\">192952.1</td><td  style=\"background-color:AliceBlue;\">Methanosarcina_mazei_Go1</td><td  style=\"background-color:AliceBlue;\">I-B</td><td  style=\"background-color:AliceBlue;\">NC_003901</td><td  style=\"background-color:AliceBlue;\">691804</td><td  style=\"background-color:AliceBlue;\">679124</td><td  style=\"background-color:AliceBlue;\">691804</td><td  style=\"background-color:AliceBlue;\">682642</td><td  style=\"background-color:AliceBlue;\">682529</td><td  style=\"background-color:AliceBlue;\">679124</td><td  style=\"background-color:AliceBlue;\">-1</td><td  style=\"background-color:AliceBlue;\">intact</td><td  style=\"background-color:AliceBlue;\">intact</td><td  style=\"background-color:AliceBlue;\">Methanosarcina_mazei_Go1.gbk</td><td  style=\"background-color:AliceBlue;\">Methanosarcina_mazei_Go1.fasta</td><td  style=\"background-color:AliceBlue;\">Methanosarcina_mazei_Go1-cli117.array</td><td  style=\"background-color:AliceBlue;\"></td><td  style=\"background-color:AliceBlue;\">28-Jun-13</td><td  style=\"background-color:AliceBlue;\">Nick&nbspY</td></tr><tr><td  style=\"background-color:Ivory;\">138</td><td  style=\"background-color:Ivory;\">269797.3</td><td  style=\"background-color:Ivory;\">Methanosarcina_barkeri_str_fusaro</td><td  style=\"background-color:Ivory;\">I-G</td><td  style=\"background-color:Ivory;\">NC_007355</td><td  style=\"background-color:Ivory;\">353461</td><td  style=\"background-color:Ivory;\">365194</td><td  style=\"background-color:Ivory;\">353461</td><td  style=\"background-color:Ivory;\">365194</td><td  style=\"background-color:Ivory;\">356467</td><td  style=\"background-color:Ivory;\">359809</td><td  style=\"background-color:Ivory;\">1</td><td  style=\"background-color:Ivory;\">broken</td><td  style=\"background-color:Ivory;\">intact</td><td  style=\"background-color:Ivory;\">Methanosarcina_barkeri_str_fusaro.gbk</td><td  style=\"background-color:Ivory;\">Methanosarcina_barkeri_str_fusaro.fasta</td><td  style=\"background-color:Ivory;\">Methanosarcina_barkeri_str_fusaro_1.array</td><td  style=\"background-color:Ivory;\"></td><td  style=\"background-color:Ivory;\">8-Feb-14</td><td  style=\"background-color:Ivory;\">Nick&nbspY</td></tr></table>"
       ],
       "metadata": {},
       "output_type": "pyout",
       "prompt_number": 18,
       "text": [
        "<ipy_table.IpyTable at 0x7f4488028d10>"
       ]
      }
     ],
     "prompt_number": 18
    },
    {
     "cell_type": "markdown",
     "metadata": {},
     "source": [
      "__Notes on the loci table:__\n",
      "* As you can see, not all of the fields have values. Some are not required (e.g., 'fasta_file').\n",
      "* You will get an error if you try to load a table with missing values in required fields.\n",
      "* For a list of required columns, see the documentation for `CLdb_loadLoci.pl`."
     ]
    },
    {
     "cell_type": "code",
     "collapsed": false,
     "input": [
      "%%bash -s \"$CLdbDir\" \"$scriptDir\"\n",
      "\n",
      "# Loading the loci table\n",
      "## This will involve a lot of checking files and loading data\n",
      "## The genbanks will be checked for the genome nucleotide sequence.\n",
      "### This is because the fasta files \n",
      "### If found fasta files of each genome will be created in the ./fasta/ directory\n",
      "\n",
      "cd $1\n",
      "\n",
      "$2'CLdb' loadLoci -- -da CLdb.sqlite < loci/loci.txt"
     ],
     "language": "python",
     "metadata": {},
     "outputs": [
      {
       "output_type": "stream",
       "stream": "stderr",
       "text": [
        "Global symbol \"@parts\" requires explicit package name at /home/nyoungb2/perl/projects/CLdb/bin/../lib/CLdb/load/loadLoci.pm line 195.\n",
        "Global symbol \"$newdir\" requires explicit package name at /home/nyoungb2/perl/projects/CLdb/bin/../lib/CLdb/load/loadLoci.pm line 200.\n",
        "Global symbol \"%fileTypes\" requires explicit package name at /home/nyoungb2/perl/projects/CLdb/bin/../lib/CLdb/load/loadLoci.pm line 215.\n",
        "Global symbol \"$fileTypes\" requires explicit package name at /home/nyoungb2/perl/projects/CLdb/bin/../lib/CLdb/load/loadLoci.pm line 220.\n",
        "Global symbol \"$fileName\" requires explicit package name at /home/nyoungb2/perl/projects/CLdb/bin/../lib/CLdb/load/loadLoci.pm line 221.\n",
        "Global symbol \"$fileName\" requires explicit package name at /home/nyoungb2/perl/projects/CLdb/bin/../lib/CLdb/load/loadLoci.pm line 224.\n",
        "Compilation failed in require at /home/nyoungb2/perl/projects/CLdb/bin/loadLoci.pl line 143.\n",
        "BEGIN failed--compilation aborted at /home/nyoungb2/perl/projects/CLdb/bin/loadLoci.pl line 143.\n"
       ]
      }
     ],
     "prompt_number": 26
    },
    {
     "cell_type": "code",
     "collapsed": false,
     "input": [
      "# This is a simple sql statement to make sure that the fasta files have been generated\n",
      "\n",
      "! sqlite3 $CLdbDir'CLdb.sqlite' \"select distinct(fasta_file) from loci\""
     ],
     "language": "python",
     "metadata": {},
     "outputs": [],
     "prompt_number": 20
    },
    {
     "cell_type": "markdown",
     "metadata": {},
     "source": [
      "* __The next step is to load the array tables.__\n",
      "* __These are tables in 'CRISPRFinder format' that have CRISPR array info.__\n",
      "* __Let's take a look at one array file.__"
     ]
    },
    {
     "cell_type": "code",
     "collapsed": false,
     "input": [
      "# The array file is a list of array files (info gathered from CRISPRFinder)\n",
      "arrayFile = 'array/Ecoli_0157_H7_a1.txt'\n",
      "\n",
      "# loading array file\n",
      "tbl = []\n",
      "with open(CLdbDir + arrayFile, 'rb') as f:\n",
      "    reader = csv.reader(f, delimiter='\\t')\n",
      "    for row in reader:\n",
      "        # making sure all rows have 4 columns\n",
      "        for i in range(0, 3):\n",
      "            try:\n",
      "                row[i]\n",
      "            except IndexError:\n",
      "                row[i] = ''\n",
      "        # loading row into table\n",
      "        tbl.append(row[0:4])\n",
      "\n",
      "        \n",
      "# displaying as a table\n",
      "make_table(tbl)\n",
      "apply_theme('basic')        "
     ],
     "language": "python",
     "metadata": {},
     "outputs": [
      {
       "html": [
        "<table border=\"1\" cellpadding=\"3\" cellspacing=\"0\"  style=\"border:1px solid black;border-collapse:collapse;\"><tr><td  style=\"background-color:LightGray;\"><b>3665521</b></td><td  style=\"background-color:LightGray;\"><b>CGGTTTATCCCCGCTGATGCGGGGAACAC</b></td><td  style=\"background-color:LightGray;\"><b>AGCGGCACGCTGGATTGAACAAATCCCTGGGC&nbsp</b></td><td  style=\"background-color:LightGray;\"><b>3665581</b></td></tr><tr><td  style=\"background-color:Ivory;\">3665582</td><td  style=\"background-color:Ivory;\">CGGTTTATCCCCGCTGGCGCGGGGAACAC</td><td  style=\"background-color:Ivory;\">AAACCGAAACACACGATCAATCCGAATATGAG&nbsp</td><td  style=\"background-color:Ivory;\">3665642</td></tr><tr><td  style=\"background-color:AliceBlue;\">3665643</td><td  style=\"background-color:AliceBlue;\">CGGTTTATCCCCGCTGGCGCGGGGAACAC</td><td  style=\"background-color:AliceBlue;\">TTTGGTGACAGTTTTTGTCACTGTTTTGGTGA&nbsp</td><td  style=\"background-color:AliceBlue;\">3665703</td></tr><tr><td  style=\"background-color:Ivory;\">3665704</td><td  style=\"background-color:Ivory;\">CGGTTTATCCCCGCTGGCGCGGGGAACAC</td><td  style=\"background-color:Ivory;\"></td><td  style=\"background-color:Ivory;\">3665732</td></tr></table>"
       ],
       "metadata": {},
       "output_type": "pyout",
       "prompt_number": 55,
       "text": [
        "<ipy_table.IpyTable at 0x331e650>"
       ]
      }
     ],
     "prompt_number": 55
    },
    {
     "cell_type": "markdown",
     "metadata": {},
     "source": [
      "* __The array file consists of 4 columns:__\n",
      " * spacer start\n",
      " * spacer sequence\n",
      " * direct-repeat sequence\n",
      " * direct-repeat stop\n",
      "* all extra columns ignored"
     ]
    },
    {
     "cell_type": "code",
     "collapsed": false,
     "input": [
      "%%bash -s \"$CLdbDir\" \"$scriptDir\"\n",
      "# now, load the array tables in to CLdb\n",
      "\n",
      "cd $1\n",
      "\n",
      "$2'CLdb' loadArrays -- -da CLdb.sqlite "
     ],
     "language": "python",
     "metadata": {},
     "outputs": [
      {
       "output_type": "stream",
       "stream": "stderr",
       "text": [
        "...Number of entries added/updated to 'DRs' table: 85\n",
        "...Number of entries added/updated to 'spacers' table: 75\n"
       ]
      }
     ],
     "prompt_number": 59
    },
    {
     "cell_type": "code",
     "collapsed": false,
     "input": [
      "%%bash -s \"$CLdbDir\" \"$scriptDir\"\n",
      "\n",
      "# Next, loading the CAS genes\n",
      "## Technically, all coding seuqences in the region specified in the loci table (CAS_start, CAS_end) will be loaded.\n",
      "\n",
      "#--- skipping for now, CAS genes not identified in loci table ---#\n",
      "\n",
      "cd $1\n",
      "\n",
      "CLdb getGenesInLoci -- -da CLdb.sqlite |\\\n",
      "CLdb loadGenes -- -da CLdb.sqlite"
     ],
     "language": "python",
     "metadata": {},
     "outputs": [],
     "prompt_number": 159
    },
    {
     "cell_type": "markdown",
     "metadata": {},
     "source": [
      "### Setting array sense strand\n",
      "\n",
      "* __The strand that is transcribed needs to be defined in order to have the correct sequence for downstream analyses (e.g., blasting spacers and getting PAM regions)__\n",
      "* __The sense (reading) strand is defined by (order of precedence):__\n",
      " * The leader region (if defined; in this case, no).\n",
      " * Array_start,Array_end in the loci table\n",
      "   * The genome negative strand will be used if array_start > array_end"
     ]
    },
    {
     "cell_type": "code",
     "collapsed": false,
     "input": [
      "%%bash -s \"$CLdbDir\" \"$scriptDir\"\n",
      "\n",
      "cd $1\n",
      "\n",
      "$2'CLdb' setSenseStrand -- -da CLdb.sqlite"
     ],
     "language": "python",
     "metadata": {},
     "outputs": [
      {
       "output_type": "stream",
       "stream": "stderr",
       "text": [
        "Setting sense strand for 10 loci...\n",
        "...sense strand set based on array_start-array_end for:\t10 loci\n",
        "...sense strand set base on leader region for:\t0 loci\n"
       ]
      }
     ],
     "prompt_number": 60
    },
    {
     "cell_type": "markdown",
     "metadata": {},
     "source": [
      "## Spacer and DR clustering\n",
      "\n",
      "* __Clustering of spacer and/or DR sequences accomplishes:__\n",
      " * A method of comparing within and between CRISPRs\n",
      " * A reducing redundancy for spacer and DR blasting"
     ]
    },
    {
     "cell_type": "code",
     "collapsed": false,
     "input": [
      "%%bash -s \"$CLdbDir\" \"$scriptDir\"\n",
      "\n",
      "# clustering is currently performed with cd-hit-est\n",
      "## I'm looking into other methods such as usearch\n",
      "\n",
      "cd $1\n",
      "\n",
      "$2'CLdb' clusterArrayElements -- -da CLdb.sqlite -s -r"
     ],
     "language": "python",
     "metadata": {},
     "outputs": [
      {
       "output_type": "stream",
       "stream": "stderr",
       "text": [
        "Deleted all entries in 'spacer_clusters' table\n",
        "Deleted all entries in 'DR_clusters' table\n",
        "Getting array element sequences. Orienting sequences by array_sense_strand\n",
        "\n",
        "Clustering spacer sequences...\n",
        "...Clustering spacers at cutoff: 0.80\n",
        "\tNumber of clusters produced: 39\n",
        "...Clustering spacers at cutoff: 0.81\n",
        "\tNumber of clusters produced: 39\n",
        "...Clustering spacers at cutoff: 0.82\n",
        "\tNumber of clusters produced: 39\n",
        "...Clustering spacers at cutoff: 0.83\n",
        "\tNumber of clusters produced: 39\n",
        "...Clustering spacers at cutoff: 0.84\n",
        "\tNumber of clusters produced: 39\n",
        "...Clustering spacers at cutoff: 0.85\n",
        "\tNumber of clusters produced: 39\n",
        "...Clustering spacers at cutoff: 0.86\n",
        "\tNumber of clusters produced: 39\n",
        "...Clustering spacers at cutoff: 0.87\n",
        "\tNumber of clusters produced: 39\n",
        "...Clustering spacers at cutoff: 0.88\n",
        "\tNumber of clusters produced: 39\n",
        "...Clustering spacers at cutoff: 0.89\n",
        "\tNumber of clusters produced: 39\n",
        "...Clustering spacers at cutoff: 0.90\n",
        "\tNumber of clusters produced: 39\n",
        "...Clustering spacers at cutoff: 0.91\n",
        "\tNumber of clusters produced: 39\n",
        "...Clustering spacers at cutoff: 0.92\n",
        "\tNumber of clusters produced: 39\n",
        "...Clustering spacers at cutoff: 0.93\n",
        "\tNumber of clusters produced: 39\n",
        "...Clustering spacers at cutoff: 0.94\n",
        "\tNumber of clusters produced: 39\n",
        "...Clustering spacers at cutoff: 0.95\n",
        "\tNumber of clusters produced: 39\n",
        "...Clustering spacers at cutoff: 0.96\n",
        "\tNumber of clusters produced: 39\n",
        "...Clustering spacers at cutoff: 0.97\n",
        "\tNumber of clusters produced: 39\n",
        "...Clustering spacers at cutoff: 0.98\n",
        "\tNumber of clusters produced: 39\n",
        "...Clustering spacers at cutoff: 0.99\n",
        "\tNumber of clusters produced: 39\n",
        "...Clustering spacers at cutoff: 1.00\n",
        "\tNumber of clusters produced: 39\n",
        "\n",
        "Clustering DR sequences...\n",
        "...Clustering DRs at cutoff: 0.80\n",
        "\tNumber of clusters produced: 2\n",
        "...Clustering DRs at cutoff: 0.81\n",
        "\tNumber of clusters produced: 2\n",
        "...Clustering DRs at cutoff: 0.82\n",
        "\tNumber of clusters produced: 2\n",
        "...Clustering DRs at cutoff: 0.83\n",
        "\tNumber of clusters produced: 2\n",
        "...Clustering DRs at cutoff: 0.84\n",
        "\tNumber of clusters produced: 2\n",
        "...Clustering DRs at cutoff: 0.85\n",
        "\tNumber of clusters produced: 2\n",
        "...Clustering DRs at cutoff: 0.86\n",
        "\tNumber of clusters produced: 2\n",
        "...Clustering DRs at cutoff: 0.87\n",
        "\tNumber of clusters produced: 2\n",
        "...Clustering DRs at cutoff: 0.88\n",
        "\tNumber of clusters produced: 2\n",
        "...Clustering DRs at cutoff: 0.89\n",
        "\tNumber of clusters produced: 2\n",
        "...Clustering DRs at cutoff: 0.90\n",
        "\tNumber of clusters produced: 4\n",
        "...Clustering DRs at cutoff: 0.91\n",
        "\tNumber of clusters produced: 4\n",
        "...Clustering DRs at cutoff: 0.92\n",
        "\tNumber of clusters produced: 4\n",
        "...Clustering DRs at cutoff: 0.93\n",
        "\tNumber of clusters produced: 4\n",
        "...Clustering DRs at cutoff: 0.94\n",
        "\tNumber of clusters produced: 8\n",
        "...Clustering DRs at cutoff: 0.95\n",
        "\tNumber of clusters produced: 8\n",
        "...Clustering DRs at cutoff: 0.96\n",
        "\tNumber of clusters produced: 8\n",
        "...Clustering DRs at cutoff: 0.97\n",
        "\tNumber of clusters produced: 12\n",
        "...Clustering DRs at cutoff: 0.98\n",
        "\tNumber of clusters produced: 12\n",
        "...Clustering DRs at cutoff: 0.99\n",
        "\tNumber of clusters produced: 12\n",
        "...Clustering DRs at cutoff: 1.00\n",
        "\tNumber of clusters produced: 12\n",
        "\n",
        "Inserting/updating entries in CLdb...\n",
        "...1575 spacer cluster entries added/updated\n",
        "...1785 DR cluster entries added/updated\n",
        "\n",
        "Creating indices for cluster ids...\n"
       ]
      }
     ],
     "prompt_number": 61
    },
    {
     "cell_type": "markdown",
     "metadata": {},
     "source": [
      "# Next Steps\n",
      "\n",
      "### [arrayBlast](./arrayBlast.ipynb)\n",
      "\n",
      "Blast spacers (& DRs), get protospacers, PAM regions, mismatches to the protospacer & SEED sequence"
     ]
    },
    {
     "cell_type": "code",
     "collapsed": false,
     "input": [],
     "language": "python",
     "metadata": {},
     "outputs": [],
     "prompt_number": 106
    }
   ],
   "metadata": {}
  }
 ]
}