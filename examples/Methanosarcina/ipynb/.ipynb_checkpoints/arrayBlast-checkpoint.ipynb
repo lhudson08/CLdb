{
 "metadata": {
  "name": "",
  "signature": "sha256:0512860f01891b21c37101ce5585669c426307cf50383988f648ca06fbd1faa2"
 },
 "nbformat": 3,
 "nbformat_minor": 0,
 "worksheets": [
  {
   "cells": [
    {
     "cell_type": "markdown",
     "metadata": {},
     "source": [
      "# Description:\n",
      "\n",
      "* This notebook goes through the analysis of blasting spacers vs a database containing potential protospacers.\n",
      "* Any blast datbase can be used.\n",
      "* A script is provided to easily blast all of the genomes in CLdb."
     ]
    },
    {
     "cell_type": "markdown",
     "metadata": {},
     "source": [
      "### Before running this notebook:\n",
      "\n",
      "* __run the [Setup](./Setup.pynb) notebook__"
     ]
    },
    {
     "cell_type": "code",
     "collapsed": false,
     "input": [
      "import os,sys\n",
      "from IPython.display import FileLinks\n",
      "%load_ext rmagic\n",
      "%load_ext rpy2.ipython"
     ],
     "language": "python",
     "metadata": {},
     "outputs": [],
     "prompt_number": 1
    },
    {
     "cell_type": "code",
     "collapsed": false,
     "input": [
      "# This tutorial assumes that this IPython notebook is in the ./CLdb/examples/ecoli_ipynb/ directory.\n",
      "## these are the relative paths to everything we will be working with\n",
      "CLdbDir = '../CLdb/'\n",
      "scriptDir = '../../../'\n",
      "blastDir = os.path.join(CLdbDir, 'arrayBlast')"
     ],
     "language": "python",
     "metadata": {},
     "outputs": [],
     "prompt_number": 5
    },
    {
     "cell_type": "code",
     "collapsed": false,
     "input": [
      "# Checking on files in the CLdb directory\n",
      "FileLinks(CLdbDir)"
     ],
     "language": "python",
     "metadata": {},
     "outputs": [
      {
       "html": [
        "../CLdb/<br>\n",
        "&nbsp;&nbsp;<a href='../CLdb/CLdb.sqlite' target='_blank'>CLdb.sqlite</a><br>\n",
        "&nbsp;&nbsp;<a href='../CLdb/GIs.txt' target='_blank'>GIs.txt</a><br>\n",
        "../CLdb/array/<br>\n",
        "&nbsp;&nbsp;<a href='../CLdb/array/Methanosarcina_mazei_Go1-cli117.array' target='_blank'>Methanosarcina_mazei_Go1-cli117.array</a><br>\n",
        "&nbsp;&nbsp;<a href='../CLdb/array/Methanosarcina_barkeri_str_fusaro_1.array' target='_blank'>Methanosarcina_barkeri_str_fusaro_1.array</a><br>\n",
        "&nbsp;&nbsp;<a href='../CLdb/array/Methanosarcina_mazei_Go1-cli118.array' target='_blank'>Methanosarcina_mazei_Go1-cli118.array</a><br>\n",
        "&nbsp;&nbsp;<a href='../CLdb/array/Methanosarcina_barkeri_str_fusaro_3.array' target='_blank'>Methanosarcina_barkeri_str_fusaro_3.array</a><br>\n",
        "&nbsp;&nbsp;<a href='../CLdb/array/Methanosarcina_acetivorans_C2A_1.array' target='_blank'>Methanosarcina_acetivorans_C2A_1.array</a><br>\n",
        "&nbsp;&nbsp;<a href='../CLdb/array/Methanosarcina_barkeri_str_fusaro_2.array' target='_blank'>Methanosarcina_barkeri_str_fusaro_2.array</a><br>\n",
        "&nbsp;&nbsp;<a href='../CLdb/array/Methanosarcina_acetivorans_C2A_2.array' target='_blank'>Methanosarcina_acetivorans_C2A_2.array</a><br>\n",
        "../CLdb/clustering/<br>\n",
        "&nbsp;&nbsp;<a href='../CLdb/clustering/spacers.cdhit.clstr' target='_blank'>spacers.cdhit.clstr</a><br>\n",
        "&nbsp;&nbsp;<a href='../CLdb/clustering/spacers.cdhit' target='_blank'>spacers.cdhit</a><br>\n",
        "&nbsp;&nbsp;<a href='../CLdb/clustering/DRs.cdhit' target='_blank'>DRs.cdhit</a><br>\n",
        "&nbsp;&nbsp;<a href='../CLdb/clustering/DRs.fna' target='_blank'>DRs.fna</a><br>\n",
        "&nbsp;&nbsp;<a href='../CLdb/clustering/DRs.cdhit.clstr' target='_blank'>DRs.cdhit.clstr</a><br>\n",
        "&nbsp;&nbsp;<a href='../CLdb/clustering/spacers.fna' target='_blank'>spacers.fna</a><br>\n",
        "../CLdb/fasta/<br>\n",
        "&nbsp;&nbsp;<a href='../CLdb/fasta/Methanosarcina_acetivorans_C2A.fasta' target='_blank'>Methanosarcina_acetivorans_C2A.fasta</a><br>\n",
        "&nbsp;&nbsp;<a href='../CLdb/fasta/Methanosarcina_barkeri_str_fusaro.fasta' target='_blank'>Methanosarcina_barkeri_str_fusaro.fasta</a><br>\n",
        "&nbsp;&nbsp;<a href='../CLdb/fasta/Methanosarcina_mazei_Go1.fasta' target='_blank'>Methanosarcina_mazei_Go1.fasta</a><br>\n",
        "../CLdb/genbank/<br>\n",
        "&nbsp;&nbsp;<a href='../CLdb/genbank/Methanosarcina_acetivorans_C2A.gbk' target='_blank'>Methanosarcina_acetivorans_C2A.gbk</a><br>\n",
        "&nbsp;&nbsp;<a href='../CLdb/genbank/Methanosarcina_mazei_Go1.gbk' target='_blank'>Methanosarcina_mazei_Go1.gbk</a><br>\n",
        "&nbsp;&nbsp;<a href='../CLdb/genbank/Methanosarcina_barkeri_str_fusaro.gbk' target='_blank'>Methanosarcina_barkeri_str_fusaro.gbk</a><br>\n",
        "../CLdb/loci/<br>\n",
        "&nbsp;&nbsp;<a href='../CLdb/loci/loci.txt' target='_blank'>loci.txt</a><br>"
       ],
       "metadata": {},
       "output_type": "pyout",
       "prompt_number": 6,
       "text": [
        "../CLdb/\n",
        "  CLdb.sqlite\n",
        "  GIs.txt\n",
        "../CLdb/array/\n",
        "  Methanosarcina_mazei_Go1-cli117.array\n",
        "  Methanosarcina_barkeri_str_fusaro_1.array\n",
        "  Methanosarcina_mazei_Go1-cli118.array\n",
        "  Methanosarcina_barkeri_str_fusaro_3.array\n",
        "  Methanosarcina_acetivorans_C2A_1.array\n",
        "  Methanosarcina_barkeri_str_fusaro_2.array\n",
        "  Methanosarcina_acetivorans_C2A_2.array\n",
        "../CLdb/clustering/\n",
        "  spacers.cdhit.clstr\n",
        "  spacers.cdhit\n",
        "  DRs.cdhit\n",
        "  DRs.fna\n",
        "  DRs.cdhit.clstr\n",
        "  spacers.fna\n",
        "../CLdb/fasta/\n",
        "  Methanosarcina_acetivorans_C2A.fasta\n",
        "  Methanosarcina_barkeri_str_fusaro.fasta\n",
        "  Methanosarcina_mazei_Go1.fasta\n",
        "../CLdb/genbank/\n",
        "  Methanosarcina_acetivorans_C2A.gbk\n",
        "  Methanosarcina_mazei_Go1.gbk\n",
        "  Methanosarcina_barkeri_str_fusaro.gbk\n",
        "../CLdb/loci/\n",
        "  loci.txt"
       ]
      }
     ],
     "prompt_number": 6
    },
    {
     "cell_type": "code",
     "collapsed": false,
     "input": [
      "# making a new directory for blasting spacers and DRs\n",
      "if os.path.isdir(blastDir):\n",
      "    os.rmdir(blastDir)\n",
      "os.mkdir(blastDir)"
     ],
     "language": "python",
     "metadata": {},
     "outputs": [],
     "prompt_number": 9
    },
    {
     "cell_type": "markdown",
     "metadata": {},
     "source": [
      "### Selectin spacer sequences"
     ]
    },
    {
     "cell_type": "code",
     "collapsed": false,
     "input": [
      "%%bash -s \"$CLdbDir\" \"$scriptDir\"\n",
      "# Getting 'unique' spacer sequences (OTUs at 100% sequence identity)\n",
      "\n",
      "cd $1\n",
      "\n",
      "## selecting spacer sequences and writing as a fasta file\n",
      "$2'CLdb' array2fasta -- -da CLdb.sqlite -clust -cut 1 > ./arrayBlast/spacers_cut1.fna\n",
      "\n",
      "## getting number of spacer sequences\n",
      "printf 'Number_unique_spacers:\\t'; grep -c \">\" ./arrayBlast/spacers_cut1.fna\n",
      "\n",
      "## looking at spacers\n",
      "head -n 6 ./arrayBlast/spacers_cut1.fna"
     ],
     "language": "python",
     "metadata": {},
     "outputs": [
      {
       "output_type": "stream",
       "stream": "stdout",
       "text": [
        "Number_unique_spacers:\t271\n",
        ">NA|spacer|NA|220|1\n",
        "TAAACACCTTAACATATTTATTTTTATTAGTTTTT\n",
        ">NA|spacer|NA|148|1\n",
        "TCGGCCATTTTATTTTATTAGGATTCCCCCAATCTT\n",
        ">NA|spacer|NA|261|1\n",
        "TCCATTTTTAAATAAACTGGAGGATCATACATTA\n"
       ]
      }
     ],
     "prompt_number": 10
    },
    {
     "cell_type": "markdown",
     "metadata": {},
     "source": [
      "### Blast\n",
      "\n",
      "* The array blast commands are sub-sub commands.\n",
      "* __SO__, that's why when you type: '`CLdb arrayBlast -- h`', you get then following:"
     ]
    },
    {
     "cell_type": "code",
     "collapsed": false,
     "input": [
      "%%bash -s \"$CLdbDir\" \"$scriptDir\"\n",
      "\n",
      "cd $1\n",
      "\n",
      "$2'CLdb' arrayBlast -- -h\n",
      "\n",
      "# you need to use sub-sub commands!"
     ],
     "language": "python",
     "metadata": {},
     "outputs": [
      {
       "output_type": "stream",
       "stream": "stderr",
       "text": [
        "Usage:\n",
        "    arrayBlast [options] subcommand -- [subcommand_options]\n",
        "\n",
        "  Options:\n",
        "    --list\n",
        "        List all subcommands.\n",
        "\n",
        "    --perldoc\n",
        "        Get perldoc of subcommand.\n",
        "\n",
        "    -v Verbose output\n",
        "    -h This help message\n",
        "\n",
        "  For more information:\n",
        "    CLdb_perldoc arrayBlast\n",
        "\n"
       ]
      }
     ],
     "prompt_number": 11
    },
    {
     "cell_type": "code",
     "collapsed": false,
     "input": [
      "%%bash -s \"$CLdbDir\" \"$scriptDir\"\n",
      "# list arrayBlast subcommands\n",
      "\n",
      "cd $1\n",
      "\n",
      "$2'CLdb' arrayBlast -- --list"
     ],
     "language": "python",
     "metadata": {},
     "outputs": [
      {
       "output_type": "stream",
       "stream": "stdout",
       "text": [
        "add_crRNA\n",
        "add_proto\n",
        "align_proto\n",
        "filter_arrayHits\n",
        "get_PAM\n",
        "get_SEEDstats\n",
        "get_align\n",
        "get_proto\n",
        "run\n",
        "srl2csv\n",
        "srl2json\n",
        "xml2json\n",
        "xml2srl\n"
       ]
      }
     ],
     "prompt_number": 12
    },
    {
     "cell_type": "markdown",
     "metadata": {},
     "source": [
      "#### Sub-subcommand help:\n",
      "\n",
      "`CLdb arrayBlast -- run -- -h`"
     ]
    },
    {
     "cell_type": "code",
     "collapsed": false,
     "input": [
      "%%bash -s \"$CLdbDir\" \"$scriptDir\"\n",
      "\n",
      "# spacer blast\n",
      "## Really just a thin wrapper around blastn that will blast the spacers against all genomes in CLdb\n",
      "### If you want to blast some else, just run the blast yourself (use 'perldoc CLdb_arrayBlast.pl' for more info)\n",
      "\n",
      "cd $1\n",
      "\n",
      "$2'CLdb' arrayBlast -- run -- -da CLdb.sqlite -query ./arrayBlast/spacers_cut1.fna > ./arrayBlast/spacers_cut1_blastn.xml"
     ],
     "language": "python",
     "metadata": {},
     "outputs": [
      {
       "output_type": "stream",
       "stream": "stderr",
       "text": [
        "Making BLAST databases...\n",
        "...making blast databases in /home/nyoungb2/perl/projects/CLdb/examples/Methanosarcina/CLdb//arrayBlast/blast_db/\n",
        "makeblastdb -dbtype nucl -parse_seqids -in /home/nyoungb2/perl/projects/CLdb/examples/Methanosarcina/CLdb//arrayBlast/blast_db//Methanosarcina_acetivorans_C2A.fasta\n",
        "makeblastdb -dbtype nucl -parse_seqids -in /home/nyoungb2/perl/projects/CLdb/examples/Methanosarcina/CLdb//arrayBlast/blast_db//Methanosarcina_barkeri_str_fusaro.fasta\n",
        "makeblastdb -dbtype nucl -parse_seqids -in /home/nyoungb2/perl/projects/CLdb/examples/Methanosarcina/CLdb//arrayBlast/blast_db//Methanosarcina_mazei_Go1.fasta\n",
        "\n",
        "Blasting sequences...\n",
        "Number of blast hits to Methanosarcina_acetivorans_C2A.fasta:\t7105\n",
        "Number of blast hits to Methanosarcina_barkeri_str_fusaro.fasta:\t5509\n",
        "Number of blast hits to Methanosarcina_mazei_Go1.fasta:\t8830\n"
       ]
      }
     ],
     "prompt_number": 13
    },
    {
     "cell_type": "code",
     "collapsed": false,
     "input": [
      "%%bash -s \"$CLdbDir\" \"$scriptDir\"\n",
      "\n",
      "# converting .xml to .srl\n",
      "## This retains all of the info in the xml, but produces a smaller file that is faster to load and write.\n",
      "## For large blast runs (xml files > 100 Mb), this will take a little while\n",
      "\n",
      "cd $1\n",
      "\n",
      "$2'CLdb' arrayBlast -- xml2srl -- ./arrayBlast/spacers_cut1_blastn.xml > ./arrayBlast/spacers_cut1_blastn.srl\n",
      "\n",
      "\n",
      "# checking output file\n",
      "ls -thlc ./arrayBlast/spacers_cut1_blastn.srl"
     ],
     "language": "python",
     "metadata": {},
     "outputs": [
      {
       "output_type": "stream",
       "stream": "stdout",
       "text": [
        "-rw-rw-r-- 1 nyoungb2 nyoungb2 213K Nov 16 19:23 ./arrayBlast/spacers_cut1_blastn.srl\n"
       ]
      }
     ],
     "prompt_number": 14
    },
    {
     "cell_type": "markdown",
     "metadata": {},
     "source": [
      "### Blasting DRs against the same queries. \n",
      "\n",
      "* This is needed to filter out spacer blast hits to CRISPR arrays"
     ]
    },
    {
     "cell_type": "code",
     "collapsed": false,
     "input": [
      "%%bash -s \"$CLdbDir\" \"$scriptDir\"\n",
      "\n",
      "# selecting DRs, so we can blast them.\n",
      "## This is needed blast filter out spacers that hit CRISPR arrays\n",
      "\n",
      "cd $1\n",
      "\n",
      "$2'CLdb' array2fasta -- -da CLdb.sqlite -clust -cut 1 -r > ./arrayBlast/DRs_cut1.fna\n",
      "\n",
      "\n",
      "# checking output file\n",
      "ls -thlc ./arrayBlast/DRs_cut1.fna"
     ],
     "language": "python",
     "metadata": {},
     "outputs": [
      {
       "output_type": "stream",
       "stream": "stdout",
       "text": [
        "-rw-rw-r-- 1 nyoungb2 nyoungb2 1.2K Nov 16 19:23 ./arrayBlast/DRs_cut1.fna\n"
       ]
      }
     ],
     "prompt_number": 15
    },
    {
     "cell_type": "code",
     "collapsed": false,
     "input": [
      "%%bash -s \"$CLdbDir\" \"$scriptDir\"\n",
      "\n",
      "# DR blast, just like spacer blast\n",
      "\n",
      "cd $1\n",
      "\n",
      "$2'CLdb' arrayBlast -- run -- -da CLdb.sqlite -query ./arrayBlast/DRs_cut1.fna > ./arrayBlast/DRs_cut1_blastn.xml\n",
      "\n",
      "\n",
      "# checking output file\n",
      "ls -thlc ./arrayBlast/DRs_cut1_blastn.xml"
     ],
     "language": "python",
     "metadata": {},
     "outputs": [
      {
       "output_type": "stream",
       "stream": "stdout",
       "text": [
        "-rw-rw-r-- 1 nyoungb2 nyoungb2 1.4M Nov 16 19:23 ./arrayBlast/DRs_cut1_blastn.xml\n"
       ]
      },
      {
       "output_type": "stream",
       "stream": "stderr",
       "text": [
        "Making BLAST databases...\n",
        "...making blast databases in /home/nyoungb2/perl/projects/CLdb/examples/Methanosarcina/CLdb//arrayBlast/blast_db/\n",
        "makeblastdb -dbtype nucl -parse_seqids -in /home/nyoungb2/perl/projects/CLdb/examples/Methanosarcina/CLdb//arrayBlast/blast_db//Methanosarcina_acetivorans_C2A.fasta\n",
        "makeblastdb -dbtype nucl -parse_seqids -in /home/nyoungb2/perl/projects/CLdb/examples/Methanosarcina/CLdb//arrayBlast/blast_db//Methanosarcina_barkeri_str_fusaro.fasta\n",
        "makeblastdb -dbtype nucl -parse_seqids -in /home/nyoungb2/perl/projects/CLdb/examples/Methanosarcina/CLdb//arrayBlast/blast_db//Methanosarcina_mazei_Go1.fasta\n",
        "\n",
        "Blasting sequences...\n",
        "Number of blast hits to Methanosarcina_acetivorans_C2A.fasta:\t11206\n",
        "Number of blast hits to Methanosarcina_barkeri_str_fusaro.fasta:\t484\n",
        "Number of blast hits to Methanosarcina_mazei_Go1.fasta:\t23744\n"
       ]
      }
     ],
     "prompt_number": 16
    },
    {
     "cell_type": "code",
     "collapsed": false,
     "input": [
      "%%bash -s \"$CLdbDir\" \"$scriptDir\"\n",
      "\n",
      "# converting .xml to .srl\n",
      "## This retains all of the info in the xml, but produces a smaller file that is faster to load and write.\n",
      "## For large blast runs (xml files > 100 Mb), this will take a little while\n",
      "\n",
      "cd $1\n",
      "\n",
      "$2'CLdb' arrayBlast -- xml2srl -- ./arrayBlast/DRs_cut1_blastn.xml > ./arrayBlast/DRs_cut1_blastn.srl\n",
      "\n",
      "\n",
      "# checking output file\n",
      "ls -thlc ./arrayBlast/DRs_cut1_blastn.srl"
     ],
     "language": "python",
     "metadata": {},
     "outputs": [
      {
       "output_type": "stream",
       "stream": "stdout",
       "text": [
        "-rw-rw-r-- 1 nyoungb2 nyoungb2 457K Nov 16 19:23 ./arrayBlast/DRs_cut1_blastn.srl\n"
       ]
      }
     ],
     "prompt_number": 17
    },
    {
     "cell_type": "markdown",
     "metadata": {},
     "source": [
      "#### Filtering out spacer hits to arrays\n",
      "\n",
      "* Based on DR hits falling adjacent to spacer hits"
     ]
    },
    {
     "cell_type": "code",
     "collapsed": false,
     "input": [
      "%%bash -s \"$CLdbDir\" \"$scriptDir\"\n",
      "\n",
      "# filtering spacer hits to arrays\n",
      "## This is based on the premise that DR hits adjacent to spacer hits signify that the spacer is hitting a CRISPR array\n",
      "\n",
      "cd $1\n",
      "\n",
      "$2'CLdb' arrayBlast -- filter_arrayHits -- ./arrayBlast/spacers_cut1_blastn.srl \\\n",
      "    ./arrayBlast/DRs_cut1_blastn.srl > ./arrayBlast/spacers_cut1_blastn_filt.srl\n",
      "    \n",
      "    \n",
      "# checking output file\n",
      "ls -thlc ./arrayBlast/spacers_cut1_blastn_filt.srl"
     ],
     "language": "python",
     "metadata": {},
     "outputs": [
      {
       "output_type": "stream",
       "stream": "stdout",
       "text": [
        "-rw-rw-r-- 1 nyoungb2 nyoungb2 165K Nov 16 19:24 ./arrayBlast/spacers_cut1_blastn_filt.srl\n"
       ]
      },
      {
       "output_type": "stream",
       "stream": "stderr",
       "text": [
        "### Summary for filtering of 'bad' DR hits ###\n",
        "Total DR hits: 1778\n",
        "DR hits with E-values < 10: 0\n",
        "DR hits with hit lengths (fraction of total) < 0.66: 0\n",
        "DR hits used for filtering: 1778\n",
        "### DR filtering of spacer blast hits ###\n",
        "Total spacer blast hits: 192\n",
        "Spacer blast hits hitting an array (filtered out): 182\n",
        "\tDeleting the blast hits to arrays\n",
        "Spacer blast hits hitting a protospacer: 10\n"
       ]
      }
     ],
     "prompt_number": 18
    },
    {
     "cell_type": "markdown",
     "metadata": {},
     "source": [
      "#### Double check: filtering out hits that fall into CRISPR arrays identified in CLdb"
     ]
    },
    {
     "cell_type": "code",
     "collapsed": false,
     "input": [
      "\n",
      "\n",
      "\n",
      "\n",
      "\n",
      "\n",
      "\n"
     ],
     "language": "python",
     "metadata": {},
     "outputs": []
    },
    {
     "cell_type": "markdown",
     "metadata": {},
     "source": [
      "## OK. It's looks like we have some hits to some putative protospacers!\n",
      "\n",
      "__Let's look more into these protospacers...__"
     ]
    },
    {
     "cell_type": "markdown",
     "metadata": {},
     "source": [
      "### File conversion:\n",
      "\n",
      "* __FYI__, the .srl files can be converted to json or csv format. For example:"
     ]
    },
    {
     "cell_type": "code",
     "collapsed": false,
     "input": [
      "%%bash -s \"$CLdbDir\" \"$scriptDir\"\n",
      "\n",
      "# The srl file can be converted to a json or csv file if you would like to use tools external to CLdb.\n",
      "\n",
      "cd $1\n",
      "\n",
      "$2'CLdb' arrayBlast -- srl2json -- < ./arrayBlast/spacers_cut1_blastn_filt.srl > ./arrayBlast/spacers_cut1_blastn_filt.json\n",
      "\n",
      "\n",
      "## viewing some of the json file\n",
      "cat ./arrayBlast/spacers_cut1_blastn_filt.json | python -mjson.tool 2>/dev/null | head -n 40"
     ],
     "language": "python",
     "metadata": {},
     "outputs": [
      {
       "output_type": "stream",
       "stream": "stdout",
       "text": [
        "{\n",
        "    \"0\": {\n",
        "        \"BlastOutput_db\": \"/home/nyoungb2/perl/projects/CLdb/examples/Methanosarcina/CLdb//arrayBlast/blast_db//Methanosarcina_acetivorans_C2A.fasta\", \n",
        "        \"BlastOutput_iterations\": {\n",
        "            \"Iteration\": [\n",
        "                {\n",
        "                    \"Iteration_hits\": {\n",
        "                        \"Hit\": [\n",
        "                            {\n",
        "                                \"Hit_accession\": \"AE010299\", \n",
        "                                \"Hit_def\": \"No definition line\", \n",
        "                                \"Hit_hsps\": {\n",
        "                                    \"Hsp\": {\n",
        "                                        \"11v0IWrcXoGPm\": {\n",
        "                                            \"CLdb_array-hit\": 0, \n",
        "                                            \"Hsp_align-len\": \"26\", \n",
        "                                            \"Hsp_bit-score\": \"44.1047\", \n",
        "                                            \"Hsp_evalue\": \"6.68917e-06\", \n",
        "                                            \"Hsp_gaps\": \"0\", \n",
        "                                            \"Hsp_hit-frame\": \"-1\", \n",
        "                                            \"Hsp_hit-from\": \"4425244\", \n",
        "                                            \"Hsp_hit-to\": \"4425219\", \n",
        "                                            \"Hsp_hseq\": \"TAACATATTTGTTTTTATTAGTTTTT\", \n",
        "                                            \"Hsp_identity\": \"25\", \n",
        "                                            \"Hsp_midline\": \"|||||||||| |||||||||||||||\", \n",
        "                                            \"Hsp_num\": \"1\", \n",
        "                                            \"Hsp_positive\": \"25\", \n",
        "                                            \"Hsp_qseq\": \"TAACATATTTATTTTTATTAGTTTTT\", \n",
        "                                            \"Hsp_query-frame\": \"1\", \n",
        "                                            \"Hsp_query-from\": \"10\", \n",
        "                                            \"Hsp_query-to\": \"35\", \n",
        "                                            \"Hsp_score\": \"22\"\n",
        "                                        }\n",
        "                                    }\n",
        "                                }, \n",
        "                                \"Hit_id\": \"AE010299\", \n",
        "                                \"Hit_len\": \"5751492\", \n",
        "                                \"Hit_num\": \"1\"\n",
        "                            }\n",
        "                        ]\n"
       ]
      }
     ],
     "prompt_number": 19
    },
    {
     "cell_type": "code",
     "collapsed": false,
     "input": [
      "# status updated on while files are in the arrayBlast directory\n",
      "!ls -thlc $CLdbDir'arrayBlast' | sort -k 9"
     ],
     "language": "python",
     "metadata": {},
     "outputs": [
      {
       "output_type": "stream",
       "stream": "stdout",
       "text": [
        "total 3.4M\r\n",
        "drwxrwxr-x 2 nyoungb2 nyoungb2 4.0K Nov 16 19:23 blast_db\r\n",
        "-rw-rw-r-- 1 nyoungb2 nyoungb2 457K Nov 16 19:23 DRs_cut1_blastn.srl\r\n",
        "-rw-rw-r-- 1 nyoungb2 nyoungb2 1.4M Nov 16 19:23 DRs_cut1_blastn.xml\r\n",
        "-rw-rw-r-- 1 nyoungb2 nyoungb2 1.2K Nov 16 19:23 DRs_cut1.fna\r\n",
        "-rw-rw-r-- 1 nyoungb2 nyoungb2 387K Nov 16 19:25 spacers_cut1_blastn_filt.json\r\n",
        "-rw-rw-r-- 1 nyoungb2 nyoungb2 165K Nov 16 19:24 spacers_cut1_blastn_filt.srl\r\n",
        "-rw-rw-r-- 1 nyoungb2 nyoungb2 213K Nov 16 19:23 spacers_cut1_blastn.srl\r\n",
        "-rw-rw-r-- 1 nyoungb2 nyoungb2 804K Nov 16 19:23 spacers_cut1_blastn.xml\r\n",
        "-rw-rw-r-- 1 nyoungb2 nyoungb2  16K Nov 16 19:22 spacers_cut1.fna\r\n"
       ]
      }
     ],
     "prompt_number": 20
    },
    {
     "cell_type": "code",
     "collapsed": false,
     "input": [
      "import os\n",
      "print os.path.abspath(CLdbDir)"
     ],
     "language": "python",
     "metadata": {},
     "outputs": [
      {
       "output_type": "stream",
       "stream": "stdout",
       "text": [
        "/home/nyoungb2/perl/projects/CLdb/examples/Methanosarcina/CLdb\n"
       ]
      }
     ],
     "prompt_number": 21
    },
    {
     "cell_type": "code",
     "collapsed": false,
     "input": [
      "%%bash -s \"$CLdbDir\" \"$scriptDir\"\n",
      "\n",
      "# adding crRNA region to .srl (actually the DNA template, refering to it as 'crDNA')\n",
      "## How much of the adjacent DR sequences are included in the crDNA is determined by the user (default: 10bp on either side)\n",
      "\n",
      "cd $1\n",
      "\n",
      "$2'CLdb' arrayBlast -- add_crRNA -- -da CLdb.sqlite \\\n",
      "    < ./arrayBlast/spacers_cut1_blastn_filt.srl \\\n",
      "    > ./arrayBlast/spacers_cut1_blastn_filt_crDNA.srl\n",
      "   \n",
      "\n",
      "## checking output\n",
      "ls -thlc ./arrayBlast/spacers_cut1_blastn_filt_crDNA.srl"
     ],
     "language": "python",
     "metadata": {},
     "outputs": [
      {
       "output_type": "stream",
       "stream": "stdout",
       "text": [
        "-rw-rw-r-- 1 nyoungb2 nyoungb2 222K Nov 16 19:25 ./arrayBlast/spacers_cut1_blastn_filt_crDNA.srl\n"
       ]
      },
      {
       "output_type": "stream",
       "stream": "stderr",
       "text": [
        "Decoding .srl file...\n",
        "Extracting all queries with blast hits from blast hit file...\n",
        "...Number of total unique query IDs:\t180\n",
        "Getting info from CLdb on each blast query spacer...\n",
        "Getting spacer regions from each genome...\n",
        " Processing genome: Methanosarcina_mazei_Go1.fasta...\n",
        " Processing genome: Methanosarcina_acetivorans_C2A.fasta...\n"
       ]
      }
     ],
     "prompt_number": 22
    },
    {
     "cell_type": "code",
     "collapsed": false,
     "input": [
      "%%bash -s \"$CLdbDir\" \"$scriptDir\"\n",
      "# adding protospacer region to .srl\n",
      "\n",
      "cd $1\n",
      "\n",
      "\n",
      "$2'CLdb' arrayBlast -- add_proto -- -workers 24 \\\n",
      "    < ./arrayBlast/spacers_cut1_blastn_filt_crDNA.srl \\\n",
      "    > ./arrayBlast/spacers_cut1_blastn_filt_crDNA_proto.srl   \n",
      "    \n",
      "## checking output\n",
      "ls -thlc ./arrayBlast/spacers_cut1_blastn_filt_crDNA_proto.srl   "
     ],
     "language": "python",
     "metadata": {},
     "outputs": [
      {
       "output_type": "stream",
       "stream": "stdout",
       "text": [
        "-rw-rw-r-- 1 nyoungb2 nyoungb2 224K Nov 16 19:26 ./arrayBlast/spacers_cut1_blastn_filt_crDNA_proto.srl\n"
       ]
      },
      {
       "output_type": "stream",
       "stream": "stderr",
       "text": [
        "Retrieving proto info from blast db: 'Methanosarcina_barkeri_str_fusaro.fasta'\n",
        "Retrieving proto info from blast db: 'Methanosarcina_acetivorans_C2A.fasta'\n",
        "Retrieving proto info from blast db: 'Methanosarcina_mazei_Go1.fasta'\n",
        "Retrieving proto sequences from blast db: 'Methanosarcina_acetivorans_C2A.fasta'\n",
        "Retrieving proto sequences from blast db: 'Methanosarcina_barkeri_str_fusaro.fasta'\n"
       ]
      }
     ],
     "prompt_number": 24
    },
    {
     "cell_type": "code",
     "collapsed": false,
     "input": [
      "%%bash -s \"$CLdbDir\" \"$scriptDir\"\n",
      "# aligning crRNA and protospacer\n",
      "## alignment added to the .srl file.\n",
      "## These are individual alignments between the spacer and protospacer (using clustalw).\n",
      "\n",
      "cd $1\n",
      "\n",
      "$2'CLdb' arrayBlast -- align_proto -- \\\n",
      "    < ./arrayBlast/spacers_cut1_blastn_filt_crDNA_proto.srl \\\n",
      "    > ./arrayBlast/spacers_cut1_blastn_filt_crDNA_proto_aln.srl\n",
      "    \n",
      "## checking output\n",
      "ls -thlc ./arrayBlast/spacers_cut1_blastn_filt_crDNA_proto_aln.srl"
     ],
     "language": "python",
     "metadata": {},
     "outputs": [
      {
       "output_type": "stream",
       "stream": "stdout",
       "text": [
        "-rw-rw-r-- 1 nyoungb2 nyoungb2 225K Nov 16 19:26 ./arrayBlast/spacers_cut1_blastn_filt_crDNA_proto_aln.srl\n"
       ]
      },
      {
       "output_type": "stream",
       "stream": "stderr",
       "text": [
        "Aligning protospacers from blast db: 'Methanosarcina_barkeri_str_fusaro.fasta'\n",
        "Aligning protospacers from blast db: 'Methanosarcina_acetivorans_C2A.fasta'\n",
        "Aligning protospacers from blast db: 'Methanosarcina_mazei_Go1.fasta'\n"
       ]
      }
     ],
     "prompt_number": 25
    },
    {
     "cell_type": "code",
     "collapsed": false,
     "input": [
      "%%bash -s \"$CLdbDir\" \"$scriptDir\"\n",
      "# getting alignment of protospacer and crDNA and writing as a fasta\n",
      "## You can parse out the alignments you want (parse by subtype, taxon_name, etc.)\n",
      "##   OR you can parse them after writing (add subtype, taxon_name, e-value, etc. to the sequence name)\n",
      "## The alignments will be oriented to the crDNA (5'-3' for the crRNA)\n",
      "\n",
      "cd $1\n",
      "\n",
      "$2'CLdb' arrayBlast -- get_align -- \\\n",
      "    -da CLdb.sqlite -outfmt taxon_name,subtype,evalue \\\n",
      "    < ./arrayBlast/spacers_cut1_blastn_filt_crDNA_proto_aln.srl \\\n",
      "    > ./arrayBlast/all_crDNA-proto_aln.fna\n",
      "    \n",
      "\n",
      "## checking output\n",
      "ls -thlc ./arrayBlast/all_crDNA-proto_aln.fna"
     ],
     "language": "python",
     "metadata": {},
     "outputs": [
      {
       "output_type": "stream",
       "stream": "stdout",
       "text": [
        "-rw-rw-r-- 1 nyoungb2 nyoungb2 2.6K Nov 16 19:26 ./arrayBlast/all_crDNA-proto_aln.fna\n"
       ]
      },
      {
       "output_type": "stream",
       "stream": "stderr",
       "text": [
        "Decoding .srl file...\n",
        "Getting metadata info from CLdb...\n",
        "Getting alignments...\n"
       ]
      }
     ],
     "prompt_number": 26
    },
    {
     "cell_type": "code",
     "collapsed": false,
     "input": [
      "# let's take a look at the sequences \n",
      "!head -n 20 $CLdbDir'/arrayBlast/all_crDNA-proto_aln.fna'"
     ],
     "language": "python",
     "metadata": {},
     "outputs": [
      {
       "output_type": "stream",
       "stream": "stdout",
       "text": [
        ">crDNA|114|49|114OivzC8ENjG|Methanosarcina_mazei_Go1|III-C|7.80046e-07\r\n",
        "..gctcacgaatGCGAGAACCAAGCTATTGCACTGGAAACTCTGAATGGtttcaatcct\r\n",
        ">proto|114|49|114OivzC8ENjG|Methanosarcina_mazei_Go1|III-C|7.80046e-07\r\n",
        "aaactcataa..GCGAAAACCAAGCAATAGCTCTGGAAACTCTGAAT.Gttaaaggaat\r\n",
        ">crDNA|114|49|Zs5YdaIK6tni|Methanosarcina_mazei_Go1|III-C|4.99602e-08\r\n",
        "..gctcacgaatGCGAGAACCAAGCTATTGCACTGGAAACTCTGAATGGtttcaatcct\r\n",
        ">proto|114|49|Zs5YdaIK6tni|Methanosarcina_mazei_Go1|III-C|4.99602e-08\r\n",
        "aaactcataa..GCGAAAACCAAGCTATAGCTCTGGAAACTCTGAAC.Gttaaaggaat\r\n",
        ">crDNA|114|49|10G6d5wZUUSZa|Methanosarcina_mazei_Go1|III-C|7.80046e-07\r\n",
        "..gctcacgaatGCGAGAACCAAGCTATTGCACTGGAAACTCTGAATGGtttcaatcct\r\n",
        ">proto|114|49|10G6d5wZUUSZa|Methanosarcina_mazei_Go1|III-C|7.80046e-07\r\n",
        "aaactcataa..GCGAAAACCAAGCAATAGCTCTGGAAACTCTGAAT.Gttaaaggaat\r\n",
        ">crDNA|114|78|11v0IWrcXoGPm|Methanosarcina_mazei_Go1|III-C|6.68917e-06\r\n",
        ".gctctcgaatAAAAACTAATAAAAATAAATATGTTAAGGTGTTTAGtttcaatcct\r\n",
        ">proto|114|78|11v0IWrcXoGPm|Methanosarcina_mazei_Go1|III-C|6.68917e-06\r\n",
        "agctgat.tgtAAAAACTAATAAAAACAAATATGTT.AGCTTTGTACtctggctcat\r\n",
        ">crDNA|163|3|174fCODmYp60U|Methanosarcina_acetivorans_C2A|I-G|5.03715e-13\r\n",
        "gggattgaaaCGGTTTGCATGAAGCCATTCGCTACAGCTCCTGCAACCGgttaaaatca\r\n",
        ">proto|163|3|174fCODmYp60U|Methanosarcina_acetivorans_C2A|I-G|5.03715e-13\r\n",
        ".gacgagaaagGGTTTGCATGAAGCCATTCACTACAGCTCCTGCAACCGatgaaaaaac\r\n"
       ]
      }
     ],
     "prompt_number": 27
    },
    {
     "cell_type": "markdown",
     "metadata": {},
     "source": [
      "__The alignment is really just for each crDNA-protospacer pair (every 4 lines). For example:__\n",
      "\n",
      "~~~\n",
      ">crDNA\n",
      "ATAGACA\n",
      ">proto\n",
      "ATAGACA\n",
      "~~~\n",
      "\n",
      "__If you wanted each pair individually, you could use something like the following:__"
     ]
    },
    {
     "cell_type": "code",
     "collapsed": false,
     "input": [
      "# WARNING: this will produce a lot of files!\n",
      "!split -l 4 -d -a 4 $CLdbDir'arrayBlast/all_crDNA-proto_aln.fna' $CLdbDir'arrayBlast/crDNA-proto_aln_split'\n",
      "\n",
      "## Let look at one of them\n",
      "!find $CLdbDir'arrayBlast/' -name 'crDNA-proto_aln_split[0-9]*' | head -n 1 | xargs -I % cat %"
     ],
     "language": "python",
     "metadata": {},
     "outputs": [
      {
       "output_type": "stream",
       "stream": "stdout",
       "text": [
        ">crDNA|114|49|1frtbQ4U3THxC|Methanosarcina_mazei_Go1|III-C|0.00010444\r\n",
        "gctcacgaatGCGAGAACCAAGCTATTGCACTGGAAACTCTGAATGGtttcaatcct\r\n",
        ">proto|114|49|1frtbQ4U3THxC|Methanosarcina_mazei_Go1|III-C|0.00010444\r\n",
        "agacttgttaGCGAAAACCAAGCTGTAGCTCTGGAAACTCTGAATGttaaaggtat.\r\n"
       ]
      }
     ],
     "prompt_number": 28
    },
    {
     "cell_type": "code",
     "collapsed": false,
     "input": [
      "# Let's remove those files\n",
      "!find $CLdbDir'arrayBlast' -name 'crDNA-proto_aln_split[0-9]*' | xargs -I % rm %"
     ],
     "language": "python",
     "metadata": {},
     "outputs": [],
     "prompt_number": 29
    },
    {
     "cell_type": "code",
     "collapsed": false,
     "input": [
      "%%bash -s \"$CLdbDir\" \"$scriptDir\"\n",
      "# Looking at the alignments can be very useful, but it can help to extract what we specifically want and summarize.\n",
      "## Let's pull out the potential PAM regions from the alignment \n",
      "## We are going to assume that the PAM is:\n",
      "### 4bp (really 3bp) long \n",
      "### adjacent to the 5' end of the protospacer (right side of the alignment)\n",
      "\n",
      "cd $1\n",
      "\n",
      "$2'CLdb' arrayBlast -- get_PAM -- -PAM 1 4 -f - \\\n",
      "    < ./arrayBlast/all_crDNA-proto_aln.fna \\\n",
      "    > ./arrayBlast/all_crDNA-proto_aln_PAM.fna\n",
      "\n",
      "\n",
      "## checking output\n",
      "ls -thlc ./arrayBlast/all_crDNA-proto_aln_PAM.fna\n",
      "head ./arrayBlast/all_crDNA-proto_aln_PAM.fna"
     ],
     "language": "python",
     "metadata": {},
     "outputs": [
      {
       "output_type": "stream",
       "stream": "stdout",
       "text": [
        "-rw-rw-r-- 1 nyoungb2 nyoungb2 758 Nov 16 19:27 ./arrayBlast/all_crDNA-proto_aln_PAM.fna\n",
        ">proto|114|49|1frtbQ4U3THxC|Methanosarcina_mazei_Go1|III-C|0.00010444\n",
        "ttaa\n",
        ">proto|114|49|Zs5YdaIK6tni|Methanosarcina_mazei_Go1|III-C|4.99602e-08\n",
        "ttaa\n",
        ">proto|114|49|1eDAcNkXUDhri|Methanosarcina_mazei_Go1|III-C|0.00010444\n",
        "ttaa\n",
        ">proto|114|49|1fQjp3NcOEBiU|Methanosarcina_mazei_Go1|III-C|0.00010444\n",
        "ttaa\n",
        ">proto|114|49|114OivzC8ENjG|Methanosarcina_mazei_Go1|III-C|7.80046e-07\n",
        "ttaa\n"
       ]
      }
     ],
     "prompt_number": 30
    },
    {
     "cell_type": "code",
     "collapsed": false,
     "input": [
      "#summarizing each PAM sequence (4 nt most proximal to spacer-protospacer alignment)\n",
      "!egrep -v \"^>\" $CLdbDir'./arrayBlast/all_crDNA-proto_aln_PAM.fna' | sort | uniq -c | sort -k 1 -n -r "
     ],
     "language": "python",
     "metadata": {},
     "outputs": [
      {
       "output_type": "stream",
       "stream": "stdout",
       "text": [
        "      7 ttaa\r\n",
        "      1 tctg\r\n",
        "      1 taaa\r\n",
        "      1 atga\r\n"
       ]
      }
     ],
     "prompt_number": 31
    },
    {
     "cell_type": "code",
     "collapsed": false,
     "input": [
      "# and if we reverse the sequence...\n",
      "!egrep -v \"^>\" $CLdbDir'./arrayBlast/all_crDNA-proto_aln_PAM.fna' | rev | sort | uniq -c | sort -k 1 -n -r "
     ],
     "language": "python",
     "metadata": {},
     "outputs": [
      {
       "output_type": "stream",
       "stream": "stdout",
       "text": [
        "      7 aatt\r\n",
        "      1 gtct\r\n",
        "      1 agta\r\n",
        "      1 aaat\r\n"
       ]
      }
     ],
     "prompt_number": 32
    },
    {
     "cell_type": "markdown",
     "metadata": {},
     "source": [
      "## Spacer (crDNA) - protospacer mismatch distribution\n",
      "\n",
      "Let's look at potential spacer targeting by assessing mismatches of the crDNAs and protospacers."
     ]
    },
    {
     "cell_type": "code",
     "collapsed": false,
     "input": [
      "%%bash -s \"$CLdbDir\" \"$scriptDir\"\n",
      "# This script will make 2 summary files of mismatches for each crDNA-protospacer alignment\n",
      "# Given that spacers can vary in length, the alignment is relative to a user-defined 'SEED' region.\n",
      "# I'm going to use the default SEED region: '-SEED -8 -1'\n",
      "## This SEED region covers the last 8 bp of the alignment\n",
      "\n",
      "cd $1\n",
      "\n",
      "$2'CLdb' arrayBlast -- get_SEEDstats -- --SEED -8 -1 \\\n",
      "    < ./arrayBlast/all_crDNA-proto_aln.fna \\\n",
      "    -prefix ./arrayBlast/all_crDNA-proto_aln\n",
      "\n",
      "\n",
      "## checking output files\n",
      "ls -thlc ./arrayBlast/all_crDNA-proto_aln_SEEDstats-summary.txt\n",
      "ls -thlc ./arrayBlast/all_crDNA-proto_aln_SEEDstats-byPos.txt"
     ],
     "language": "python",
     "metadata": {},
     "outputs": [
      {
       "output_type": "stream",
       "stream": "stdout",
       "text": [
        "-rw-rw-r-- 1 nyoungb2 nyoungb2 5.0K Nov 16 19:27 ./arrayBlast/all_crDNA-proto_aln_SEEDstats-summary.txt\n",
        "-rw-rw-r-- 1 nyoungb2 nyoungb2 1.9K Nov 16 19:27 ./arrayBlast/all_crDNA-proto_aln_SEEDstats-byPos.txt\n"
       ]
      },
      {
       "output_type": "stream",
       "stream": "stderr",
       "text": [
        "SEED summary file written: './arrayBlast/all_crDNA-proto_aln_SEEDstats-summary.txt'\n",
        "SEED by-position table written: './arrayBlast/all_crDNA-proto_aln_SEEDstats-byPos.txt'\n"
       ]
      }
     ],
     "prompt_number": 33
    },
    {
     "cell_type": "code",
     "collapsed": false,
     "input": [
      "%%R -i CLdbDir -w 800\n",
      "# plotting mismatches across the protospacer alignments\n",
      "library(ggplot2)\n",
      "library(gridExtra)\n",
      "\n",
      "# loading table\n",
      "filename = './arrayBlast/all_crDNA-proto_aln_SEEDstats-byPos.txt'\n",
      "fullname = paste(c(CLdbDir, filename), collapse='')\n",
      "\n",
      "tbl = read.delim( fullname )\n",
      "tbl = tbl[tbl$region != 'protospacer', ]\n",
      "\n",
      "# mismatches and counts, & normalized mismatches\n",
      "p.mis = ggplot(tbl, aes(pos_rel_SEED, mismatches, group=region, fill=region)) +\n",
      "    geom_bar(stat='identity', position='dodge') +\n",
      "    labs(y='Number\\nof mismatches', x='Alignment position relative to SEED start')\n",
      "p.count = ggplot(tbl, aes(pos_rel_SEED, count, group=region, fill=region)) +  \n",
      "    geom_bar(stat='identity', position='dodge') +\n",
      "    labs(y='Number of alignments\\nwith nucleotide\\nat position', x='Alignment position relative to SEED start')\n",
      "p.norm = ggplot(tbl, aes(pos_rel_SEED, mismatch_norm, group=region, fill=region)) +\n",
      "  geom_bar(stat='identity', position='dodge') +\n",
      "    labs(y='Mismatchs /\\nalignments', x='Alignment position relative to SEED start')\n",
      "\n",
      "grid.arrange(p.count, p.mis, p.norm, ncol=1)"
     ],
     "language": "python",
     "metadata": {},
     "outputs": [
      {
       "metadata": {},
       "output_type": "display_data",
       "text": [
        "Loading required package: grid\n"
       ]
      },
      {
       "metadata": {},
       "output_type": "display_data",
       "png": "[encoded data removed]"
      }
     ],
     "prompt_number": 34
    },
    {
     "cell_type": "markdown",
     "metadata": {},
     "source": [
      "__Notes on plots:__\n",
      "\n",
      "* The top plot shows that some spacer-protospacer are not quiet as long as the rest, which is why the 'Number of alignment with nucleotide at position' drops at the (positions 33-35).\n",
      "* There are no mismatches in the middle of the spacer-protospacer alignments."
     ]
    },
    {
     "cell_type": "code",
     "collapsed": false,
     "input": [],
     "language": "python",
     "metadata": {},
     "outputs": []
    }
   ],
   "metadata": {}
  }
 ]
}